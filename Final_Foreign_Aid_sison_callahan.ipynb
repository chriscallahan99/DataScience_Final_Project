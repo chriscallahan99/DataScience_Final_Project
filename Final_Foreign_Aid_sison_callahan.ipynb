{
 "cells": [
  {
   "cell_type": "markdown",
   "id": "f09fd8da",
   "metadata": {},
   "source": [
    "Website Link: https://chriscallahan99.github.io/DataScience_Final_Project/ "
   ]
  },
  {
   "cell_type": "markdown",
   "id": "86fba1b3",
   "metadata": {},
   "source": [
    "<center><img src= docs/assets/usaid.jpg></center>"
   ]
  },
  {
   "cell_type": "markdown",
   "id": "367bf5a7",
   "metadata": {},
   "source": [
    "<div style=\"text-align: center;\">\n",
    "<h1>How does US Foreign Aid Impact Health Outcomes?</h1>  \n",
    "<br>\n",
    "By Chris Callahan and Mikey Sison\n",
    "</div>\n"
   ]
  },
  {
   "cell_type": "markdown",
   "id": "5ba97cc1",
   "metadata": {},
   "source": [
    "<div style=\"text-align: center;\">\n",
    "1. Introduction<br>\n",
    "2. Data: Extraction, Transform and Load<br>\n",
    "3. Exploratory Data Analysis<br>\n",
    "4. Model and Analysis<br>\n",
    "5. Conclusion<br>\n",
    "6. Appendix<br>\n",
    "</div>\n",
    "\n",
    "___"
   ]
  },
  {
   "cell_type": "markdown",
   "id": "bdaf9032",
   "metadata": {},
   "source": [
    "<div style=\"text-align: center;\">\n",
    "    <h2>Introduction</h2>\n",
    "</div>\n",
    "\n",
    "### Abstract\n",
    "\n",
    "The United States disburses the most foreign aid in the world ([World Economic Forum](https://www.weforum.org/agenda/2016/08/foreign-aid-these-countries-are-the-most-generous/ 'Foreign aid')) and it is of paramount importance that the countries who are in greatest need are able to get it. We examine US foreign aid disbursements to six countires of middle to low economic rank to determine the effect of monetary aid increases on five health indicators representative of overall health outcomes. The countries of Ethiopia, El Salvador, Ecuador, Haiti, Moldova, and Yemen represent a sample of countries exhibiting some of the greatest overall need for humanitarian aid. Geopolitical and environmental factors have rendered Ethiopia, Haiti, and Yemen dependent on foreign aid for humanitarian support. It is anecdotally acknowledged that overall increases in foreign aid disbursements would have a positive increase in overall welfare. We aim to prove this and determine which US Agencies have the greatest direct impact on improving health outcomes. \n",
    "                \n",
    "Our analysis will explore and answer the following questions:\n",
    "* How does US foreign aid impact the overall health of a country? \n",
    "* Does a \\$1 marginal dollar given to one agency increase health indicators more or less than different agency?\n",
    "* Since US agencies have budgets set by Congress, how can they better utilize a limited budget with the maximum impact?\n",
    "     \n",
    "___"
   ]
  },
  {
   "cell_type": "markdown",
   "id": "7a60c45a",
   "metadata": {},
   "source": [
    "<div style=\"text-align: center;\">\n",
    "    <h2>Data: Extraction, Transform, and Load</h2>\n",
    "</div>\n",
    "\n",
    "\n",
    "\n"
   ]
  },
  {
   "cell_type": "markdown",
   "id": "2dfec8b9",
   "metadata": {},
   "source": [
    "### Imports\n",
    "For this project, we utilized the python libraries pandas, maplotlib, numpy, and more. The first few code cells will be installing seaborn, a plotting library, and importing other necessary libraries."
   ]
  },
  {
   "cell_type": "code",
   "execution_count": 1,
   "id": "986d203b",
   "metadata": {
    "id": "-TE_UtBMMnGV",
    "scrolled": true
   },
   "outputs": [
    {
     "name": "stdout",
     "output_type": "stream",
     "text": [
      "Requirement already satisfied: seaborn in c:\\users\\perso\\anaconda3\\envs\\landlab_dev\\lib\\site-packages (0.12.1)\n",
      "Requirement already satisfied: matplotlib!=3.6.1,>=3.1 in c:\\users\\perso\\anaconda3\\envs\\landlab_dev\\lib\\site-packages (from seaborn) (3.5.2)\n",
      "Requirement already satisfied: numpy>=1.17 in c:\\users\\perso\\anaconda3\\envs\\landlab_dev\\lib\\site-packages (from seaborn) (1.23.4)\n",
      "Requirement already satisfied: pandas>=0.25 in c:\\users\\perso\\anaconda3\\envs\\landlab_dev\\lib\\site-packages (from seaborn) (1.5.1)\n",
      "Requirement already satisfied: pillow>=6.2.0 in c:\\users\\perso\\anaconda3\\envs\\landlab_dev\\lib\\site-packages (from matplotlib!=3.6.1,>=3.1->seaborn) (9.2.0)\n",
      "Requirement already satisfied: pyparsing>=2.2.1 in c:\\users\\perso\\anaconda3\\envs\\landlab_dev\\lib\\site-packages (from matplotlib!=3.6.1,>=3.1->seaborn) (3.0.9)\n",
      "Requirement already satisfied: fonttools>=4.22.0 in c:\\users\\perso\\anaconda3\\envs\\landlab_dev\\lib\\site-packages (from matplotlib!=3.6.1,>=3.1->seaborn) (4.25.0)\n",
      "Requirement already satisfied: kiwisolver>=1.0.1 in c:\\users\\perso\\anaconda3\\envs\\landlab_dev\\lib\\site-packages (from matplotlib!=3.6.1,>=3.1->seaborn) (1.4.2)\n",
      "Requirement already satisfied: python-dateutil>=2.7 in c:\\users\\perso\\anaconda3\\envs\\landlab_dev\\lib\\site-packages (from matplotlib!=3.6.1,>=3.1->seaborn) (2.8.2)\n",
      "Requirement already satisfied: packaging>=20.0 in c:\\users\\perso\\anaconda3\\envs\\landlab_dev\\lib\\site-packages (from matplotlib!=3.6.1,>=3.1->seaborn) (21.3)\n",
      "Requirement already satisfied: cycler>=0.10 in c:\\users\\perso\\anaconda3\\envs\\landlab_dev\\lib\\site-packages (from matplotlib!=3.6.1,>=3.1->seaborn) (0.11.0)\n",
      "Requirement already satisfied: pytz>=2020.1 in c:\\users\\perso\\anaconda3\\envs\\landlab_dev\\lib\\site-packages (from pandas>=0.25->seaborn) (2022.1)\n",
      "Requirement already satisfied: six>=1.5 in c:\\users\\perso\\anaconda3\\envs\\landlab_dev\\lib\\site-packages (from python-dateutil>=2.7->matplotlib!=3.6.1,>=3.1->seaborn) (1.16.0)\n",
      "Note: you may need to restart the kernel to use updated packages.\n"
     ]
    },
    {
     "name": "stderr",
     "output_type": "stream",
     "text": [
      "WARNING: Error parsing requirements for pywinpty: [Errno 2] No such file or directory: 'c:\\\\users\\\\perso\\\\anaconda3\\\\envs\\\\landlab_dev\\\\lib\\\\site-packages\\\\pywinpty-2.0.6.dist-info\\\\METADATA'\n"
     ]
    }
   ],
   "source": [
    "%pip install seaborn"
   ]
  },
  {
   "cell_type": "code",
   "execution_count": 2,
   "id": "b607c834",
   "metadata": {
    "id": "yOYDRMt3JSE6",
    "scrolled": true
   },
   "outputs": [
    {
     "data": {
      "text/html": [
       "<style>.container { width:95% !important; }</style>"
      ],
      "text/plain": [
       "<IPython.core.display.HTML object>"
      ]
     },
     "metadata": {},
     "output_type": "display_data"
    }
   ],
   "source": [
    "## IMPORTS ##\n",
    "\n",
    "# Load Numpy\n",
    "import numpy as np\n",
    "\n",
    "# Load os\n",
    "import os\n",
    "\n",
    "# Load Pandas\n",
    "import pandas as pd\n",
    "\n",
    "# Load MatPlotLib\n",
    "import matplotlib\n",
    "import matplotlib.pyplot as plt\n",
    "\n",
    "# Load Seaborn\n",
    "import seaborn as sns; sns.set_theme()\n",
    "\n",
    "# These two things are for Pandas, it widens the notebook and lets us display data easily.\n",
    "from IPython.display import display, HTML\n",
    "display(HTML(\"<style>.container { width:95% !important; }</style>\"))"
   ]
  },
  {
   "cell_type": "markdown",
   "id": "50aa0220",
   "metadata": {},
   "source": [
    "Let's change the directory to the folder containing the foreign aid data."
   ]
  },
  {
   "cell_type": "code",
   "execution_count": 3,
   "id": "acbc5423",
   "metadata": {},
   "outputs": [],
   "source": [
    "os.chdir(\"Foreign-Aid-Country-Data\")"
   ]
  },
  {
   "cell_type": "markdown",
   "id": "c5a55846",
   "metadata": {},
   "source": [
    "### Data Sourcing & Extraction\n",
    "We obtained data from two primary sources:  [US Gov Foreign Assistance](https://foreignassistance.gov/) and\n",
    "[WHO GW13 Dataset](https://www.who.int/data/inequality-monitor/data#PageContent_C160_Col00). These two datasets contain the publicly avaliable US foreign aid disbursements per country and health indicators by country over the past 20 years, respectively."
   ]
  },
  {
   "cell_type": "markdown",
   "id": "7811f447",
   "metadata": {},
   "source": [
    "#### Foreign Aid by Country\n",
    "\n",
    "Our first dataset comes from the [US Foreign Assistance](https://foreignassistance.gov/) webpage. With this dataset, we will be focusing on quantifying the amount of foreign aid the United States gives to the six countries in question, per year, and which agencies provide this support. \n",
    "\n",
    "Analysis of this dataset will answer the following questions:\n",
    "* How much does a country recieve from the US in foreign aid per year?\n",
    "* How much aid is disbursed each year by agency?\n",
    "\n"
   ]
  },
  {
   "cell_type": "markdown",
   "id": "73e19882",
   "metadata": {},
   "source": [
    "#### Example Query\n",
    "![FAgovEthiopiaQuery.png](docs/assets/FAgovEthiopiaQuery.png)\n",
    "\n",
    "Figure 1: The image above is an example query of the foreign aid given to Ethiopia from 2018 to 2022\n"
   ]
  },
  {
   "cell_type": "markdown",
   "id": "313a04a0",
   "metadata": {},
   "source": [
    "#### Obtaining the data\n",
    "For each country, we created a query, similar to that of figure 1, obtaining the non-military foreign aid given from 2002 to 2022. Since we are examining how foreign aid impacts health, we assume that military foreign aid has no impact on the health outcomes of the country and will be removed from the dataframes. Each of these datasets can be found in the \"Foreign-Aid-Country-Data\" folder. "
   ]
  },
  {
   "cell_type": "markdown",
   "id": "4bec89bd",
   "metadata": {},
   "source": [
    "### Reading in Country data (Loading)\n",
    "\n",
    "Here, we are reading in the country data from our queries on ForeignAssistance.gov.  Each of the queries encompass non-military foreign aid from 2002 to 2022 fiscal years. \n",
    "\n",
    "We chose countries in low to middle income groups with one to two per continent/region and low military assistance.\n",
    "* **Europe**: Moldova\n",
    "* **Middle East**: Yemen\n",
    "* **Africa**: Ethiopia\n",
    "* **South America**: Ecuador\n",
    "* **North/Central America**: El Salvador, Haiti\n"
   ]
  },
  {
   "cell_type": "markdown",
   "id": "59135317",
   "metadata": {},
   "source": [
    "Let's read in our data into Pandas DataFrames."
   ]
  },
  {
   "cell_type": "code",
   "execution_count": 4,
   "id": "e9456e2f",
   "metadata": {},
   "outputs": [
    {
     "data": {
      "text/html": [
       "<div>\n",
       "<style scoped>\n",
       "    .dataframe tbody tr th:only-of-type {\n",
       "        vertical-align: middle;\n",
       "    }\n",
       "\n",
       "    .dataframe tbody tr th {\n",
       "        vertical-align: top;\n",
       "    }\n",
       "\n",
       "    .dataframe thead th {\n",
       "        text-align: right;\n",
       "    }\n",
       "</style>\n",
       "<table border=\"1\" class=\"dataframe\">\n",
       "  <thead>\n",
       "    <tr style=\"text-align: right;\">\n",
       "      <th></th>\n",
       "      <th>Country ID</th>\n",
       "      <th>Country Code</th>\n",
       "      <th>Country Name</th>\n",
       "      <th>Region ID</th>\n",
       "      <th>Region Name</th>\n",
       "      <th>Income Group ID</th>\n",
       "      <th>Income Group Name</th>\n",
       "      <th>Income Group Acronym</th>\n",
       "      <th>Managing Agency ID</th>\n",
       "      <th>Managing Agency Acronym</th>\n",
       "      <th>...</th>\n",
       "      <th>Activity Name</th>\n",
       "      <th>Activity Description</th>\n",
       "      <th>Activity Project Number</th>\n",
       "      <th>Activity Start Date</th>\n",
       "      <th>Activity End Date</th>\n",
       "      <th>Transaction Type ID</th>\n",
       "      <th>Transaction Type Name</th>\n",
       "      <th>Fiscal Year</th>\n",
       "      <th>Current Dollar Amount</th>\n",
       "      <th>Constant Dollar Amount</th>\n",
       "    </tr>\n",
       "  </thead>\n",
       "  <tbody>\n",
       "    <tr>\n",
       "      <th>0</th>\n",
       "      <td>231</td>\n",
       "      <td>ETH</td>\n",
       "      <td>Ethiopia</td>\n",
       "      <td>5</td>\n",
       "      <td>Sub-Saharan Africa</td>\n",
       "      <td>1</td>\n",
       "      <td>Low Income Country</td>\n",
       "      <td>LIC</td>\n",
       "      <td>1</td>\n",
       "      <td>USAID</td>\n",
       "      <td>...</td>\n",
       "      <td>Title II Emergency Program</td>\n",
       "      <td>Title II Emergency Program through a partner o...</td>\n",
       "      <td>720BHA22CA00005</td>\n",
       "      <td>NaN</td>\n",
       "      <td>NaN</td>\n",
       "      <td>2</td>\n",
       "      <td>Obligations</td>\n",
       "      <td>2022</td>\n",
       "      <td>113052149</td>\n",
       "      <td>109155305</td>\n",
       "    </tr>\n",
       "    <tr>\n",
       "      <th>1</th>\n",
       "      <td>231</td>\n",
       "      <td>ETH</td>\n",
       "      <td>Ethiopia</td>\n",
       "      <td>5</td>\n",
       "      <td>Sub-Saharan Africa</td>\n",
       "      <td>1</td>\n",
       "      <td>Low Income Country</td>\n",
       "      <td>LIC</td>\n",
       "      <td>1</td>\n",
       "      <td>USAID</td>\n",
       "      <td>...</td>\n",
       "      <td>Emergency food assistance</td>\n",
       "      <td>Emergency humanitarian food and nutirition ass...</td>\n",
       "      <td>720BHA22IO00038</td>\n",
       "      <td>NaN</td>\n",
       "      <td>2023-03-09</td>\n",
       "      <td>2</td>\n",
       "      <td>Obligations</td>\n",
       "      <td>2022</td>\n",
       "      <td>77740000</td>\n",
       "      <td>75060346</td>\n",
       "    </tr>\n",
       "    <tr>\n",
       "      <th>2</th>\n",
       "      <td>231</td>\n",
       "      <td>ETH</td>\n",
       "      <td>Ethiopia</td>\n",
       "      <td>5</td>\n",
       "      <td>Sub-Saharan Africa</td>\n",
       "      <td>1</td>\n",
       "      <td>Low Income Country</td>\n",
       "      <td>LIC</td>\n",
       "      <td>1</td>\n",
       "      <td>USAID</td>\n",
       "      <td>...</td>\n",
       "      <td>Title II Emergency Program</td>\n",
       "      <td>Title II Emergency Program through a partner o...</td>\n",
       "      <td>720BHA22IO00034</td>\n",
       "      <td>NaN</td>\n",
       "      <td>NaN</td>\n",
       "      <td>2</td>\n",
       "      <td>Obligations</td>\n",
       "      <td>2022</td>\n",
       "      <td>57420571</td>\n",
       "      <td>55441315</td>\n",
       "    </tr>\n",
       "  </tbody>\n",
       "</table>\n",
       "<p>3 rows × 51 columns</p>\n",
       "</div>"
      ],
      "text/plain": [
       "   Country ID Country Code Country Name  Region ID         Region Name  \\\n",
       "0         231          ETH     Ethiopia          5  Sub-Saharan Africa   \n",
       "1         231          ETH     Ethiopia          5  Sub-Saharan Africa   \n",
       "2         231          ETH     Ethiopia          5  Sub-Saharan Africa   \n",
       "\n",
       "   Income Group ID   Income Group Name Income Group Acronym  \\\n",
       "0                1  Low Income Country                  LIC   \n",
       "1                1  Low Income Country                  LIC   \n",
       "2                1  Low Income Country                  LIC   \n",
       "\n",
       "   Managing Agency ID Managing Agency Acronym  ...  \\\n",
       "0                   1                   USAID  ...   \n",
       "1                   1                   USAID  ...   \n",
       "2                   1                   USAID  ...   \n",
       "\n",
       "                Activity Name  \\\n",
       "0  Title II Emergency Program   \n",
       "1   Emergency food assistance   \n",
       "2  Title II Emergency Program   \n",
       "\n",
       "                                Activity Description Activity Project Number  \\\n",
       "0  Title II Emergency Program through a partner o...         720BHA22CA00005   \n",
       "1  Emergency humanitarian food and nutirition ass...         720BHA22IO00038   \n",
       "2  Title II Emergency Program through a partner o...         720BHA22IO00034   \n",
       "\n",
       "  Activity Start Date  Activity End Date Transaction Type ID  \\\n",
       "0                 NaN                NaN                   2   \n",
       "1                 NaN         2023-03-09                   2   \n",
       "2                 NaN                NaN                   2   \n",
       "\n",
       "  Transaction Type Name  Fiscal Year  Current Dollar Amount  \\\n",
       "0           Obligations         2022              113052149   \n",
       "1           Obligations         2022               77740000   \n",
       "2           Obligations         2022               57420571   \n",
       "\n",
       "  Constant Dollar Amount  \n",
       "0              109155305  \n",
       "1               75060346  \n",
       "2               55441315  \n",
       "\n",
       "[3 rows x 51 columns]"
      ]
     },
     "execution_count": 4,
     "metadata": {},
     "output_type": "execute_result"
    }
   ],
   "source": [
    "Ethiopia_foreign_aid_data = pd.read_csv(os.path.join(\"Africa\",\"Ethiopia_2022-2002_Econ_Other.csv\"))\n",
    "Moldova_foreign_aid_data = pd.read_csv(os.path.join(\"Europe\", \"Moldova_2022-2002_Econ_Other.csv\"))\n",
    "Yemen_foreign_aid_data = pd.read_csv(os.path.join(\"Middle-East\",\"Yemen_2022-2002_Econ_Other.csv\"))\n",
    "Ecuador_foreign_aid_data = pd.read_csv(os.path.join(\"South-America\",\"Ecuador_2022-2002_Econ_Other.csv\"))\n",
    "El_Salvador_foreign_aid_data = pd.read_csv(os.path.join(\"North-America\",\"El_Salvador_2022-2002_Econ_Other.csv\"))\n",
    "Haiti_foreign_aid_data = pd.read_csv(os.path.join(\"North-America\",\"Haiti_2022-2002_Econ_Other.csv\"))\n",
    "\n",
    "countries = [\n",
    "             Ethiopia_foreign_aid_data,\n",
    "             Moldova_foreign_aid_data,\n",
    "             Yemen_foreign_aid_data, \n",
    "             Ecuador_foreign_aid_data, \n",
    "             El_Salvador_foreign_aid_data,\n",
    "             Haiti_foreign_aid_data\n",
    "            ] # For ease of looping\n",
    "\n",
    "Ethiopia_foreign_aid_data.head(3)"
   ]
  },
  {
   "cell_type": "markdown",
   "id": "b4e83879",
   "metadata": {},
   "source": [
    "#### Focus Areas\n",
    "We will be focusing on the country-specific datasets from the ForeignAssistance.gov website. Each row in the summary describes a country and the fiscal year. Each entity contains data on the Transaction Type, Fiscal Year, and Constant Amount (in USD). We are planning on using this data from the summary as a reference to determine how much money is irrelevant to our study (non-military/defense spending).\n",
    "\n",
    "#### Extraneous Columns\n",
    "As you can see, there are 51 columns in the DataFrame. Many of these columns are redundant or irrelevant to our analysis. Below, we will remove these columns, maintaining the interesting features of the dataset. \n"
   ]
  },
  {
   "cell_type": "code",
   "execution_count": 5,
   "id": "c55871bb",
   "metadata": {
    "id": "R6qSdpAzMuIG"
   },
   "outputs": [
    {
     "data": {
      "text/plain": [
       "Index(['Country ID', 'Country Code', 'Country Name', 'Region ID',\n",
       "       'Region Name', 'Income Group ID', 'Income Group Name',\n",
       "       'Managing Agency Acronym', 'Managing Agency Name',\n",
       "       'International Purpose Name', 'US Sector ID', 'US Sector Name',\n",
       "       'Funding Account Name', 'Funding Agency Name', 'Funding Agency Acronym',\n",
       "       'Foreign Assistance Objective Name', 'Aid Type Group Name',\n",
       "       'Activity Name', 'Activity Description', 'Activity Start Date',\n",
       "       'Activity End Date', 'Transaction Type Name', 'Fiscal Year',\n",
       "       'Current Dollar Amount', 'Constant Dollar Amount'],\n",
       "      dtype='object')"
      ]
     },
     "execution_count": 5,
     "metadata": {},
     "output_type": "execute_result"
    }
   ],
   "source": [
    "columns_to_drop = ['Transaction Type ID',\n",
    "        'Foreign Assistance Objective ID',\n",
    "        'Implementing Partner Category ID',\n",
    "        'Implementing Partner Category Name',\n",
    "        'Implementing Partner Sub-category ID',\n",
    "        'Implementing Partner Sub-category Name', \n",
    "        'Implementing Partner ID',\n",
    "        'Implementing Partner Name', \n",
    "        'International Category ID',\n",
    "        'International Category Name',\n",
    "        'International Sector Code',\n",
    "        'International Sector Name', \n",
    "        'International Purpose Code',\n",
    "        'Managing Agency ID',\n",
    "        'Managing Sub-agency or Bureau ID',\n",
    "        'Activity Project Number',\n",
    "        'Managing Sub-agency or Bureau Name',\n",
    "        'Aid Type Group ID',\n",
    "        'Funding Agency ID',\n",
    "        'Submission ID', \n",
    "        'Funding Acount ID',\n",
    "        'Activity ID',\n",
    "        'Income Group Acronym',\n",
    "        'Managing Sub-agency or Bureau Acronym',\n",
    "        'US Category ID',\n",
    "        'US Category Name',\n",
    "    ]\n",
    "\n",
    "\n",
    "for country in countries:\n",
    "    for col in columns_to_drop:\n",
    "        country.drop(labels= col, axis= 'columns', inplace= True)\n",
    "\n",
    "Ethiopia_foreign_aid_data.columns"
   ]
  },
  {
   "cell_type": "markdown",
   "id": "0095669c",
   "metadata": {},
   "source": [
    "#### Income Analysis\n",
    "Next, we want to highlight the income of each of the countries to verify that the countries chosen are likely to receive a sizeable amount and diverse range of US foreign aid. "
   ]
  },
  {
   "cell_type": "code",
   "execution_count": 6,
   "id": "c2952051",
   "metadata": {},
   "outputs": [
    {
     "data": {
      "text/plain": [
       "'Ethiopia: Low Income Country'"
      ]
     },
     "metadata": {},
     "output_type": "display_data"
    },
    {
     "data": {
      "text/plain": [
       "'Moldova: Lower Middle Income Country'"
      ]
     },
     "metadata": {},
     "output_type": "display_data"
    },
    {
     "data": {
      "text/plain": [
       "'Yemen: Low Income Country'"
      ]
     },
     "metadata": {},
     "output_type": "display_data"
    },
    {
     "data": {
      "text/plain": [
       "'Ecuador: Upper Middle Income Country'"
      ]
     },
     "metadata": {},
     "output_type": "display_data"
    },
    {
     "data": {
      "text/plain": [
       "'El Salvador: Lower Middle Income Country'"
      ]
     },
     "metadata": {},
     "output_type": "display_data"
    },
    {
     "data": {
      "text/plain": [
       "'Haiti: Low Income Country'"
      ]
     },
     "metadata": {},
     "output_type": "display_data"
    }
   ],
   "source": [
    "for country in countries:\n",
    "    display(country['Country Name'][0] + ': '+ country['Income Group Name'][0])"
   ]
  },
  {
   "cell_type": "markdown",
   "id": "9ebb9e89",
   "metadata": {},
   "source": [
    "As we can see, most of these countries fall into the low / middle income countries. We will see that, with the exception of Yemen, all of these countries receive roughly the same amount of foreign aid."
   ]
  },
  {
   "cell_type": "markdown",
   "id": "0decc937",
   "metadata": {},
   "source": [
    "#### Removing Military Aid & Negative Amounts\n",
    "Before we visuallize the aid amounts, we want to get rid of entries / aid projects that come from military sources since they would not have impacts on any health metrics we are interested in."
   ]
  },
  {
   "cell_type": "code",
   "execution_count": 7,
   "id": "54891577",
   "metadata": {},
   "outputs": [],
   "source": [
    "# Drop rows unrelated to economic/health development\n",
    "for i, country in enumerate(countries):\n",
    "    country.drop(country[country[\"Managing Agency Name\"] == 'Department of Defense'].index, inplace = True)\n",
    "    country.drop(country[country[\"Managing Agency Name\"] == 'Department of Homeland Security'].index, inplace = True)\n",
    "    country.drop(country[country[\"Managing Agency Name\"] == 'Department of Justice'].index, inplace = True)\n",
    "    country.drop(country[country[\"Managing Agency Name\"] == 'Department of the Army'].index, inplace = True)\n",
    "    country.drop(country[country[\"Managing Agency Name\"] == 'Department of the Interior'].index, inplace = True)\n",
    "    \n",
    "    # Drop row if dollar amount is less than 0 as this is usually a redaction of funds\n",
    "    country.drop(country[country[\"Constant Dollar Amount\"] < 0 ].index, inplace = True)\n"
   ]
  },
  {
   "cell_type": "markdown",
   "id": "855755b6",
   "metadata": {},
   "source": [
    "___"
   ]
  },
  {
   "cell_type": "markdown",
   "id": "ead3fbf4",
   "metadata": {},
   "source": [
    "### GW13 WHO Dataset"
   ]
  },
  {
   "cell_type": "markdown",
   "id": "9f735dc1",
   "metadata": {},
   "source": [
    "Now we are going to bring in our second datatset which comes from the [GW13 WHO Dataset](https://www.who.int/data/inequality-monitor/data#PageContent_C160_Col00), this dataset contains health markers of interest, stratified by country and year. This dataset comes from a paper by the World Health Organization about the organization's five year strategy to achieve measureable heatlh outcomes. \n",
    "\n",
    "The strategy includes a \"triple billion\" plan which sets to achieve\n",
    "\n",
    "* One billion more people are benefiting from universal health coverage\n",
    "* One billion more people are better protected from health emergencies\n",
    "* One billion more people are enjoying better health and well-being\n",
    "\n",
    "The dataset includes the health impacts that are measured. We did basic filtering on this dataset to only select data from our target countries, and begin filtering unnecessary health indicators. We plan on using this data to contextualize and predict the importance of various funding and their quantifible impacts on health outcomes in our countries of interest. "
   ]
  },
  {
   "cell_type": "code",
   "execution_count": 8,
   "id": "8f6d68d5",
   "metadata": {
    "scrolled": false
   },
   "outputs": [
    {
     "data": {
      "text/html": [
       "<div>\n",
       "<style scoped>\n",
       "    .dataframe tbody tr th:only-of-type {\n",
       "        vertical-align: middle;\n",
       "    }\n",
       "\n",
       "    .dataframe tbody tr th {\n",
       "        vertical-align: top;\n",
       "    }\n",
       "\n",
       "    .dataframe thead th {\n",
       "        text-align: right;\n",
       "    }\n",
       "</style>\n",
       "<table border=\"1\" class=\"dataframe\">\n",
       "  <thead>\n",
       "    <tr style=\"text-align: right;\">\n",
       "      <th></th>\n",
       "      <th>setting</th>\n",
       "      <th>year</th>\n",
       "      <th>indicator_abbr</th>\n",
       "      <th>indicator_name</th>\n",
       "      <th>dimension</th>\n",
       "      <th>subgroup</th>\n",
       "      <th>estimate</th>\n",
       "      <th>population</th>\n",
       "      <th>indicator_scale</th>\n",
       "    </tr>\n",
       "  </thead>\n",
       "  <tbody>\n",
       "    <tr>\n",
       "      <th>0</th>\n",
       "      <td>Ecuador</td>\n",
       "      <td>2002</td>\n",
       "      <td>alcohol</td>\n",
       "      <td>Total alcohol per capita consumption in adults...</td>\n",
       "      <td>Sex</td>\n",
       "      <td>Female</td>\n",
       "      <td>2.0</td>\n",
       "      <td>NaN</td>\n",
       "      <td>100</td>\n",
       "    </tr>\n",
       "    <tr>\n",
       "      <th>1</th>\n",
       "      <td>Ecuador</td>\n",
       "      <td>2002</td>\n",
       "      <td>alcohol</td>\n",
       "      <td>Total alcohol per capita consumption in adults...</td>\n",
       "      <td>Sex</td>\n",
       "      <td>Male</td>\n",
       "      <td>7.0</td>\n",
       "      <td>NaN</td>\n",
       "      <td>100</td>\n",
       "    </tr>\n",
       "    <tr>\n",
       "      <th>2</th>\n",
       "      <td>Ecuador</td>\n",
       "      <td>2002</td>\n",
       "      <td>bp</td>\n",
       "      <td>Prevalence of hypertension among adults aged 3...</td>\n",
       "      <td>Sex</td>\n",
       "      <td>Female</td>\n",
       "      <td>25.0</td>\n",
       "      <td>NaN</td>\n",
       "      <td>100</td>\n",
       "    </tr>\n",
       "    <tr>\n",
       "      <th>3</th>\n",
       "      <td>Ecuador</td>\n",
       "      <td>2002</td>\n",
       "      <td>bp</td>\n",
       "      <td>Prevalence of hypertension among adults aged 3...</td>\n",
       "      <td>Sex</td>\n",
       "      <td>Male</td>\n",
       "      <td>23.0</td>\n",
       "      <td>NaN</td>\n",
       "      <td>100</td>\n",
       "    </tr>\n",
       "    <tr>\n",
       "      <th>4</th>\n",
       "      <td>Ecuador</td>\n",
       "      <td>2002</td>\n",
       "      <td>hh_san_sm</td>\n",
       "      <td>Population using safely managed sanitation ser...</td>\n",
       "      <td>Place of residence</td>\n",
       "      <td>Rural</td>\n",
       "      <td>44.0</td>\n",
       "      <td>5110442.0</td>\n",
       "      <td>100</td>\n",
       "    </tr>\n",
       "    <tr>\n",
       "      <th>...</th>\n",
       "      <td>...</td>\n",
       "      <td>...</td>\n",
       "      <td>...</td>\n",
       "      <td>...</td>\n",
       "      <td>...</td>\n",
       "      <td>...</td>\n",
       "      <td>...</td>\n",
       "      <td>...</td>\n",
       "      <td>...</td>\n",
       "    </tr>\n",
       "    <tr>\n",
       "      <th>5438</th>\n",
       "      <td>Yemen</td>\n",
       "      <td>2020</td>\n",
       "      <td>tb_incidence</td>\n",
       "      <td>TB incidence (new infections per 100 000 popul...</td>\n",
       "      <td>Sex</td>\n",
       "      <td>Female</td>\n",
       "      <td>44.0</td>\n",
       "      <td>14800983.0</td>\n",
       "      <td>100000</td>\n",
       "    </tr>\n",
       "    <tr>\n",
       "      <th>5439</th>\n",
       "      <td>Yemen</td>\n",
       "      <td>2020</td>\n",
       "      <td>tb_incidence</td>\n",
       "      <td>TB incidence (new infections per 100 000 popul...</td>\n",
       "      <td>Sex</td>\n",
       "      <td>Male</td>\n",
       "      <td>53.0</td>\n",
       "      <td>15024985.0</td>\n",
       "      <td>100000</td>\n",
       "    </tr>\n",
       "    <tr>\n",
       "      <th>5440</th>\n",
       "      <td>Yemen</td>\n",
       "      <td>2020</td>\n",
       "      <td>u5mr</td>\n",
       "      <td>Under-five mortality rate (deaths per 1000 liv...</td>\n",
       "      <td>Sex</td>\n",
       "      <td>Female</td>\n",
       "      <td>55.0</td>\n",
       "      <td>NaN</td>\n",
       "      <td>1000</td>\n",
       "    </tr>\n",
       "    <tr>\n",
       "      <th>5441</th>\n",
       "      <td>Yemen</td>\n",
       "      <td>2020</td>\n",
       "      <td>u5mr</td>\n",
       "      <td>Under-five mortality rate (deaths per 1000 liv...</td>\n",
       "      <td>Sex</td>\n",
       "      <td>Male</td>\n",
       "      <td>64.0</td>\n",
       "      <td>NaN</td>\n",
       "      <td>1000</td>\n",
       "    </tr>\n",
       "    <tr>\n",
       "      <th>5442</th>\n",
       "      <td>Yemen</td>\n",
       "      <td>2020</td>\n",
       "      <td>life_ex</td>\n",
       "      <td>Life Expectancy</td>\n",
       "      <td>NaN</td>\n",
       "      <td>NaN</td>\n",
       "      <td>67.9</td>\n",
       "      <td>NaN</td>\n",
       "      <td>100</td>\n",
       "    </tr>\n",
       "  </tbody>\n",
       "</table>\n",
       "<p>5443 rows × 9 columns</p>\n",
       "</div>"
      ],
      "text/plain": [
       "      setting  year indicator_abbr  \\\n",
       "0     Ecuador  2002        alcohol   \n",
       "1     Ecuador  2002        alcohol   \n",
       "2     Ecuador  2002             bp   \n",
       "3     Ecuador  2002             bp   \n",
       "4     Ecuador  2002      hh_san_sm   \n",
       "...       ...   ...            ...   \n",
       "5438    Yemen  2020   tb_incidence   \n",
       "5439    Yemen  2020   tb_incidence   \n",
       "5440    Yemen  2020           u5mr   \n",
       "5441    Yemen  2020           u5mr   \n",
       "5442    Yemen  2020        life_ex   \n",
       "\n",
       "                                         indicator_name           dimension  \\\n",
       "0     Total alcohol per capita consumption in adults...                 Sex   \n",
       "1     Total alcohol per capita consumption in adults...                 Sex   \n",
       "2     Prevalence of hypertension among adults aged 3...                 Sex   \n",
       "3     Prevalence of hypertension among adults aged 3...                 Sex   \n",
       "4     Population using safely managed sanitation ser...  Place of residence   \n",
       "...                                                 ...                 ...   \n",
       "5438  TB incidence (new infections per 100 000 popul...                 Sex   \n",
       "5439  TB incidence (new infections per 100 000 popul...                 Sex   \n",
       "5440  Under-five mortality rate (deaths per 1000 liv...                 Sex   \n",
       "5441  Under-five mortality rate (deaths per 1000 liv...                 Sex   \n",
       "5442                                    Life Expectancy                 NaN   \n",
       "\n",
       "     subgroup  estimate  population  indicator_scale  \n",
       "0      Female       2.0         NaN              100  \n",
       "1        Male       7.0         NaN              100  \n",
       "2      Female      25.0         NaN              100  \n",
       "3        Male      23.0         NaN              100  \n",
       "4       Rural      44.0   5110442.0              100  \n",
       "...       ...       ...         ...              ...  \n",
       "5438   Female      44.0  14800983.0           100000  \n",
       "5439     Male      53.0  15024985.0           100000  \n",
       "5440   Female      55.0         NaN             1000  \n",
       "5441     Male      64.0         NaN             1000  \n",
       "5442      NaN      67.9         NaN              100  \n",
       "\n",
       "[5443 rows x 9 columns]"
      ]
     },
     "execution_count": 8,
     "metadata": {},
     "output_type": "execute_result"
    }
   ],
   "source": [
    "gw19_df = pd.read_excel(os.path.join(\"..\",\"WHO_datasets\", \"GW19_2002_2020_filtered.xlsx\"))\n",
    "gw19_df"
   ]
  },
  {
   "cell_type": "code",
   "execution_count": 9,
   "id": "56df16ce",
   "metadata": {
    "scrolled": false
   },
   "outputs": [
    {
     "data": {
      "text/plain": [
       "array(['Total alcohol per capita consumption in adults aged 15+ (litres of pure alcohol)',\n",
       "       'Prevalence of hypertension among adults aged 30-79 years (age-standardized) (%)',\n",
       "       'Population using safely managed sanitation services (%)',\n",
       "       'Population using safely managed drinking water services (%)',\n",
       "       'Obesity prevalence among adults (%)',\n",
       "       'Obesity prevalence among children and adolescents (5-19) (%)',\n",
       "       'Population using at least basic sanitation services (%)',\n",
       "       'Suicide mortality rate (per 100 000 population)',\n",
       "       'Under-five mortality rate (deaths per 1000 live births)',\n",
       "       'Life Expectancy',\n",
       "       'Antenatal care coverage - at least four visits (in the five years preceding the survey) (%)',\n",
       "       'Overweight prevalence in children aged < 5 years (%)',\n",
       "       'Stunting prevalence in children aged < 5 years (%)',\n",
       "       'DTP3 immunization coverage among one-year-olds (%)',\n",
       "       'Measles immunization coverage among one-year-olds (%)',\n",
       "       'Polio immunization coverage among one-year-olds (%)',\n",
       "       'Healthy life expectancy (HALE) at birth (years)',\n",
       "       'Population with >10% household expenditures on health (%)',\n",
       "       'Population with >25% household expenditures on health (%)',\n",
       "       'Mortality rate attributed to unsafe water, unsafe sanitation and lack of hygiene (per 100 000 population)',\n",
       "       'TB incidence (new infections per 100 000 population)',\n",
       "       'Neonatal mortality rate (deaths per 1000 live births)'],\n",
       "      dtype=object)"
      ]
     },
     "metadata": {},
     "output_type": "display_data"
    }
   ],
   "source": [
    "# Here are the different indicators in this dataset.\n",
    "display(gw19_df[\"indicator_name\"].unique())"
   ]
  },
  {
   "cell_type": "markdown",
   "id": "29fed512",
   "metadata": {},
   "source": [
    "After filtering the data to get only the countries we wanted, we decided to reduce the indicators down to 5 as many of the other indicators had inconsistent data or none at all for the countries we selected. We decided to select indicators we determined to be very important to a country's health, which include, Life expectancy, population with access to clean drinking water, and the under-five mortality rate. We also included more generally related indicators: total alcohol consumption and obesity rate to see if these indicators have a significant effect as well."
   ]
  },
  {
   "cell_type": "code",
   "execution_count": 10,
   "id": "c0820056",
   "metadata": {},
   "outputs": [
    {
     "data": {
      "text/plain": [
       "array(['Total alcohol per capita consumption in adults aged 15+ (litres of pure alcohol)',\n",
       "       'Population using safely managed drinking water services (%)',\n",
       "       'Life Expectancy', 'Obesity prevalence among adults (%)',\n",
       "       'Under-five mortality rate'], dtype=object)"
      ]
     },
     "metadata": {},
     "output_type": "display_data"
    },
    {
     "data": {
      "text/html": [
       "<div>\n",
       "<style scoped>\n",
       "    .dataframe tbody tr th:only-of-type {\n",
       "        vertical-align: middle;\n",
       "    }\n",
       "\n",
       "    .dataframe tbody tr th {\n",
       "        vertical-align: top;\n",
       "    }\n",
       "\n",
       "    .dataframe thead th {\n",
       "        text-align: right;\n",
       "    }\n",
       "</style>\n",
       "<table border=\"1\" class=\"dataframe\">\n",
       "  <thead>\n",
       "    <tr style=\"text-align: right;\">\n",
       "      <th></th>\n",
       "      <th>setting</th>\n",
       "      <th>year</th>\n",
       "      <th>indicator_abbr</th>\n",
       "      <th>indicator_name</th>\n",
       "      <th>Avg estimate</th>\n",
       "      <th>combined</th>\n",
       "    </tr>\n",
       "  </thead>\n",
       "  <tbody>\n",
       "    <tr>\n",
       "      <th>0</th>\n",
       "      <td>Ecuador</td>\n",
       "      <td>2002</td>\n",
       "      <td>alcohol</td>\n",
       "      <td>Total alcohol per capita consumption in adults...</td>\n",
       "      <td>-4.50</td>\n",
       "      <td>Ecuador_2002</td>\n",
       "    </tr>\n",
       "    <tr>\n",
       "      <th>1</th>\n",
       "      <td>Ecuador</td>\n",
       "      <td>2002</td>\n",
       "      <td>hh_wat_sm</td>\n",
       "      <td>Population using safely managed drinking water...</td>\n",
       "      <td>56.50</td>\n",
       "      <td>Ecuador_2002</td>\n",
       "    </tr>\n",
       "    <tr>\n",
       "      <th>2</th>\n",
       "      <td>Ecuador</td>\n",
       "      <td>2002</td>\n",
       "      <td>life_ex</td>\n",
       "      <td>Life Expectancy</td>\n",
       "      <td>73.90</td>\n",
       "      <td>Ecuador_2002</td>\n",
       "    </tr>\n",
       "    <tr>\n",
       "      <th>3</th>\n",
       "      <td>Ecuador</td>\n",
       "      <td>2002</td>\n",
       "      <td>obesitya</td>\n",
       "      <td>Obesity prevalence among adults (%)</td>\n",
       "      <td>-13.00</td>\n",
       "      <td>Ecuador_2002</td>\n",
       "    </tr>\n",
       "    <tr>\n",
       "      <th>4</th>\n",
       "      <td>Ecuador</td>\n",
       "      <td>2002</td>\n",
       "      <td>u5mr</td>\n",
       "      <td>Under-five mortality rate</td>\n",
       "      <td>-2.65</td>\n",
       "      <td>Ecuador_2002</td>\n",
       "    </tr>\n",
       "    <tr>\n",
       "      <th>...</th>\n",
       "      <td>...</td>\n",
       "      <td>...</td>\n",
       "      <td>...</td>\n",
       "      <td>...</td>\n",
       "      <td>...</td>\n",
       "      <td>...</td>\n",
       "    </tr>\n",
       "    <tr>\n",
       "      <th>544</th>\n",
       "      <td>Yemen</td>\n",
       "      <td>2019</td>\n",
       "      <td>alcohol</td>\n",
       "      <td>Total alcohol per capita consumption in adults...</td>\n",
       "      <td>0.00</td>\n",
       "      <td>Yemen_2019</td>\n",
       "    </tr>\n",
       "    <tr>\n",
       "      <th>545</th>\n",
       "      <td>Yemen</td>\n",
       "      <td>2019</td>\n",
       "      <td>life_ex</td>\n",
       "      <td>Life Expectancy</td>\n",
       "      <td>67.80</td>\n",
       "      <td>Yemen_2019</td>\n",
       "    </tr>\n",
       "    <tr>\n",
       "      <th>546</th>\n",
       "      <td>Yemen</td>\n",
       "      <td>2019</td>\n",
       "      <td>u5mr</td>\n",
       "      <td>Under-five mortality rate</td>\n",
       "      <td>-6.10</td>\n",
       "      <td>Yemen_2019</td>\n",
       "    </tr>\n",
       "    <tr>\n",
       "      <th>547</th>\n",
       "      <td>Yemen</td>\n",
       "      <td>2020</td>\n",
       "      <td>life_ex</td>\n",
       "      <td>Life Expectancy</td>\n",
       "      <td>67.90</td>\n",
       "      <td>Yemen_2020</td>\n",
       "    </tr>\n",
       "    <tr>\n",
       "      <th>548</th>\n",
       "      <td>Yemen</td>\n",
       "      <td>2020</td>\n",
       "      <td>u5mr</td>\n",
       "      <td>Under-five mortality rate</td>\n",
       "      <td>-5.95</td>\n",
       "      <td>Yemen_2020</td>\n",
       "    </tr>\n",
       "  </tbody>\n",
       "</table>\n",
       "<p>549 rows × 6 columns</p>\n",
       "</div>"
      ],
      "text/plain": [
       "     setting  year indicator_abbr  \\\n",
       "0    Ecuador  2002        alcohol   \n",
       "1    Ecuador  2002      hh_wat_sm   \n",
       "2    Ecuador  2002        life_ex   \n",
       "3    Ecuador  2002       obesitya   \n",
       "4    Ecuador  2002           u5mr   \n",
       "..       ...   ...            ...   \n",
       "544    Yemen  2019        alcohol   \n",
       "545    Yemen  2019        life_ex   \n",
       "546    Yemen  2019           u5mr   \n",
       "547    Yemen  2020        life_ex   \n",
       "548    Yemen  2020           u5mr   \n",
       "\n",
       "                                        indicator_name  Avg estimate  \\\n",
       "0    Total alcohol per capita consumption in adults...         -4.50   \n",
       "1    Population using safely managed drinking water...         56.50   \n",
       "2                                      Life Expectancy         73.90   \n",
       "3                  Obesity prevalence among adults (%)        -13.00   \n",
       "4                            Under-five mortality rate         -2.65   \n",
       "..                                                 ...           ...   \n",
       "544  Total alcohol per capita consumption in adults...          0.00   \n",
       "545                                    Life Expectancy         67.80   \n",
       "546                          Under-five mortality rate         -6.10   \n",
       "547                                    Life Expectancy         67.90   \n",
       "548                          Under-five mortality rate         -5.95   \n",
       "\n",
       "         combined  \n",
       "0    Ecuador_2002  \n",
       "1    Ecuador_2002  \n",
       "2    Ecuador_2002  \n",
       "3    Ecuador_2002  \n",
       "4    Ecuador_2002  \n",
       "..            ...  \n",
       "544    Yemen_2019  \n",
       "545    Yemen_2019  \n",
       "546    Yemen_2019  \n",
       "547    Yemen_2020  \n",
       "548    Yemen_2020  \n",
       "\n",
       "[549 rows x 6 columns]"
      ]
     },
     "metadata": {},
     "output_type": "display_data"
    }
   ],
   "source": [
    "gw_five = pd.read_excel(os.path.join(\"..\", \"WHO_datasets\", \"GW_five_combined_subgroups.xlsx\"))\n",
    "\n",
    "# add combined for merging another dataset by setting and year\n",
    "gw_five[\"combined\"] = gw_five[\"setting\"].astype(str) + \"_\" + gw_five[\"year\"].astype(str)\n",
    "\n",
    "display(gw_five[\"indicator_name\"].unique())\n",
    "display(gw_five)"
   ]
  },
  {
   "cell_type": "markdown",
   "id": "73f8bb2e",
   "metadata": {},
   "source": [
    "### Directionality\n",
    "\n",
    "You may notice that some of the Avg estimate values are negative. This is done to insure that all indicators all have the same directionality. We changed the directionality of indicators such that a desireable movement of an estimate will be in the positive direction and an undesireable movement will be in the negative direction. Since we want alcohol, obesity, and under five mortality to go down, their estimates are turned negative, so that a lower estimate of this estimate is in the positive direction."
   ]
  },
  {
   "cell_type": "markdown",
   "id": "f343db53",
   "metadata": {},
   "source": [
    "\n",
    "Now that the health indicators are chosen, we will group the agencies funding by year and country. This will help create a dataframe of the funding amounts by agency and year."
   ]
  },
  {
   "cell_type": "code",
   "execution_count": 11,
   "id": "3859c901",
   "metadata": {
    "scrolled": false
   },
   "outputs": [
    {
     "data": {
      "text/html": [
       "<div>\n",
       "<style scoped>\n",
       "    .dataframe tbody tr th:only-of-type {\n",
       "        vertical-align: middle;\n",
       "    }\n",
       "\n",
       "    .dataframe tbody tr th {\n",
       "        vertical-align: top;\n",
       "    }\n",
       "\n",
       "    .dataframe thead th {\n",
       "        text-align: right;\n",
       "    }\n",
       "</style>\n",
       "<table border=\"1\" class=\"dataframe\">\n",
       "  <thead>\n",
       "    <tr style=\"text-align: right;\">\n",
       "      <th></th>\n",
       "      <th>Funding Agency Acronym</th>\n",
       "      <th>Fiscal Year</th>\n",
       "      <th>Country Name</th>\n",
       "      <th>Constant Dollar Amount</th>\n",
       "      <th>combined</th>\n",
       "    </tr>\n",
       "  </thead>\n",
       "  <tbody>\n",
       "    <tr>\n",
       "      <th>0</th>\n",
       "      <td>ADF</td>\n",
       "      <td>2011</td>\n",
       "      <td>Ethiopia</td>\n",
       "      <td>58070</td>\n",
       "      <td>Ethiopia_2011</td>\n",
       "    </tr>\n",
       "    <tr>\n",
       "      <th>1</th>\n",
       "      <td>ADF</td>\n",
       "      <td>2012</td>\n",
       "      <td>Ethiopia</td>\n",
       "      <td>59155</td>\n",
       "      <td>Ethiopia_2012</td>\n",
       "    </tr>\n",
       "    <tr>\n",
       "      <th>2</th>\n",
       "      <td>ADF</td>\n",
       "      <td>2013</td>\n",
       "      <td>Ethiopia</td>\n",
       "      <td>91947</td>\n",
       "      <td>Ethiopia_2013</td>\n",
       "    </tr>\n",
       "    <tr>\n",
       "      <th>3</th>\n",
       "      <td>ADF</td>\n",
       "      <td>2014</td>\n",
       "      <td>Ethiopia</td>\n",
       "      <td>375920</td>\n",
       "      <td>Ethiopia_2014</td>\n",
       "    </tr>\n",
       "    <tr>\n",
       "      <th>4</th>\n",
       "      <td>ADF</td>\n",
       "      <td>2015</td>\n",
       "      <td>Ethiopia</td>\n",
       "      <td>210735</td>\n",
       "      <td>Ethiopia_2015</td>\n",
       "    </tr>\n",
       "    <tr>\n",
       "      <th>...</th>\n",
       "      <td>...</td>\n",
       "      <td>...</td>\n",
       "      <td>...</td>\n",
       "      <td>...</td>\n",
       "      <td>...</td>\n",
       "    </tr>\n",
       "    <tr>\n",
       "      <th>773</th>\n",
       "      <td>USAID</td>\n",
       "      <td>2018</td>\n",
       "      <td>Haiti</td>\n",
       "      <td>160983489</td>\n",
       "      <td>Haiti_2018</td>\n",
       "    </tr>\n",
       "    <tr>\n",
       "      <th>774</th>\n",
       "      <td>USAID</td>\n",
       "      <td>2019</td>\n",
       "      <td>Haiti</td>\n",
       "      <td>137906915</td>\n",
       "      <td>Haiti_2019</td>\n",
       "    </tr>\n",
       "    <tr>\n",
       "      <th>775</th>\n",
       "      <td>USAID</td>\n",
       "      <td>2020</td>\n",
       "      <td>Haiti</td>\n",
       "      <td>130047717</td>\n",
       "      <td>Haiti_2020</td>\n",
       "    </tr>\n",
       "    <tr>\n",
       "      <th>776</th>\n",
       "      <td>USAID</td>\n",
       "      <td>2021</td>\n",
       "      <td>Haiti</td>\n",
       "      <td>174539218</td>\n",
       "      <td>Haiti_2021</td>\n",
       "    </tr>\n",
       "    <tr>\n",
       "      <th>777</th>\n",
       "      <td>USAID</td>\n",
       "      <td>2022</td>\n",
       "      <td>Haiti</td>\n",
       "      <td>82660892</td>\n",
       "      <td>Haiti_2022</td>\n",
       "    </tr>\n",
       "  </tbody>\n",
       "</table>\n",
       "<p>778 rows × 5 columns</p>\n",
       "</div>"
      ],
      "text/plain": [
       "    Funding Agency Acronym  Fiscal Year Country Name  Constant Dollar Amount  \\\n",
       "0                      ADF         2011     Ethiopia                   58070   \n",
       "1                      ADF         2012     Ethiopia                   59155   \n",
       "2                      ADF         2013     Ethiopia                   91947   \n",
       "3                      ADF         2014     Ethiopia                  375920   \n",
       "4                      ADF         2015     Ethiopia                  210735   \n",
       "..                     ...          ...          ...                     ...   \n",
       "773                  USAID         2018        Haiti               160983489   \n",
       "774                  USAID         2019        Haiti               137906915   \n",
       "775                  USAID         2020        Haiti               130047717   \n",
       "776                  USAID         2021        Haiti               174539218   \n",
       "777                  USAID         2022        Haiti                82660892   \n",
       "\n",
       "          combined  \n",
       "0    Ethiopia_2011  \n",
       "1    Ethiopia_2012  \n",
       "2    Ethiopia_2013  \n",
       "3    Ethiopia_2014  \n",
       "4    Ethiopia_2015  \n",
       "..             ...  \n",
       "773     Haiti_2018  \n",
       "774     Haiti_2019  \n",
       "775     Haiti_2020  \n",
       "776     Haiti_2021  \n",
       "777     Haiti_2022  \n",
       "\n",
       "[778 rows x 5 columns]"
      ]
     },
     "execution_count": 11,
     "metadata": {},
     "output_type": "execute_result"
    }
   ],
   "source": [
    "# Create dataframe of the funding amounts in each country per year \n",
    "\n",
    "masterdf = pd.DataFrame()\n",
    "\n",
    "for i, country in enumerate(countries):\n",
    "    per_country_df = pd.DataFrame()    \n",
    "    grouped_df = country.groupby([\"Funding Agency Acronym\",\"Fiscal Year\", \"Country Name\"])\n",
    "    \n",
    "    # Create a new column based on the grouped data\n",
    "    per_country_df[\"Constant Dollar Amount\"] = grouped_df[\"Constant Dollar Amount\"].sum()\n",
    "    per_country_df = pd.DataFrame(per_country_df)\n",
    "    \n",
    "    \n",
    "    masterdf = pd.concat([masterdf, per_country_df])\n",
    "    \n",
    "masterdf.reset_index(inplace=True)\n",
    "\n",
    "# Create column for a key to merge on based on country and year.\n",
    "masterdf[\"combined\"] = masterdf[\"Country Name\"].astype(str) + \"_\" + masterdf[\"Fiscal Year\"].astype(str)\n",
    "\n",
    "masterdf"
   ]
  },
  {
   "cell_type": "code",
   "execution_count": 12,
   "id": "4b2a3f6f",
   "metadata": {
    "scrolled": true
   },
   "outputs": [],
   "source": [
    "# merge health indicator data with agency funding amounts.\n",
    "\n",
    "merged_df = gw_five.merge(masterdf,how=\"left\", on=\"combined\")\n",
    "merged_df.drop([\"combined\", \"Fiscal Year\", \"Country Name\"], axis=1, inplace=True)\n",
    "\n",
    "merged_df.to_csv(os.path.join(\"..\", \"WHO_datasets\", \"merged_data.csv\"))"
   ]
  },
  {
   "cell_type": "code",
   "execution_count": 13,
   "id": "1cac74c6",
   "metadata": {},
   "outputs": [
    {
     "data": {
      "text/plain": [
       "array(['AGR', 'IAF', 'PC', 'STATE', 'TDA', 'USAID', 'DOL', 'TREAS', 'DOC',\n",
       "       'DOE', 'HHS', 'FTC', 'MCC', 'EPA', 'ADF', 'DFC', 'DOT', 'NSF',\n",
       "       'LIC', nan], dtype=object)"
      ]
     },
     "execution_count": 13,
     "metadata": {},
     "output_type": "execute_result"
    }
   ],
   "source": [
    "merged_df[\"Funding Agency Acronym\"].unique()"
   ]
  },
  {
   "cell_type": "code",
   "execution_count": 14,
   "id": "ce6ef6b3",
   "metadata": {},
   "outputs": [
    {
     "data": {
      "text/html": [
       "<div>\n",
       "<style scoped>\n",
       "    .dataframe tbody tr th:only-of-type {\n",
       "        vertical-align: middle;\n",
       "    }\n",
       "\n",
       "    .dataframe tbody tr th {\n",
       "        vertical-align: top;\n",
       "    }\n",
       "\n",
       "    .dataframe thead th {\n",
       "        text-align: right;\n",
       "    }\n",
       "</style>\n",
       "<table border=\"1\" class=\"dataframe\">\n",
       "  <thead>\n",
       "    <tr style=\"text-align: right;\">\n",
       "      <th></th>\n",
       "      <th>setting</th>\n",
       "      <th>year</th>\n",
       "      <th>indicator_abbr</th>\n",
       "      <th>indicator_name</th>\n",
       "      <th>Avg estimate</th>\n",
       "      <th>Funding Agency Acronym</th>\n",
       "      <th>Constant Dollar Amount</th>\n",
       "      <th>country_year</th>\n",
       "      <th>country_year_indicator</th>\n",
       "      <th>country_year_indicator_agency</th>\n",
       "    </tr>\n",
       "  </thead>\n",
       "  <tbody>\n",
       "    <tr>\n",
       "      <th>0</th>\n",
       "      <td>Ecuador</td>\n",
       "      <td>2002</td>\n",
       "      <td>alcohol</td>\n",
       "      <td>Total alcohol per capita consumption in adults...</td>\n",
       "      <td>-4.50</td>\n",
       "      <td>AGR</td>\n",
       "      <td>9241684.0</td>\n",
       "      <td>Ecuador_2002</td>\n",
       "      <td>Ecuador_2002_alcohol</td>\n",
       "      <td>Ecuador_2002_alcohol_AGR</td>\n",
       "    </tr>\n",
       "    <tr>\n",
       "      <th>1</th>\n",
       "      <td>Ecuador</td>\n",
       "      <td>2002</td>\n",
       "      <td>alcohol</td>\n",
       "      <td>Total alcohol per capita consumption in adults...</td>\n",
       "      <td>-4.50</td>\n",
       "      <td>IAF</td>\n",
       "      <td>1948562.0</td>\n",
       "      <td>Ecuador_2002</td>\n",
       "      <td>Ecuador_2002_alcohol</td>\n",
       "      <td>Ecuador_2002_alcohol_IAF</td>\n",
       "    </tr>\n",
       "    <tr>\n",
       "      <th>2</th>\n",
       "      <td>Ecuador</td>\n",
       "      <td>2002</td>\n",
       "      <td>alcohol</td>\n",
       "      <td>Total alcohol per capita consumption in adults...</td>\n",
       "      <td>-4.50</td>\n",
       "      <td>PC</td>\n",
       "      <td>3948070.0</td>\n",
       "      <td>Ecuador_2002</td>\n",
       "      <td>Ecuador_2002_alcohol</td>\n",
       "      <td>Ecuador_2002_alcohol_PC</td>\n",
       "    </tr>\n",
       "    <tr>\n",
       "      <th>3</th>\n",
       "      <td>Ecuador</td>\n",
       "      <td>2002</td>\n",
       "      <td>alcohol</td>\n",
       "      <td>Total alcohol per capita consumption in adults...</td>\n",
       "      <td>-4.50</td>\n",
       "      <td>STATE</td>\n",
       "      <td>35779088.0</td>\n",
       "      <td>Ecuador_2002</td>\n",
       "      <td>Ecuador_2002_alcohol</td>\n",
       "      <td>Ecuador_2002_alcohol_STATE</td>\n",
       "    </tr>\n",
       "    <tr>\n",
       "      <th>4</th>\n",
       "      <td>Ecuador</td>\n",
       "      <td>2002</td>\n",
       "      <td>alcohol</td>\n",
       "      <td>Total alcohol per capita consumption in adults...</td>\n",
       "      <td>-4.50</td>\n",
       "      <td>TDA</td>\n",
       "      <td>1638316.0</td>\n",
       "      <td>Ecuador_2002</td>\n",
       "      <td>Ecuador_2002_alcohol</td>\n",
       "      <td>Ecuador_2002_alcohol_TDA</td>\n",
       "    </tr>\n",
       "    <tr>\n",
       "      <th>...</th>\n",
       "      <td>...</td>\n",
       "      <td>...</td>\n",
       "      <td>...</td>\n",
       "      <td>...</td>\n",
       "      <td>...</td>\n",
       "      <td>...</td>\n",
       "      <td>...</td>\n",
       "      <td>...</td>\n",
       "      <td>...</td>\n",
       "      <td>...</td>\n",
       "    </tr>\n",
       "    <tr>\n",
       "      <th>3116</th>\n",
       "      <td>Yemen</td>\n",
       "      <td>2020</td>\n",
       "      <td>life_ex</td>\n",
       "      <td>Life Expectancy</td>\n",
       "      <td>67.90</td>\n",
       "      <td>STATE</td>\n",
       "      <td>82848136.0</td>\n",
       "      <td>Yemen_2020</td>\n",
       "      <td>Yemen_2020_life_ex</td>\n",
       "      <td>Yemen_2020_life_ex_STATE</td>\n",
       "    </tr>\n",
       "    <tr>\n",
       "      <th>3117</th>\n",
       "      <td>Yemen</td>\n",
       "      <td>2020</td>\n",
       "      <td>life_ex</td>\n",
       "      <td>Life Expectancy</td>\n",
       "      <td>67.90</td>\n",
       "      <td>USAID</td>\n",
       "      <td>248473546.0</td>\n",
       "      <td>Yemen_2020</td>\n",
       "      <td>Yemen_2020_life_ex</td>\n",
       "      <td>Yemen_2020_life_ex_USAID</td>\n",
       "    </tr>\n",
       "    <tr>\n",
       "      <th>3118</th>\n",
       "      <td>Yemen</td>\n",
       "      <td>2020</td>\n",
       "      <td>u5mr</td>\n",
       "      <td>Under-five mortality rate</td>\n",
       "      <td>-5.95</td>\n",
       "      <td>AGR</td>\n",
       "      <td>224994779.0</td>\n",
       "      <td>Yemen_2020</td>\n",
       "      <td>Yemen_2020_u5mr</td>\n",
       "      <td>Yemen_2020_u5mr_AGR</td>\n",
       "    </tr>\n",
       "    <tr>\n",
       "      <th>3119</th>\n",
       "      <td>Yemen</td>\n",
       "      <td>2020</td>\n",
       "      <td>u5mr</td>\n",
       "      <td>Under-five mortality rate</td>\n",
       "      <td>-5.95</td>\n",
       "      <td>STATE</td>\n",
       "      <td>82848136.0</td>\n",
       "      <td>Yemen_2020</td>\n",
       "      <td>Yemen_2020_u5mr</td>\n",
       "      <td>Yemen_2020_u5mr_STATE</td>\n",
       "    </tr>\n",
       "    <tr>\n",
       "      <th>3120</th>\n",
       "      <td>Yemen</td>\n",
       "      <td>2020</td>\n",
       "      <td>u5mr</td>\n",
       "      <td>Under-five mortality rate</td>\n",
       "      <td>-5.95</td>\n",
       "      <td>USAID</td>\n",
       "      <td>248473546.0</td>\n",
       "      <td>Yemen_2020</td>\n",
       "      <td>Yemen_2020_u5mr</td>\n",
       "      <td>Yemen_2020_u5mr_USAID</td>\n",
       "    </tr>\n",
       "  </tbody>\n",
       "</table>\n",
       "<p>3121 rows × 10 columns</p>\n",
       "</div>"
      ],
      "text/plain": [
       "      setting  year indicator_abbr  \\\n",
       "0     Ecuador  2002        alcohol   \n",
       "1     Ecuador  2002        alcohol   \n",
       "2     Ecuador  2002        alcohol   \n",
       "3     Ecuador  2002        alcohol   \n",
       "4     Ecuador  2002        alcohol   \n",
       "...       ...   ...            ...   \n",
       "3116    Yemen  2020        life_ex   \n",
       "3117    Yemen  2020        life_ex   \n",
       "3118    Yemen  2020           u5mr   \n",
       "3119    Yemen  2020           u5mr   \n",
       "3120    Yemen  2020           u5mr   \n",
       "\n",
       "                                         indicator_name  Avg estimate  \\\n",
       "0     Total alcohol per capita consumption in adults...         -4.50   \n",
       "1     Total alcohol per capita consumption in adults...         -4.50   \n",
       "2     Total alcohol per capita consumption in adults...         -4.50   \n",
       "3     Total alcohol per capita consumption in adults...         -4.50   \n",
       "4     Total alcohol per capita consumption in adults...         -4.50   \n",
       "...                                                 ...           ...   \n",
       "3116                                    Life Expectancy         67.90   \n",
       "3117                                    Life Expectancy         67.90   \n",
       "3118                          Under-five mortality rate         -5.95   \n",
       "3119                          Under-five mortality rate         -5.95   \n",
       "3120                          Under-five mortality rate         -5.95   \n",
       "\n",
       "     Funding Agency Acronym  Constant Dollar Amount  country_year  \\\n",
       "0                       AGR               9241684.0  Ecuador_2002   \n",
       "1                       IAF               1948562.0  Ecuador_2002   \n",
       "2                        PC               3948070.0  Ecuador_2002   \n",
       "3                     STATE              35779088.0  Ecuador_2002   \n",
       "4                       TDA               1638316.0  Ecuador_2002   \n",
       "...                     ...                     ...           ...   \n",
       "3116                  STATE              82848136.0    Yemen_2020   \n",
       "3117                  USAID             248473546.0    Yemen_2020   \n",
       "3118                    AGR             224994779.0    Yemen_2020   \n",
       "3119                  STATE              82848136.0    Yemen_2020   \n",
       "3120                  USAID             248473546.0    Yemen_2020   \n",
       "\n",
       "     country_year_indicator country_year_indicator_agency  \n",
       "0      Ecuador_2002_alcohol      Ecuador_2002_alcohol_AGR  \n",
       "1      Ecuador_2002_alcohol      Ecuador_2002_alcohol_IAF  \n",
       "2      Ecuador_2002_alcohol       Ecuador_2002_alcohol_PC  \n",
       "3      Ecuador_2002_alcohol    Ecuador_2002_alcohol_STATE  \n",
       "4      Ecuador_2002_alcohol      Ecuador_2002_alcohol_TDA  \n",
       "...                     ...                           ...  \n",
       "3116     Yemen_2020_life_ex      Yemen_2020_life_ex_STATE  \n",
       "3117     Yemen_2020_life_ex      Yemen_2020_life_ex_USAID  \n",
       "3118        Yemen_2020_u5mr           Yemen_2020_u5mr_AGR  \n",
       "3119        Yemen_2020_u5mr         Yemen_2020_u5mr_STATE  \n",
       "3120        Yemen_2020_u5mr         Yemen_2020_u5mr_USAID  \n",
       "\n",
       "[3121 rows x 10 columns]"
      ]
     },
     "execution_count": 14,
     "metadata": {},
     "output_type": "execute_result"
    }
   ],
   "source": [
    "# Create country/year combinations to add all agencies and other missing indicators not in data\n",
    "\n",
    "merged_df[\"country_year\"] = merged_df[\"setting\"].astype(str) + \"_\" + merged_df[\"year\"].astype(str) \n",
    "merged_df[\"country_year_indicator\"] = merged_df[\"setting\"].astype(str) + \"_\" + merged_df[\"year\"].astype(str) + \"_\" + merged_df[\"indicator_abbr\"].astype(str)\n",
    "merged_df[\"country_year_indicator_agency\"] = merged_df[\"setting\"].astype(str) + \"_\" + merged_df[\"year\"].astype(str) + \"_\" + merged_df[\"indicator_abbr\"].astype(str) + \"_\" + merged_df[\"Funding Agency Acronym\"]\n",
    "merged_df"
   ]
  },
  {
   "cell_type": "markdown",
   "id": "fc3aa555",
   "metadata": {},
   "source": [
    "Since some agencies had $0 in funding some years, these records did not exist in our dataset, but we want them in our data, so we will add records of every possible combination."
   ]
  },
  {
   "cell_type": "code",
   "execution_count": 15,
   "id": "dd0f8fc8",
   "metadata": {},
   "outputs": [
    {
     "data": {
      "text/html": [
       "<div>\n",
       "<style scoped>\n",
       "    .dataframe tbody tr th:only-of-type {\n",
       "        vertical-align: middle;\n",
       "    }\n",
       "\n",
       "    .dataframe tbody tr th {\n",
       "        vertical-align: top;\n",
       "    }\n",
       "\n",
       "    .dataframe thead th {\n",
       "        text-align: right;\n",
       "    }\n",
       "</style>\n",
       "<table border=\"1\" class=\"dataframe\">\n",
       "  <thead>\n",
       "    <tr style=\"text-align: right;\">\n",
       "      <th></th>\n",
       "      <th>cyia_string</th>\n",
       "    </tr>\n",
       "  </thead>\n",
       "  <tbody>\n",
       "    <tr>\n",
       "      <th>0</th>\n",
       "      <td>Ecuador_2002_alcohol_ADF</td>\n",
       "    </tr>\n",
       "    <tr>\n",
       "      <th>1</th>\n",
       "      <td>Ecuador_2002_alcohol_AGR</td>\n",
       "    </tr>\n",
       "    <tr>\n",
       "      <th>2</th>\n",
       "      <td>Ecuador_2002_alcohol_DFC</td>\n",
       "    </tr>\n",
       "    <tr>\n",
       "      <th>3</th>\n",
       "      <td>Ecuador_2002_alcohol_DOC</td>\n",
       "    </tr>\n",
       "    <tr>\n",
       "      <th>4</th>\n",
       "      <td>Ecuador_2002_alcohol_DOE</td>\n",
       "    </tr>\n",
       "    <tr>\n",
       "      <th>...</th>\n",
       "      <td>...</td>\n",
       "    </tr>\n",
       "    <tr>\n",
       "      <th>12630</th>\n",
       "      <td>Yemen_2020_u5mr_PC</td>\n",
       "    </tr>\n",
       "    <tr>\n",
       "      <th>12631</th>\n",
       "      <td>Yemen_2020_u5mr_STATE</td>\n",
       "    </tr>\n",
       "    <tr>\n",
       "      <th>12632</th>\n",
       "      <td>Yemen_2020_u5mr_TDA</td>\n",
       "    </tr>\n",
       "    <tr>\n",
       "      <th>12633</th>\n",
       "      <td>Yemen_2020_u5mr_TREAS</td>\n",
       "    </tr>\n",
       "    <tr>\n",
       "      <th>12634</th>\n",
       "      <td>Yemen_2020_u5mr_USAID</td>\n",
       "    </tr>\n",
       "  </tbody>\n",
       "</table>\n",
       "<p>12635 rows × 1 columns</p>\n",
       "</div>"
      ],
      "text/plain": [
       "                    cyia_string\n",
       "0      Ecuador_2002_alcohol_ADF\n",
       "1      Ecuador_2002_alcohol_AGR\n",
       "2      Ecuador_2002_alcohol_DFC\n",
       "3      Ecuador_2002_alcohol_DOC\n",
       "4      Ecuador_2002_alcohol_DOE\n",
       "...                         ...\n",
       "12630        Yemen_2020_u5mr_PC\n",
       "12631     Yemen_2020_u5mr_STATE\n",
       "12632       Yemen_2020_u5mr_TDA\n",
       "12633     Yemen_2020_u5mr_TREAS\n",
       "12634     Yemen_2020_u5mr_USAID\n",
       "\n",
       "[12635 rows x 1 columns]"
      ]
     },
     "execution_count": 15,
     "metadata": {},
     "output_type": "execute_result"
    }
   ],
   "source": [
    "# Make set of all combination of possible rows containing a country's name, the year, indicator, and agency. \n",
    "\n",
    "all_possible_agencies = ['AGR', 'IAF', 'PC', 'STATE', 'TDA', 'USAID', 'DOL', 'TREAS', 'DOC',\n",
    "       'DOE', 'HHS', 'FTC', 'MCC', 'EPA', 'ADF', 'DFC', 'DOT', 'NSF','LIC']\n",
    "\n",
    "all_possible_indicators = [\"alcohol\", \"hh\", \"life\", \"obesitya\", \"u5mr\"]\n",
    "\n",
    "all_combos = set()\n",
    "\n",
    "for index, row in gw_five.iterrows():\n",
    "    # from gw_five combined is the country and year\n",
    "    value = row['combined']\n",
    "    indic = row['indicator_abbr']\n",
    "    for agency in all_possible_agencies:\n",
    "        for indic in all_possible_indicators:\n",
    "            all_combos.add(value + \"_\" + indic + \"_\" + agency)\n",
    "            \n",
    "all_combos = sorted(all_combos)\n",
    "all_combos_df = pd.DataFrame(all_combos, columns=[\"cyia_string\"])\n",
    "all_combos_df"
   ]
  },
  {
   "cell_type": "code",
   "execution_count": 16,
   "id": "991ce8f0",
   "metadata": {
    "scrolled": true
   },
   "outputs": [
    {
     "data": {
      "text/html": [
       "<div>\n",
       "<style scoped>\n",
       "    .dataframe tbody tr th:only-of-type {\n",
       "        vertical-align: middle;\n",
       "    }\n",
       "\n",
       "    .dataframe tbody tr th {\n",
       "        vertical-align: top;\n",
       "    }\n",
       "\n",
       "    .dataframe thead th {\n",
       "        text-align: right;\n",
       "    }\n",
       "</style>\n",
       "<table border=\"1\" class=\"dataframe\">\n",
       "  <thead>\n",
       "    <tr style=\"text-align: right;\">\n",
       "      <th></th>\n",
       "      <th>setting</th>\n",
       "      <th>year</th>\n",
       "      <th>indicator_abbr</th>\n",
       "      <th>Avg estimate</th>\n",
       "    </tr>\n",
       "  </thead>\n",
       "  <tbody>\n",
       "    <tr>\n",
       "      <th>0</th>\n",
       "      <td>Ecuador</td>\n",
       "      <td>2002</td>\n",
       "      <td>alcohol</td>\n",
       "      <td>-4.50</td>\n",
       "    </tr>\n",
       "    <tr>\n",
       "      <th>1</th>\n",
       "      <td>Ecuador</td>\n",
       "      <td>2002</td>\n",
       "      <td>hh_wat_sm</td>\n",
       "      <td>56.50</td>\n",
       "    </tr>\n",
       "    <tr>\n",
       "      <th>2</th>\n",
       "      <td>Ecuador</td>\n",
       "      <td>2002</td>\n",
       "      <td>life_ex</td>\n",
       "      <td>73.90</td>\n",
       "    </tr>\n",
       "    <tr>\n",
       "      <th>3</th>\n",
       "      <td>Ecuador</td>\n",
       "      <td>2002</td>\n",
       "      <td>obesitya</td>\n",
       "      <td>-13.00</td>\n",
       "    </tr>\n",
       "    <tr>\n",
       "      <th>4</th>\n",
       "      <td>Ecuador</td>\n",
       "      <td>2002</td>\n",
       "      <td>u5mr</td>\n",
       "      <td>-2.65</td>\n",
       "    </tr>\n",
       "    <tr>\n",
       "      <th>...</th>\n",
       "      <td>...</td>\n",
       "      <td>...</td>\n",
       "      <td>...</td>\n",
       "      <td>...</td>\n",
       "    </tr>\n",
       "    <tr>\n",
       "      <th>544</th>\n",
       "      <td>Yemen</td>\n",
       "      <td>2019</td>\n",
       "      <td>alcohol</td>\n",
       "      <td>0.00</td>\n",
       "    </tr>\n",
       "    <tr>\n",
       "      <th>545</th>\n",
       "      <td>Yemen</td>\n",
       "      <td>2019</td>\n",
       "      <td>life_ex</td>\n",
       "      <td>67.80</td>\n",
       "    </tr>\n",
       "    <tr>\n",
       "      <th>546</th>\n",
       "      <td>Yemen</td>\n",
       "      <td>2019</td>\n",
       "      <td>u5mr</td>\n",
       "      <td>-6.10</td>\n",
       "    </tr>\n",
       "    <tr>\n",
       "      <th>547</th>\n",
       "      <td>Yemen</td>\n",
       "      <td>2020</td>\n",
       "      <td>life_ex</td>\n",
       "      <td>67.90</td>\n",
       "    </tr>\n",
       "    <tr>\n",
       "      <th>548</th>\n",
       "      <td>Yemen</td>\n",
       "      <td>2020</td>\n",
       "      <td>u5mr</td>\n",
       "      <td>-5.95</td>\n",
       "    </tr>\n",
       "  </tbody>\n",
       "</table>\n",
       "<p>549 rows × 4 columns</p>\n",
       "</div>"
      ],
      "text/plain": [
       "     setting  year indicator_abbr  Avg estimate\n",
       "0    Ecuador  2002        alcohol         -4.50\n",
       "1    Ecuador  2002      hh_wat_sm         56.50\n",
       "2    Ecuador  2002        life_ex         73.90\n",
       "3    Ecuador  2002       obesitya        -13.00\n",
       "4    Ecuador  2002           u5mr         -2.65\n",
       "..       ...   ...            ...           ...\n",
       "544    Yemen  2019        alcohol          0.00\n",
       "545    Yemen  2019        life_ex         67.80\n",
       "546    Yemen  2019           u5mr         -6.10\n",
       "547    Yemen  2020        life_ex         67.90\n",
       "548    Yemen  2020           u5mr         -5.95\n",
       "\n",
       "[549 rows x 4 columns]"
      ]
     },
     "execution_count": 16,
     "metadata": {},
     "output_type": "execute_result"
    }
   ],
   "source": [
    "# Temp dataframe used to add avg estimate column to merged_df later.\n",
    "setting_indicator_estimate = pd.DataFrame(gw_five, columns=[\"setting\", \"year\", \"indicator_abbr\", \"Avg estimate\"])\n",
    "setting_indicator_estimate"
   ]
  },
  {
   "cell_type": "code",
   "execution_count": 17,
   "id": "75a7f2fc",
   "metadata": {},
   "outputs": [],
   "source": [
    "# Used to generate indicator descriptions when only given abbreviations\n",
    "dict_for_abbrs = {\"alcohol\": 'Total alcohol per capita consumption in adults aged 15+ (litres of pure alcohol)', 'life': 'Life Expectancy', \n",
    "                  'obesitya': 'Obesity prevalence among adults (%)', 'hh':'Population using safely managed drinking water services (%)', \n",
    "                  'u5mr':'Under-five mortality rate'}"
   ]
  },
  {
   "cell_type": "markdown",
   "id": "b516cfdf",
   "metadata": {},
   "source": [
    "The cell below adds the average estimate of an indicator for a year to all the agencies which will help with our model. It also allows us to shift the data down a year easily, such that cells with 2003 data constant dollars now have 2002 constant dollars as our model wants to use the money from previous years funding to predict health indicators. Having current estimates with older funding it what we want to use for our model."
   ]
  },
  {
   "cell_type": "code",
   "execution_count": 18,
   "id": "2eb8f577",
   "metadata": {},
   "outputs": [
    {
     "name": "stdout",
     "output_type": "stream",
     "text": [
      "Function skipped, change run_function variable as needed\n"
     ]
    }
   ],
   "source": [
    "# Takes while to run, so we already ran it and have the finished dataset saved in merged_df.csv\n",
    "# Change run_function to True to run this \n",
    "\n",
    "import warnings\n",
    "\n",
    "# Suppress warnings\n",
    "warnings.filterwarnings('ignore', category=DeprecationWarning) \n",
    "warnings.filterwarnings('ignore', category=FutureWarning) \n",
    "\n",
    "run_function = False\n",
    "\n",
    "if(run_function):\n",
    "    merged_df = merged_df.sort_values('country_year_indicator_agency', ascending=True)\n",
    "\n",
    "    # Fill in dataframe using all possible setting, agency, year, indicators from all_combos_df \n",
    "    for index, row in all_combos_df.iterrows():\n",
    "        value = row[\"cyia_string\"]\n",
    "        row_for_estimate = []\n",
    "\n",
    "        if (merged_df[\"country_year_indicator_agency\"] != value).all():\n",
    "            # split long combo strings into their separate parts\n",
    "            country_year_indicator_agency_list = value.split('_')\n",
    "\n",
    "            value_name = country_year_indicator_agency_list[0]\n",
    "            value_year = int(country_year_indicator_agency_list[1])\n",
    "            value_indicator = country_year_indicator_agency_list[2]\n",
    "            value_agency = country_year_indicator_agency_list[3]\n",
    "\n",
    "            # get indicator name from abbr dict\n",
    "            full_name_ind = dict_for_abbrs[value_indicator]\n",
    "\n",
    "            # get value indicator for same country, year, indicator as current record\n",
    "            value_estimate_series = merged_df.loc[(merged_df[\"setting\"] == value_name) & (merged_df[\"year\"] == value_year) & (merged_df[\"indicator_abbr\"] == value_indicator) , \"Avg estimate\"]\n",
    "\n",
    "            # if value estimate series is empty there is not data on this combination and it should be 0 for the year.\n",
    "            if value_estimate_series.empty:\n",
    "                value_estimate = 0\n",
    "            else:\n",
    "                value_estimate = value_estimate_series.values[0]\n",
    "\n",
    "            # adds rows that are missing \n",
    "            merged_df = merged_df.append({'country_year_indicator_agency':value, \"setting\":value_name, \n",
    "                                          \"year\":value_year, \"indicator_abbr\":value_indicator, \"indicator_name\":full_name_ind, \n",
    "                                          \"Avg estimate\":value_estimate,\"Funding Agency Acronym\":value_agency, \n",
    "                                          \"Constant Dollar Amount\": 0}, ignore_index =True)\n",
    "else:\n",
    "    merged_df = pd.read_csv(os.path.join(\"..\", \"WHO_datasets\", \"merged_data.csv\"))\n",
    "    print(\"Function skipped, change run_function variable as needed\")\n",
    "        "
   ]
  },
  {
   "cell_type": "code",
   "execution_count": 19,
   "id": "95e0f37f",
   "metadata": {
    "scrolled": true
   },
   "outputs": [
    {
     "data": {
      "text/html": [
       "<div>\n",
       "<style scoped>\n",
       "    .dataframe tbody tr th:only-of-type {\n",
       "        vertical-align: middle;\n",
       "    }\n",
       "\n",
       "    .dataframe tbody tr th {\n",
       "        vertical-align: top;\n",
       "    }\n",
       "\n",
       "    .dataframe thead th {\n",
       "        text-align: right;\n",
       "    }\n",
       "</style>\n",
       "<table border=\"1\" class=\"dataframe\">\n",
       "  <thead>\n",
       "    <tr style=\"text-align: right;\">\n",
       "      <th></th>\n",
       "      <th>Unnamed: 0</th>\n",
       "      <th>setting</th>\n",
       "      <th>year</th>\n",
       "      <th>indicator_abbr</th>\n",
       "      <th>indicator_name</th>\n",
       "      <th>Avg estimate</th>\n",
       "      <th>Funding Agency Acronym</th>\n",
       "      <th>Constant Dollar Amount</th>\n",
       "    </tr>\n",
       "  </thead>\n",
       "  <tbody>\n",
       "    <tr>\n",
       "      <th>0</th>\n",
       "      <td>0</td>\n",
       "      <td>Ecuador</td>\n",
       "      <td>2002</td>\n",
       "      <td>alcohol</td>\n",
       "      <td>Total alcohol per capita consumption in adults...</td>\n",
       "      <td>-4.50</td>\n",
       "      <td>AGR</td>\n",
       "      <td>9241684.0</td>\n",
       "    </tr>\n",
       "    <tr>\n",
       "      <th>1</th>\n",
       "      <td>1</td>\n",
       "      <td>Ecuador</td>\n",
       "      <td>2002</td>\n",
       "      <td>alcohol</td>\n",
       "      <td>Total alcohol per capita consumption in adults...</td>\n",
       "      <td>-4.50</td>\n",
       "      <td>IAF</td>\n",
       "      <td>1948562.0</td>\n",
       "    </tr>\n",
       "    <tr>\n",
       "      <th>2</th>\n",
       "      <td>2</td>\n",
       "      <td>Ecuador</td>\n",
       "      <td>2002</td>\n",
       "      <td>alcohol</td>\n",
       "      <td>Total alcohol per capita consumption in adults...</td>\n",
       "      <td>-4.50</td>\n",
       "      <td>PC</td>\n",
       "      <td>3948070.0</td>\n",
       "    </tr>\n",
       "    <tr>\n",
       "      <th>3</th>\n",
       "      <td>3</td>\n",
       "      <td>Ecuador</td>\n",
       "      <td>2002</td>\n",
       "      <td>alcohol</td>\n",
       "      <td>Total alcohol per capita consumption in adults...</td>\n",
       "      <td>-4.50</td>\n",
       "      <td>STATE</td>\n",
       "      <td>35779088.0</td>\n",
       "    </tr>\n",
       "    <tr>\n",
       "      <th>4</th>\n",
       "      <td>4</td>\n",
       "      <td>Ecuador</td>\n",
       "      <td>2002</td>\n",
       "      <td>alcohol</td>\n",
       "      <td>Total alcohol per capita consumption in adults...</td>\n",
       "      <td>-4.50</td>\n",
       "      <td>TDA</td>\n",
       "      <td>1638316.0</td>\n",
       "    </tr>\n",
       "    <tr>\n",
       "      <th>...</th>\n",
       "      <td>...</td>\n",
       "      <td>...</td>\n",
       "      <td>...</td>\n",
       "      <td>...</td>\n",
       "      <td>...</td>\n",
       "      <td>...</td>\n",
       "      <td>...</td>\n",
       "      <td>...</td>\n",
       "    </tr>\n",
       "    <tr>\n",
       "      <th>3116</th>\n",
       "      <td>3116</td>\n",
       "      <td>Yemen</td>\n",
       "      <td>2020</td>\n",
       "      <td>life_ex</td>\n",
       "      <td>Life Expectancy</td>\n",
       "      <td>67.90</td>\n",
       "      <td>STATE</td>\n",
       "      <td>82848136.0</td>\n",
       "    </tr>\n",
       "    <tr>\n",
       "      <th>3117</th>\n",
       "      <td>3117</td>\n",
       "      <td>Yemen</td>\n",
       "      <td>2020</td>\n",
       "      <td>life_ex</td>\n",
       "      <td>Life Expectancy</td>\n",
       "      <td>67.90</td>\n",
       "      <td>USAID</td>\n",
       "      <td>248473546.0</td>\n",
       "    </tr>\n",
       "    <tr>\n",
       "      <th>3118</th>\n",
       "      <td>3118</td>\n",
       "      <td>Yemen</td>\n",
       "      <td>2020</td>\n",
       "      <td>u5mr</td>\n",
       "      <td>Under-five mortality rate</td>\n",
       "      <td>-5.95</td>\n",
       "      <td>AGR</td>\n",
       "      <td>224994779.0</td>\n",
       "    </tr>\n",
       "    <tr>\n",
       "      <th>3119</th>\n",
       "      <td>3119</td>\n",
       "      <td>Yemen</td>\n",
       "      <td>2020</td>\n",
       "      <td>u5mr</td>\n",
       "      <td>Under-five mortality rate</td>\n",
       "      <td>-5.95</td>\n",
       "      <td>STATE</td>\n",
       "      <td>82848136.0</td>\n",
       "    </tr>\n",
       "    <tr>\n",
       "      <th>3120</th>\n",
       "      <td>3120</td>\n",
       "      <td>Yemen</td>\n",
       "      <td>2020</td>\n",
       "      <td>u5mr</td>\n",
       "      <td>Under-five mortality rate</td>\n",
       "      <td>-5.95</td>\n",
       "      <td>USAID</td>\n",
       "      <td>248473546.0</td>\n",
       "    </tr>\n",
       "  </tbody>\n",
       "</table>\n",
       "<p>3121 rows × 8 columns</p>\n",
       "</div>"
      ],
      "text/plain": [
       "      Unnamed: 0  setting  year indicator_abbr  \\\n",
       "0              0  Ecuador  2002        alcohol   \n",
       "1              1  Ecuador  2002        alcohol   \n",
       "2              2  Ecuador  2002        alcohol   \n",
       "3              3  Ecuador  2002        alcohol   \n",
       "4              4  Ecuador  2002        alcohol   \n",
       "...          ...      ...   ...            ...   \n",
       "3116        3116    Yemen  2020        life_ex   \n",
       "3117        3117    Yemen  2020        life_ex   \n",
       "3118        3118    Yemen  2020           u5mr   \n",
       "3119        3119    Yemen  2020           u5mr   \n",
       "3120        3120    Yemen  2020           u5mr   \n",
       "\n",
       "                                         indicator_name  Avg estimate  \\\n",
       "0     Total alcohol per capita consumption in adults...         -4.50   \n",
       "1     Total alcohol per capita consumption in adults...         -4.50   \n",
       "2     Total alcohol per capita consumption in adults...         -4.50   \n",
       "3     Total alcohol per capita consumption in adults...         -4.50   \n",
       "4     Total alcohol per capita consumption in adults...         -4.50   \n",
       "...                                                 ...           ...   \n",
       "3116                                    Life Expectancy         67.90   \n",
       "3117                                    Life Expectancy         67.90   \n",
       "3118                          Under-five mortality rate         -5.95   \n",
       "3119                          Under-five mortality rate         -5.95   \n",
       "3120                          Under-five mortality rate         -5.95   \n",
       "\n",
       "     Funding Agency Acronym  Constant Dollar Amount  \n",
       "0                       AGR               9241684.0  \n",
       "1                       IAF               1948562.0  \n",
       "2                        PC               3948070.0  \n",
       "3                     STATE              35779088.0  \n",
       "4                       TDA               1638316.0  \n",
       "...                     ...                     ...  \n",
       "3116                  STATE              82848136.0  \n",
       "3117                  USAID             248473546.0  \n",
       "3118                    AGR             224994779.0  \n",
       "3119                  STATE              82848136.0  \n",
       "3120                  USAID             248473546.0  \n",
       "\n",
       "[3121 rows x 8 columns]"
      ]
     },
     "execution_count": 19,
     "metadata": {},
     "output_type": "execute_result"
    }
   ],
   "source": [
    "# saves dataframe as csv\n",
    "merged_df.to_csv(os.path.join(\"..\", \"WHO_datasets\", \"merged_data.csv\"))\n",
    "merged_df"
   ]
  },
  {
   "cell_type": "markdown",
   "id": "1cddfafd",
   "metadata": {},
   "source": [
    "After setting up our dataset for our model, we imputed data on indicators that may be missing for years, typically replacing the average estimate for the last year's estimate if the estimate was missing for this year. If indicator data for a particular country was completely missing for all years, we kept the average estimate at 0. Additionally, we moved the indicators up a year to show how money from previous years (starting from 2002) impacts later years.\n",
    "\n",
    "With this data imputation and adjusting the consant dollar amounts up a year, our dataset is now ready for a model."
   ]
  },
  {
   "cell_type": "code",
   "execution_count": 20,
   "id": "c6f0c87e",
   "metadata": {
    "scrolled": true
   },
   "outputs": [
    {
     "data": {
      "text/html": [
       "<div>\n",
       "<style scoped>\n",
       "    .dataframe tbody tr th:only-of-type {\n",
       "        vertical-align: middle;\n",
       "    }\n",
       "\n",
       "    .dataframe tbody tr th {\n",
       "        vertical-align: top;\n",
       "    }\n",
       "\n",
       "    .dataframe thead th {\n",
       "        text-align: right;\n",
       "    }\n",
       "</style>\n",
       "<table border=\"1\" class=\"dataframe\">\n",
       "  <thead>\n",
       "    <tr style=\"text-align: right;\">\n",
       "      <th></th>\n",
       "      <th>setting</th>\n",
       "      <th>Previous year</th>\n",
       "      <th>indicator_abbr</th>\n",
       "      <th>indicator_name</th>\n",
       "      <th>Avg estimate</th>\n",
       "      <th>Funding Agency Acronym</th>\n",
       "      <th>Constant Dollar Amount</th>\n",
       "    </tr>\n",
       "  </thead>\n",
       "  <tbody>\n",
       "    <tr>\n",
       "      <th>0</th>\n",
       "      <td>Ecuador</td>\n",
       "      <td>2003</td>\n",
       "      <td>alcohol</td>\n",
       "      <td>Total alcohol per capita consumption in adults...</td>\n",
       "      <td>-4.00</td>\n",
       "      <td>ADF</td>\n",
       "      <td>0</td>\n",
       "    </tr>\n",
       "    <tr>\n",
       "      <th>1</th>\n",
       "      <td>Ecuador</td>\n",
       "      <td>2003</td>\n",
       "      <td>alcohol</td>\n",
       "      <td>Total alcohol per capita consumption in adults...</td>\n",
       "      <td>-4.00</td>\n",
       "      <td>AGR</td>\n",
       "      <td>717869</td>\n",
       "    </tr>\n",
       "    <tr>\n",
       "      <th>2</th>\n",
       "      <td>Ecuador</td>\n",
       "      <td>2003</td>\n",
       "      <td>alcohol</td>\n",
       "      <td>Total alcohol per capita consumption in adults...</td>\n",
       "      <td>-4.00</td>\n",
       "      <td>DFC</td>\n",
       "      <td>0</td>\n",
       "    </tr>\n",
       "    <tr>\n",
       "      <th>3</th>\n",
       "      <td>Ecuador</td>\n",
       "      <td>2003</td>\n",
       "      <td>alcohol</td>\n",
       "      <td>Total alcohol per capita consumption in adults...</td>\n",
       "      <td>-4.00</td>\n",
       "      <td>DOC</td>\n",
       "      <td>0</td>\n",
       "    </tr>\n",
       "    <tr>\n",
       "      <th>4</th>\n",
       "      <td>Ecuador</td>\n",
       "      <td>2003</td>\n",
       "      <td>alcohol</td>\n",
       "      <td>Total alcohol per capita consumption in adults...</td>\n",
       "      <td>-4.00</td>\n",
       "      <td>DOE</td>\n",
       "      <td>0</td>\n",
       "    </tr>\n",
       "    <tr>\n",
       "      <th>...</th>\n",
       "      <td>...</td>\n",
       "      <td>...</td>\n",
       "      <td>...</td>\n",
       "      <td>...</td>\n",
       "      <td>...</td>\n",
       "      <td>...</td>\n",
       "      <td>...</td>\n",
       "    </tr>\n",
       "    <tr>\n",
       "      <th>10332</th>\n",
       "      <td>Yemen</td>\n",
       "      <td>2020</td>\n",
       "      <td>u5mr</td>\n",
       "      <td>Under-five mortality rate</td>\n",
       "      <td>-5.95</td>\n",
       "      <td>PC</td>\n",
       "      <td>0</td>\n",
       "    </tr>\n",
       "    <tr>\n",
       "      <th>10333</th>\n",
       "      <td>Yemen</td>\n",
       "      <td>2020</td>\n",
       "      <td>u5mr</td>\n",
       "      <td>Under-five mortality rate</td>\n",
       "      <td>-5.95</td>\n",
       "      <td>STATE</td>\n",
       "      <td>82848136</td>\n",
       "    </tr>\n",
       "    <tr>\n",
       "      <th>10334</th>\n",
       "      <td>Yemen</td>\n",
       "      <td>2020</td>\n",
       "      <td>u5mr</td>\n",
       "      <td>Under-five mortality rate</td>\n",
       "      <td>-5.95</td>\n",
       "      <td>TDA</td>\n",
       "      <td>0</td>\n",
       "    </tr>\n",
       "    <tr>\n",
       "      <th>10335</th>\n",
       "      <td>Yemen</td>\n",
       "      <td>2020</td>\n",
       "      <td>u5mr</td>\n",
       "      <td>Under-five mortality rate</td>\n",
       "      <td>-5.95</td>\n",
       "      <td>TREAS</td>\n",
       "      <td>0</td>\n",
       "    </tr>\n",
       "    <tr>\n",
       "      <th>10336</th>\n",
       "      <td>Yemen</td>\n",
       "      <td>2020</td>\n",
       "      <td>u5mr</td>\n",
       "      <td>Under-five mortality rate</td>\n",
       "      <td>-5.95</td>\n",
       "      <td>USAID</td>\n",
       "      <td>248473546</td>\n",
       "    </tr>\n",
       "  </tbody>\n",
       "</table>\n",
       "<p>10337 rows × 7 columns</p>\n",
       "</div>"
      ],
      "text/plain": [
       "       setting  Previous year indicator_abbr  \\\n",
       "0      Ecuador           2003        alcohol   \n",
       "1      Ecuador           2003        alcohol   \n",
       "2      Ecuador           2003        alcohol   \n",
       "3      Ecuador           2003        alcohol   \n",
       "4      Ecuador           2003        alcohol   \n",
       "...        ...            ...            ...   \n",
       "10332    Yemen           2020           u5mr   \n",
       "10333    Yemen           2020           u5mr   \n",
       "10334    Yemen           2020           u5mr   \n",
       "10335    Yemen           2020           u5mr   \n",
       "10336    Yemen           2020           u5mr   \n",
       "\n",
       "                                          indicator_name  Avg estimate  \\\n",
       "0      Total alcohol per capita consumption in adults...         -4.00   \n",
       "1      Total alcohol per capita consumption in adults...         -4.00   \n",
       "2      Total alcohol per capita consumption in adults...         -4.00   \n",
       "3      Total alcohol per capita consumption in adults...         -4.00   \n",
       "4      Total alcohol per capita consumption in adults...         -4.00   \n",
       "...                                                  ...           ...   \n",
       "10332                          Under-five mortality rate         -5.95   \n",
       "10333                          Under-five mortality rate         -5.95   \n",
       "10334                          Under-five mortality rate         -5.95   \n",
       "10335                          Under-five mortality rate         -5.95   \n",
       "10336                          Under-five mortality rate         -5.95   \n",
       "\n",
       "      Funding Agency Acronym  Constant Dollar Amount  \n",
       "0                        ADF                       0  \n",
       "1                        AGR                  717869  \n",
       "2                        DFC                       0  \n",
       "3                        DOC                       0  \n",
       "4                        DOE                       0  \n",
       "...                      ...                     ...  \n",
       "10332                     PC                       0  \n",
       "10333                  STATE                82848136  \n",
       "10334                    TDA                       0  \n",
       "10335                  TREAS                       0  \n",
       "10336                  USAID               248473546  \n",
       "\n",
       "[10337 rows x 7 columns]"
      ]
     },
     "execution_count": 20,
     "metadata": {},
     "output_type": "execute_result"
    }
   ],
   "source": [
    "final_dataset = pd.read_csv(os.path.join(\"..\",\"WHO_datasets\", \"final_dataset.csv\"))\n",
    "final_dataset"
   ]
  },
  {
   "cell_type": "markdown",
   "id": "77bb6c89",
   "metadata": {},
   "source": [
    "<div style=\"text-align: center;\">\n",
    "    <h2>Exploratory Data Analysis</h2>\n",
    "</div>\n",
    "\n",
    "\n",
    "### Visualizing Total Foreign Aid Given by Year"
   ]
  },
  {
   "cell_type": "markdown",
   "id": "d81601ee",
   "metadata": {},
   "source": [
    "First, we're going to quickly make another column for the purpose of scaling the data. Then, we're going to plot the amount of foreign aid received by country. This exploration will help us determine which of the countries chosen recieve the most aid. Make sure to pay attention to the axis labels! "
   ]
  },
  {
   "cell_type": "code",
   "execution_count": 21,
   "id": "806c2621",
   "metadata": {},
   "outputs": [],
   "source": [
    "for country in countries:\n",
    "    country['Constant Dollar Amount ($1,000,000s)'] = country['Constant Dollar Amount']\n",
    "    country['Constant Dollar Amount ($1,000,000s)'] = country['Constant Dollar Amount ($1,000,000s)'].apply(lambda x: x / 1000000) # Scale by one million $\n",
    "    \n",
    "    country['Year Abv.'] = country['Fiscal Year']\n",
    "    country['Year Abv.'] = country['Year Abv.'].apply(lambda x: int(str(x)[2:])) # Get last two digits (ex. 2020 --> 20)"
   ]
  },
  {
   "cell_type": "code",
   "execution_count": 22,
   "id": "1dde13c9",
   "metadata": {},
   "outputs": [],
   "source": [
    "# Get the top 5 agencies by money spent \n",
    "\n",
    "country_by_fiscal_yr = []\n",
    "for i, country  in enumerate(countries): \n",
    "    # Groupby funding agency to get money spent per agency.\n",
    "    country_by_fiscal_yr.append(pd.DataFrame(country.groupby('Year Abv.')['Constant Dollar Amount ($1,000,000s)'].sum()))    \n",
    "    country_by_fiscal_yr[i].reset_index(inplace=True) # Reset index for plotting\n",
    "    \n",
    "# 0: Ethiopia\n",
    "# 1: Moldova\n",
    "# 2: Yemen\n",
    "# 3: Ecuador\n",
    "# 4: El Salvador\n",
    "# 5: Haiti\n"
   ]
  },
  {
   "cell_type": "code",
   "execution_count": 23,
   "id": "b74babd5",
   "metadata": {},
   "outputs": [
    {
     "data": {
      "text/plain": [
       "Text(0.5, 1.0, 'El Salvador')"
      ]
     },
     "execution_count": 23,
     "metadata": {},
     "output_type": "execute_result"
    },
    {
     "data": {
      "image/png": "[encoded data removed]",
      "text/plain": [
       "<Figure size 1500x500 with 3 Axes>"
      ]
     },
     "metadata": {},
     "output_type": "display_data"
    },
    {
     "data": {
      "image/png": "[encoded data removed]",
      "text/plain": [
       "<Figure size 1500x500 with 3 Axes>"
      ]
     },
     "metadata": {},
     "output_type": "display_data"
    }
   ],
   "source": [
    "fig1, axes1 = plt.subplots(1, 3, figsize=(15,5) , sharey= True)\n",
    "fig1.tight_layout(h_pad= 5)\n",
    "\n",
    "sns.barplot(country_by_fiscal_yr[0], x= 'Year Abv.', y= 'Constant Dollar Amount ($1,000,000s)', ax= axes1[0], width= 1, errorbar= None).set_title('Ethiopia')\n",
    "sns.barplot(country_by_fiscal_yr[5], x= 'Year Abv.', y= 'Constant Dollar Amount ($1,000,000s)', ax= axes1[1], width= 1, errorbar= None).set_title('Haiti')\n",
    "sns.barplot(country_by_fiscal_yr[2], x= 'Year Abv.', y= 'Constant Dollar Amount ($1,000,000s)', ax= axes1[2], width= 1, errorbar= None).set_title('Yemen')\n",
    "\n",
    "\n",
    "fig2, axes2 = plt.subplots(1, 3, figsize=(15,5) , sharey= True)\n",
    "fig2.tight_layout(h_pad= 5)\n",
    "\n",
    "sns.barplot(country_by_fiscal_yr[1], x= 'Year Abv.', y= 'Constant Dollar Amount ($1,000,000s)', ax= axes2[0], width= 1, errorbar= None).set_title('Moldova')\n",
    "sns.barplot(country_by_fiscal_yr[3], x= 'Year Abv.', y= 'Constant Dollar Amount ($1,000,000s)', ax= axes2[1], width= 1, errorbar= None).set_title('Ecuador')\n",
    "sns.barplot(country_by_fiscal_yr[4], x= 'Year Abv.', y= 'Constant Dollar Amount ($1,000,000s)', ax= axes2[2], width= 1, errorbar= None).set_title('El Salvador')\n"
   ]
  },
  {
   "cell_type": "markdown",
   "id": "30c50fc9",
   "metadata": {},
   "source": [
    "Graph 1: Constant Dollar Amount in $1,000,000 of Foreign Aid by Fiscal Year. The countries are separated in groups of 3 for scale purposes.\n",
    "\n",
    "#### Analysis of Foreign Aid Amounts\n",
    "The countries chosen represent two distinct groups. One group that receives a vary large amount of foreign aid and one that receives less, but still a significant amount of aid. There is a noticable upward trend in Ethiopia and a peak in Haiti around 2010. The upward trend in Ethiopia is most likely due to a combination of drought, famine, civil unrest, and a civil war. Similarly, Yemen receives the a large amount of US aid in recent years due to the ourbreak of the Yemeni Civil War in late 2014, demarking the upward trend."
   ]
  },
  {
   "cell_type": "markdown",
   "id": "4364b839",
   "metadata": {},
   "source": [
    "### Visualizing Foreign Aid by Agency\n",
    "Next, let's examine which agencies give the most aid. This will allow us to determine which category, health or economic, the country receives the most aid in. "
   ]
  },
  {
   "cell_type": "code",
   "execution_count": 24,
   "id": "46aaa3c4",
   "metadata": {},
   "outputs": [],
   "source": [
    "# Get the top 5 agencies by money spent \n",
    "\n",
    "country_by_funding_agency = []\n",
    "for i, country  in enumerate(countries):\n",
    "    # Groupby funding agency to get money spent per agency.\n",
    "    country_by_funding_agency.append(pd.DataFrame(country.groupby('Funding Agency Acronym')['Constant Dollar Amount ($1,000,000s)'].sum()))\n",
    "    country_by_funding_agency[i].reset_index(inplace=True) # Reset index for plotting\n",
    "    \n",
    "    # Sort and locate the top 3 agencies by money spent\n",
    "    country_by_funding_agency[i] = country_by_funding_agency[i].sort_values(ascending= False, by= 'Constant Dollar Amount ($1,000,000s)')\n",
    "    country_by_funding_agency[i] = country_by_funding_agency[i].iloc[0:3] "
   ]
  },
  {
   "cell_type": "code",
   "execution_count": 25,
   "id": "bdd44992",
   "metadata": {},
   "outputs": [
    {
     "data": {
      "text/plain": [
       "Text(0.5, 1.0, 'El Salvador')"
      ]
     },
     "execution_count": 25,
     "metadata": {},
     "output_type": "execute_result"
    },
    {
     "data": {
      "image/png": "[encoded data removed]",
      "text/plain": [
       "<Figure size 1500x500 with 3 Axes>"
      ]
     },
     "metadata": {},
     "output_type": "display_data"
    },
    {
     "data": {
      "image/png": "[encoded data removed]",
      "text/plain": [
       "<Figure size 1500x500 with 3 Axes>"
      ]
     },
     "metadata": {},
     "output_type": "display_data"
    }
   ],
   "source": [
    "# Plotting the top 3 agencies by money spent\n",
    "fig, axes = plt.subplots(1, 3, figsize=(15,5), sharey= True)\n",
    "\n",
    "\n",
    "sns.barplot(data= country_by_funding_agency[0] , x= 'Funding Agency Acronym', y= 'Constant Dollar Amount ($1,000,000s)', hue= 'Funding Agency Acronym' , ax= axes[0]).set_title('Ethiopia')\n",
    "sns.barplot(data= country_by_funding_agency[5] , x= 'Funding Agency Acronym', y= 'Constant Dollar Amount ($1,000,000s)', hue= 'Funding Agency Acronym' , ax= axes[1]).set_title('Haiti')\n",
    "sns.barplot(data= country_by_funding_agency[2] , x= 'Funding Agency Acronym', y= 'Constant Dollar Amount ($1,000,000s)', hue= 'Funding Agency Acronym' , ax= axes[2]).set_title('Yemen')\n",
    "\n",
    "\n",
    "fig1, axes1 = plt.subplots(1, 3, figsize=(15,5), sharey= True)\n",
    "sns.barplot(data= country_by_funding_agency[1] , x= 'Funding Agency Acronym', y= 'Constant Dollar Amount ($1,000,000s)', hue= 'Funding Agency Acronym' ,ax= axes1[0]).set_title('Moldova')\n",
    "sns.barplot(data= country_by_funding_agency[3] , x= 'Funding Agency Acronym', y= 'Constant Dollar Amount ($1,000,000s)', hue= 'Funding Agency Acronym' ,ax= axes1[1]).set_title('Ecuador')\n",
    "sns.barplot(data= country_by_funding_agency[4] , x= 'Funding Agency Acronym', y= 'Constant Dollar Amount ($1,000,000s)', hue= 'Funding Agency Acronym' ,ax= axes1[2]).set_title('El Salvador')\n"
   ]
  },
  {
   "cell_type": "markdown",
   "id": "3578c5f1",
   "metadata": {},
   "source": [
    "Graph 2: Constant Dollar Amount in millions vs Funding Agency. The countries are separated in groups of 3 for scale purposes.\n",
    "#### Analysis of Aid per Agency\n",
    "We see four main aid agencies:\n",
    "* USAID: US Agency for International Development \n",
    "* AGR: Department of Agriculture\n",
    "* STATE: Department of State\n",
    "* MCC: Millenium Challenge Corporation (for more info: see https://www.mcc.gov/)\n",
    "\n",
    "See appendix for more information\n"
   ]
  },
  {
   "cell_type": "markdown",
   "id": "9354b488",
   "metadata": {},
   "source": [
    "## GW13 EDA\n",
    "To highlight and explore the GW13 dataset, we are going to show how the five indicators change over time for Ecuador.\n",
    "\n"
   ]
  },
  {
   "cell_type": "code",
   "execution_count": 26,
   "id": "ed74beb5",
   "metadata": {},
   "outputs": [
    {
     "data": {
      "text/plain": [
       "Text(0.5, 1.0, 'Under Five Mortality Rate')"
      ]
     },
     "execution_count": 26,
     "metadata": {},
     "output_type": "execute_result"
    },
    {
     "data": {
      "image/png": "[encoded data removed]",
      "text/plain": [
       "<Figure size 1500x800 with 5 Axes>"
      ]
     },
     "metadata": {},
     "output_type": "display_data"
    }
   ],
   "source": [
    "alc_dataset = final_dataset[final_dataset[\"indicator_abbr\"] == \"alcohol\"]\n",
    "alc_dataset = alc_dataset[alc_dataset[\"setting\"] == \"Ecuador\"]\n",
    "\n",
    "hh_dataset = final_dataset[final_dataset[\"indicator_abbr\"] == \"hh\"]\n",
    "hh_dataset = hh_dataset[hh_dataset[\"setting\"] == \"Ecuador\"]\n",
    "\n",
    "life_dataset = final_dataset[final_dataset[\"indicator_abbr\"] == \"life\"]\n",
    "life_dataset = life_dataset[life_dataset[\"setting\"] == \"Ecuador\"]\n",
    "\n",
    "obesity_dataset = final_dataset[final_dataset[\"indicator_abbr\"] == \"obesitya\"]\n",
    "obesity_dataset = obesity_dataset[obesity_dataset[\"setting\"] == \"Ecuador\"]\n",
    "\n",
    "U5_dataset = final_dataset[final_dataset[\"indicator_abbr\"] == \"u5mr\"]\n",
    "U5_dataset = U5_dataset[U5_dataset[\"setting\"] == \"Ecuador\"]\n",
    "\n",
    "\n",
    "fig3, axes3 = plt.subplots(1, 5, figsize=(15,8), sharey= False)\n",
    "fig3.tight_layout()\n",
    "    \n",
    "sns.lineplot(data= alc_dataset, x = \"Previous year\", y= \"Avg estimate\", ax=axes3[0]).set_title('Alcohol Consumption by liters weekly')\n",
    "sns.lineplot(data= hh_dataset, x = \"Previous year\", y= \"Avg estimate\", ax=axes3[1]).set_title('Access to Clean Drinking Water')\n",
    "sns.lineplot(data= life_dataset, x = \"Previous year\", y= \"Avg estimate\", ax=axes3[2]).set_title('Life Expectancy')\n",
    "sns.lineplot(data= obesity_dataset, x = \"Previous year\", y= \"Avg estimate\", ax=axes3[3]).set_title('Obesity Rate')\n",
    "sns.lineplot(data= U5_dataset, x = \"Previous year\", y= \"Avg estimate\", ax=axes3[4]).set_title('Under Five Mortality Rate')"
   ]
  },
  {
   "cell_type": "markdown",
   "id": "5d7d077e",
   "metadata": {},
   "source": [
    "Graph 3: Average estimate of each indicator versus the year. Differentiated by indicator. "
   ]
  },
  {
   "cell_type": "markdown",
   "id": "d6d27868",
   "metadata": {},
   "source": [
    "Since the early 2000s, all indicators except for obesity have increased since the early 2000s, meaning that based on these indicators, Ecuador's overall health should be increasing. Next, we are going to look at the life expectancy for all our countries over time."
   ]
  },
  {
   "cell_type": "code",
   "execution_count": 27,
   "id": "b882b961",
   "metadata": {},
   "outputs": [
    {
     "data": {
      "text/plain": [
       "Text(0.5, 1.0, 'Life Expectancy by Country')"
      ]
     },
     "execution_count": 27,
     "metadata": {},
     "output_type": "execute_result"
    },
    {
     "data": {
      "image/png": "[encoded data removed]",
      "text/plain": [
       "<Figure size 1000x600 with 1 Axes>"
      ]
     },
     "metadata": {},
     "output_type": "display_data"
    }
   ],
   "source": [
    "life_df = final_dataset[final_dataset[\"indicator_abbr\"] == \"life\"]\n",
    "\n",
    "fig4, ax4 = plt.subplots(figsize=(10,6))\n",
    "plt.xlabel('xlabel', fontsize=18)\n",
    "plt.ylabel('ylabel', fontsize=16)\n",
    "\n",
    "ax4.set_xlabel('Year', fontsize=16)\n",
    "ax4.set_ylabel('Life Expectancy (in years)', fontsize=12)\n",
    "\n",
    "sns.scatterplot(data= life_df, x = \"Previous year\", y= \"Avg estimate\", hue=\"setting\", ax=ax4).set_title('Life Expectancy by Country')"
   ]
  },
  {
   "cell_type": "markdown",
   "id": "f97e4b7e",
   "metadata": {},
   "source": [
    "Graph 4: Life Expectancy versus year. Points colored by country."
   ]
  },
  {
   "cell_type": "markdown",
   "id": "bb095114",
   "metadata": {},
   "source": [
    "Generally, life expectancies have increased over time, with an outlier point in Haiti, which comes from the devastating earthquake in 2010, estimated to kill between 100k-300k people which brings the average life expectancy very significantly."
   ]
  },
  {
   "cell_type": "markdown",
   "id": "7d915211",
   "metadata": {},
   "source": [
    "___"
   ]
  },
  {
   "cell_type": "markdown",
   "id": "8cc78e79",
   "metadata": {},
   "source": [
    "<div style=\"text-align: center;\">\n",
    "    <h2>Modeling and Analysis</h2>\n",
    "</div>\n"
   ]
  },
  {
   "cell_type": "markdown",
   "id": "13e2a2ac",
   "metadata": {},
   "source": [
    "Now that we have collected, cleaned, transformed, and explored the data it is time to answer some of the questions which we set out to answer.\n",
    "\n",
    "Those questions are:\n",
    "* Does a \\$1 marginal dollar given to one agency increase health indicators more or less than different agency?\n",
    "* Since US agencies have budgets set by Congress, how can they better utilize a limited budget with the maximum impact?\n",
    "\n",
    "To answer these questions, we are going to turn to machine learning to learn our data and predict new values based on our data. We are going to use a simple linear regression to fit our model. We are working under the assumption that increased aid leads to general heath improvement. It is for this reason that we chose a simple linear regression as our predictor of choice. \n",
    "\n",
    "We opt to separate the indicators into their own models based on previous conclusions and under the assumption that the chosen indicators have no predictive value on each other. "
   ]
  },
  {
   "cell_type": "code",
   "execution_count": 28,
   "id": "18eae5a2",
   "metadata": {},
   "outputs": [],
   "source": [
    "# IMPORTS for model\n",
    "import sklearn\n",
    "import sklearn.datasets\n",
    "assert sklearn.__version__ >= \"0.20\"\n",
    "\n",
    "from sklearn.model_selection import train_test_split\n",
    "from sklearn.linear_model import LinearRegression\n",
    "from sklearn.metrics import mean_squared_error\n",
    "from sklearn.metrics import mean_absolute_error\n",
    "from sklearn.pipeline import Pipeline\n",
    "from sklearn.preprocessing import StandardScaler\n",
    "from sklearn.linear_model import LogisticRegression"
   ]
  },
  {
   "cell_type": "markdown",
   "id": "37b35af5",
   "metadata": {},
   "source": [
    "First, we're going to get the X and y data for the model. This will consist of the country('setting), the year before, which corresponds to the constant dollar amount, the indicator name in question, the agency who is funding the aid, and the amount they are contributing each year. Our predictor value will be the average estimate gathered from the GW13 dataset."
   ]
  },
  {
   "cell_type": "code",
   "execution_count": 29,
   "id": "4138cd6b",
   "metadata": {},
   "outputs": [
    {
     "data": {
      "text/plain": [
       "array(['Total alcohol per capita consumption in adults aged 15+ (litres of pure alcohol)',\n",
       "       'Population using safely managed drinking water services (%)',\n",
       "       'Life Expectancy', 'Obesity prevalence among adults (%)',\n",
       "       'Under-five mortality rate'], dtype=object)"
      ]
     },
     "execution_count": 29,
     "metadata": {},
     "output_type": "execute_result"
    }
   ],
   "source": [
    "final_dataset['indicator_name'].unique()"
   ]
  },
  {
   "cell_type": "markdown",
   "id": "cb3079ec",
   "metadata": {},
   "source": [
    "### Under-Five Mortality"
   ]
  },
  {
   "cell_type": "code",
   "execution_count": 30,
   "id": "77de4434",
   "metadata": {},
   "outputs": [],
   "source": [
    "model_df_under5 = final_dataset[final_dataset['indicator_name'] == 'Under-five mortality rate']"
   ]
  },
  {
   "cell_type": "code",
   "execution_count": 31,
   "id": "f4615745",
   "metadata": {},
   "outputs": [],
   "source": [
    "\n",
    "X_under5 = model_df_under5[['setting' ,'Previous year', 'indicator_name', 'Funding Agency Acronym', 'Constant Dollar Amount']]\n",
    "\n",
    "X_under5 = pd.get_dummies(X_under5)\n",
    "\n",
    "y_under5 = model_df_under5[['Avg estimate']]"
   ]
  },
  {
   "cell_type": "markdown",
   "id": "352888cd",
   "metadata": {},
   "source": [
    "Next, we're going to create the train, validation, and test sets. After that, we're going to fit and predict our model on the final test set. Previous adjustments to the code were done on the validation sets. "
   ]
  },
  {
   "cell_type": "code",
   "execution_count": 32,
   "id": "a7125e36",
   "metadata": {},
   "outputs": [
    {
     "name": "stdout",
     "output_type": "stream",
     "text": [
      "R-squared value:  0.7903251858464739\n",
      "Model MAE:  0.7939630674179491\n"
     ]
    }
   ],
   "source": [
    "X_train_full_5, X_test_5, y_train_full_5, y_test_5 = train_test_split(X_under5, y_under5, test_size=0.2, random_state=0) \n",
    "#X_train, X_val, y_train, y_val = train_test_split(X_train_full, y_train_full, test_size=0.25, random_state=0)\n",
    "\n",
    "model_under5 = LinearRegression()\n",
    "model_under5.fit(X_train_full_5, y_train_full_5)\n",
    "\n",
    "predicts_under5 = model_under5.predict(X_test_5)\n",
    "\n",
    "mae_5 = mean_absolute_error(predicts_under5, y_test_5)\n",
    "r_squared_5  = model_under5.score(X_test_5 , y_test_5 )\n",
    "print('R-squared value: ', r_squared_5 )\n",
    "print('Model MAE: ', mae_5)"
   ]
  },
  {
   "cell_type": "markdown",
   "id": "1e3a1a9a",
   "metadata": {},
   "source": [
    "Since the estimate is measured in terms of %, we can see from our MAE that for our under 5 mortality model is on average 0.8% off from the actual estimate."
   ]
  },
  {
   "cell_type": "markdown",
   "id": "bfa53c8e",
   "metadata": {},
   "source": [
    "#### Analyzing our Coefficients"
   ]
  },
  {
   "cell_type": "code",
   "execution_count": 33,
   "id": "145be632",
   "metadata": {},
   "outputs": [
    {
     "name": "stdout",
     "output_type": "stream",
     "text": [
      "model intercept: [-334.99343318]\n"
     ]
    },
    {
     "data": {
      "text/plain": [
       "Funding Agency Acronym_ADF     -0.054791\n",
       "Funding Agency Acronym_AGR      0.236369\n",
       "Funding Agency Acronym_DFC     -0.131322\n",
       "Funding Agency Acronym_DOC      0.046639\n",
       "Funding Agency Acronym_DOE     -0.073089\n",
       "Funding Agency Acronym_DOL     -0.095695\n",
       "Funding Agency Acronym_DOT     -0.070006\n",
       "Funding Agency Acronym_EPA     -0.096783\n",
       "Funding Agency Acronym_FTC      0.012000\n",
       "Funding Agency Acronym_HHS     -0.028213\n",
       "Funding Agency Acronym_IAF      0.060164\n",
       "Funding Agency Acronym_LIC     -0.074186\n",
       "Funding Agency Acronym_MCC      0.053703\n",
       "Funding Agency Acronym_NSF     -0.053509\n",
       "Funding Agency Acronym_PC       0.111324\n",
       "Funding Agency Acronym_STATE    0.154022\n",
       "Funding Agency Acronym_TDA     -0.059771\n",
       "Funding Agency Acronym_TREAS   -0.038698\n",
       "Funding Agency Acronym_USAID    0.101842\n",
       "Name: 0, dtype: float64"
      ]
     },
     "execution_count": 33,
     "metadata": {},
     "output_type": "execute_result"
    }
   ],
   "source": [
    "print('model intercept:', model_under5.intercept_)\n",
    "coef = model_under5.coef_\n",
    "coef_series = pd.DataFrame(coef, columns= X_under5.columns).iloc[0]\n",
    "\n",
    "coef_series[9:]"
   ]
  },
  {
   "cell_type": "markdown",
   "id": "df27f0e8",
   "metadata": {},
   "source": [
    "Each coefficient (Beta) represents the difference in the predicted value of y (the average estimate of under 5 mortality) for each unit difference in the corresponding feature, if the other features stay constant. In essence, this means that if X increases or decreases by one unit, the average estimate of under 5 mortality will change by beta units. \n"
   ]
  },
  {
   "cell_type": "markdown",
   "id": "7d276470",
   "metadata": {},
   "source": [
    "**Most impactful agency** "
   ]
  },
  {
   "cell_type": "code",
   "execution_count": 34,
   "id": "94301f0c",
   "metadata": {},
   "outputs": [
    {
     "data": {
      "text/plain": [
       "'Funding Agency Acronym_AGR'"
      ]
     },
     "execution_count": 34,
     "metadata": {},
     "output_type": "execute_result"
    }
   ],
   "source": [
    "coef_series.loc[coef_series.index[9:]].idxmax()"
   ]
  },
  {
   "cell_type": "markdown",
   "id": "61262fcb",
   "metadata": {},
   "source": [
    "___"
   ]
  },
  {
   "cell_type": "markdown",
   "id": "4cb32b02",
   "metadata": {},
   "source": [
    "### Total alcohol per capita consumption in adults aged 15+ (litres of pure alcohol)"
   ]
  },
  {
   "cell_type": "code",
   "execution_count": 35,
   "id": "bab645ae",
   "metadata": {},
   "outputs": [],
   "source": [
    "model_df_alc = final_dataset[final_dataset['indicator_name'] == 'Total alcohol per capita consumption in adults aged 15+ (litres of pure alcohol)']"
   ]
  },
  {
   "cell_type": "code",
   "execution_count": 36,
   "id": "9be016b5",
   "metadata": {},
   "outputs": [],
   "source": [
    "X_alc = model_df_alc[['setting' ,'Previous year', 'indicator_name', 'Funding Agency Acronym', 'Constant Dollar Amount']]\n",
    "\n",
    "X_alc = pd.get_dummies(X_alc)\n",
    "\n",
    "y_alc = model_df_alc[['Avg estimate']]"
   ]
  },
  {
   "cell_type": "markdown",
   "id": "9ee4ac3d",
   "metadata": {},
   "source": [
    "Next, we're going to create the train, validation, and test sets. After that, we're going to fit and predict our model on the final test set. Previous adjustments to the code were done on the validation sets. "
   ]
  },
  {
   "cell_type": "code",
   "execution_count": 37,
   "id": "96bcb92f",
   "metadata": {},
   "outputs": [
    {
     "name": "stdout",
     "output_type": "stream",
     "text": [
      "R-squared value:  0.8469852802786237\n",
      "Model MAE:  0.7150067905134573\n"
     ]
    }
   ],
   "source": [
    "X_train_full_alc, X_test_alc, y_train_full_alc, y_test_alc = train_test_split(X_alc, y_alc, test_size=0.2, random_state=0) \n",
    "\n",
    "model_alc = LinearRegression()\n",
    "model_alc.fit(X_train_full_alc, y_train_full_alc)\n",
    "\n",
    "predicts_alc = model_alc.predict(X_test_alc)\n",
    "\n",
    "mae_alc = mean_absolute_error(predicts_alc, y_test_alc)\n",
    "r_squared_alc  = model_alc.score(X_test_alc , y_test_alc )\n",
    "print('R-squared value: ', r_squared_alc )\n",
    "\n",
    "print('Model MAE: ', mae_alc)"
   ]
  },
  {
   "cell_type": "markdown",
   "id": "4a90bd1b",
   "metadata": {},
   "source": [
    "Since the estimate is measured in terms of liter, we can see from our MAE that for our alcohol consumption model is on average 0.7 liters/week off from the actual estimate."
   ]
  },
  {
   "cell_type": "markdown",
   "id": "61cff4b5",
   "metadata": {},
   "source": [
    "#### Analyzing our Coefficients"
   ]
  },
  {
   "cell_type": "code",
   "execution_count": 38,
   "id": "74749c3d",
   "metadata": {
    "scrolled": true
   },
   "outputs": [
    {
     "name": "stdout",
     "output_type": "stream",
     "text": [
      "model intercept: [-98.99754148]\n"
     ]
    },
    {
     "data": {
      "text/plain": [
       "Funding Agency Acronym_ADF     -0.139566\n",
       "Funding Agency Acronym_AGR      0.039903\n",
       "Funding Agency Acronym_DFC      0.047342\n",
       "Funding Agency Acronym_DOC      0.044578\n",
       "Funding Agency Acronym_DOE     -0.128638\n",
       "Funding Agency Acronym_DOL      0.029335\n",
       "Funding Agency Acronym_DOT      0.060120\n",
       "Funding Agency Acronym_EPA     -0.041348\n",
       "Funding Agency Acronym_FTC      0.047553\n",
       "Funding Agency Acronym_HHS     -0.166892\n",
       "Funding Agency Acronym_IAF      0.015767\n",
       "Funding Agency Acronym_LIC      0.114250\n",
       "Funding Agency Acronym_MCC      0.085641\n",
       "Funding Agency Acronym_NSF     -0.122542\n",
       "Funding Agency Acronym_PC       0.003367\n",
       "Funding Agency Acronym_STATE    0.098357\n",
       "Funding Agency Acronym_TDA     -0.032193\n",
       "Funding Agency Acronym_TREAS    0.005792\n",
       "Funding Agency Acronym_USAID    0.039176\n",
       "Name: 0, dtype: float64"
      ]
     },
     "execution_count": 38,
     "metadata": {},
     "output_type": "execute_result"
    }
   ],
   "source": [
    "print('model intercept:', model_alc.intercept_)\n",
    "coef_alc = model_alc.coef_\n",
    "coef_series_alc = pd.DataFrame(coef_alc, columns= X_alc.columns).iloc[0]\n",
    "\n",
    "coef_series_alc[9:]"
   ]
  },
  {
   "cell_type": "markdown",
   "id": "7d784f02",
   "metadata": {},
   "source": [
    "**Most impactful agency** "
   ]
  },
  {
   "cell_type": "code",
   "execution_count": 39,
   "id": "905db5bd",
   "metadata": {},
   "outputs": [
    {
     "data": {
      "text/plain": [
       "'Funding Agency Acronym_LIC'"
      ]
     },
     "execution_count": 39,
     "metadata": {},
     "output_type": "execute_result"
    }
   ],
   "source": [
    "coef_series_alc.loc[coef_series_alc.index[9:]].idxmax()"
   ]
  },
  {
   "cell_type": "markdown",
   "id": "25eafed7",
   "metadata": {},
   "source": [
    "___"
   ]
  },
  {
   "cell_type": "markdown",
   "id": "4d39b920",
   "metadata": {},
   "source": [
    "### Life Expectancy"
   ]
  },
  {
   "cell_type": "code",
   "execution_count": 40,
   "id": "83f44b2b",
   "metadata": {},
   "outputs": [],
   "source": [
    "model_df_life = final_dataset[final_dataset['indicator_name'] == 'Life Expectancy']"
   ]
  },
  {
   "cell_type": "code",
   "execution_count": 41,
   "id": "72f18da9",
   "metadata": {},
   "outputs": [],
   "source": [
    "\n",
    "X_life = model_df_life[['setting' ,'Previous year', 'indicator_name', 'Funding Agency Acronym', 'Constant Dollar Amount']]\n",
    "\n",
    "X_life = pd.get_dummies(X_life)\n",
    "\n",
    "y_life = model_df_life[['Avg estimate']]"
   ]
  },
  {
   "cell_type": "markdown",
   "id": "0e2cc28a",
   "metadata": {},
   "source": [
    "Next, we're going to create the train, validation, and test sets. After that, we're going to fit and predict our model on the final test set. Previous adjustments to the code were done on the validation sets. "
   ]
  },
  {
   "cell_type": "code",
   "execution_count": 42,
   "id": "5644d7ed",
   "metadata": {},
   "outputs": [
    {
     "name": "stdout",
     "output_type": "stream",
     "text": [
      "R-squared value:  0.8011108446414228\n",
      "Model MAE:  1.4176280750898032\n"
     ]
    }
   ],
   "source": [
    "X_train_full_life, X_test_life, y_train_full_life, y_test_life = train_test_split(X_life, y_life, test_size=0.2, random_state=0) \n",
    "\n",
    "model_life = LinearRegression()\n",
    "model_life.fit(X_train_full_life, y_train_full_life)\n",
    "\n",
    "predicts_life = model_life.predict(X_test_life)\n",
    "\n",
    "mae_life = mean_absolute_error(predicts_life, y_test_life)\n",
    "r_squared_life = model_life.score(X_test_life, y_test_life)\n",
    "print('R-squared value: ', r_squared_life)\n",
    "\n",
    "print('Model MAE: ', mae_life)"
   ]
  },
  {
   "cell_type": "markdown",
   "id": "c51b39a1",
   "metadata": {},
   "source": [
    "Since the estimate is measured in terms of years, we can see from our MAE that for our life expectancy model is on average 1.4 years off from the actual estimate."
   ]
  },
  {
   "cell_type": "markdown",
   "id": "b1f2aa16",
   "metadata": {},
   "source": [
    "#### Analyzing our Coefficients"
   ]
  },
  {
   "cell_type": "code",
   "execution_count": 43,
   "id": "e48ae96a",
   "metadata": {
    "scrolled": true
   },
   "outputs": [
    {
     "name": "stdout",
     "output_type": "stream",
     "text": [
      "model intercept: [21715.70476767]\n"
     ]
    },
    {
     "data": {
      "text/plain": [
       "Funding Agency Acronym_ADF      2852.754682\n",
       "Funding Agency Acronym_AGR      2852.471314\n",
       "Funding Agency Acronym_DFC      2852.574361\n",
       "Funding Agency Acronym_DOC      2852.488663\n",
       "Funding Agency Acronym_DOE      2852.626195\n",
       "Funding Agency Acronym_DOL      2852.913651\n",
       "Funding Agency Acronym_DOT      2852.419819\n",
       "Funding Agency Acronym_EPA      2852.835268\n",
       "Funding Agency Acronym_FTC      2852.541626\n",
       "Funding Agency Acronym_HHS      2852.480125\n",
       "Funding Agency Acronym_IAF      2852.443298\n",
       "Funding Agency Acronym_LIC      2852.390947\n",
       "Funding Agency Acronym_MCC      2852.415794\n",
       "Funding Agency Acronym_NSF      2852.458384\n",
       "Funding Agency Acronym_PC       2852.545699\n",
       "Funding Agency Acronym_STATE    2852.365797\n",
       "Funding Agency Acronym_TDA      2852.411273\n",
       "Funding Agency Acronym_TREAS    2852.500019\n",
       "Funding Agency Acronym_USAID    2852.488978\n",
       "Name: 0, dtype: float64"
      ]
     },
     "execution_count": 43,
     "metadata": {},
     "output_type": "execute_result"
    }
   ],
   "source": [
    "print('model intercept:', model_life.intercept_)\n",
    "coef_life = model_life.coef_\n",
    "coef_series_life = pd.DataFrame(coef_life, columns= X_life.columns).iloc[0]\n",
    "\n",
    "coef_series_life[9:]"
   ]
  },
  {
   "cell_type": "markdown",
   "id": "bb77db8e",
   "metadata": {},
   "source": [
    "**Most impactful agency** "
   ]
  },
  {
   "cell_type": "code",
   "execution_count": 44,
   "id": "f04cb6fb",
   "metadata": {},
   "outputs": [
    {
     "data": {
      "text/plain": [
       "'Funding Agency Acronym_DOL'"
      ]
     },
     "execution_count": 44,
     "metadata": {},
     "output_type": "execute_result"
    }
   ],
   "source": [
    "coef_series_life.loc[coef_series_life.index[9:]].idxmax()"
   ]
  },
  {
   "cell_type": "markdown",
   "id": "abc5edc2",
   "metadata": {},
   "source": [
    "___"
   ]
  },
  {
   "cell_type": "markdown",
   "id": "7abd4aa6",
   "metadata": {},
   "source": [
    "### Obesity prevalence among adults "
   ]
  },
  {
   "cell_type": "code",
   "execution_count": 45,
   "id": "44aade96",
   "metadata": {},
   "outputs": [],
   "source": [
    "model_df_obesity = final_dataset[final_dataset['indicator_name'] == 'Obesity prevalence among adults (%)']"
   ]
  },
  {
   "cell_type": "code",
   "execution_count": 46,
   "id": "1ba66a49",
   "metadata": {},
   "outputs": [],
   "source": [
    "\n",
    "X_obesity = model_df_obesity[['setting' ,'Previous year', 'indicator_name', 'Funding Agency Acronym', 'Constant Dollar Amount']]\n",
    "\n",
    "X_obesity = pd.get_dummies(X_obesity)\n",
    "\n",
    "y_obesity = model_df_obesity[['Avg estimate']]"
   ]
  },
  {
   "cell_type": "markdown",
   "id": "f559cc12",
   "metadata": {},
   "source": [
    "Next, we're going to create the train, validation, and test sets. After that, we're going to fit and predict our model on the final test set. Previous adjustments to the code were done on the validation sets. "
   ]
  },
  {
   "cell_type": "code",
   "execution_count": 47,
   "id": "767f0a7d",
   "metadata": {},
   "outputs": [
    {
     "name": "stdout",
     "output_type": "stream",
     "text": [
      "R-squared value:  0.978766769693189\n",
      "Model MAE:  0.6402113938263317\n"
     ]
    }
   ],
   "source": [
    "X_train_full_obesity , X_test_obesity , y_train_full_obesity , y_test_obesity  = train_test_split(X_obesity, y_obesity, test_size=0.2, random_state=0) \n",
    "\n",
    "model_obesity = LinearRegression()\n",
    "model_obesity.fit(X_train_full_obesity, y_train_full_obesity)\n",
    "\n",
    "predicts_obesity = model_obesity.predict(X_test_obesity)\n",
    "\n",
    "mae_obesity = mean_absolute_error(predicts_obesity, y_test_obesity)\n",
    "r_squared_obesity = model_obesity.score(X_test_obesity, y_test_obesity)\n",
    "print('R-squared value: ', r_squared_obesity)\n",
    "print('Model MAE: ', mae_obesity)"
   ]
  },
  {
   "cell_type": "markdown",
   "id": "c9bafedf",
   "metadata": {},
   "source": [
    "Since the estimate is measured in terms of %, we can see from our MAE that our for obesity model is on average 0.64% off from the actual estimate."
   ]
  },
  {
   "cell_type": "markdown",
   "id": "65ec7909",
   "metadata": {},
   "source": [
    "#### Analyzing our Coefficients"
   ]
  },
  {
   "cell_type": "code",
   "execution_count": 48,
   "id": "12357bfd",
   "metadata": {
    "scrolled": true
   },
   "outputs": [
    {
     "name": "stdout",
     "output_type": "stream",
     "text": [
      "model intercept: [757.55612393]\n"
     ]
    },
    {
     "data": {
      "text/plain": [
       "Funding Agency Acronym_ADF     -0.007747\n",
       "Funding Agency Acronym_AGR      0.092102\n",
       "Funding Agency Acronym_DFC      0.034112\n",
       "Funding Agency Acronym_DOC     -0.013388\n",
       "Funding Agency Acronym_DOE     -0.027756\n",
       "Funding Agency Acronym_DOL      0.002047\n",
       "Funding Agency Acronym_DOT     -0.076675\n",
       "Funding Agency Acronym_EPA     -0.096046\n",
       "Funding Agency Acronym_FTC      0.016318\n",
       "Funding Agency Acronym_HHS     -0.000027\n",
       "Funding Agency Acronym_IAF     -0.017796\n",
       "Funding Agency Acronym_LIC     -0.032623\n",
       "Funding Agency Acronym_MCC      0.024782\n",
       "Funding Agency Acronym_NSF     -0.038777\n",
       "Funding Agency Acronym_PC       0.016032\n",
       "Funding Agency Acronym_STATE    0.085456\n",
       "Funding Agency Acronym_TDA     -0.072786\n",
       "Funding Agency Acronym_TREAS    0.044613\n",
       "Funding Agency Acronym_USAID    0.068160\n",
       "Name: 0, dtype: float64"
      ]
     },
     "execution_count": 48,
     "metadata": {},
     "output_type": "execute_result"
    }
   ],
   "source": [
    "print('model intercept:', model_obesity.intercept_)\n",
    "coef_obesity = model_obesity.coef_\n",
    "coef_series_obesity = pd.DataFrame(coef_obesity, columns= X_obesity.columns).iloc[0]\n",
    "\n",
    "coef_series_obesity[9:]"
   ]
  },
  {
   "cell_type": "markdown",
   "id": "0e92a6e6",
   "metadata": {},
   "source": [
    "**Most impactful agency** "
   ]
  },
  {
   "cell_type": "code",
   "execution_count": 49,
   "id": "006e6f91",
   "metadata": {
    "scrolled": true
   },
   "outputs": [
    {
     "data": {
      "text/plain": [
       "'Funding Agency Acronym_AGR'"
      ]
     },
     "execution_count": 49,
     "metadata": {},
     "output_type": "execute_result"
    }
   ],
   "source": [
    "coef_series_obesity.loc[coef_series_obesity.index[9:]].idxmax()"
   ]
  },
  {
   "cell_type": "markdown",
   "id": "79a73e6f",
   "metadata": {},
   "source": [
    "___"
   ]
  },
  {
   "cell_type": "markdown",
   "id": "918bbcc7",
   "metadata": {},
   "source": [
    "### Population using safely managed drinking water services (%)"
   ]
  },
  {
   "cell_type": "code",
   "execution_count": 50,
   "id": "6cc3b575",
   "metadata": {},
   "outputs": [],
   "source": [
    "model_df_water = final_dataset[final_dataset['indicator_name'] == 'Population using safely managed drinking water services (%)']"
   ]
  },
  {
   "cell_type": "code",
   "execution_count": 51,
   "id": "35fc6709",
   "metadata": {},
   "outputs": [],
   "source": [
    "\n",
    "X_water = model_df_water[['setting' ,'Previous year', 'indicator_name', 'Funding Agency Acronym', 'Constant Dollar Amount']]\n",
    "\n",
    "X_water = pd.get_dummies(X_water)\n",
    "\n",
    "y_water = model_df_water[['Avg estimate']]"
   ]
  },
  {
   "cell_type": "markdown",
   "id": "e1c48ad7",
   "metadata": {},
   "source": [
    "Next, we're going to create the train, validation, and test sets. After that, we're going to fit and predict our model on the final test set. Previous adjustments to the code were done on the validation sets. "
   ]
  },
  {
   "cell_type": "code",
   "execution_count": 52,
   "id": "40432241",
   "metadata": {},
   "outputs": [
    {
     "name": "stdout",
     "output_type": "stream",
     "text": [
      "R-squared value:  0.9982495503032212\n",
      "Model MAE:  0.7150255979592951\n"
     ]
    }
   ],
   "source": [
    "X_train_full_water, X_test_water, y_train_full_water, y_test_water = train_test_split(X_water, y_water, test_size=0.2, random_state=0) \n",
    "\n",
    "model_water = LinearRegression()\n",
    "model_water.fit(X_train_full_water, y_train_full_water)\n",
    "\n",
    "predicts_water = model_water.predict(X_test_water)\n",
    "\n",
    "mae_water = mean_absolute_error(predicts_water, y_test_water)\n",
    "r_squared_water = model_water.score(X_test_water, y_test_water)\n",
    "\n",
    "print('R-squared value: ', r_squared_water)\n",
    "print('Model MAE: ', mae_water)"
   ]
  },
  {
   "cell_type": "markdown",
   "id": "a813080c",
   "metadata": {},
   "source": [
    "Since the estimate is measured in terms of %, we can see from our MAE that our for safe drinking water model is on average 0.7% off from the actual estimate."
   ]
  },
  {
   "cell_type": "markdown",
   "id": "b01a5ce8",
   "metadata": {},
   "source": [
    "#### Analyzing our Coefficients"
   ]
  },
  {
   "cell_type": "code",
   "execution_count": 53,
   "id": "651f216b",
   "metadata": {
    "scrolled": false
   },
   "outputs": [
    {
     "name": "stdout",
     "output_type": "stream",
     "text": [
      "model intercept: [-194636.53814263]\n"
     ]
    },
    {
     "data": {
      "text/plain": [
       "Funding Agency Acronym_ADF      33200.480720\n",
       "Funding Agency Acronym_AGR      33200.411869\n",
       "Funding Agency Acronym_DFC      33200.440314\n",
       "Funding Agency Acronym_DOC      33200.427906\n",
       "Funding Agency Acronym_DOE      33200.467663\n",
       "Funding Agency Acronym_DOL      33200.437283\n",
       "Funding Agency Acronym_DOT      33200.356895\n",
       "Funding Agency Acronym_EPA      33200.360992\n",
       "Funding Agency Acronym_FTC      33200.463437\n",
       "Funding Agency Acronym_HHS      33200.533920\n",
       "Funding Agency Acronym_IAF      33200.369219\n",
       "Funding Agency Acronym_LIC      33200.430396\n",
       "Funding Agency Acronym_MCC      33200.399428\n",
       "Funding Agency Acronym_NSF      33200.370769\n",
       "Funding Agency Acronym_PC       33200.467869\n",
       "Funding Agency Acronym_STATE    33200.459103\n",
       "Funding Agency Acronym_TDA      33200.437018\n",
       "Funding Agency Acronym_TREAS    33200.456665\n",
       "Funding Agency Acronym_USAID    33200.407146\n",
       "Name: 0, dtype: float64"
      ]
     },
     "execution_count": 53,
     "metadata": {},
     "output_type": "execute_result"
    }
   ],
   "source": [
    "print('model intercept:', model_water.intercept_)\n",
    "coef_water = model_water.coef_\n",
    "coef_series_water = pd.DataFrame(coef_water, columns= X_water.columns).iloc[0]\n",
    "\n",
    "coef_series_water[9:]"
   ]
  },
  {
   "cell_type": "markdown",
   "id": "eb1fc6f3",
   "metadata": {},
   "source": [
    "The strange nature of the coefficients can most likely be attributed to the lack of data from a few of the countries."
   ]
  },
  {
   "cell_type": "markdown",
   "id": "a8c16e57",
   "metadata": {},
   "source": [
    "**Most impactful agency** "
   ]
  },
  {
   "cell_type": "code",
   "execution_count": 54,
   "id": "78400511",
   "metadata": {
    "scrolled": true
   },
   "outputs": [
    {
     "data": {
      "text/plain": [
       "'Funding Agency Acronym_HHS'"
      ]
     },
     "execution_count": 54,
     "metadata": {},
     "output_type": "execute_result"
    }
   ],
   "source": [
    "coef_series_water.loc[coef_series_water.index[9:]].idxmax()"
   ]
  },
  {
   "cell_type": "markdown",
   "id": "e876ab17",
   "metadata": {},
   "source": [
    "### Analysis"
   ]
  },
  {
   "cell_type": "code",
   "execution_count": 55,
   "id": "388fedc9",
   "metadata": {},
   "outputs": [
    {
     "name": "stdout",
     "output_type": "stream",
     "text": [
      "Health Indicator                                                                  Most impactful agencies       Model Error    R-Squared Value\n",
      "--------------------------------------------------------------------------------  --------------------------  -------------  -----------------\n",
      "Under-five mortality rate                                                         Funding Agency Acronym_AGR       0.793963           0.790325\n",
      "Total alcohol per capita consumption in adults aged 15+ (litres of pure alcohol)  Funding Agency Acronym_LIC       0.715007           0.846985\n",
      "Life Expectancy                                                                   Funding Agency Acronym_DOL       1.41763            0.801111\n",
      "Obesity prevalence among adults (%)                                               Funding Agency Acronym_AGR       0.640211           0.978767\n",
      "Population using safely managed drinking water services (%)                       Funding Agency Acronym_HHS       0.715026           0.99825\n"
     ]
    }
   ],
   "source": [
    "from tabulate import tabulate\n",
    "\n",
    "print(tabulate([['Health Indicator','Most impactful agencies', 'Model Error', 'R-Squared Value'], \n",
    "        ['Under-five mortality rate', coef_series.loc[coef_series.index[9:]].idxmax(), mae_5, r_squared_5],\n",
    "        ['Total alcohol per capita consumption in adults aged 15+ (litres of pure alcohol)',coef_series_alc.loc[coef_series_alc.index[9:]].idxmax(), mae_alc, r_squared_alc],\n",
    "        [ 'Life Expectancy', coef_series_life.loc[coef_series_life.index[9:]].idxmax(), mae_life, r_squared_life],\n",
    "        ['Obesity prevalence among adults (%)', coef_series_obesity.loc[coef_series_obesity.index[9:]].idxmax(), mae_obesity, r_squared_obesity],\n",
    "        ['Population using safely managed drinking water services (%)', coef_series_water.loc[coef_series_water.index[9:]].idxmax(), mae_water, r_squared_water]], \n",
    "        headers='firstrow', tablefmt= 'simple_grid'\n",
    "    ))"
   ]
  },
  {
   "cell_type": "markdown",
   "id": "e162c774",
   "metadata": {},
   "source": [
    "___"
   ]
  },
  {
   "cell_type": "markdown",
   "id": "ad016197",
   "metadata": {},
   "source": [
    "<div style=\"text-align: center;\">\n",
    "    <h2>Conclusion</h2>\n",
    "</div>"
   ]
  },
  {
   "cell_type": "markdown",
   "id": "19883d97",
   "metadata": {},
   "source": [
    "The United States is the number one distributor of foregin aid in the world. Due to this, it is extremely important to determine how foreign aid is being used in order to distribute aid to achieve maximum impact. \n",
    "\n",
    "Have we  gathered enough evidence to answer the questions we set out to answer? \n",
    "\n",
    "* How does US foreign aid impact the overall health of a country?\n",
    "* Does a \\$1 marginal dollar given to one agency increase health indicators more or less than different agency?\n",
    "* Since US agencies have budgets set by Congress, how can they better utilize a limited budget with the maximum impact?\n"
   ]
  },
  {
   "cell_type": "markdown",
   "id": "6abb4408",
   "metadata": {},
   "source": [
    "#### How does US foreign aid impact the overall health of a country?\n",
    "In all predictions for all indicators, we have high to extremely high R-squared values indicating a direct positive correlation between foreing aid and health outcomes. "
   ]
  },
  {
   "cell_type": "markdown",
   "id": "3f7f2110",
   "metadata": {},
   "source": [
    "####  Does a \\$1 marginal dollar given to one agency increase health indicators more or less than different agency?\n",
    "As described in the model analysis section, each indicator has a corresponding agency which has the greatest impact on the indicator. For example, if the US gave the Department of Agriculture one more dollar to combat Under-five Mortality, it would be more effective than any other agency. "
   ]
  },
  {
   "cell_type": "markdown",
   "id": "f8308bcf",
   "metadata": {},
   "source": [
    "#### Since US agencies have budgets set by Congress, how can they better utilize a limited budget with the maximum impact?\n",
    "As we can see, performing this type of analysis effectively determines which US agency should spearhead health improvement initiatives.  "
   ]
  },
  {
   "cell_type": "markdown",
   "id": "a26998f3",
   "metadata": {},
   "source": [
    "### Final Notes\n",
    "We can see that certain agencies are better equipped to affect change in health outcomes. We hope that this data can be used as a preliminary way of exploring how the United States can effectively distribute foreign aid. We hope that this analysis could be used to highlight inefficiencies or spark conversations about where foreign aid could be most effective. We'd like to thank Professor Mattei for the guidance and many office hours spent \"aiding\" us in our efforts. "
   ]
  },
  {
   "cell_type": "markdown",
   "id": "2528a9c7",
   "metadata": {},
   "source": [
    "___"
   ]
  },
  {
   "cell_type": "markdown",
   "id": "3daee625",
   "metadata": {},
   "source": [
    "<div style=\"text-align: center;\">\n",
    "    <h2>Appendix</h2>\n",
    "</div>"
   ]
  },
  {
   "cell_type": "markdown",
   "id": "3c673fba",
   "metadata": {},
   "source": [
    "### Funding Agency Acronyms"
   ]
  },
  {
   "cell_type": "markdown",
   "id": "38dcb66d",
   "metadata": {},
   "source": [
    "AGR: Department of Agriculture\n",
    "\n",
    "USAID: US Agency for International Development\n",
    "\n",
    "STATE: Department of State\n",
    "\n",
    "MCC: Millennium (for more info: https://www.mcc.gov/)\n",
    "\n",
    "HHS: Department of Health and Human Services\n",
    "\n",
    "LIC: Open World Leadership Center (for more info: https://www.openworld.gov/)\n",
    "\n",
    "ADF: US African Development Foundation\n",
    "\n",
    "DFC: US International Development Finance Corporation\n",
    "\n",
    "DOC: Department of Commerce\n",
    "\n",
    "DOE: Department of Energy\n",
    "\n",
    "DOL: Department of Labor\n",
    "\n",
    "DOT: Department of Transportation\n",
    "\n",
    "EPA: US Environmental Protection Agency\n",
    "\n",
    "FTC: US Federal Trade Comission\n",
    "\n",
    "IAF: US Inter-American Foundation (for more info: https://www.iaf.gov/)\n",
    "\n",
    "NSF: US National Science Foundation\n",
    "\n",
    "PC : Peace Corps\n",
    "\n",
    "TDA: US Trade and Development Agency\n",
    "\n",
    "TREAS: Department of the Treasury\n",
    "\n"
   ]
  },
  {
   "cell_type": "markdown",
   "id": "30dde339",
   "metadata": {},
   "source": [
    "### Indicators Used\n",
    "Total alcohol per capita consumption in adults aged 15+ (litres of pure alcohol)\n",
    "\n",
    "Population using safely managed drinking water services (%)\n",
    "\n",
    "Life Expectancy\n",
    "\n",
    "Obesity prevalence among adults (%)\n",
    "\n",
    "Under-five mortality rate"
   ]
  },
  {
   "cell_type": "markdown",
   "id": "8cb72098",
   "metadata": {},
   "source": [
    "\n"
   ]
  },
  {
   "cell_type": "code",
   "execution_count": null,
   "id": "3d4530e4",
   "metadata": {},
   "outputs": [],
   "source": []
  }
 ],
 "metadata": {
  "kernelspec": {
   "display_name": "Python 3 (ipykernel)",
   "language": "python",
   "name": "python3"
  },
  "language_info": {
   "codemirror_mode": {
    "name": "ipython",
    "version": 3
   },
   "file_extension": ".py",
   "mimetype": "text/x-python",
   "name": "python",
   "nbconvert_exporter": "python",
   "pygments_lexer": "ipython3",
   "version": "3.10.5"
  }
 },
 "nbformat": 4,
 "nbformat_minor": 5
}
