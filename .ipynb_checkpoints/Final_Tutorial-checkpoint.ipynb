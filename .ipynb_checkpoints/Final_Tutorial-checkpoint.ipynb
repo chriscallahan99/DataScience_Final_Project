{
 "cells": [
  {
   "cell_type": "markdown",
   "id": "3155648f",
   "metadata": {},
   "source": [
    "Website Link: https://chriscallahan99.github.io/DataScience_Final_Project/ "
   ]
  },
  {
   "cell_type": "markdown",
   "id": "1f635b2f",
   "metadata": {},
   "source": [
    "![usaid.jpg](attachment:usaid.jpg)    \n"
   ]
  },
  {
   "cell_type": "markdown",
   "id": "7b1bf1d8",
   "metadata": {},
   "source": [
    "<div style=\"text-align: center;\">\n",
    "<h1>How does Foreign Aid Impact Health Indicators?</h1>  \n",
    "    <br>\n",
    "By Chris Callahan and Mikey Sison\n",
    "</div>\n"
   ]
  },
  {
   "cell_type": "markdown",
   "id": "d97258d7",
   "metadata": {},
   "source": [
    "<div style=\"text-align: center;\">\n",
    "1. Introduction<br>\n",
    "2. Data: Extraction, Transform and Load<br>\n",
    "3. Exploratory Data Analysis<br>\n",
    "4. <br>\n",
    "5. <br>\n",
    "6. Conclusion<br>\n",
    "</div>\n"
   ]
  },
  {
   "cell_type": "markdown",
   "id": "44b5403b",
   "metadata": {},
   "source": [
    "<div style=\"text-align: center;\">\n",
    "    <h2>Introduction</h2>\n",
    "    <h3>Abstract<h3> \n",
    "</div>\n",
    "        \n",
    "The United States disburses the most foreign aid in the world ([World Economic Forum](https://www.weforum.org/agenda/2016/08/foreign-aid-these-countries-are-the-most-generous/ 'Foreign aid')) and it is of paramount impoartance that the countries who are in greatest need are able to get it. We examine US foreign aid disbursements to six countires of middle to low economic rank to determine the effect of monetary aid increases on five health indicators representative of overall health outcomes. The countries of Ethiopia, El Salvador, Ecuador, Haiti, Moldova, and Yemen represent a sample of countries exhibiting some of the greatest overall need for humanitarian aid. Geopolitical and environmental factors have rendered Ethiopia, Haiti, and Yemen dependent on foreign aid for humanitarian support. It is anecdotally acknowledged that overall increases in foreign aid disbursements would have a positive increase in overall welfare. We aim to determine which US Agencies have the greatest direct impact on improving health indicators. \n",
    "                \n",
    "Our analysis will explore and answer the following questions:\n",
    "* How does US foreign aid impact different countries? \n",
    "* Does a \\$1 marginal dollar increase to one country increase health indicators more or less than different country? \n",
    "* If US agencies have a  budget set by Congress, how can they better utilize a limited budget with the maximum impact?\n",
    "* Is change in an indicator dependent on marginal dollar increases per agency?\n",
    "     \n",
    "___"
   ]
  },
  {
   "cell_type": "markdown",
   "id": "873057c4",
   "metadata": {},
   "source": [
    "<div style=\"text-align: center;\">\n",
    "    <h2>Data: Extraction, Transform, and Load</h2>\n",
    "</div>\n",
    "\n",
    "\n",
    "\n"
   ]
  },
  {
   "cell_type": "markdown",
   "id": "d82bbfc4",
   "metadata": {},
   "source": [
    "### Data Sources\n",
    "We obtained data from two primary sources:  [US Gov Foreign Assistance](https://foreignassistance.gov/) and\n",
    "[WHO GW13 Dataset](https://www.who.int/data/inequality-monitor/data#PageContent_C160_Col00). These two datasets respectively contain the publicly avaliable US foreign aid disbursements per country and health indicators by country over the past 20 years."
   ]
  },
  {
   "cell_type": "markdown",
   "id": "746b6fc1",
   "metadata": {},
   "source": [
    "#### Foreign Aid by Country\n",
    "\n",
    "Our first dataset comes from the [US Foreign Assistance](https://foreignassistance.gov/) webpage. With this dataset, we will be focusing on quantifying the amount of foreign aid the United States gives to the six countries in question, per year, and which agencies provide this support. \n",
    "\n",
    "Analysis of this dataset will answer the following questions:\n",
    "* How much does this country recieve from the US in foreign aid?\n",
    "* How much aid is disbursed each year by agency?\n",
    "* \n",
    "\n",
    "\n",
    "\n"
   ]
  },
  {
   "cell_type": "code",
   "execution_count": null,
   "id": "23218362",
   "metadata": {},
   "outputs": [],
   "source": []
  }
 ],
 "metadata": {
  "kernelspec": {
   "display_name": "Python 3 (ipykernel)",
   "language": "python",
   "name": "python3"
  },
  "language_info": {
   "codemirror_mode": {
    "name": "ipython",
    "version": 3
   },
   "file_extension": ".py",
   "mimetype": "text/x-python",
   "name": "python",
   "nbconvert_exporter": "python",
   "pygments_lexer": "ipython3",
   "version": "3.9.7"
  }
 },
 "nbformat": 4,
 "nbformat_minor": 5
}
