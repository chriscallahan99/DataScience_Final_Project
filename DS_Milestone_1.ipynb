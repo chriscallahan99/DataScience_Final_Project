{
 "cells": [
  {
   "cell_type": "markdown",
   "metadata": {
    "id": "jL14LN0OEFYM"
   },
   "source": [
    "# Where Does Foreign Aid Go?\n",
    "By Chris Callahan and Mikey Sison"
   ]
  },
  {
   "cell_type": "markdown",
   "metadata": {},
   "source": [
    "[Website Link](https://chriscallahan99.github.io/DataScience_Final_Project/)"
   ]
  },
  {
   "cell_type": "markdown",
   "metadata": {
    "id": "uOgrhIxyDvmj"
   },
   "source": [
    "Datasets Used for Project: \n",
    "[Gapminder](https://www.gapminder.org/data/), \n",
    "[US Gov Foreign Assistance](https://foreignassistance.gov/\n",
    ")"
   ]
  },
  {
   "cell_type": "code",
   "execution_count": 1,
   "metadata": {
    "id": "-TE_UtBMMnGV"
   },
   "outputs": [
    {
     "name": "stdout",
     "output_type": "stream",
     "text": [
      "Requirement already satisfied: geopandas in c:\\users\\perso\\anaconda3\\envs\\landlab_dev\\lib\\site-packages (0.12.1)\n",
      "Requirement already satisfied: fiona>=1.8 in c:\\users\\perso\\anaconda3\\envs\\landlab_dev\\lib\\site-packages (from geopandas) (1.8.22)\n",
      "Requirement already satisfied: pandas>=1.0.0 in c:\\users\\perso\\anaconda3\\envs\\landlab_dev\\lib\\site-packages (from geopandas) (1.4.4)\n",
      "Requirement already satisfied: pyproj>=2.6.1.post1 in c:\\users\\perso\\anaconda3\\envs\\landlab_dev\\lib\\site-packages (from geopandas) (3.4.0)\n",
      "Requirement already satisfied: packaging in c:\\users\\perso\\anaconda3\\envs\\landlab_dev\\lib\\site-packages (from geopandas) (21.3)\n",
      "Requirement already satisfied: shapely>=1.7 in c:\\users\\perso\\anaconda3\\envs\\landlab_dev\\lib\\site-packages (from geopandas) (1.8.5.post1)\n",
      "Requirement already satisfied: click-plugins>=1.0 in c:\\users\\perso\\anaconda3\\envs\\landlab_dev\\lib\\site-packages (from fiona>=1.8->geopandas) (1.1.1)\n",
      "Requirement already satisfied: munch in c:\\users\\perso\\anaconda3\\envs\\landlab_dev\\lib\\site-packages (from fiona>=1.8->geopandas) (2.5.0)\n",
      "Requirement already satisfied: click>=4.0 in c:\\users\\perso\\anaconda3\\envs\\landlab_dev\\lib\\site-packages (from fiona>=1.8->geopandas) (8.0.4)\n",
      "Requirement already satisfied: setuptools in c:\\users\\perso\\anaconda3\\envs\\landlab_dev\\lib\\site-packages (from fiona>=1.8->geopandas) (65.5.0)\n",
      "Requirement already satisfied: six>=1.7 in c:\\users\\perso\\anaconda3\\envs\\landlab_dev\\lib\\site-packages (from fiona>=1.8->geopandas) (1.16.0)\n",
      "Requirement already satisfied: certifi in c:\\users\\perso\\anaconda3\\envs\\landlab_dev\\lib\\site-packages (from fiona>=1.8->geopandas) (2022.9.24)\n",
      "Requirement already satisfied: attrs>=17 in c:\\users\\perso\\anaconda3\\envs\\landlab_dev\\lib\\site-packages (from fiona>=1.8->geopandas) (21.4.0)\n",
      "Requirement already satisfied: cligj>=0.5 in c:\\users\\perso\\anaconda3\\envs\\landlab_dev\\lib\\site-packages (from fiona>=1.8->geopandas) (0.7.2)\n",
      "Requirement already satisfied: numpy>=1.21.0 in c:\\users\\perso\\anaconda3\\envs\\landlab_dev\\lib\\site-packages (from pandas>=1.0.0->geopandas) (1.23.3)\n",
      "Requirement already satisfied: python-dateutil>=2.8.1 in c:\\users\\perso\\anaconda3\\envs\\landlab_dev\\lib\\site-packages (from pandas>=1.0.0->geopandas) (2.8.2)\n",
      "Requirement already satisfied: pytz>=2020.1 in c:\\users\\perso\\anaconda3\\envs\\landlab_dev\\lib\\site-packages (from pandas>=1.0.0->geopandas) (2022.1)\n",
      "Requirement already satisfied: pyparsing!=3.0.5,>=2.0.2 in c:\\users\\perso\\anaconda3\\envs\\landlab_dev\\lib\\site-packages (from packaging->geopandas) (3.0.9)\n",
      "Requirement already satisfied: colorama in c:\\users\\perso\\anaconda3\\envs\\landlab_dev\\lib\\site-packages (from click>=4.0->fiona>=1.8->geopandas) (0.4.5)\n",
      "Note: you may need to restart the kernel to use updated packages.\n"
     ]
    },
    {
     "name": "stderr",
     "output_type": "stream",
     "text": [
      "WARNING: Error parsing requirements for pywinpty: [Errno 2] No such file or directory: 'c:\\\\users\\\\perso\\\\anaconda3\\\\envs\\\\landlab_dev\\\\lib\\\\site-packages\\\\pywinpty-2.0.6.dist-info\\\\METADATA'\n"
     ]
    },
    {
     "name": "stdout",
     "output_type": "stream",
     "text": [
      "Requirement already satisfied: seaborn in c:\\users\\perso\\anaconda3\\envs\\landlab_dev\\lib\\site-packages (0.12.1)\n",
      "Requirement already satisfied: matplotlib!=3.6.1,>=3.1 in c:\\users\\perso\\anaconda3\\envs\\landlab_dev\\lib\\site-packages (from seaborn) (3.5.2)\n",
      "Requirement already satisfied: numpy>=1.17 in c:\\users\\perso\\anaconda3\\envs\\landlab_dev\\lib\\site-packages (from seaborn) (1.23.3)\n",
      "Requirement already satisfied: pandas>=0.25 in c:\\users\\perso\\anaconda3\\envs\\landlab_dev\\lib\\site-packages (from seaborn) (1.4.4)\n",
      "Requirement already satisfied: pillow>=6.2.0 in c:\\users\\perso\\anaconda3\\envs\\landlab_dev\\lib\\site-packages (from matplotlib!=3.6.1,>=3.1->seaborn) (9.2.0)\n",
      "Requirement already satisfied: fonttools>=4.22.0 in c:\\users\\perso\\anaconda3\\envs\\landlab_dev\\lib\\site-packages (from matplotlib!=3.6.1,>=3.1->seaborn) (4.25.0)\n",
      "Requirement already satisfied: packaging>=20.0 in c:\\users\\perso\\anaconda3\\envs\\landlab_dev\\lib\\site-packages (from matplotlib!=3.6.1,>=3.1->seaborn) (21.3)\n",
      "Requirement already satisfied: python-dateutil>=2.7 in c:\\users\\perso\\anaconda3\\envs\\landlab_dev\\lib\\site-packages (from matplotlib!=3.6.1,>=3.1->seaborn) (2.8.2)\n",
      "Requirement already satisfied: cycler>=0.10 in c:\\users\\perso\\anaconda3\\envs\\landlab_dev\\lib\\site-packages (from matplotlib!=3.6.1,>=3.1->seaborn) (0.11.0)\n",
      "Requirement already satisfied: pyparsing>=2.2.1 in c:\\users\\perso\\anaconda3\\envs\\landlab_dev\\lib\\site-packages (from matplotlib!=3.6.1,>=3.1->seaborn) (3.0.9)\n",
      "Requirement already satisfied: kiwisolver>=1.0.1 in c:\\users\\perso\\anaconda3\\envs\\landlab_dev\\lib\\site-packages (from matplotlib!=3.6.1,>=3.1->seaborn) (1.4.2)\n",
      "Requirement already satisfied: pytz>=2020.1 in c:\\users\\perso\\anaconda3\\envs\\landlab_dev\\lib\\site-packages (from pandas>=0.25->seaborn) (2022.1)\n",
      "Requirement already satisfied: six>=1.5 in c:\\users\\perso\\anaconda3\\envs\\landlab_dev\\lib\\site-packages (from python-dateutil>=2.7->matplotlib!=3.6.1,>=3.1->seaborn) (1.16.0)\n",
      "Note: you may need to restart the kernel to use updated packages.\n"
     ]
    },
    {
     "name": "stderr",
     "output_type": "stream",
     "text": [
      "WARNING: Error parsing requirements for pywinpty: [Errno 2] No such file or directory: 'c:\\\\users\\\\perso\\\\anaconda3\\\\envs\\\\landlab_dev\\\\lib\\\\site-packages\\\\pywinpty-2.0.6.dist-info\\\\METADATA'\n"
     ]
    }
   ],
   "source": [
    "%pip install geopandas\n",
    "%pip install seaborn"
   ]
  },
  {
   "cell_type": "code",
   "execution_count": 2,
   "metadata": {
    "id": "yOYDRMt3JSE6",
    "scrolled": true
   },
   "outputs": [
    {
     "data": {
      "text/html": [
       "<style>.container { width:95% !important; }</style>"
      ],
      "text/plain": [
       "<IPython.core.display.HTML object>"
      ]
     },
     "metadata": {},
     "output_type": "display_data"
    }
   ],
   "source": [
    "## IMPORTS ##\n",
    "\n",
    "# Load Numpy\n",
    "import numpy as np\n",
    "\n",
    "# Load os\n",
    "import os\n",
    "\n",
    "# Load Pandas\n",
    "import pandas as pd\n",
    "\n",
    "# Load MatPlotLib\n",
    "import matplotlib\n",
    "import matplotlib.pyplot as plt\n",
    "\n",
    "# Load Seaborn\n",
    "import seaborn as sns; sns.set_theme()\n",
    "\n",
    "\n",
    "\n",
    "# These two things are for Pandas, it widens the notebook and lets us display data easily.\n",
    "from IPython.display import display, HTML\n",
    "display(HTML(\"<style>.container { width:95% !important; }</style>\"))"
   ]
  },
  {
   "cell_type": "code",
   "execution_count": 3,
   "metadata": {},
   "outputs": [],
   "source": [
    "os.chdir(\"Foreign-Aid-Country-Data\")"
   ]
  },
  {
   "cell_type": "markdown",
   "metadata": {},
   "source": [
    "## Foreign Aid by Country data from ForeignAssistance.gov\n",
    "\n",
    "Our first dataset comes from the foreign assistance webpage from the U.S. government. We will be focusing on the amount of foreign aid the United States gives to other countries, per year, and to which categories of support this money is going, among others. The question we want to answer with this dataset is \"Which category, whether it be economic, health-related, or education, does funding go to for each country?\" This leads us to the next question we aim to answer, \"Does monetary aid in these specific categories lead to significant, measurable improvements in these areas, and what other metrics are secondarrily correlated to the aid disbursements?\" \n",
    "\n",
    "Our second data set (which is not included in Milestone 1) is the GW13 dataset from the World Health Organization which includes many indicators that correlate to the public health of a country. We want to see how much these different indicators improve with U.S. funding.\n",
    "\n"
   ]
  },
  {
   "cell_type": "markdown",
   "metadata": {},
   "source": [
    "The link below describes the data and columns gathered from ForeignAssistance.gov. \n",
    "\n",
    "<a href= 'https://s3.amazonaws.com/files.explorer.devtechlab.com/DataDictionary_ForeignAssistancegov.pdf'> https://s3.amazonaws.com/files.explorer.devtechlab.com/DataDictionary_ForeignAssistancegov.pdf </a>"
   ]
  },
  {
   "cell_type": "markdown",
   "metadata": {},
   "source": [
    "#### Example Query\n",
    "![FAgovEthiopiaQuery.png](docs/assets/FAgovEthiopiaQuery.png)\n",
    "\n",
    "Figure 1: The image above is an example query of the foreign aid given to Ethiopia over from 2018 to 2022\n"
   ]
  },
  {
   "cell_type": "markdown",
   "metadata": {},
   "source": [
    "### Reading in Country data\n",
    "\n",
    "Here, we are reading in the country data from our queries on ForeignAssistance.gov. Each of the queries encompass non-military foreign aid from 2002 to 2022 fiscal years. \n",
    "\n",
    "We chose countries in low to middle income groups with one to two per continent/region and low military assistance.\n",
    "* **Europe**: Moldova, Turkey\n",
    "* **Asia**: Myanmar\n",
    "* **Middle East**: Yemen\n",
    "* **Africa**: Ethiopia\n",
    "* **South America**: Ecuador\n",
    "* **North/Central America**: El Salvador, Haiti\n"
   ]
  },
  {
   "cell_type": "markdown",
   "metadata": {},
   "source": [
    "#### Focus areas\n",
    "We will be focusing on two datasets from the ForeignAssistance.gov website: the summary data and country-specific data. Each row in the summary describes a country and the fiscal year. Each entity contains data on the transaction type, Transaction Type, Fiscal Year, current amount (in USD), and constant amount (in USD). We are planning on using this data from the summary as a reference to determine how much money is irrelevant to our study (non-military/defense spending).\n"
   ]
  },
  {
   "cell_type": "code",
   "execution_count": 4,
   "metadata": {},
   "outputs": [],
   "source": [
    "#foreign_aid_country_summary_data = pd.read_csv('US_foreign_aid_summary.csv')"
   ]
  },
  {
   "cell_type": "code",
   "execution_count": 5,
   "metadata": {},
   "outputs": [
    {
     "data": {
      "text/html": [
       "<div>\n",
       "<style scoped>\n",
       "    .dataframe tbody tr th:only-of-type {\n",
       "        vertical-align: middle;\n",
       "    }\n",
       "\n",
       "    .dataframe tbody tr th {\n",
       "        vertical-align: top;\n",
       "    }\n",
       "\n",
       "    .dataframe thead th {\n",
       "        text-align: right;\n",
       "    }\n",
       "</style>\n",
       "<table border=\"1\" class=\"dataframe\">\n",
       "  <thead>\n",
       "    <tr style=\"text-align: right;\">\n",
       "      <th></th>\n",
       "      <th>Country ID</th>\n",
       "      <th>Country Code</th>\n",
       "      <th>Country Name</th>\n",
       "      <th>Region ID</th>\n",
       "      <th>Region Name</th>\n",
       "      <th>Income Group ID</th>\n",
       "      <th>Income Group Name</th>\n",
       "      <th>Income Group Acronym</th>\n",
       "      <th>Managing Agency ID</th>\n",
       "      <th>Managing Agency Acronym</th>\n",
       "      <th>...</th>\n",
       "      <th>Activity Name</th>\n",
       "      <th>Activity Description</th>\n",
       "      <th>Activity Project Number</th>\n",
       "      <th>Activity Start Date</th>\n",
       "      <th>Activity End Date</th>\n",
       "      <th>Transaction Type ID</th>\n",
       "      <th>Transaction Type Name</th>\n",
       "      <th>Fiscal Year</th>\n",
       "      <th>Current Dollar Amount</th>\n",
       "      <th>Constant Dollar Amount</th>\n",
       "    </tr>\n",
       "  </thead>\n",
       "  <tbody>\n",
       "    <tr>\n",
       "      <th>0</th>\n",
       "      <td>231</td>\n",
       "      <td>ETH</td>\n",
       "      <td>Ethiopia</td>\n",
       "      <td>5</td>\n",
       "      <td>Sub-Saharan Africa</td>\n",
       "      <td>1</td>\n",
       "      <td>Low Income Country</td>\n",
       "      <td>LIC</td>\n",
       "      <td>1</td>\n",
       "      <td>USAID</td>\n",
       "      <td>...</td>\n",
       "      <td>Title II Emergency Program</td>\n",
       "      <td>Title II Emergency Program through a partner o...</td>\n",
       "      <td>720BHA22CA00005</td>\n",
       "      <td>NaN</td>\n",
       "      <td>NaN</td>\n",
       "      <td>2</td>\n",
       "      <td>Obligations</td>\n",
       "      <td>2022</td>\n",
       "      <td>113052149</td>\n",
       "      <td>109155305</td>\n",
       "    </tr>\n",
       "    <tr>\n",
       "      <th>1</th>\n",
       "      <td>231</td>\n",
       "      <td>ETH</td>\n",
       "      <td>Ethiopia</td>\n",
       "      <td>5</td>\n",
       "      <td>Sub-Saharan Africa</td>\n",
       "      <td>1</td>\n",
       "      <td>Low Income Country</td>\n",
       "      <td>LIC</td>\n",
       "      <td>1</td>\n",
       "      <td>USAID</td>\n",
       "      <td>...</td>\n",
       "      <td>Emergency food assistance</td>\n",
       "      <td>Emergency humanitarian food and nutirition ass...</td>\n",
       "      <td>720BHA22IO00038</td>\n",
       "      <td>NaN</td>\n",
       "      <td>2023-03-09</td>\n",
       "      <td>2</td>\n",
       "      <td>Obligations</td>\n",
       "      <td>2022</td>\n",
       "      <td>77740000</td>\n",
       "      <td>75060346</td>\n",
       "    </tr>\n",
       "    <tr>\n",
       "      <th>2</th>\n",
       "      <td>231</td>\n",
       "      <td>ETH</td>\n",
       "      <td>Ethiopia</td>\n",
       "      <td>5</td>\n",
       "      <td>Sub-Saharan Africa</td>\n",
       "      <td>1</td>\n",
       "      <td>Low Income Country</td>\n",
       "      <td>LIC</td>\n",
       "      <td>1</td>\n",
       "      <td>USAID</td>\n",
       "      <td>...</td>\n",
       "      <td>Title II Emergency Program</td>\n",
       "      <td>Title II Emergency Program through a partner o...</td>\n",
       "      <td>720BHA22IO00034</td>\n",
       "      <td>NaN</td>\n",
       "      <td>NaN</td>\n",
       "      <td>2</td>\n",
       "      <td>Obligations</td>\n",
       "      <td>2022</td>\n",
       "      <td>57420571</td>\n",
       "      <td>55441315</td>\n",
       "    </tr>\n",
       "    <tr>\n",
       "      <th>3</th>\n",
       "      <td>231</td>\n",
       "      <td>ETH</td>\n",
       "      <td>Ethiopia</td>\n",
       "      <td>5</td>\n",
       "      <td>Sub-Saharan Africa</td>\n",
       "      <td>1</td>\n",
       "      <td>Low Income Country</td>\n",
       "      <td>LIC</td>\n",
       "      <td>1</td>\n",
       "      <td>USAID</td>\n",
       "      <td>...</td>\n",
       "      <td>Emergency food assistance</td>\n",
       "      <td>Emergency humanitarian food and nutirition ass...</td>\n",
       "      <td>720BHA22IO00045</td>\n",
       "      <td>NaN</td>\n",
       "      <td>2022-12-31</td>\n",
       "      <td>2</td>\n",
       "      <td>Obligations</td>\n",
       "      <td>2022</td>\n",
       "      <td>44500000</td>\n",
       "      <td>42966110</td>\n",
       "    </tr>\n",
       "    <tr>\n",
       "      <th>4</th>\n",
       "      <td>231</td>\n",
       "      <td>ETH</td>\n",
       "      <td>Ethiopia</td>\n",
       "      <td>5</td>\n",
       "      <td>Sub-Saharan Africa</td>\n",
       "      <td>1</td>\n",
       "      <td>Low Income Country</td>\n",
       "      <td>LIC</td>\n",
       "      <td>1</td>\n",
       "      <td>USAID</td>\n",
       "      <td>...</td>\n",
       "      <td>Humanitarian assistance</td>\n",
       "      <td>Humanitarian assistance funding.</td>\n",
       "      <td>720BHA22GR00071</td>\n",
       "      <td>NaN</td>\n",
       "      <td>2024-09-30</td>\n",
       "      <td>2</td>\n",
       "      <td>Obligations</td>\n",
       "      <td>2022</td>\n",
       "      <td>39493563</td>\n",
       "      <td>38132242</td>\n",
       "    </tr>\n",
       "    <tr>\n",
       "      <th>...</th>\n",
       "      <td>...</td>\n",
       "      <td>...</td>\n",
       "      <td>...</td>\n",
       "      <td>...</td>\n",
       "      <td>...</td>\n",
       "      <td>...</td>\n",
       "      <td>...</td>\n",
       "      <td>...</td>\n",
       "      <td>...</td>\n",
       "      <td>...</td>\n",
       "      <td>...</td>\n",
       "      <td>...</td>\n",
       "      <td>...</td>\n",
       "      <td>...</td>\n",
       "      <td>...</td>\n",
       "      <td>...</td>\n",
       "      <td>...</td>\n",
       "      <td>...</td>\n",
       "      <td>...</td>\n",
       "      <td>...</td>\n",
       "      <td>...</td>\n",
       "    </tr>\n",
       "    <tr>\n",
       "      <th>13582</th>\n",
       "      <td>231</td>\n",
       "      <td>ETH</td>\n",
       "      <td>Ethiopia</td>\n",
       "      <td>5</td>\n",
       "      <td>Sub-Saharan Africa</td>\n",
       "      <td>1</td>\n",
       "      <td>Low Income Country</td>\n",
       "      <td>LIC</td>\n",
       "      <td>1</td>\n",
       "      <td>USAID</td>\n",
       "      <td>...</td>\n",
       "      <td>FFP/CRITICAL FOOD NEEDS OF TARGETED GROUPS MET</td>\n",
       "      <td>Critical food needs of targeted groups met</td>\n",
       "      <td>962-001</td>\n",
       "      <td>NaN</td>\n",
       "      <td>NaN</td>\n",
       "      <td>2</td>\n",
       "      <td>Obligations</td>\n",
       "      <td>2002</td>\n",
       "      <td>-69035</td>\n",
       "      <td>-96892</td>\n",
       "    </tr>\n",
       "    <tr>\n",
       "      <th>13583</th>\n",
       "      <td>231</td>\n",
       "      <td>ETH</td>\n",
       "      <td>Ethiopia</td>\n",
       "      <td>5</td>\n",
       "      <td>Sub-Saharan Africa</td>\n",
       "      <td>1</td>\n",
       "      <td>Low Income Country</td>\n",
       "      <td>LIC</td>\n",
       "      <td>1</td>\n",
       "      <td>USAID</td>\n",
       "      <td>...</td>\n",
       "      <td>Mitigate the effects of disaster</td>\n",
       "      <td>Mitigate the Effects of Disaster</td>\n",
       "      <td>663-011</td>\n",
       "      <td>NaN</td>\n",
       "      <td>NaN</td>\n",
       "      <td>2</td>\n",
       "      <td>Obligations</td>\n",
       "      <td>2002</td>\n",
       "      <td>-228000</td>\n",
       "      <td>-320000</td>\n",
       "    </tr>\n",
       "    <tr>\n",
       "      <th>13584</th>\n",
       "      <td>231</td>\n",
       "      <td>ETH</td>\n",
       "      <td>Ethiopia</td>\n",
       "      <td>5</td>\n",
       "      <td>Sub-Saharan Africa</td>\n",
       "      <td>1</td>\n",
       "      <td>Low Income Country</td>\n",
       "      <td>LIC</td>\n",
       "      <td>1</td>\n",
       "      <td>USAID</td>\n",
       "      <td>...</td>\n",
       "      <td>Mitigate the effects of disaster</td>\n",
       "      <td>Mitigate the Effects of Disaster</td>\n",
       "      <td>663-011</td>\n",
       "      <td>NaN</td>\n",
       "      <td>NaN</td>\n",
       "      <td>2</td>\n",
       "      <td>Obligations</td>\n",
       "      <td>2002</td>\n",
       "      <td>-229909</td>\n",
       "      <td>-322679</td>\n",
       "    </tr>\n",
       "    <tr>\n",
       "      <th>13585</th>\n",
       "      <td>231</td>\n",
       "      <td>ETH</td>\n",
       "      <td>Ethiopia</td>\n",
       "      <td>5</td>\n",
       "      <td>Sub-Saharan Africa</td>\n",
       "      <td>1</td>\n",
       "      <td>Low Income Country</td>\n",
       "      <td>LIC</td>\n",
       "      <td>1</td>\n",
       "      <td>USAID</td>\n",
       "      <td>...</td>\n",
       "      <td>Essential Services for Health</td>\n",
       "      <td>Essential Services for Health</td>\n",
       "      <td>663-002</td>\n",
       "      <td>NaN</td>\n",
       "      <td>NaN</td>\n",
       "      <td>2</td>\n",
       "      <td>Obligations</td>\n",
       "      <td>2002</td>\n",
       "      <td>-284530</td>\n",
       "      <td>-399340</td>\n",
       "    </tr>\n",
       "    <tr>\n",
       "      <th>13586</th>\n",
       "      <td>231</td>\n",
       "      <td>ETH</td>\n",
       "      <td>Ethiopia</td>\n",
       "      <td>5</td>\n",
       "      <td>Sub-Saharan Africa</td>\n",
       "      <td>1</td>\n",
       "      <td>Low Income Country</td>\n",
       "      <td>LIC</td>\n",
       "      <td>1</td>\n",
       "      <td>USAID</td>\n",
       "      <td>...</td>\n",
       "      <td>FFP/CRITICAL FOOD NEEDS OF TARGETED GROUPS MET</td>\n",
       "      <td>Critical food needs of targeted groups met</td>\n",
       "      <td>962-001</td>\n",
       "      <td>NaN</td>\n",
       "      <td>NaN</td>\n",
       "      <td>2</td>\n",
       "      <td>Obligations</td>\n",
       "      <td>2002</td>\n",
       "      <td>-579358</td>\n",
       "      <td>-813134</td>\n",
       "    </tr>\n",
       "  </tbody>\n",
       "</table>\n",
       "<p>13587 rows × 51 columns</p>\n",
       "</div>"
      ],
      "text/plain": [
       "       Country ID Country Code Country Name  Region ID         Region Name  \\\n",
       "0             231          ETH     Ethiopia          5  Sub-Saharan Africa   \n",
       "1             231          ETH     Ethiopia          5  Sub-Saharan Africa   \n",
       "2             231          ETH     Ethiopia          5  Sub-Saharan Africa   \n",
       "3             231          ETH     Ethiopia          5  Sub-Saharan Africa   \n",
       "4             231          ETH     Ethiopia          5  Sub-Saharan Africa   \n",
       "...           ...          ...          ...        ...                 ...   \n",
       "13582         231          ETH     Ethiopia          5  Sub-Saharan Africa   \n",
       "13583         231          ETH     Ethiopia          5  Sub-Saharan Africa   \n",
       "13584         231          ETH     Ethiopia          5  Sub-Saharan Africa   \n",
       "13585         231          ETH     Ethiopia          5  Sub-Saharan Africa   \n",
       "13586         231          ETH     Ethiopia          5  Sub-Saharan Africa   \n",
       "\n",
       "       Income Group ID   Income Group Name Income Group Acronym  \\\n",
       "0                    1  Low Income Country                  LIC   \n",
       "1                    1  Low Income Country                  LIC   \n",
       "2                    1  Low Income Country                  LIC   \n",
       "3                    1  Low Income Country                  LIC   \n",
       "4                    1  Low Income Country                  LIC   \n",
       "...                ...                 ...                  ...   \n",
       "13582                1  Low Income Country                  LIC   \n",
       "13583                1  Low Income Country                  LIC   \n",
       "13584                1  Low Income Country                  LIC   \n",
       "13585                1  Low Income Country                  LIC   \n",
       "13586                1  Low Income Country                  LIC   \n",
       "\n",
       "       Managing Agency ID Managing Agency Acronym  ...  \\\n",
       "0                       1                   USAID  ...   \n",
       "1                       1                   USAID  ...   \n",
       "2                       1                   USAID  ...   \n",
       "3                       1                   USAID  ...   \n",
       "4                       1                   USAID  ...   \n",
       "...                   ...                     ...  ...   \n",
       "13582                   1                   USAID  ...   \n",
       "13583                   1                   USAID  ...   \n",
       "13584                   1                   USAID  ...   \n",
       "13585                   1                   USAID  ...   \n",
       "13586                   1                   USAID  ...   \n",
       "\n",
       "                                        Activity Name  \\\n",
       "0                          Title II Emergency Program   \n",
       "1                           Emergency food assistance   \n",
       "2                          Title II Emergency Program   \n",
       "3                           Emergency food assistance   \n",
       "4                             Humanitarian assistance   \n",
       "...                                               ...   \n",
       "13582  FFP/CRITICAL FOOD NEEDS OF TARGETED GROUPS MET   \n",
       "13583                Mitigate the effects of disaster   \n",
       "13584                Mitigate the effects of disaster   \n",
       "13585                   Essential Services for Health   \n",
       "13586  FFP/CRITICAL FOOD NEEDS OF TARGETED GROUPS MET   \n",
       "\n",
       "                                    Activity Description  \\\n",
       "0      Title II Emergency Program through a partner o...   \n",
       "1      Emergency humanitarian food and nutirition ass...   \n",
       "2      Title II Emergency Program through a partner o...   \n",
       "3      Emergency humanitarian food and nutirition ass...   \n",
       "4                       Humanitarian assistance funding.   \n",
       "...                                                  ...   \n",
       "13582         Critical food needs of targeted groups met   \n",
       "13583                   Mitigate the Effects of Disaster   \n",
       "13584                   Mitigate the Effects of Disaster   \n",
       "13585                      Essential Services for Health   \n",
       "13586         Critical food needs of targeted groups met   \n",
       "\n",
       "      Activity Project Number Activity Start Date  Activity End Date  \\\n",
       "0             720BHA22CA00005                 NaN                NaN   \n",
       "1             720BHA22IO00038                 NaN         2023-03-09   \n",
       "2             720BHA22IO00034                 NaN                NaN   \n",
       "3             720BHA22IO00045                 NaN         2022-12-31   \n",
       "4             720BHA22GR00071                 NaN         2024-09-30   \n",
       "...                       ...                 ...                ...   \n",
       "13582                 962-001                 NaN                NaN   \n",
       "13583                 663-011                 NaN                NaN   \n",
       "13584                 663-011                 NaN                NaN   \n",
       "13585                 663-002                 NaN                NaN   \n",
       "13586                 962-001                 NaN                NaN   \n",
       "\n",
       "      Transaction Type ID Transaction Type Name  Fiscal Year  \\\n",
       "0                       2           Obligations         2022   \n",
       "1                       2           Obligations         2022   \n",
       "2                       2           Obligations         2022   \n",
       "3                       2           Obligations         2022   \n",
       "4                       2           Obligations         2022   \n",
       "...                   ...                   ...          ...   \n",
       "13582                   2           Obligations         2002   \n",
       "13583                   2           Obligations         2002   \n",
       "13584                   2           Obligations         2002   \n",
       "13585                   2           Obligations         2002   \n",
       "13586                   2           Obligations         2002   \n",
       "\n",
       "       Current Dollar Amount Constant Dollar Amount  \n",
       "0                  113052149              109155305  \n",
       "1                   77740000               75060346  \n",
       "2                   57420571               55441315  \n",
       "3                   44500000               42966110  \n",
       "4                   39493563               38132242  \n",
       "...                      ...                    ...  \n",
       "13582                 -69035                 -96892  \n",
       "13583                -228000                -320000  \n",
       "13584                -229909                -322679  \n",
       "13585                -284530                -399340  \n",
       "13586                -579358                -813134  \n",
       "\n",
       "[13587 rows x 51 columns]"
      ]
     },
     "execution_count": 5,
     "metadata": {},
     "output_type": "execute_result"
    }
   ],
   "source": [
    "# Due to programming on different operating systems (windows, mac)\n",
    "# Need to change slash chars based on the system to read dfs correctly\n",
    "\n",
    "if(os.name == \"nt\"):\n",
    "    slash_char = \"\\\\\"\n",
    "else:\n",
    "    slash_char = \"/\"\n",
    "\n",
    "Ethiopia_foreign_aid_data = pd.read_csv('.' + slash_char + 'Africa' + slash_char + 'Ethiopia_2022-2002_Econ_Other.csv')\n",
    "Moldova_foreign_aid_data = pd.read_csv('.' + slash_char + 'Europe' + slash_char + 'Moldova_2022-2002_Econ_Other.csv')\n",
    "Yemen_foreign_aid_data = pd.read_csv('.' + slash_char + 'Middle-East' + slash_char + 'Yemen_2022-2002_Econ_Other.csv')\n",
    "Ecuador_foreign_aid_data = pd.read_csv('.' + slash_char + 'South-America' + slash_char + 'Ecuador_2022-2002_Econ_Other.csv')\n",
    "El_Salvador_foreign_aid_data = pd.read_csv('.' + slash_char + slash_char + 'North-America' + slash_char + 'El_Salvador_2022-2002_Econ_Other.csv')\n",
    "Haiti_foreign_aid_data = pd.read_csv('.' + slash_char + slash_char + 'North-America' + slash_char +slash_char + 'Haiti_2022-2002_Econ_Other.csv')\n",
    "\n",
    "countries = [Ethiopia_foreign_aid_data, Moldova_foreign_aid_data,\n",
    "             Yemen_foreign_aid_data, Ecuador_foreign_aid_data, El_Salvador_foreign_aid_data,\n",
    "            Haiti_foreign_aid_data] # For ease of looping\n",
    "\n",
    "Ethiopia_foreign_aid_data"
   ]
  },
  {
   "cell_type": "markdown",
   "metadata": {},
   "source": [
    "Figure 2: The observation for each entity is the Activity that is being funded."
   ]
  },
  {
   "cell_type": "markdown",
   "metadata": {
    "id": "owNeCARMMu9G"
   },
   "source": [
    "### Exploratory Data Analysis"
   ]
  },
  {
   "cell_type": "markdown",
   "metadata": {},
   "source": [
    "First, we are going to focus our attention on columns of importance. This means dropping columns that are for internal US gov use and other secondary IDs that are not of use to our analysis.  "
   ]
  },
  {
   "cell_type": "code",
   "execution_count": 6,
   "metadata": {
    "id": "R6qSdpAzMuIG"
   },
   "outputs": [
    {
     "data": {
      "text/plain": [
       "Index(['Country ID', 'Country Code', 'Country Name', 'Region ID',\n",
       "       'Region Name', 'Income Group ID', 'Income Group Name',\n",
       "       'Managing Agency Acronym', 'Managing Agency Name',\n",
       "       'International Purpose Name', 'US Sector ID', 'US Sector Name',\n",
       "       'Funding Account Name', 'Funding Agency Name', 'Funding Agency Acronym',\n",
       "       'Foreign Assistance Objective Name', 'Aid Type Group Name',\n",
       "       'Activity Name', 'Activity Description', 'Activity Start Date',\n",
       "       'Activity End Date', 'Transaction Type Name', 'Fiscal Year',\n",
       "       'Current Dollar Amount', 'Constant Dollar Amount'],\n",
       "      dtype='object')"
      ]
     },
     "execution_count": 6,
     "metadata": {},
     "output_type": "execute_result"
    }
   ],
   "source": [
    "columns_to_drop = ['Transaction Type ID',\n",
    "        'Foreign Assistance Objective ID',\n",
    "        'Implementing Partner Category ID',\n",
    "        'Implementing Partner Category Name',\n",
    "        'Implementing Partner Sub-category ID',\n",
    "        'Implementing Partner Sub-category Name', \n",
    "        'Implementing Partner ID',\n",
    "        'Implementing Partner Name', \n",
    "        'International Category ID',\n",
    "        'International Category Name',\n",
    "        'International Sector Code',\n",
    "        'International Sector Name', \n",
    "        'International Purpose Code',\n",
    "        'Managing Agency ID',\n",
    "        'Managing Sub-agency or Bureau ID',\n",
    "        'Activity Project Number',\n",
    "        'Managing Sub-agency or Bureau Name',\n",
    "        'Aid Type Group ID',\n",
    "        'Funding Agency ID',\n",
    "        'Submission ID', \n",
    "        'Funding Acount ID',\n",
    "        'Activity ID',\n",
    "        'Income Group Acronym',\n",
    "        'Managing Sub-agency or Bureau Acronym',\n",
    "        'US Category ID',\n",
    "        'US Category Name',\n",
    "    ]\n",
    "\n",
    "\n",
    "for country in countries:\n",
    "    for col in columns_to_drop:\n",
    "        country.drop(labels= col, axis= 'columns', inplace= True)\n",
    "\n",
    "Ethiopia_foreign_aid_data.columns"
   ]
  },
  {
   "cell_type": "markdown",
   "metadata": {},
   "source": [
    "Next, we want to highlight the income of each of the countries to verify that the countries chosen are likely to receive a sizeable amount and diverse range of US foreign aid. "
   ]
  },
  {
   "cell_type": "code",
   "execution_count": 7,
   "metadata": {
    "id": "a5xaj12YL9Fn"
   },
   "outputs": [
    {
     "data": {
      "text/plain": [
       "'Ethiopia: Low Income Country'"
      ]
     },
     "metadata": {},
     "output_type": "display_data"
    },
    {
     "data": {
      "text/plain": [
       "'Moldova: Lower Middle Income Country'"
      ]
     },
     "metadata": {},
     "output_type": "display_data"
    },
    {
     "data": {
      "text/plain": [
       "'Yemen: Low Income Country'"
      ]
     },
     "metadata": {},
     "output_type": "display_data"
    },
    {
     "data": {
      "text/plain": [
       "'Ecuador: Upper Middle Income Country'"
      ]
     },
     "metadata": {},
     "output_type": "display_data"
    },
    {
     "data": {
      "text/plain": [
       "'El Salvador: Lower Middle Income Country'"
      ]
     },
     "metadata": {},
     "output_type": "display_data"
    },
    {
     "data": {
      "text/plain": [
       "'Haiti: Low Income Country'"
      ]
     },
     "metadata": {},
     "output_type": "display_data"
    }
   ],
   "source": [
    "for country in countries:\n",
    "    display(country['Country Name'][0] + ': '+ country['Income Group Name'][0])"
   ]
  },
  {
   "cell_type": "markdown",
   "metadata": {},
   "source": [
    "Furthermore, we want to get rid of entries / aid projects that come from military sources since they would not have impacts on the metrics we are interested in."
   ]
  },
  {
   "cell_type": "code",
   "execution_count": 8,
   "metadata": {},
   "outputs": [],
   "source": [
    "# Drop rows unrelated to economic/health development\n",
    "for i, country in enumerate(countries):\n",
    "    country.drop(country[country[\"Managing Agency Name\"] == 'Department of Defense'].index, inplace = True)\n",
    "    country.drop(country[country[\"Managing Agency Name\"] == 'Department of Homeland Security'].index, inplace = True)\n",
    "    country.drop(country[country[\"Managing Agency Name\"] == 'Department of Justice'].index, inplace = True)\n",
    "    country.drop(country[country[\"Managing Agency Name\"] == 'Department of the Army'].index, inplace = True)\n",
    "    country.drop(country[country[\"Managing Agency Name\"] == 'Department of the Interior'].index, inplace = True)\n",
    "    # Drop row if dollar amount is less than 0 as this is usually a redaction of funds\n",
    "    country.drop(country[country[\"Constant Dollar Amount\"] < 0 ].index, inplace = True)\n"
   ]
  },
  {
   "cell_type": "markdown",
   "metadata": {},
   "source": [
    "Fun fact: The U.S. has given over $35 million to ethiopia for election related activities \n"
   ]
  },
  {
   "cell_type": "code",
   "execution_count": 9,
   "metadata": {},
   "outputs": [
    {
     "name": "stdout",
     "output_type": "stream",
     "text": [
      "$37,957,689.00\n"
     ]
    }
   ],
   "source": [
    "Ethiopia_Election_df = Ethiopia_foreign_aid_data[Ethiopia_foreign_aid_data['Activity Name'].str.contains('Election')]\n",
    "\n",
    "money_sum = Ethiopia_Election_df[\"Constant Dollar Amount\"].sum()\n",
    "\n",
    "print('${:,.2f}'.format(money_sum))\n"
   ]
  },
  {
   "cell_type": "markdown",
   "metadata": {},
   "source": [
    "Let's plot the amount of foreign aid received by country. This exploration will help us determine which of the countries chosen recieve the most aid. Make sure to pay attention to the axis labels! "
   ]
  },
  {
   "cell_type": "code",
   "execution_count": 10,
   "metadata": {},
   "outputs": [
    {
     "data": {
      "text/plain": [
       "Text(0.5, 1.0, 'Yemen')"
      ]
     },
     "execution_count": 10,
     "metadata": {},
     "output_type": "execute_result"
    },
    {
     "data": {
      "image/png": "[encoded data removed]",
      "text/plain": [
       "<Figure size 1200x1000 with 6 Axes>"
      ]
     },
     "metadata": {},
     "output_type": "display_data"
    }
   ],
   "source": [
    "fig, axes = plt.subplots(2, 3, figsize=(12,10) , sharey= True)\n",
    "fig.tight_layout(h_pad= 3)\n",
    "\n",
    "sns.lineplot(Ethiopia_foreign_aid_data, x= 'Fiscal Year', y= 'Constant Dollar Amount', ax= axes[0,0]).set_title('Ethiopia')\n",
    "sns.lineplot(Moldova_foreign_aid_data , x= 'Fiscal Year', y= 'Constant Dollar Amount', ax= axes[0,1]).set_title('Moldova')\n",
    "sns.lineplot(Haiti_foreign_aid_data , x= 'Fiscal Year', y= 'Constant Dollar Amount', ax= axes[1,0]).set_title('Haiti')\n",
    "sns.lineplot(Ecuador_foreign_aid_data , x= 'Fiscal Year', y= 'Constant Dollar Amount', ax= axes[1,1]).set_title('Ecuador')\n",
    "sns.lineplot(El_Salvador_foreign_aid_data, x= 'Fiscal Year', y= 'Constant Dollar Amount', ax= axes[0,2]).set_title('El Salvador')\n",
    "sns.lineplot(Yemen_foreign_aid_data, x= 'Fiscal Year', y= 'Constant Dollar Amount', ax= axes[1,2]).set_title('Yemen')\n"
   ]
  },
  {
   "cell_type": "markdown",
   "metadata": {},
   "source": [
    "Graph 1: As we can see, Yemen receives the most US aid in the recent years. Next, let's examine which agencies give the most aid. This will allow us to determine which category, health or economic, the country receives the most aid in. "
   ]
  },
  {
   "cell_type": "code",
   "execution_count": 11,
   "metadata": {},
   "outputs": [],
   "source": [
    "# Get the top 5 agencies by money spent \n",
    "\n",
    "country_by_funding_agency = []\n",
    "for i, country  in enumerate(countries):\n",
    "    # Groupby funding agency to get money spent per agency.\n",
    "    country_by_funding_agency.append(pd.DataFrame(country.groupby('Funding Agency Acronym')['Constant Dollar Amount'].sum()))\n",
    "    country_by_funding_agency[i].reset_index(inplace=True) # Reset index for plotting\n",
    "    # Sort and locate the top 5 agencies by money spent\n",
    "    country_by_funding_agency[i] = country_by_funding_agency[i].sort_values(ascending= False, by= 'Constant Dollar Amount')\n",
    "    country_by_funding_agency[i] = country_by_funding_agency[i].iloc[0:5] "
   ]
  },
  {
   "cell_type": "code",
   "execution_count": 12,
   "metadata": {
    "scrolled": false
   },
   "outputs": [
    {
     "data": {
      "text/plain": [
       "Text(0.5, 1.0, 'Haiti')"
      ]
     },
     "execution_count": 12,
     "metadata": {},
     "output_type": "execute_result"
    },
    {
     "data": {
      "image/png": "[encoded data removed]",
      "text/plain": [
       "<Figure size 1200x1000 with 6 Axes>"
      ]
     },
     "metadata": {},
     "output_type": "display_data"
    }
   ],
   "source": [
    "# Plotting the top 5 agencies by money spent\n",
    "fig, axes = plt.subplots(2, 3, figsize=(12,10))\n",
    "fig.tight_layout(h_pad= 3)\n",
    "\n",
    "sns.barplot(data= country_by_funding_agency[0] , x= 'Funding Agency Acronym', y= 'Constant Dollar Amount',  ax= axes[0,0]).set_title('Ethiopia')\n",
    "sns.barplot(data= country_by_funding_agency[1] , x= 'Funding Agency Acronym', y= 'Constant Dollar Amount',  ax= axes[1,2]).set_title('Moldova')\n",
    "sns.barplot(data= country_by_funding_agency[2] , x= 'Funding Agency Acronym', y= 'Constant Dollar Amount',  ax= axes[1,0]).set_title('Yemen')\n",
    "sns.barplot(data= country_by_funding_agency[3] , x= 'Funding Agency Acronym', y= 'Constant Dollar Amount',  ax= axes[1,1]).set_title('Ecuador')\n",
    "sns.barplot(data= country_by_funding_agency[4] , x= 'Funding Agency Acronym', y= 'Constant Dollar Amount',  ax= axes[0,1]).set_title('El Salvador')\n",
    "sns.barplot(data= country_by_funding_agency[5] , x= 'Funding Agency Acronym', y= 'Constant Dollar Amount',  ax= axes[0,2]).set_title('Haiti')\n",
    "\n",
    "\n"
   ]
  },
  {
   "cell_type": "markdown",
   "metadata": {},
   "source": [
    "Graph 3: Bar charts describing the amount of money spent by agency."
   ]
  },
  {
   "cell_type": "markdown",
   "metadata": {},
   "source": [
    "### Closing thoughts \n"
   ]
  },
  {
   "cell_type": "markdown",
   "metadata": {},
   "source": [
    "#### Collaboration Plan\n",
    "Our collaboration plan is to meet once or twice a week mostly in-person as needed. We’ve been meeting up at the library and will likely continue to do so. If we have an increased workload to complete, we will decide to either meetup for longer or assign tasks to finish by the next meeting. "
   ]
  },
  {
   "cell_type": "markdown",
   "metadata": {},
   "source": [
    "#### Challenges With Data\n",
    "\n",
    "A key challenge we came across was getting recent data from gapminder as many of their datasets only had data up until 2010, however, our timeframe was up until 2020. So we found the source of the health data from Gapminder, which came from the World Health Organization and found more up-to-date datasets which contained data up to 2020."
   ]
  },
  {
   "cell_type": "markdown",
   "metadata": {},
   "source": [
    "# Milestone 2"
   ]
  },
  {
   "cell_type": "markdown",
   "metadata": {},
   "source": [
    "## GW13 Dataset"
   ]
  },
  {
   "cell_type": "markdown",
   "metadata": {},
   "source": [
    "Our second datatset comes from the [GW13 WHO Dataset](https://www.who.int/data/inequality-monitor/data#PageContent_C160_Col00), which contains health markers of interest, stratified by country and year. We did most of the basic filtering of data in Excel as not to clutter the report. We plan on using this data to contextualize and predict the importance of various funding and their quantifible impact on health outcomes in our countries of interest. "
   ]
  },
  {
   "cell_type": "code",
   "execution_count": 13,
   "metadata": {},
   "outputs": [
    {
     "data": {
      "text/html": [
       "<div>\n",
       "<style scoped>\n",
       "    .dataframe tbody tr th:only-of-type {\n",
       "        vertical-align: middle;\n",
       "    }\n",
       "\n",
       "    .dataframe tbody tr th {\n",
       "        vertical-align: top;\n",
       "    }\n",
       "\n",
       "    .dataframe thead th {\n",
       "        text-align: right;\n",
       "    }\n",
       "</style>\n",
       "<table border=\"1\" class=\"dataframe\">\n",
       "  <thead>\n",
       "    <tr style=\"text-align: right;\">\n",
       "      <th></th>\n",
       "      <th>setting</th>\n",
       "      <th>year</th>\n",
       "      <th>indicator_abbr</th>\n",
       "      <th>indicator_name</th>\n",
       "      <th>dimension</th>\n",
       "      <th>subgroup</th>\n",
       "      <th>estimate</th>\n",
       "      <th>population</th>\n",
       "      <th>indicator_scale</th>\n",
       "    </tr>\n",
       "  </thead>\n",
       "  <tbody>\n",
       "    <tr>\n",
       "      <th>0</th>\n",
       "      <td>Ecuador</td>\n",
       "      <td>2002</td>\n",
       "      <td>alcohol</td>\n",
       "      <td>Total alcohol per capita consumption in adults...</td>\n",
       "      <td>Sex</td>\n",
       "      <td>Female</td>\n",
       "      <td>2.0</td>\n",
       "      <td>NaN</td>\n",
       "      <td>100</td>\n",
       "    </tr>\n",
       "    <tr>\n",
       "      <th>1</th>\n",
       "      <td>Ecuador</td>\n",
       "      <td>2002</td>\n",
       "      <td>alcohol</td>\n",
       "      <td>Total alcohol per capita consumption in adults...</td>\n",
       "      <td>Sex</td>\n",
       "      <td>Male</td>\n",
       "      <td>7.0</td>\n",
       "      <td>NaN</td>\n",
       "      <td>100</td>\n",
       "    </tr>\n",
       "    <tr>\n",
       "      <th>2</th>\n",
       "      <td>Ecuador</td>\n",
       "      <td>2002</td>\n",
       "      <td>bp</td>\n",
       "      <td>Prevalence of hypertension among adults aged 3...</td>\n",
       "      <td>Sex</td>\n",
       "      <td>Female</td>\n",
       "      <td>25.0</td>\n",
       "      <td>NaN</td>\n",
       "      <td>100</td>\n",
       "    </tr>\n",
       "    <tr>\n",
       "      <th>3</th>\n",
       "      <td>Ecuador</td>\n",
       "      <td>2002</td>\n",
       "      <td>bp</td>\n",
       "      <td>Prevalence of hypertension among adults aged 3...</td>\n",
       "      <td>Sex</td>\n",
       "      <td>Male</td>\n",
       "      <td>23.0</td>\n",
       "      <td>NaN</td>\n",
       "      <td>100</td>\n",
       "    </tr>\n",
       "    <tr>\n",
       "      <th>4</th>\n",
       "      <td>Ecuador</td>\n",
       "      <td>2002</td>\n",
       "      <td>hh_san_sm</td>\n",
       "      <td>Population using safely managed sanitation ser...</td>\n",
       "      <td>Place of residence</td>\n",
       "      <td>Rural</td>\n",
       "      <td>44.0</td>\n",
       "      <td>5110442.0</td>\n",
       "      <td>100</td>\n",
       "    </tr>\n",
       "    <tr>\n",
       "      <th>...</th>\n",
       "      <td>...</td>\n",
       "      <td>...</td>\n",
       "      <td>...</td>\n",
       "      <td>...</td>\n",
       "      <td>...</td>\n",
       "      <td>...</td>\n",
       "      <td>...</td>\n",
       "      <td>...</td>\n",
       "      <td>...</td>\n",
       "    </tr>\n",
       "    <tr>\n",
       "      <th>5438</th>\n",
       "      <td>Yemen</td>\n",
       "      <td>2020</td>\n",
       "      <td>tb_incidence</td>\n",
       "      <td>TB incidence (new infections per 100 000 popul...</td>\n",
       "      <td>Sex</td>\n",
       "      <td>Female</td>\n",
       "      <td>44.0</td>\n",
       "      <td>14800983.0</td>\n",
       "      <td>100000</td>\n",
       "    </tr>\n",
       "    <tr>\n",
       "      <th>5439</th>\n",
       "      <td>Yemen</td>\n",
       "      <td>2020</td>\n",
       "      <td>tb_incidence</td>\n",
       "      <td>TB incidence (new infections per 100 000 popul...</td>\n",
       "      <td>Sex</td>\n",
       "      <td>Male</td>\n",
       "      <td>53.0</td>\n",
       "      <td>15024985.0</td>\n",
       "      <td>100000</td>\n",
       "    </tr>\n",
       "    <tr>\n",
       "      <th>5440</th>\n",
       "      <td>Yemen</td>\n",
       "      <td>2020</td>\n",
       "      <td>u5mr</td>\n",
       "      <td>Under-five mortality rate (deaths per 1000 liv...</td>\n",
       "      <td>Sex</td>\n",
       "      <td>Female</td>\n",
       "      <td>55.0</td>\n",
       "      <td>NaN</td>\n",
       "      <td>1000</td>\n",
       "    </tr>\n",
       "    <tr>\n",
       "      <th>5441</th>\n",
       "      <td>Yemen</td>\n",
       "      <td>2020</td>\n",
       "      <td>u5mr</td>\n",
       "      <td>Under-five mortality rate (deaths per 1000 liv...</td>\n",
       "      <td>Sex</td>\n",
       "      <td>Male</td>\n",
       "      <td>64.0</td>\n",
       "      <td>NaN</td>\n",
       "      <td>1000</td>\n",
       "    </tr>\n",
       "    <tr>\n",
       "      <th>5442</th>\n",
       "      <td>Yemen</td>\n",
       "      <td>2020</td>\n",
       "      <td>life_ex</td>\n",
       "      <td>Life Expectancy</td>\n",
       "      <td>NaN</td>\n",
       "      <td>NaN</td>\n",
       "      <td>67.9</td>\n",
       "      <td>NaN</td>\n",
       "      <td>100</td>\n",
       "    </tr>\n",
       "  </tbody>\n",
       "</table>\n",
       "<p>5443 rows × 9 columns</p>\n",
       "</div>"
      ],
      "text/plain": [
       "      setting  year indicator_abbr  \\\n",
       "0     Ecuador  2002        alcohol   \n",
       "1     Ecuador  2002        alcohol   \n",
       "2     Ecuador  2002             bp   \n",
       "3     Ecuador  2002             bp   \n",
       "4     Ecuador  2002      hh_san_sm   \n",
       "...       ...   ...            ...   \n",
       "5438    Yemen  2020   tb_incidence   \n",
       "5439    Yemen  2020   tb_incidence   \n",
       "5440    Yemen  2020           u5mr   \n",
       "5441    Yemen  2020           u5mr   \n",
       "5442    Yemen  2020        life_ex   \n",
       "\n",
       "                                         indicator_name           dimension  \\\n",
       "0     Total alcohol per capita consumption in adults...                 Sex   \n",
       "1     Total alcohol per capita consumption in adults...                 Sex   \n",
       "2     Prevalence of hypertension among adults aged 3...                 Sex   \n",
       "3     Prevalence of hypertension among adults aged 3...                 Sex   \n",
       "4     Population using safely managed sanitation ser...  Place of residence   \n",
       "...                                                 ...                 ...   \n",
       "5438  TB incidence (new infections per 100 000 popul...                 Sex   \n",
       "5439  TB incidence (new infections per 100 000 popul...                 Sex   \n",
       "5440  Under-five mortality rate (deaths per 1000 liv...                 Sex   \n",
       "5441  Under-five mortality rate (deaths per 1000 liv...                 Sex   \n",
       "5442                                    Life Expectancy                 NaN   \n",
       "\n",
       "     subgroup  estimate  population  indicator_scale  \n",
       "0      Female       2.0         NaN              100  \n",
       "1        Male       7.0         NaN              100  \n",
       "2      Female      25.0         NaN              100  \n",
       "3        Male      23.0         NaN              100  \n",
       "4       Rural      44.0   5110442.0              100  \n",
       "...       ...       ...         ...              ...  \n",
       "5438   Female      44.0  14800983.0           100000  \n",
       "5439     Male      53.0  15024985.0           100000  \n",
       "5440   Female      55.0         NaN             1000  \n",
       "5441     Male      64.0         NaN             1000  \n",
       "5442      NaN      67.9         NaN              100  \n",
       "\n",
       "[5443 rows x 9 columns]"
      ]
     },
     "execution_count": 13,
     "metadata": {},
     "output_type": "execute_result"
    }
   ],
   "source": [
    "gw19_df = pd.read_excel(\"..\" + slash_char + \"WHO_datasets\"+ slash_char + \"GW19_2002_2020_filtered.xlsx\")\n",
    "gw19_df"
   ]
  },
  {
   "cell_type": "code",
   "execution_count": 14,
   "metadata": {},
   "outputs": [],
   "source": [
    "safe_water_percent = gw19_df[gw19_df['indicator_name'] == \"Population using safely managed drinking water services (%)\"]\n",
    "safe_water_percent = safe_water_percent[safe_water_percent[\"setting\"] == \"Ethiopia\"]\n",
    "\n",
    "safe_water_percent_rural = safe_water_percent[safe_water_percent[\"subgroup\"] == \"Rural\"]\n",
    "safe_water_percent_urban = safe_water_percent[safe_water_percent[\"subgroup\"] == \"Urban\"]"
   ]
  },
  {
   "cell_type": "code",
   "execution_count": 15,
   "metadata": {},
   "outputs": [
    {
     "data": {
      "image/png": "[encoded data removed]",
      "text/plain": [
       "<Figure size 640x480 with 1 Axes>"
      ]
     },
     "metadata": {},
     "output_type": "display_data"
    }
   ],
   "source": [
    "import matplotlib.ticker as mtick\n",
    "\n",
    "Ethiopia_water_spending = Ethiopia_foreign_aid_data[Ethiopia_foreign_aid_data['International Purpose Name'].str.contains('water', case=False)]\n",
    "\n",
    "x = Ethiopia_water_spending[\"Fiscal Year\"]\n",
    "y = Ethiopia_water_spending[\"Current Dollar Amount\"]\n",
    "\n",
    "fig, ax = plt.subplots()\n",
    "fig.suptitle('Funding Amounts Related to Water')\n",
    "\n",
    "ax.bar(x, y)\n",
    "ax.ticklabel_format(useOffset=False, style='plain')\n",
    "\n",
    "\n",
    "fmt = '${x:,.0f}'\n",
    "tick = mtick.StrMethodFormatter(fmt)\n",
    "ax.yaxis.set_major_formatter(tick) \n",
    "\n",
    "plt.xlabel('Year', fontsize=14)\n",
    "plt.ylabel('Current Dollar Amounts', fontsize=14)\n",
    "\n",
    "plt.show()"
   ]
  },
  {
   "cell_type": "code",
   "execution_count": 16,
   "metadata": {
    "scrolled": true
   },
   "outputs": [
    {
     "data": {
      "text/plain": [
       "[Text(0.5, 20.049999999999997, 'Year'),\n",
       " Text(310.5454545454545, 0.5, '% with Clean Drinking Water')]"
      ]
     },
     "execution_count": 16,
     "metadata": {},
     "output_type": "execute_result"
    },
    {
     "data": {
      "image/png": "[encoded data removed]",
      "text/plain": [
       "<Figure size 640x480 with 2 Axes>"
      ]
     },
     "metadata": {},
     "output_type": "display_data"
    }
   ],
   "source": [
    "fig, (ax1, ax2) = plt.subplots(1,2)\n",
    "fig.suptitle('% of Ethiopian Population With Safe Drinking Water')\n",
    "fig.tight_layout(pad=3)\n",
    "\n",
    "\n",
    "x = safe_water_percent_rural[\"year\"]\n",
    "y = safe_water_percent_rural[\"estimate\"]\n",
    "\n",
    "z = safe_water_percent_urban[\"year\"]\n",
    "w = safe_water_percent_urban[\"estimate\"]\n",
    "\n",
    "\n",
    "ax1.plot(x, y)\n",
    "ax1.set_title('Rural Population')\n",
    "ax1.yaxis.set_major_formatter(mtick.PercentFormatter())\n",
    "\n",
    "ax1.set(xlabel='Year', ylabel='% with Clean Drinking Water')\n",
    "\n",
    "\n",
    "ax2.plot(z, w)\n",
    "ax2.set_title('Urban Population')\n",
    "ax2.yaxis.set_major_formatter(mtick.PercentFormatter())\n",
    "ax2.set(xlabel='Year', ylabel='% with Clean Drinking Water')\n"
   ]
  },
  {
   "cell_type": "markdown",
   "metadata": {},
   "source": [
    "### Cereal Production dataset\n",
    "Cereal production is vital to a country's self-sustainability and ability to feed its own without heavy reliance on foreign imports. Moreover, after careful examination of the dataset (see figure 2 for more details), many activity descriptions discuss improving food security. Many of the studied countries fall into the last places in the [Global Food Security Index](https://impact.economist.com/sustainability/project/food-security-index#rankings-and-trends 'Food Security Inded'). This fact makes domestic food production of prime importance for many of these countries. We look to examine if changes in aid donation affects the amount of cereal produced. We will only examine entries that contain certain indicators of food assistance. \n",
    "\n",
    "From looking at the dataset, we have concluded that the following words are indicators of the entity being for food assistance:\n",
    "* 'Food Assistance'\n",
    "* 'Emergency food assistance'\n",
    "* And any other entities containing 'food' in the 'International Purpose Name' column."
   ]
  },
  {
   "cell_type": "markdown",
   "metadata": {},
   "source": [
    "![food_security_index.jpg](docs/assets/food_security_index.jpg)\n",
    "Figure 3: Global Food Security Index 99th-113th ranked countries in food security. Here lies 3 of our countries: Ethiopia at 100th, Yemen at 111th, and Haiti at 112th."
   ]
  },
  {
   "cell_type": "markdown",
   "metadata": {},
   "source": [
    "#### Obtaining the dataset"
   ]
  },
  {
   "cell_type": "code",
   "execution_count": 17,
   "metadata": {},
   "outputs": [],
   "source": [
    "os.chdir(\"..\" + slash_char + \"food_datasets\")\n",
    "\n",
    "cereal_df = pd.read_csv('cereal-production.csv')"
   ]
  },
  {
   "cell_type": "code",
   "execution_count": 18,
   "metadata": {},
   "outputs": [
    {
     "data": {
      "text/html": [
       "<div>\n",
       "<style scoped>\n",
       "    .dataframe tbody tr th:only-of-type {\n",
       "        vertical-align: middle;\n",
       "    }\n",
       "\n",
       "    .dataframe tbody tr th {\n",
       "        vertical-align: top;\n",
       "    }\n",
       "\n",
       "    .dataframe thead th {\n",
       "        text-align: right;\n",
       "    }\n",
       "</style>\n",
       "<table border=\"1\" class=\"dataframe\">\n",
       "  <thead>\n",
       "    <tr style=\"text-align: right;\">\n",
       "      <th></th>\n",
       "      <th>Entity</th>\n",
       "      <th>Year</th>\n",
       "      <th>Cereals Production (tonnes)</th>\n",
       "    </tr>\n",
       "  </thead>\n",
       "  <tbody>\n",
       "    <tr>\n",
       "      <th>0</th>\n",
       "      <td>Ecuador</td>\n",
       "      <td>2002</td>\n",
       "      <td>2057298</td>\n",
       "    </tr>\n",
       "    <tr>\n",
       "      <th>1</th>\n",
       "      <td>Ecuador</td>\n",
       "      <td>2003</td>\n",
       "      <td>2055013</td>\n",
       "    </tr>\n",
       "    <tr>\n",
       "      <th>2</th>\n",
       "      <td>Ecuador</td>\n",
       "      <td>2004</td>\n",
       "      <td>2607223</td>\n",
       "    </tr>\n",
       "    <tr>\n",
       "      <th>3</th>\n",
       "      <td>Ecuador</td>\n",
       "      <td>2005</td>\n",
       "      <td>2303958</td>\n",
       "    </tr>\n",
       "    <tr>\n",
       "      <th>4</th>\n",
       "      <td>Ecuador</td>\n",
       "      <td>2006</td>\n",
       "      <td>2278620</td>\n",
       "    </tr>\n",
       "  </tbody>\n",
       "</table>\n",
       "</div>"
      ],
      "text/plain": [
       "    Entity  Year  Cereals Production (tonnes)\n",
       "0  Ecuador  2002                      2057298\n",
       "1  Ecuador  2003                      2055013\n",
       "2  Ecuador  2004                      2607223\n",
       "3  Ecuador  2005                      2303958\n",
       "4  Ecuador  2006                      2278620"
      ]
     },
     "execution_count": 18,
     "metadata": {},
     "output_type": "execute_result"
    }
   ],
   "source": [
    "cereal_df.head()"
   ]
  },
  {
   "cell_type": "markdown",
   "metadata": {},
   "source": [
    "#### Getting the funding amounts related to food"
   ]
  },
  {
   "cell_type": "code",
   "execution_count": 19,
   "metadata": {},
   "outputs": [
    {
     "data": {
      "text/html": [
       "<div>\n",
       "<style scoped>\n",
       "    .dataframe tbody tr th:only-of-type {\n",
       "        vertical-align: middle;\n",
       "    }\n",
       "\n",
       "    .dataframe tbody tr th {\n",
       "        vertical-align: top;\n",
       "    }\n",
       "\n",
       "    .dataframe thead th {\n",
       "        text-align: right;\n",
       "    }\n",
       "</style>\n",
       "<table border=\"1\" class=\"dataframe\">\n",
       "  <thead>\n",
       "    <tr style=\"text-align: right;\">\n",
       "      <th></th>\n",
       "      <th>Current Dollar Amount</th>\n",
       "      <th>Country Name</th>\n",
       "    </tr>\n",
       "    <tr>\n",
       "      <th>Fiscal Year</th>\n",
       "      <th></th>\n",
       "      <th></th>\n",
       "    </tr>\n",
       "  </thead>\n",
       "  <tbody>\n",
       "    <tr>\n",
       "      <th>2002</th>\n",
       "      <td>77724560</td>\n",
       "      <td>Ethiopia</td>\n",
       "    </tr>\n",
       "    <tr>\n",
       "      <th>2003</th>\n",
       "      <td>368507947</td>\n",
       "      <td>Ethiopia</td>\n",
       "    </tr>\n",
       "    <tr>\n",
       "      <th>2004</th>\n",
       "      <td>254435836</td>\n",
       "      <td>Ethiopia</td>\n",
       "    </tr>\n",
       "    <tr>\n",
       "      <th>2005</th>\n",
       "      <td>467729117</td>\n",
       "      <td>Ethiopia</td>\n",
       "    </tr>\n",
       "    <tr>\n",
       "      <th>2006</th>\n",
       "      <td>150265025</td>\n",
       "      <td>Ethiopia</td>\n",
       "    </tr>\n",
       "  </tbody>\n",
       "</table>\n",
       "</div>"
      ],
      "text/plain": [
       "             Current Dollar Amount Country Name\n",
       "Fiscal Year                                    \n",
       "2002                      77724560     Ethiopia\n",
       "2003                     368507947     Ethiopia\n",
       "2004                     254435836     Ethiopia\n",
       "2005                     467729117     Ethiopia\n",
       "2006                     150265025     Ethiopia"
      ]
     },
     "execution_count": 19,
     "metadata": {},
     "output_type": "execute_result"
    }
   ],
   "source": [
    "food_aid = pd.DataFrame()\n",
    "\n",
    "\n",
    "Ethiopia_cereal_data = Ethiopia_foreign_aid_data.loc[Ethiopia_foreign_aid_data['International Purpose Name'].str.contains(\n",
    "                            'food', case=False)][['Current Dollar Amount', 'Fiscal Year']].groupby('Fiscal Year').sum()\n",
    "\n",
    "Yemen_cereal_data    = Yemen_foreign_aid_data.loc[Yemen_foreign_aid_data['International Purpose Name'].str.contains(\n",
    "                            'food', case=False)][['Current Dollar Amount', 'Fiscal Year']].groupby('Fiscal Year').sum()\n",
    "\n",
    "Haiti_cereal_data    = Haiti_foreign_aid_data.loc[Haiti_foreign_aid_data['International Purpose Name'].str.contains(\n",
    "                            'food', case=False)][['Current Dollar Amount', 'Fiscal Year']].groupby('Fiscal Year').sum()                     \n",
    "\n",
    "Moldova_foreign_aid_data = Moldova_foreign_aid_data.loc[Moldova_foreign_aid_data['International Purpose Name'].str.contains(\n",
    "                            'food', case=False)][['Current Dollar Amount', 'Fiscal Year']].groupby('Fiscal Year').sum() \n",
    "\n",
    "El_Salvador_foreign_aid_data = El_Salvador_foreign_aid_data.loc[El_Salvador_foreign_aid_data['International Purpose Name'].str.contains(\n",
    "                            'food', case=False)][['Current Dollar Amount', 'Fiscal Year']].groupby('Fiscal Year').sum()\n",
    "\n",
    "Ecuador_foreign_aid_data = Ecuador_foreign_aid_data.loc[Ecuador_foreign_aid_data['International Purpose Name'].str.contains(\n",
    "                            'food', case=False)][['Current Dollar Amount', 'Fiscal Year']].groupby('Fiscal Year').sum() \n",
    "\n",
    "\n",
    "\n",
    "\n",
    "# Add the country codes into the df\n",
    "Ethiopia_cereal_data['Country Name'] = 'Ethiopia'\n",
    "Yemen_cereal_data['Country Name'] = 'Yemen'\n",
    "Haiti_cereal_data['Country Name'] = 'Haiti'\n",
    "Moldova_foreign_aid_data['Country Name'] = 'Moldova'\n",
    "El_Salvador_foreign_aid_data['Country Name'] = 'El Salvador'  \n",
    "Ecuador_foreign_aid_data['Country Name'] = 'Ecuador'\n",
    "\n",
    "\n",
    "food_aid = pd.concat([Ethiopia_cereal_data,\n",
    "                        Yemen_cereal_data,\n",
    "                        Haiti_cereal_data,  \n",
    "                        Moldova_foreign_aid_data,\n",
    "                        El_Salvador_foreign_aid_data,\n",
    "                        Ecuador_foreign_aid_data                     \n",
    "                     ])\n",
    "\n",
    "# Lets break this down-- \n",
    "# First, we locate the column International Purpose Name and changing it into a string in order to check if it contains the string 'food', not case-senstitive. \n",
    "# Second, we slice the 'Current Dollar Amount' and 'Fiscal Year' from the dataframe into its own data frame.\n",
    "# Next, we group by the 'Fiscal Year' and sum to get all of the aid spend on food in a given year, by country.\n",
    "# Finally, we add the country names and concatenate into a single dataframe.\n",
    "\n",
    "\n",
    "\n",
    "food_aid.head()"
   ]
  },
  {
   "cell_type": "markdown",
   "metadata": {},
   "source": [
    "Now, in order to effectively merge them, we will merge their names and year in order to get a single key that can be used to merge upon. "
   ]
  },
  {
   "cell_type": "code",
   "execution_count": 20,
   "metadata": {},
   "outputs": [
    {
     "data": {
      "text/html": [
       "<div>\n",
       "<style scoped>\n",
       "    .dataframe tbody tr th:only-of-type {\n",
       "        vertical-align: middle;\n",
       "    }\n",
       "\n",
       "    .dataframe tbody tr th {\n",
       "        vertical-align: top;\n",
       "    }\n",
       "\n",
       "    .dataframe thead th {\n",
       "        text-align: right;\n",
       "    }\n",
       "</style>\n",
       "<table border=\"1\" class=\"dataframe\">\n",
       "  <thead>\n",
       "    <tr style=\"text-align: right;\">\n",
       "      <th></th>\n",
       "      <th>Fiscal Year</th>\n",
       "      <th>Current Dollar Amount</th>\n",
       "      <th>Country Name</th>\n",
       "      <th>Year_Name</th>\n",
       "    </tr>\n",
       "  </thead>\n",
       "  <tbody>\n",
       "    <tr>\n",
       "      <th>0</th>\n",
       "      <td>2002</td>\n",
       "      <td>77724560</td>\n",
       "      <td>Ethiopia</td>\n",
       "      <td>Ethiopia2002</td>\n",
       "    </tr>\n",
       "    <tr>\n",
       "      <th>1</th>\n",
       "      <td>2003</td>\n",
       "      <td>368507947</td>\n",
       "      <td>Ethiopia</td>\n",
       "      <td>Ethiopia2003</td>\n",
       "    </tr>\n",
       "    <tr>\n",
       "      <th>2</th>\n",
       "      <td>2004</td>\n",
       "      <td>254435836</td>\n",
       "      <td>Ethiopia</td>\n",
       "      <td>Ethiopia2004</td>\n",
       "    </tr>\n",
       "    <tr>\n",
       "      <th>3</th>\n",
       "      <td>2005</td>\n",
       "      <td>467729117</td>\n",
       "      <td>Ethiopia</td>\n",
       "      <td>Ethiopia2005</td>\n",
       "    </tr>\n",
       "    <tr>\n",
       "      <th>4</th>\n",
       "      <td>2006</td>\n",
       "      <td>150265025</td>\n",
       "      <td>Ethiopia</td>\n",
       "      <td>Ethiopia2006</td>\n",
       "    </tr>\n",
       "  </tbody>\n",
       "</table>\n",
       "</div>"
      ],
      "text/plain": [
       "  Fiscal Year  Current Dollar Amount Country Name     Year_Name\n",
       "0        2002               77724560     Ethiopia  Ethiopia2002\n",
       "1        2003              368507947     Ethiopia  Ethiopia2003\n",
       "2        2004              254435836     Ethiopia  Ethiopia2004\n",
       "3        2005              467729117     Ethiopia  Ethiopia2005\n",
       "4        2006              150265025     Ethiopia  Ethiopia2006"
      ]
     },
     "execution_count": 20,
     "metadata": {},
     "output_type": "execute_result"
    }
   ],
   "source": [
    "food_aid.reset_index(inplace= True)\n",
    "\n",
    "food_aid['Fiscal Year'] = food_aid['Fiscal Year'].astype('string')\n",
    "food_aid['Year_Name'] = food_aid['Country Name'] + food_aid['Fiscal Year']\n",
    "\n",
    "food_aid.head()"
   ]
  },
  {
   "cell_type": "code",
   "execution_count": 21,
   "metadata": {
    "scrolled": true
   },
   "outputs": [
    {
     "data": {
      "text/html": [
       "<div>\n",
       "<style scoped>\n",
       "    .dataframe tbody tr th:only-of-type {\n",
       "        vertical-align: middle;\n",
       "    }\n",
       "\n",
       "    .dataframe tbody tr th {\n",
       "        vertical-align: top;\n",
       "    }\n",
       "\n",
       "    .dataframe thead th {\n",
       "        text-align: right;\n",
       "    }\n",
       "</style>\n",
       "<table border=\"1\" class=\"dataframe\">\n",
       "  <thead>\n",
       "    <tr style=\"text-align: right;\">\n",
       "      <th></th>\n",
       "      <th>Entity</th>\n",
       "      <th>Year</th>\n",
       "      <th>Cereals Production (tonnes)</th>\n",
       "      <th>Year_Name</th>\n",
       "    </tr>\n",
       "  </thead>\n",
       "  <tbody>\n",
       "    <tr>\n",
       "      <th>0</th>\n",
       "      <td>Ecuador</td>\n",
       "      <td>2002</td>\n",
       "      <td>2057298</td>\n",
       "      <td>Ecuador2002</td>\n",
       "    </tr>\n",
       "    <tr>\n",
       "      <th>1</th>\n",
       "      <td>Ecuador</td>\n",
       "      <td>2003</td>\n",
       "      <td>2055013</td>\n",
       "      <td>Ecuador2003</td>\n",
       "    </tr>\n",
       "    <tr>\n",
       "      <th>2</th>\n",
       "      <td>Ecuador</td>\n",
       "      <td>2004</td>\n",
       "      <td>2607223</td>\n",
       "      <td>Ecuador2004</td>\n",
       "    </tr>\n",
       "    <tr>\n",
       "      <th>3</th>\n",
       "      <td>Ecuador</td>\n",
       "      <td>2005</td>\n",
       "      <td>2303958</td>\n",
       "      <td>Ecuador2005</td>\n",
       "    </tr>\n",
       "    <tr>\n",
       "      <th>4</th>\n",
       "      <td>Ecuador</td>\n",
       "      <td>2006</td>\n",
       "      <td>2278620</td>\n",
       "      <td>Ecuador2006</td>\n",
       "    </tr>\n",
       "  </tbody>\n",
       "</table>\n",
       "</div>"
      ],
      "text/plain": [
       "    Entity  Year  Cereals Production (tonnes)    Year_Name\n",
       "0  Ecuador  2002                      2057298  Ecuador2002\n",
       "1  Ecuador  2003                      2055013  Ecuador2003\n",
       "2  Ecuador  2004                      2607223  Ecuador2004\n",
       "3  Ecuador  2005                      2303958  Ecuador2005\n",
       "4  Ecuador  2006                      2278620  Ecuador2006"
      ]
     },
     "execution_count": 21,
     "metadata": {},
     "output_type": "execute_result"
    }
   ],
   "source": [
    "cereal_df['Year'] = cereal_df['Year'].astype('string')\n",
    "cereal_df['Year_Name'] = cereal_df['Entity'] + cereal_df['Year']\n",
    "cereal_df.head()"
   ]
  },
  {
   "cell_type": "markdown",
   "metadata": {},
   "source": [
    "Merge the two dataframes on 'Year_Name' with regards to the food_aid frame."
   ]
  },
  {
   "cell_type": "code",
   "execution_count": 22,
   "metadata": {},
   "outputs": [
    {
     "data": {
      "text/html": [
       "<div>\n",
       "<style scoped>\n",
       "    .dataframe tbody tr th:only-of-type {\n",
       "        vertical-align: middle;\n",
       "    }\n",
       "\n",
       "    .dataframe tbody tr th {\n",
       "        vertical-align: top;\n",
       "    }\n",
       "\n",
       "    .dataframe thead th {\n",
       "        text-align: right;\n",
       "    }\n",
       "</style>\n",
       "<table border=\"1\" class=\"dataframe\">\n",
       "  <thead>\n",
       "    <tr style=\"text-align: right;\">\n",
       "      <th></th>\n",
       "      <th>Fiscal Year</th>\n",
       "      <th>Current Dollar Amount</th>\n",
       "      <th>Country Name</th>\n",
       "      <th>Year_Name</th>\n",
       "      <th>Entity</th>\n",
       "      <th>Year</th>\n",
       "      <th>Cereals Production (tonnes)</th>\n",
       "    </tr>\n",
       "  </thead>\n",
       "  <tbody>\n",
       "    <tr>\n",
       "      <th>0</th>\n",
       "      <td>2002</td>\n",
       "      <td>77724560</td>\n",
       "      <td>Ethiopia</td>\n",
       "      <td>Ethiopia2002</td>\n",
       "      <td>Ethiopia</td>\n",
       "      <td>2002</td>\n",
       "      <td>9000335.0</td>\n",
       "    </tr>\n",
       "    <tr>\n",
       "      <th>1</th>\n",
       "      <td>2003</td>\n",
       "      <td>368507947</td>\n",
       "      <td>Ethiopia</td>\n",
       "      <td>Ethiopia2003</td>\n",
       "      <td>Ethiopia</td>\n",
       "      <td>2003</td>\n",
       "      <td>9532780.0</td>\n",
       "    </tr>\n",
       "    <tr>\n",
       "      <th>2</th>\n",
       "      <td>2004</td>\n",
       "      <td>254435836</td>\n",
       "      <td>Ethiopia</td>\n",
       "      <td>Ethiopia2004</td>\n",
       "      <td>Ethiopia</td>\n",
       "      <td>2004</td>\n",
       "      <td>10140082.0</td>\n",
       "    </tr>\n",
       "    <tr>\n",
       "      <th>3</th>\n",
       "      <td>2005</td>\n",
       "      <td>467729117</td>\n",
       "      <td>Ethiopia</td>\n",
       "      <td>Ethiopia2005</td>\n",
       "      <td>Ethiopia</td>\n",
       "      <td>2005</td>\n",
       "      <td>12749986.0</td>\n",
       "    </tr>\n",
       "    <tr>\n",
       "      <th>4</th>\n",
       "      <td>2006</td>\n",
       "      <td>150265025</td>\n",
       "      <td>Ethiopia</td>\n",
       "      <td>Ethiopia2006</td>\n",
       "      <td>Ethiopia</td>\n",
       "      <td>2006</td>\n",
       "      <td>12672350.0</td>\n",
       "    </tr>\n",
       "  </tbody>\n",
       "</table>\n",
       "</div>"
      ],
      "text/plain": [
       "  Fiscal Year  Current Dollar Amount Country Name     Year_Name    Entity  \\\n",
       "0        2002               77724560     Ethiopia  Ethiopia2002  Ethiopia   \n",
       "1        2003              368507947     Ethiopia  Ethiopia2003  Ethiopia   \n",
       "2        2004              254435836     Ethiopia  Ethiopia2004  Ethiopia   \n",
       "3        2005              467729117     Ethiopia  Ethiopia2005  Ethiopia   \n",
       "4        2006              150265025     Ethiopia  Ethiopia2006  Ethiopia   \n",
       "\n",
       "   Year  Cereals Production (tonnes)  \n",
       "0  2002                    9000335.0  \n",
       "1  2003                    9532780.0  \n",
       "2  2004                   10140082.0  \n",
       "3  2005                   12749986.0  \n",
       "4  2006                   12672350.0  "
      ]
     },
     "execution_count": 22,
     "metadata": {},
     "output_type": "execute_result"
    }
   ],
   "source": [
    "aid_cereal_merge = food_aid.merge(cereal_df, on= 'Year_Name', how= 'left')\n",
    "\n",
    "aid_cereal_merge.head()"
   ]
  },
  {
   "cell_type": "code",
   "execution_count": 23,
   "metadata": {},
   "outputs": [
    {
     "data": {
      "text/html": [
       "<div>\n",
       "<style scoped>\n",
       "    .dataframe tbody tr th:only-of-type {\n",
       "        vertical-align: middle;\n",
       "    }\n",
       "\n",
       "    .dataframe tbody tr th {\n",
       "        vertical-align: top;\n",
       "    }\n",
       "\n",
       "    .dataframe thead th {\n",
       "        text-align: right;\n",
       "    }\n",
       "</style>\n",
       "<table border=\"1\" class=\"dataframe\">\n",
       "  <thead>\n",
       "    <tr style=\"text-align: right;\">\n",
       "      <th></th>\n",
       "      <th>Fiscal Year</th>\n",
       "      <th>Current Dollar Amount</th>\n",
       "      <th>Country Name</th>\n",
       "      <th>Year_Name</th>\n",
       "      <th>Cereals Production (tonnes)</th>\n",
       "    </tr>\n",
       "  </thead>\n",
       "  <tbody>\n",
       "    <tr>\n",
       "      <th>0</th>\n",
       "      <td>2002</td>\n",
       "      <td>77724560</td>\n",
       "      <td>Ethiopia</td>\n",
       "      <td>Ethiopia2002</td>\n",
       "      <td>9000335.0</td>\n",
       "    </tr>\n",
       "    <tr>\n",
       "      <th>1</th>\n",
       "      <td>2003</td>\n",
       "      <td>368507947</td>\n",
       "      <td>Ethiopia</td>\n",
       "      <td>Ethiopia2003</td>\n",
       "      <td>9532780.0</td>\n",
       "    </tr>\n",
       "    <tr>\n",
       "      <th>2</th>\n",
       "      <td>2004</td>\n",
       "      <td>254435836</td>\n",
       "      <td>Ethiopia</td>\n",
       "      <td>Ethiopia2004</td>\n",
       "      <td>10140082.0</td>\n",
       "    </tr>\n",
       "    <tr>\n",
       "      <th>3</th>\n",
       "      <td>2005</td>\n",
       "      <td>467729117</td>\n",
       "      <td>Ethiopia</td>\n",
       "      <td>Ethiopia2005</td>\n",
       "      <td>12749986.0</td>\n",
       "    </tr>\n",
       "    <tr>\n",
       "      <th>4</th>\n",
       "      <td>2006</td>\n",
       "      <td>150265025</td>\n",
       "      <td>Ethiopia</td>\n",
       "      <td>Ethiopia2006</td>\n",
       "      <td>12672350.0</td>\n",
       "    </tr>\n",
       "  </tbody>\n",
       "</table>\n",
       "</div>"
      ],
      "text/plain": [
       "  Fiscal Year  Current Dollar Amount Country Name     Year_Name  \\\n",
       "0        2002               77724560     Ethiopia  Ethiopia2002   \n",
       "1        2003              368507947     Ethiopia  Ethiopia2003   \n",
       "2        2004              254435836     Ethiopia  Ethiopia2004   \n",
       "3        2005              467729117     Ethiopia  Ethiopia2005   \n",
       "4        2006              150265025     Ethiopia  Ethiopia2006   \n",
       "\n",
       "   Cereals Production (tonnes)  \n",
       "0                    9000335.0  \n",
       "1                    9532780.0  \n",
       "2                   10140082.0  \n",
       "3                   12749986.0  \n",
       "4                   12672350.0  "
      ]
     },
     "execution_count": 23,
     "metadata": {},
     "output_type": "execute_result"
    }
   ],
   "source": [
    "# Delete redundant columns after the merge\n",
    "del aid_cereal_merge['Year']\n",
    "del aid_cereal_merge['Entity']\n",
    "aid_cereal_merge.head()"
   ]
  },
  {
   "cell_type": "markdown",
   "metadata": {},
   "source": [
    "### Plotting the Cereal Production and Aid Given Relationship"
   ]
  },
  {
   "cell_type": "code",
   "execution_count": 45,
   "metadata": {},
   "outputs": [
    {
     "data": {
      "text/plain": [
       "<matplotlib.legend.Legend at 0x188d31221d0>"
      ]
     },
     "execution_count": 45,
     "metadata": {},
     "output_type": "execute_result"
    },
    {
     "data": {
      "image/png": "[encoded data removed]",
      "text/plain": [
       "<Figure size 640x480 with 1 Axes>"
      ]
     },
     "metadata": {},
     "output_type": "display_data"
    }
   ],
   "source": [
    "ethiopia_cereal_merged = aid_cereal_merge[aid_cereal_merge['Country Name'] == 'Ethiopia']\n",
    "\n",
    "y1 = ethiopia_cereal_merged['Current Dollar Amount'].apply(lambda x: x / 10**8)\n",
    "y2 = ethiopia_cereal_merged['Cereals Production (tonnes)'].apply(lambda x: x / 10**7)\n",
    "x = \"'\" + ethiopia_cereal_merged['Fiscal Year'].str.slice(start= 2)\n",
    "\n",
    "fig, ax = plt.subplots()\n",
    "ax.set_xlabel('Year')\n",
    "\n",
    "ax.bar(x, y1, label='Foreign Aid ($10s million)' )\n",
    "ax.bar(x, y2, label='Cereal Production (millions of tonnes)', alpha= 0.5)\n",
    "ax.legend()"
   ]
  },
  {
   "cell_type": "code",
   "execution_count": null,
   "metadata": {},
   "outputs": [],
   "source": []
  }
 ],
 "metadata": {
  "colab": {
   "collapsed_sections": [],
   "provenance": []
  },
  "kernelspec": {
   "display_name": "Python 3 (ipykernel)",
   "language": "python",
   "name": "python3"
  },
  "language_info": {
   "codemirror_mode": {
    "name": "ipython",
    "version": 3
   },
   "file_extension": ".py",
   "mimetype": "text/x-python",
   "name": "python",
   "nbconvert_exporter": "python",
   "pygments_lexer": "ipython3",
   "version": "3.10.5"
  }
 },
 "nbformat": 4,
 "nbformat_minor": 1
}
