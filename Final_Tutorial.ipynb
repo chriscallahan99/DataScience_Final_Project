{
 "cells": [
  {
   "cell_type": "markdown",
   "id": "f09fd8da",
   "metadata": {},
   "source": [
    "Website Link: https://chriscallahan99.github.io/DataScience_Final_Project/ "
   ]
  },
  {
   "cell_type": "markdown",
   "id": "86fba1b3",
   "metadata": {},
   "source": [
    "![usaid.jpg](docs/assets/usaid.jpg)    \n"
   ]
  },
  {
   "cell_type": "markdown",
   "id": "367bf5a7",
   "metadata": {},
   "source": [
    "<div style=\"text-align: center;\">\n",
    "<h1>How does US Foreign Aid Impact Health Indicators?</h1>  \n",
    "<br>\n",
    "By Chris Callahan and Mikey Sison\n",
    "</div>\n"
   ]
  },
  {
   "cell_type": "markdown",
   "id": "5ba97cc1",
   "metadata": {},
   "source": [
    "<div style=\"text-align: center;\">\n",
    "1. Introduction<br>\n",
    "2. Data: Extraction, Transform and Load<br>\n",
    "3. Exploratory Data Analysis<br>\n",
    "4. <br>\n",
    "5. <br>\n",
    "6. Conclusion<br>\n",
    "</div>\n"
   ]
  },
  {
   "cell_type": "markdown",
   "id": "bdaf9032",
   "metadata": {},
   "source": [
    "<div style=\"text-align: center;\">\n",
    "<h2>Introduction</h2>\n",
    "</div>\n",
    "\n",
    "### Abstract\n",
    "\n",
    "The United States disburses the most foreign aid in the world ([World Economic Forum](https://www.weforum.org/agenda/2016/08/foreign-aid-these-countries-are-the-most-generous/ 'Foreign aid')) and it is of paramount importance that the countries who are in greatest need are able to get it. We examine US foreign aid disbursements to six countires of middle to low economic rank to determine the effect of monetary aid increases on five health indicators representative of overall health outcomes. The countries of Ethiopia, El Salvador, Ecuador, Haiti, Moldova, and Yemen represent a sample of countries exhibiting some of the greatest overall need for humanitarian aid. Geopolitical and environmental factors have rendered Ethiopia, Haiti, and Yemen dependent on foreign aid for humanitarian support. It is anecdotally acknowledged that overall increases in foreign aid disbursements would have a positive increase in overall welfare. We aim to determine which US Agencies have the greatest direct impact on improving health indicators. \n",
    "                \n",
    "Our analysis will explore and answer the following questions:\n",
    "* How does US foreign aid impact the overall health of different countries? \n",
    "* Does a \\$1 marginal dollar increase to one country increase health indicators more or less than different country? \n",
    "* Since US agencies have budgets set by Congress, how can they better utilize a limited budget with the maximum impact?\n",
    "* Is change in an indicator dependent on marginal dollar increases per agency?\n",
    "     \n",
    "___"
   ]
  },
  {
   "cell_type": "markdown",
   "id": "7a60c45a",
   "metadata": {},
   "source": [
    "<div style=\"text-align: center;\">\n",
    "    <h2>Data: Extraction, Transform, and Load</h2>\n",
    "</div>\n",
    "\n",
    "\n",
    "\n"
   ]
  },
  {
   "cell_type": "markdown",
   "id": "2dfec8b9",
   "metadata": {},
   "source": [
    "### Imports\n",
    "For this project, we utilized the python libraries pandas, maplotlib, numpy, and more. The first few code cells will be installing seaborn, a plotting library, and importing other necessary libraries."
   ]
  },
  {
   "cell_type": "code",
   "execution_count": 1,
   "id": "986d203b",
   "metadata": {
    "id": "-TE_UtBMMnGV",
    "scrolled": true
   },
   "outputs": [
    {
     "name": "stdout",
     "output_type": "stream",
     "text": [
      "Requirement already satisfied: seaborn in /Users/chriscallahan/opt/anaconda3/lib/python3.9/site-packages (0.12.0)\n",
      "Requirement already satisfied: numpy>=1.17 in /Users/chriscallahan/opt/anaconda3/lib/python3.9/site-packages (from seaborn) (1.20.3)\n",
      "Requirement already satisfied: pandas>=0.25 in /Users/chriscallahan/opt/anaconda3/lib/python3.9/site-packages (from seaborn) (1.4.1)\n",
      "Requirement already satisfied: matplotlib>=3.1 in /Users/chriscallahan/opt/anaconda3/lib/python3.9/site-packages (from seaborn) (3.5.1)\n",
      "Requirement already satisfied: pyparsing>=2.2.1 in /Users/chriscallahan/opt/anaconda3/lib/python3.9/site-packages (from matplotlib>=3.1->seaborn) (3.0.4)\n",
      "Requirement already satisfied: pillow>=6.2.0 in /Users/chriscallahan/opt/anaconda3/lib/python3.9/site-packages (from matplotlib>=3.1->seaborn) (9.0.1)\n",
      "Requirement already satisfied: cycler>=0.10 in /Users/chriscallahan/opt/anaconda3/lib/python3.9/site-packages (from matplotlib>=3.1->seaborn) (0.11.0)\n",
      "Requirement already satisfied: kiwisolver>=1.0.1 in /Users/chriscallahan/opt/anaconda3/lib/python3.9/site-packages (from matplotlib>=3.1->seaborn) (1.3.2)\n",
      "Requirement already satisfied: fonttools>=4.22.0 in /Users/chriscallahan/opt/anaconda3/lib/python3.9/site-packages (from matplotlib>=3.1->seaborn) (4.25.0)\n",
      "Requirement already satisfied: python-dateutil>=2.7 in /Users/chriscallahan/opt/anaconda3/lib/python3.9/site-packages (from matplotlib>=3.1->seaborn) (2.8.2)\n",
      "Requirement already satisfied: packaging>=20.0 in /Users/chriscallahan/opt/anaconda3/lib/python3.9/site-packages (from matplotlib>=3.1->seaborn) (21.3)\n",
      "Requirement already satisfied: pytz>=2020.1 in /Users/chriscallahan/opt/anaconda3/lib/python3.9/site-packages (from pandas>=0.25->seaborn) (2021.3)\n",
      "Requirement already satisfied: six>=1.5 in /Users/chriscallahan/opt/anaconda3/lib/python3.9/site-packages (from python-dateutil>=2.7->matplotlib>=3.1->seaborn) (1.16.0)\n",
      "Note: you may need to restart the kernel to use updated packages.\n"
     ]
    }
   ],
   "source": [
    "%pip install seaborn"
   ]
  },
  {
   "cell_type": "code",
   "execution_count": 2,
   "id": "b607c834",
   "metadata": {
    "id": "yOYDRMt3JSE6",
    "scrolled": true
   },
   "outputs": [
    {
     "data": {
      "text/html": [
       "<style>.container { width:95% !important; }</style>"
      ],
      "text/plain": [
       "<IPython.core.display.HTML object>"
      ]
     },
     "metadata": {},
     "output_type": "display_data"
    }
   ],
   "source": [
    "## IMPORTS ##\n",
    "\n",
    "# Load Numpy\n",
    "import numpy as np\n",
    "\n",
    "# Load os\n",
    "import os\n",
    "\n",
    "# Load Pandas\n",
    "import pandas as pd\n",
    "\n",
    "# Load MatPlotLib\n",
    "import matplotlib\n",
    "import matplotlib.pyplot as plt\n",
    "\n",
    "# Load Seaborn\n",
    "import seaborn as sns; sns.set_theme()\n",
    "\n",
    "# These two things are for Pandas, it widens the notebook and lets us display data easily.\n",
    "from IPython.display import display, HTML\n",
    "display(HTML(\"<style>.container { width:95% !important; }</style>\"))"
   ]
  },
  {
   "cell_type": "markdown",
   "id": "50aa0220",
   "metadata": {},
   "source": [
    "Let's change the directory to the folder containing the foreign aid data."
   ]
  },
  {
   "cell_type": "code",
   "execution_count": 3,
   "id": "acbc5423",
   "metadata": {},
   "outputs": [],
   "source": [
    "os.chdir(\"Foreign-Aid-Country-Data\")"
   ]
  },
  {
   "cell_type": "markdown",
   "id": "c5a55846",
   "metadata": {},
   "source": [
    "### Data Sourcing & Extraction\n",
    "We obtained data from two primary sources:  [US Gov Foreign Assistance](https://foreignassistance.gov/) and\n",
    "[WHO GW13 Dataset](https://www.who.int/data/inequality-monitor/data#PageContent_C160_Col00). These two datasets contain the publicly avaliable US foreign aid disbursements per country and health indicators by country over the past 20 years, respectively."
   ]
  },
  {
   "cell_type": "markdown",
   "id": "7811f447",
   "metadata": {},
   "source": [
    "#### Foreign Aid by Country\n",
    "\n",
    "Our first dataset comes from the [US Foreign Assistance](https://foreignassistance.gov/) webpage. With this dataset, we will be focusing on quantifying the amount of foreign aid the United States gives to the six countries in question, per year, and which agencies provide this support. \n",
    "\n",
    "Analysis of this dataset will answer the following questions:\n",
    "* How much does a country recieve from the US in foreign aid per year?\n",
    "* How much aid is disbursed each year by agency?\n",
    "\n"
   ]
  },
  {
   "cell_type": "markdown",
   "id": "73e19882",
   "metadata": {},
   "source": [
    "#### Example Query\n",
    "![FAgovEthiopiaQuery.png](docs/assets/FAgovEthiopiaQuery.png)\n",
    "\n",
    "Figure 1: The image above is an example query of the foreign aid given to Ethiopia from 2018 to 2022\n"
   ]
  },
  {
   "cell_type": "markdown",
   "id": "313a04a0",
   "metadata": {},
   "source": [
    "#### Obtaining the data\n",
    "For each country, we created a query, similar to that of figure 1, obtaining the non-military foreign aid given from 2002 to 2022. Since we are examining how foreign aid impacts health, we assume that military foreign aid has no impact on the health outcomes of the country and will be removed from the dataframes. Each of these datasets can be found in the \"Foreign-Aid-Country-Data\" folder. "
   ]
  },
  {
   "cell_type": "markdown",
   "id": "4bec89bd",
   "metadata": {},
   "source": [
    "### Reading in Country data (Loading)\n",
    "\n",
    "Here, we are reading in the country data from our queries on ForeignAssistance.gov.  Each of the queries encompass non-military foreign aid from 2002 to 2022 fiscal years. \n",
    "\n",
    "We chose countries in low to middle income groups with one to two per continent/region and low military assistance.\n",
    "* **Europe**: Moldova\n",
    "* **Middle East**: Yemen\n",
    "* **Africa**: Ethiopia\n",
    "* **South America**: Ecuador\n",
    "* **North/Central America**: El Salvador, Haiti\n"
   ]
  },
  {
   "cell_type": "markdown",
   "id": "59135317",
   "metadata": {},
   "source": [
    "Let's read in our data into Pandas DataFrames."
   ]
  },
  {
   "cell_type": "code",
   "execution_count": 4,
   "id": "e9456e2f",
   "metadata": {},
   "outputs": [
    {
     "data": {
      "text/html": [
       "<div>\n",
       "<style scoped>\n",
       "    .dataframe tbody tr th:only-of-type {\n",
       "        vertical-align: middle;\n",
       "    }\n",
       "\n",
       "    .dataframe tbody tr th {\n",
       "        vertical-align: top;\n",
       "    }\n",
       "\n",
       "    .dataframe thead th {\n",
       "        text-align: right;\n",
       "    }\n",
       "</style>\n",
       "<table border=\"1\" class=\"dataframe\">\n",
       "  <thead>\n",
       "    <tr style=\"text-align: right;\">\n",
       "      <th></th>\n",
       "      <th>Country ID</th>\n",
       "      <th>Country Code</th>\n",
       "      <th>Country Name</th>\n",
       "      <th>Region ID</th>\n",
       "      <th>Region Name</th>\n",
       "      <th>Income Group ID</th>\n",
       "      <th>Income Group Name</th>\n",
       "      <th>Income Group Acronym</th>\n",
       "      <th>Managing Agency ID</th>\n",
       "      <th>Managing Agency Acronym</th>\n",
       "      <th>...</th>\n",
       "      <th>Activity Name</th>\n",
       "      <th>Activity Description</th>\n",
       "      <th>Activity Project Number</th>\n",
       "      <th>Activity Start Date</th>\n",
       "      <th>Activity End Date</th>\n",
       "      <th>Transaction Type ID</th>\n",
       "      <th>Transaction Type Name</th>\n",
       "      <th>Fiscal Year</th>\n",
       "      <th>Current Dollar Amount</th>\n",
       "      <th>Constant Dollar Amount</th>\n",
       "    </tr>\n",
       "  </thead>\n",
       "  <tbody>\n",
       "    <tr>\n",
       "      <th>0</th>\n",
       "      <td>231</td>\n",
       "      <td>ETH</td>\n",
       "      <td>Ethiopia</td>\n",
       "      <td>5</td>\n",
       "      <td>Sub-Saharan Africa</td>\n",
       "      <td>1</td>\n",
       "      <td>Low Income Country</td>\n",
       "      <td>LIC</td>\n",
       "      <td>1</td>\n",
       "      <td>USAID</td>\n",
       "      <td>...</td>\n",
       "      <td>Title II Emergency Program</td>\n",
       "      <td>Title II Emergency Program through a partner o...</td>\n",
       "      <td>720BHA22CA00005</td>\n",
       "      <td>NaN</td>\n",
       "      <td>NaN</td>\n",
       "      <td>2</td>\n",
       "      <td>Obligations</td>\n",
       "      <td>2022</td>\n",
       "      <td>113052149</td>\n",
       "      <td>109155305</td>\n",
       "    </tr>\n",
       "    <tr>\n",
       "      <th>1</th>\n",
       "      <td>231</td>\n",
       "      <td>ETH</td>\n",
       "      <td>Ethiopia</td>\n",
       "      <td>5</td>\n",
       "      <td>Sub-Saharan Africa</td>\n",
       "      <td>1</td>\n",
       "      <td>Low Income Country</td>\n",
       "      <td>LIC</td>\n",
       "      <td>1</td>\n",
       "      <td>USAID</td>\n",
       "      <td>...</td>\n",
       "      <td>Emergency food assistance</td>\n",
       "      <td>Emergency humanitarian food and nutirition ass...</td>\n",
       "      <td>720BHA22IO00038</td>\n",
       "      <td>NaN</td>\n",
       "      <td>2023-03-09</td>\n",
       "      <td>2</td>\n",
       "      <td>Obligations</td>\n",
       "      <td>2022</td>\n",
       "      <td>77740000</td>\n",
       "      <td>75060346</td>\n",
       "    </tr>\n",
       "    <tr>\n",
       "      <th>2</th>\n",
       "      <td>231</td>\n",
       "      <td>ETH</td>\n",
       "      <td>Ethiopia</td>\n",
       "      <td>5</td>\n",
       "      <td>Sub-Saharan Africa</td>\n",
       "      <td>1</td>\n",
       "      <td>Low Income Country</td>\n",
       "      <td>LIC</td>\n",
       "      <td>1</td>\n",
       "      <td>USAID</td>\n",
       "      <td>...</td>\n",
       "      <td>Title II Emergency Program</td>\n",
       "      <td>Title II Emergency Program through a partner o...</td>\n",
       "      <td>720BHA22IO00034</td>\n",
       "      <td>NaN</td>\n",
       "      <td>NaN</td>\n",
       "      <td>2</td>\n",
       "      <td>Obligations</td>\n",
       "      <td>2022</td>\n",
       "      <td>57420571</td>\n",
       "      <td>55441315</td>\n",
       "    </tr>\n",
       "  </tbody>\n",
       "</table>\n",
       "<p>3 rows × 51 columns</p>\n",
       "</div>"
      ],
      "text/plain": [
       "   Country ID Country Code Country Name  Region ID         Region Name  \\\n",
       "0         231          ETH     Ethiopia          5  Sub-Saharan Africa   \n",
       "1         231          ETH     Ethiopia          5  Sub-Saharan Africa   \n",
       "2         231          ETH     Ethiopia          5  Sub-Saharan Africa   \n",
       "\n",
       "   Income Group ID   Income Group Name Income Group Acronym  \\\n",
       "0                1  Low Income Country                  LIC   \n",
       "1                1  Low Income Country                  LIC   \n",
       "2                1  Low Income Country                  LIC   \n",
       "\n",
       "   Managing Agency ID Managing Agency Acronym  ...  \\\n",
       "0                   1                   USAID  ...   \n",
       "1                   1                   USAID  ...   \n",
       "2                   1                   USAID  ...   \n",
       "\n",
       "                Activity Name  \\\n",
       "0  Title II Emergency Program   \n",
       "1   Emergency food assistance   \n",
       "2  Title II Emergency Program   \n",
       "\n",
       "                                Activity Description Activity Project Number  \\\n",
       "0  Title II Emergency Program through a partner o...         720BHA22CA00005   \n",
       "1  Emergency humanitarian food and nutirition ass...         720BHA22IO00038   \n",
       "2  Title II Emergency Program through a partner o...         720BHA22IO00034   \n",
       "\n",
       "  Activity Start Date  Activity End Date Transaction Type ID  \\\n",
       "0                 NaN                NaN                   2   \n",
       "1                 NaN         2023-03-09                   2   \n",
       "2                 NaN                NaN                   2   \n",
       "\n",
       "  Transaction Type Name  Fiscal Year  Current Dollar Amount  \\\n",
       "0           Obligations         2022              113052149   \n",
       "1           Obligations         2022               77740000   \n",
       "2           Obligations         2022               57420571   \n",
       "\n",
       "  Constant Dollar Amount  \n",
       "0              109155305  \n",
       "1               75060346  \n",
       "2               55441315  \n",
       "\n",
       "[3 rows x 51 columns]"
      ]
     },
     "execution_count": 4,
     "metadata": {},
     "output_type": "execute_result"
    }
   ],
   "source": [
    "Ethiopia_foreign_aid_data = pd.read_csv(os.path.join(\"Africa\",\"Ethiopia_2022-2002_Econ_Other.csv\"))\n",
    "Moldova_foreign_aid_data = pd.read_csv(os.path.join(\"Europe\", \"Moldova_2022-2002_Econ_Other.csv\"))\n",
    "Yemen_foreign_aid_data = pd.read_csv(os.path.join(\"Middle-East\",\"Yemen_2022-2002_Econ_Other.csv\"))\n",
    "Ecuador_foreign_aid_data = pd.read_csv(os.path.join(\"South-America\",\"Ecuador_2022-2002_Econ_Other.csv\"))\n",
    "El_Salvador_foreign_aid_data = pd.read_csv(os.path.join(\"North-America\",\"El_Salvador_2022-2002_Econ_Other.csv\"))\n",
    "Haiti_foreign_aid_data = pd.read_csv(os.path.join(\"North-America\",\"Haiti_2022-2002_Econ_Other.csv\"))\n",
    "\n",
    "countries = [\n",
    "             Ethiopia_foreign_aid_data,\n",
    "             Moldova_foreign_aid_data,\n",
    "             Yemen_foreign_aid_data, \n",
    "             Ecuador_foreign_aid_data, \n",
    "             El_Salvador_foreign_aid_data,\n",
    "             Haiti_foreign_aid_data\n",
    "            ] # For ease of looping\n",
    "\n",
    "Ethiopia_foreign_aid_data.head(3)"
   ]
  },
  {
   "cell_type": "markdown",
   "id": "b4e83879",
   "metadata": {},
   "source": [
    "#### Focus Areas\n",
    "We will be focusing on the country-specific datasets from the ForeignAssistance.gov website. Each row in the summary describes a country and the fiscal year. Each entity contains data on the transaction type, Transaction Type, Fiscal Year, current amount (in USD), and constant amount (in USD). We are planning on using this data from the summary as a reference to determine how much money is irrelevant to our study (non-military/defense spending).\n",
    "\n",
    "#### Extraneous Columns\n",
    "As you can see, there are 51 columns in the DataFrame. Many of these columns are redundant or irrelevant to our analysis. Below, we will remove these columns, maintaining the interesting features of the dataset. \n"
   ]
  },
  {
   "cell_type": "code",
   "execution_count": 5,
   "id": "c55871bb",
   "metadata": {
    "id": "R6qSdpAzMuIG"
   },
   "outputs": [
    {
     "data": {
      "text/plain": [
       "Index(['Country ID', 'Country Code', 'Country Name', 'Region ID',\n",
       "       'Region Name', 'Income Group ID', 'Income Group Name',\n",
       "       'Managing Agency Acronym', 'Managing Agency Name',\n",
       "       'International Purpose Name', 'US Sector ID', 'US Sector Name',\n",
       "       'Funding Account Name', 'Funding Agency Name', 'Funding Agency Acronym',\n",
       "       'Foreign Assistance Objective Name', 'Aid Type Group Name',\n",
       "       'Activity Name', 'Activity Description', 'Activity Start Date',\n",
       "       'Activity End Date', 'Transaction Type Name', 'Fiscal Year',\n",
       "       'Current Dollar Amount', 'Constant Dollar Amount'],\n",
       "      dtype='object')"
      ]
     },
     "execution_count": 5,
     "metadata": {},
     "output_type": "execute_result"
    }
   ],
   "source": [
    "columns_to_drop = ['Transaction Type ID',\n",
    "        'Foreign Assistance Objective ID',\n",
    "        'Implementing Partner Category ID',\n",
    "        'Implementing Partner Category Name',\n",
    "        'Implementing Partner Sub-category ID',\n",
    "        'Implementing Partner Sub-category Name', \n",
    "        'Implementing Partner ID',\n",
    "        'Implementing Partner Name', \n",
    "        'International Category ID',\n",
    "        'International Category Name',\n",
    "        'International Sector Code',\n",
    "        'International Sector Name', \n",
    "        'International Purpose Code',\n",
    "        'Managing Agency ID',\n",
    "        'Managing Sub-agency or Bureau ID',\n",
    "        'Activity Project Number',\n",
    "        'Managing Sub-agency or Bureau Name',\n",
    "        'Aid Type Group ID',\n",
    "        'Funding Agency ID',\n",
    "        'Submission ID', \n",
    "        'Funding Acount ID',\n",
    "        'Activity ID',\n",
    "        'Income Group Acronym',\n",
    "        'Managing Sub-agency or Bureau Acronym',\n",
    "        'US Category ID',\n",
    "        'US Category Name',\n",
    "    ]\n",
    "\n",
    "\n",
    "for country in countries:\n",
    "    for col in columns_to_drop:\n",
    "        country.drop(labels= col, axis= 'columns', inplace= True)\n",
    "\n",
    "Ethiopia_foreign_aid_data.columns"
   ]
  },
  {
   "cell_type": "markdown",
   "id": "0095669c",
   "metadata": {},
   "source": [
    "#### Income Analysis\n",
    "Next, we want to highlight the income of each of the countries to verify that the countries chosen are likely to receive a sizeable amount and diverse range of US foreign aid. "
   ]
  },
  {
   "cell_type": "code",
   "execution_count": 6,
   "id": "c2952051",
   "metadata": {},
   "outputs": [
    {
     "data": {
      "text/plain": [
       "'Ethiopia: Low Income Country'"
      ]
     },
     "metadata": {},
     "output_type": "display_data"
    },
    {
     "data": {
      "text/plain": [
       "'Moldova: Lower Middle Income Country'"
      ]
     },
     "metadata": {},
     "output_type": "display_data"
    },
    {
     "data": {
      "text/plain": [
       "'Yemen: Low Income Country'"
      ]
     },
     "metadata": {},
     "output_type": "display_data"
    },
    {
     "data": {
      "text/plain": [
       "'Ecuador: Upper Middle Income Country'"
      ]
     },
     "metadata": {},
     "output_type": "display_data"
    },
    {
     "data": {
      "text/plain": [
       "'El Salvador: Lower Middle Income Country'"
      ]
     },
     "metadata": {},
     "output_type": "display_data"
    },
    {
     "data": {
      "text/plain": [
       "'Haiti: Low Income Country'"
      ]
     },
     "metadata": {},
     "output_type": "display_data"
    }
   ],
   "source": [
    "for country in countries:\n",
    "    display(country['Country Name'][0] + ': '+ country['Income Group Name'][0])"
   ]
  },
  {
   "cell_type": "markdown",
   "id": "9ebb9e89",
   "metadata": {},
   "source": [
    "As we can see, most of these countries fall into the low / middle income countries. We will see that, with the exception of Yemen, all of these countries receive roughly the same amount of foreign aid."
   ]
  },
  {
   "cell_type": "markdown",
   "id": "0decc937",
   "metadata": {},
   "source": [
    "#### Removing Military Aid & Negative Amounts\n",
    "Before we visuallize the aid amounts, we want to get rid of entries / aid projects that come from military sources since they would not have impacts on any health metrics we are interested in."
   ]
  },
  {
   "cell_type": "code",
   "execution_count": 7,
   "id": "54891577",
   "metadata": {},
   "outputs": [],
   "source": [
    "# Drop rows unrelated to economic/health development\n",
    "for i, country in enumerate(countries):\n",
    "    country.drop(country[country[\"Managing Agency Name\"] == 'Department of Defense'].index, inplace = True)\n",
    "    country.drop(country[country[\"Managing Agency Name\"] == 'Department of Homeland Security'].index, inplace = True)\n",
    "    country.drop(country[country[\"Managing Agency Name\"] == 'Department of Justice'].index, inplace = True)\n",
    "    country.drop(country[country[\"Managing Agency Name\"] == 'Department of the Army'].index, inplace = True)\n",
    "    country.drop(country[country[\"Managing Agency Name\"] == 'Department of the Interior'].index, inplace = True)\n",
    "    \n",
    "    # Drop row if dollar amount is less than 0 as this is usually a redaction of funds\n",
    "    country.drop(country[country[\"Constant Dollar Amount\"] < 0 ].index, inplace = True)\n"
   ]
  },
  {
   "cell_type": "markdown",
   "id": "77bb6c89",
   "metadata": {},
   "source": [
    "<div style=\"text-align: center;\">\n",
    "    <h2>Exploratory Data Analysis</h2>\n",
    "</div>\n",
    "\n",
    "\n",
    "### Visualizing Total Foreign Aid Given by Year"
   ]
  },
  {
   "cell_type": "markdown",
   "id": "d81601ee",
   "metadata": {},
   "source": [
    "First, we're going to quickly make another column for the purpose of scaling the data. Then, we're going to plot the amount of foreign aid received by country. This exploration will help us determine which of the countries chosen recieve the most aid. Make sure to pay attention to the axis labels! "
   ]
  },
  {
   "cell_type": "code",
   "execution_count": 8,
   "id": "806c2621",
   "metadata": {},
   "outputs": [],
   "source": [
    "for country in countries:\n",
    "    country['Constant Dollar Amount ($1,000,000s)'] = country['Constant Dollar Amount']\n",
    "    country['Constant Dollar Amount ($1,000,000s)'] = country['Constant Dollar Amount ($1,000,000s)'].apply(lambda x: x / 1000000) # Scale by one million $\n",
    "    \n",
    "    country['Year Abv.'] = country['Fiscal Year']\n",
    "    country['Year Abv.'] = country['Year Abv.'].apply(lambda x: int(str(x)[2:])) # Get last two digits (ex. 2020 --> 20)"
   ]
  },
  {
   "cell_type": "code",
   "execution_count": 9,
   "id": "1dde13c9",
   "metadata": {},
   "outputs": [],
   "source": [
    "# Get the top 5 agencies by money spent \n",
    "\n",
    "country_by_fiscal_yr = []\n",
    "for i, country  in enumerate(countries): \n",
    "    # Groupby funding agency to get money spent per agency.\n",
    "    country_by_fiscal_yr.append(pd.DataFrame(country.groupby('Year Abv.')['Constant Dollar Amount ($1,000,000s)'].sum()))    \n",
    "    country_by_fiscal_yr[i].reset_index(inplace=True) # Reset index for plotting\n",
    "    \n",
    "# 0: Ethiopia\n",
    "# 1: Moldova\n",
    "# 2: Yemen\n",
    "# 3: Ecuador\n",
    "# 4: El Salvador\n",
    "# 5: Haiti\n"
   ]
  },
  {
   "cell_type": "code",
   "execution_count": 10,
   "id": "b74babd5",
   "metadata": {},
   "outputs": [
    {
     "data": {
      "text/plain": [
       "Text(0.5, 1.0, 'El Salvador')"
      ]
     },
     "execution_count": 10,
     "metadata": {},
     "output_type": "execute_result"
    },
    {
     "data": {
      "image/png": "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\n",
      "text/plain": [
       "<Figure size 1080x360 with 3 Axes>"
      ]
     },
     "metadata": {},
     "output_type": "display_data"
    },
    {
     "data": {
      "image/png": "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\n",
      "text/plain": [
       "<Figure size 1080x360 with 3 Axes>"
      ]
     },
     "metadata": {},
     "output_type": "display_data"
    }
   ],
   "source": [
    "fig1, axes1 = plt.subplots(1, 3, figsize=(15,5) , sharey= True)\n",
    "fig1.tight_layout(h_pad= 5)\n",
    "\n",
    "sns.barplot(country_by_fiscal_yr[0], x= 'Year Abv.', y= 'Constant Dollar Amount ($1,000,000s)', ax= axes1[0], width= 1, errorbar= None).set_title('Ethiopia')\n",
    "sns.barplot(country_by_fiscal_yr[5], x= 'Year Abv.', y= 'Constant Dollar Amount ($1,000,000s)', ax= axes1[1], width= 1, errorbar= None).set_title('Haiti')\n",
    "sns.barplot(country_by_fiscal_yr[2], x= 'Year Abv.', y= 'Constant Dollar Amount ($1,000,000s)', ax= axes1[2], width= 1, errorbar= None).set_title('Yemen')\n",
    "\n",
    "\n",
    "fig2, axes2 = plt.subplots(1, 3, figsize=(15,5) , sharey= True)\n",
    "fig2.tight_layout(h_pad= 5)\n",
    "\n",
    "sns.barplot(country_by_fiscal_yr[1], x= 'Year Abv.', y= 'Constant Dollar Amount ($1,000,000s)', ax= axes2[0], width= 1, errorbar= None).set_title('Moldova')\n",
    "sns.barplot(country_by_fiscal_yr[3], x= 'Year Abv.', y= 'Constant Dollar Amount ($1,000,000s)', ax= axes2[1], width= 1, errorbar= None).set_title('Ecuador')\n",
    "sns.barplot(country_by_fiscal_yr[4], x= 'Year Abv.', y= 'Constant Dollar Amount ($1,000,000s)', ax= axes2[2], width= 1, errorbar= None).set_title('El Salvador')\n"
   ]
  },
  {
   "cell_type": "markdown",
   "id": "30c50fc9",
   "metadata": {},
   "source": [
    "Graph 1: Constant Dollar Amount in $1,000,000 of Foreign Aid by Fiscal Year. The countries are separated in groups of 3 for scale purposes.\n",
    "\n",
    "#### Analysis of Foreign Aid Amounts\n",
    "The countries chosen represent two distinct groups. One group that receives a vary large amount of foreign aid and one that receives less, but still a significant amount of aid. There is a noticable upward trend in Ethiopia and a peak in Haiti around 2010. The upward trend in Ethiopia is most likely due to a combination of drought, famine, civil unrest, and a civil war. Similarly, Yemen receives the a large amount of US aid in recent years due to the ourbreak of the Yemeni Civil War in late 2014, demarking the upward trend."
   ]
  },
  {
   "cell_type": "markdown",
   "id": "4364b839",
   "metadata": {},
   "source": [
    "### Visualizing Foreign Aid by Agency\n",
    "Next, let's examine which agencies give the most aid. This will allow us to determine which category, health or economic, the country receives the most aid in. "
   ]
  },
  {
   "cell_type": "code",
   "execution_count": 11,
   "id": "46aaa3c4",
   "metadata": {},
   "outputs": [],
   "source": [
    "# Get the top 5 agencies by money spent \n",
    "\n",
    "country_by_funding_agency = []\n",
    "for i, country  in enumerate(countries):\n",
    "    # Groupby funding agency to get money spent per agency.\n",
    "    country_by_funding_agency.append(pd.DataFrame(country.groupby('Funding Agency Acronym')['Constant Dollar Amount ($1,000,000s)'].sum()))\n",
    "    country_by_funding_agency[i].reset_index(inplace=True) # Reset index for plotting\n",
    "    \n",
    "    # Sort and locate the top 3 agencies by money spent\n",
    "    country_by_funding_agency[i] = country_by_funding_agency[i].sort_values(ascending= False, by= 'Constant Dollar Amount ($1,000,000s)')\n",
    "    country_by_funding_agency[i] = country_by_funding_agency[i].iloc[0:3] "
   ]
  },
  {
   "cell_type": "code",
   "execution_count": 12,
   "id": "bdd44992",
   "metadata": {},
   "outputs": [
    {
     "data": {
      "text/plain": [
       "Text(0.5, 1.0, 'El Salvador')"
      ]
     },
     "execution_count": 12,
     "metadata": {},
     "output_type": "execute_result"
    },
    {
     "data": {
      "image/png": "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\n",
      "text/plain": [
       "<Figure size 1080x360 with 3 Axes>"
      ]
     },
     "metadata": {},
     "output_type": "display_data"
    },
    {
     "data": {
      "image/png": "iVBORw0KGgoAAAANSUhEUgAAA4QAAAFNCAYAAABYNqFuAAAAOXRFWHRTb2Z0d2FyZQBNYXRwbG90bGliIHZlcnNpb24zLjUuMSwgaHR0cHM6Ly9tYXRwbG90bGliLm9yZy/YYfK9AAAACXBIWXMAAAsTAAALEwEAmpwYAABiUUlEQVR4nO3de3zO9f/H8ce1M+Y4mzGSs76EmORMojkMDTl+HUpSIiqHkHNOTUoIpRTJNIc5LCRFGYVERKTIcZvjbLPj9fn94df1bWG7bNe1Xdue99ttt1yf6/P5vF/XtWvPPq/rczIZhmEgIiIiIiIi+Y5TThcgIiIiIiIiOUMNoYiIiIiISD6lhlBERERERCSfUkMoIiIiIiKST6khFBERERERyafUEIqIiIiIiORTLjldgORP586do1WrVtSvX58VK1akeW7MmDGsW7eOPXv2UKJEibsuP2bMGKpUqcKzzz6bZvrVq1dp2LAhv/32m91qF5G8q1q1alStWhUnp7Tfly5YsICyZcvadexHHnmEjRs32n0cEXFM6eXP+fPnmTp1Kps2bbpjuZ9//pk5c+Zw/fp1DMPA19eX0aNHU6VKlXTHu9e2VGYsXbqUkydPMnPmzCyvS7KfGkLJMe7u7vz555+cP38ePz8/AOLj4/npp59yuDIRyc8++eSTe34ZJSJiT/fKn/Pnz991/qSkJJ5//nk++ugjatSoAUBYWBjPPfccX3/9Nc7OznatV/IGNYSSY5ydnWnbti0bN25k8ODBAGzbto1WrVrx0UcfARASEsLy5ctxcnKiZMmSvPHGG1SoUCHNerZt28bcuXMpUKAANWvWTPPcggUL2Lx5M87OzlSoUIE33niD2NhYevTowXfffYebmxupqam0aNGCZcuWcfPmTd566y2SkpKIjo6mUaNGTJ8+PXveEBFxeKGhoXz88cc4OTlRvHhxZs2axV9//ZXmm/sffvjB8vjy5ctMmDCBK1euEB0djZ+fH++88w5eXl7s37+fqVOnYjKZePjhhzGbzZZx7pV9Y8aM4fr165w9e5YWLVowcuTInHorRMQB3Lp1i5s3bxIfH2+Z1rFjRzw9PUlNTcVkMjF9+nQOHTpEXFwchmEwbdo06tWrZ5k/JCSEb775hkWLFgFw6tQp+vfvz7fffsu6desICQkhOTmZGzdu8Nxzz9GrVy+Sk5OZNm0aEREReHl54eXlReHChQG4dOkSkyZN4vz58xiGQefOnRk4cCDnzp2jd+/eVKpUifPnz7N8+XJ8fHyy9w2Tu1JDKDmqc+fOjBw50tIQrl+/nrFjx/LRRx+xd+9ePvzwQ0JCQihRogRr165lyJAhbN682bL85cuXGTt2LKtWraJy5cosXrzY8tyaNWv47rvvCA0NpWDBgrz33nuMGTOGpUuXUqVKFXbs2EFAQADff/89ZcuWpVKlSrzyyisMGzaMBg0aEBcXR6tWrThy5MgdjaaI5F39+vVLc8hW2bJlWbBgAcePHyc4OJh169ZRunRpli1bxvvvv0/79u3vua7NmzdTp04dBg0ahGEYDBo0iLCwMPr06cPLL79McHAwDRs2ZNOmTaxevRqAPXv2pJt9CQkJaXJQRPKOe+XPvRQtWpSRI0cycOBASpYsSd26dWnQoAHt27fHzc2NgwcPEhUVRUhICE5OTixZsoQPPvggTUPYvn17goODiY6Oxtvbm7Vr1xIUFERCQgJffPEFS5YsoXjx4vz8888MGDCAXr16sXLlSk6fPs3mzZtJSUmhT58+lobwtddeo1WrVgwYMICbN2/Su3dvSpcuTe3atbl06RJz5szB39/ffm+i3Dc1hJKjatasibOzM0eOHMHLy4u4uDiqVq0KwHfffUe7du0sh04EBQXx5ptvcu7cOcvyBw4coGrVqlSuXBmA7t278/bbbwOwa9cugoKCKFiwIAB9+/Zl0aJFJCUl0bVrV9atW0dAQABr167l6aefBmDmzJns2rWLRYsW8ccff5CYmJjmWzcRyfvudcjWnj17aNKkCaVLlwagf//+wO09gvfSr18/9u/fz8cff8zp06c5efIktWvX5sSJE7i4uNCwYUMAOnTowIQJE4CMs++fG3Iikrdk5pD1AQMG0K1bN/bt28e+ffv44IMP+OCDDwgNDeWRRx6haNGirFq1irNnz/LDDz9QqFChNMt7enrSunVrNmzYQP/+/dm4cSOfffYZhQoVYtGiRezcuZPTp09z/PhxyzbRnj176NChA25ubri5uREYGMhvv/1mOfXn7yO9ChcuTFBQELt27aJ27dq4uLhQp04dm7xXYju6yqjkuI4dO7JhwwbCwsLo1KmTZbrJZLpjXsMwSElJuWPa31xc/vcdh9lsTrMOs9lsWbZt27YcOnSIU6dOsW/fPgICAgDo06cPO3fupGLFigwZMgQfH5806xeR/MvZ2TlNpiQkJHDq1ClMJlOanEhOTrb8+6233uLdd9+lePHidO/encaNG1vm/Xe2/J1f/zx09G//zL6/v+QSETlw4AAffvghnp6etGzZklGjRrF582ZMJhO7d+/m22+/5fnnnwegVatW9OzZ867refrpp1m/fj3fffcdlSpVoly5cly6dInOnTtz/vx56tWrx/Dhw+9Zx9/nKprN5juy7Z/bX25ubmm21cQxqCGUHNepUye2bNlCeHg4HTp0sExv2rQp4eHhXL16Fbh9CGixYsUoX768ZZ769evz+++/c/z4cQDWrl2bZvk1a9ZYvs1avnw59evXx83NDXd3d9q3b8+YMWNo06YNBQoUICYmhl9++YXXXnuNNm3acOnSJf7666+7bpyJSP7ToEED9uzZQ1RUFACrVq3irbfeokSJEly4cIErV65gGEaawzm///57+vXrR+fOnfHy8iIiIoLU1FSqVauGYRjs3LkTgK+//pobN24A1mWfiAhAiRIleP/999m/f79lWnR0NLGxsVStWpXdu3fTsmVLevXqRc2aNdm+fTupqal3rOfvvXYLFiygW7duABw5coQSJUrw4osv0qRJE7755hsAUlNTadq0KevXrycxMZHExETCw8OB23sba9euzWeffQbAzZs3Wb9+PY0aNbLn2yBZpBZdclypUqWoVKkShQsXplixYpbpDRo0oH///vTr1w+z2UyJEiVYvHhxmmPrS5QoQXBwMK+99hqurq7Ur1/f8lzXrl25ePEi3bp1w2w2U758eYKDgy3Pd+vWjRUrVjBp0iQAihQpwqBBg3jqqacoWLAgpUqVom7dupw5c8ZyWJeI5H3/PocH4JVXXqF58+aWc3UAvL29mT59OqVKlaJHjx506dIFb29vWrRowS+//ALAkCFDmD17Nu+++y6urq7UrVuXv/76C1dXVxYsWMCkSZN4++23eeihh/Dy8gKgcePGGWafiORN98ofDw+Pu85foUIFFixYwNy5c7l06RLu7u4ULlyY6dOnU7FiRXr06MGrr75KYGAgKSkpNG7cmG3btt31y+5u3bqxcOFCnnjiCeB2FoWGhhIQEIDJZOLRRx+lRIkSnDlzhh49evDXX3/RoUOHO76wCg4OZsqUKaxdu5akpCQCAwMJCgq655VSJeeZDB0PJyIiIiIiki/p60YREREREZF8Sg2hiIiIiIhIPqWGUEREREREJJ9SQygiIiIiIpJPqSEUERERERHJp9QQioiIiIiI5FP54j6E167FYTbr7hoieYGTk4nixQvldBk2o3wSyTvyUj4pm0TyjoyyKV80hGazoVATEYekfBIRR6RsEsk/dMioiIiIiIhIPqWGUEREREREJJ/KF4eMSs5JTU3h2rVoUlKScroUyYVcXNwoXtwbZ2dFldie8kkyS9kk9qRskqzITD4pycSurl2LxsOjIIUK+WIymXK6HMlFDMMgLi6Ga9eiKVmydE6XI3mQ8kkyQ9kk9qZskszKbD7pkFGxq5SUJAoVKqJAk/tmMpkoVKiIviEVu1E+SWYom8TelE2SWZnNJzWEYncKNMksfXbE3vQZk8zQ50bsTZ8xyazMfHbUEIqIiIiIiORTagglRzRp4k/fvt3p37+X5WfmzKk2W/+oUcMJD98IQP/+vbh586bN1n39+nUef7wxwcEzbLZOe/n++100aeLP119vy+lSRHIFZVP2UDaJ3B9lU/bIr9mki8pIjpk3bzHFihWz+zjLlq206fo2bVpP06bN+OqrLQwa9CJFihS16fptad26UNq0aUtIyEpatWqT0+WI5ArKJvtTNoncP2WT/eXXbFJDKA6nSRN/Nm3abgm9vx//8cfvfPDBQsqU8eOPP06RkpLCyJFjqVWrDpcvRzNt2kQuX76Mr68v165du2N9ERHfsWvXN5hMTpw79xceHh6MGzeZBx+swLlzZ5kxYwoxMTfw8iqJYcCTT7alXbvANLWZzWbCwtbx6qujuXXrFmFh6/jvf/sDkJqaysKF7/L997soVMiT//ynJqdP/8H8+UuIjY3l3XeDOXXqd1JTU6hXrz4vvvgyLi4uPP54I3r37se+fT9w5cplevXqy1NPdQVg+fKP+fLLTTg7O1O27AOMGzeJ8eNH8fjjrenY8SkAli37kJiYGwwb9mqaWs+fP8fBgwdYs2YjvXt348iRX6hZ82EA4uPjeeedtzh8+BAuLs40bdqCQYNeZPr0ycTE3OD8+fM0atSEvn2f4e23Z3Hy5G+YTCYee6wRgwYNSbfu4cNfvGt9lStX5dtvd2AYZi5duoi3dyk6duzMmjWrOXv2L7p3703Pnn1s/nkSsRVlk7JJbitcxAMPd1ebrzchMZmbMQk2X29ep2xSNmWVGkLJMcOGPY+Tk7Pl8dy58ylevES6y/z661FeeWU0VapU4/PPV7BkyULmz1/CnDmzqFHjYZ577gXOnTvLgAG97rr8zz//xKefhuDjU4q5c2ezYsUyxo+fzNSpEwgIaM9TT3Xl9Ok/GTjwvzz5ZNs7lv/hhwgSExPw93+U+Ph43nvvbXr27IOLiwsbN67nt9+O8+mnITg5OTF69AjLcvPmzaFateqMGzeJ1NRUpk+fREjIZ/Tu3Y+kpCSKFSvGokUfcfz4MV588VnatQtk3769hIdvZPHiZRQpUoT33nubNWtCCAp6muXLP6Jjx6cwm81s3ryBOXPm3VFrWNgaGjVqTPHiJWjVqg2rV6+kZs3bh2ssXbqIxMREPvvsC8xmMyNGDOHgwQMAJCQksmLFagCmTZtIkSJF+fTTEJKTkxkz5hU+/3wF//1v/3vWfa/6jhz5hcOHD/LJJ6vw9vahb98ebN++jXfffZ9Tp37n+ecH0L17L5ycdCS75Cxlk7JJ2ZQ+D3dXeo36zObrXTm7NzdRQ3gvyiZlk72ySekmOWbevMUsW7bS8pNRqAGUKuVLlSrVAKhWrToxMTcA2L//R8u3UmXLlqNuXf+7Ll+t2kP4+JQCoGrV6sTExBATE8OxY0cJDOwMwIMPVqBevfp3XX7dujW0bh2Ai4sLTZo0IyEhgW++2Q7A3r27CQhoh7u7O66urnTqFGRZLiLie8LC1tK/fy+effa//PrrUf7443fL802aNLe8pqSkJBISbrF//4+0bPkERYoUAWDo0Ffo1+9ZGjduytWrVzl58gQ//LCH0qXL8MADD6apMykpifDwjQQEdACgbdv27Ny5g8jIS5b3q0OHTjg7O+Pq6sr8+Uss71mtWrUt69m7N4IuXZ7GZDLh5uZGp05d+OGHiHTrTq++6tX/Q6lSvjg5OVGmTBkeffQxnJyc8PMrS1JSIgkJ2hCQnKdsUjYpm8QRKZuUTfbKJu0hFIdkGAYAycnJaaa7u7vfdT6TyWT5N4Cz890/2v9c/vZleQ1cXJzTrAtI8w3c3y5dusjevbs5ceI4O3fuAG4f7rB69Upatw7A2dmZf6wizTc2ZrOZqVNn8eCDFQC4efNmmssCu7t7/KMmMAxwdnZOM8/NmzeJjb1J6dJl6NQpiM2bN3D5cjSdOnW5o9YdO77i5s2bzJ07m3feecuy7jVrQnjxxZfvWHdk5CU8PG7XUKBAQct0wzCnmc8wzKSkpGRY973qc3NzS1Oni4siSHIXZZOyScQRKZuUTVmhPYTicIoVK87x478C8NVXW6xapkGDhmzYsBaAS5cu8dNP+60er2DBQjz8cG02b94AwIUL5zlwYN8d93EJC1tLrVp1WL/+S0JDNxIaupGlS5dz4sRv/PLLIRo2bMLWreEkJSWRkpJCePgmyzoeffQxQkJWYhgGSUlJjBnzCmvWhKRbl7//o+zc+Q1xcbEAfPTREkJCbh+iExjYmV27vuG3347TvHnLO5Zdv34Nffs+w5o1myy1vvba62zYsJ5bt27h7/8oX365CbPZTFJSEuPHj+bnn3+6Yz2PPtqQNWtWW+resGEd9es3yPA9zag+kdxI2XSbsknEsSibblM2ZZ6+AhOHM3z4a7z99mwKF/bE378BXl4lM1zmlVdGM2PGZHr37oq3tw9VqlS9rzHHj5/MzJlTWbcuFG9vb0qXLmP5Fgduf+O2aVMYr78+Ic1y5co9wBNPtCEkZCVTpszgr7/O8MwzvSlQoAClS/tZvj0aPnwk774bTN++3UlJScHfvwG9e/dLt6aGDZvw559/8sILzwJQoUJFRo8eD0Dx4iWoXv0/lC//4B3fFp08eYKTJ39j5sy300wPCGjPJ598RHj4RgYMGMS77wbTv39PzGYzjz/emubNH+f773elWWb48NeYO/ct+vbtTnJyCo891pC+fZ/J8P1Mrz6R3ErZdJuyScSxKJtuUzZlnsn45/5eO4iNjaVHjx4sWrSIsmXLWqavWLGCrVu3snz5cgCOHTvGuHHjiIuLw9/fn8mTJ+Pi4sKFCxcYOXIkV65coUKFCgQHB1OoUKH7quHKlVjMZru+TLmHS5fO4OtbPqfLyNAnnyylRYtWlC//ILGxsfTr14Pg4HlUqFDR6nX8+ONerl27ypNPtgPgnXeCcXNz48UXh9m83uvXr/Pcc32ZP38JpUr52nz9WWXL+v79GXJyMuHl5ZnVEh2G8inn5IZ8UjbZlj2zCfJWPqWXTd7ehe12UZnoaNvd/y63UjYpm7Lqfred7NqCHjp0iPHjx3P69Ok003///XeWLFlC+fL/K3TkyJFMmzaNOnXqMHbsWFavXk2vXr2YPHkyvXr1on379ixYsICFCxcycuRIe5Yt+VC5cuWZMOF1nJxMpKam0qdP//sKNbj9TdTKlZ+ycuWnpKaaqVy5Cq+99rrNa92wYR1LlizgmWeed8hQc/T6RHITZZPtOHp9IrmJssl2HKE+u+4hHDduHE899RSjRo3i008/pWzZsiQlJdG/f3+CgoIICwtj+fLlnD9/nn79+rF9++2rDu3fv5958+axdOlSGjRowI8//oiLiwsXL16kT58+fP311/dVh76Bzzm54VsucWzaQyj2onySrNAeQu0htBdlk2SVQ+0hfPPNN++YNmfOHLp06ZLm8NGoqCi8vb0tj729vYmMjOTatWt4enpajqX9e7qIiIiIiIhkXbaetbh7924uXrzI66+/zg8//GCZbjb/+xKthuVyuP++YtG/H1sjr3xblxtFRTnh4qKL2UrmOTk54e1dOKfLsBvlU85RPklWKJvsIy+/p9ZSNklW3W8+ZWtDuGnTJk6ePEmnTp2Ij4/n8uXLDB8+nJEjRxIdHW2Z7/Lly/j4+FCiRAlu3rxJamoqzs7OREdH4+Pjc9/j6pCsnGM2m0lJMed0GZKLmc3mNIcQ5aVDskD5lJOUT5IV/84myFv5lNEho/aiQ0aVTZJ197vtlK0N4YwZMyz//uGHH5g/fz7vvPMOcPvGlwcOHKBevXqEhYXRrFkzXF1d8ff3Jzw8nMDAQNavX0+zZs2ys2QREREREZE8y2FuwhMcHMz48eOJjY2lRo0a9O3bF4CJEycyZswY3n//fUqXLs3bb7+dwZpErFe4iAce7q42X29CYjI3YxJsvl4RyT+UTyLiiJRNeU+2NIQ7duy4Y1qDBg1o0KCB5XH16tUJDQ29Yz4/Pz/LvQpFbM3D3dVuV0q7ScahdvHiBYYOfZ7Q0I1ppjdp4s/33+9nzZrVbNy43nI+bffuvWjbtoNlvpSUFLp0aU+LFq0YMWKUZXp4+EYOHjzAuHGTWLp0MWFhaylRwgvDMDCbU+ncuQtdunS33QsWEZvLyXxSNonIvWjbKe9xmD2EIpLW0aNH2LRpPYsXf4S7uwfXrl3l2Wf/S+XKValSpSoAe/fu5qGHarBjx3ZeeGEYHh4ed11Xp05BPPvs8wBcu3aNl18ejLu7Ox06dM6ulyMieYSySUQclfIpc3QJIxEHdfXqZQwDEhJuf1tWvHgJpk2bRfHixS3zbN68kWbNWvLQQzXYvn2rVestXrw4/foNZO3aL+xSt4jkbcomEXFUyqfMUUMo4qAee6wxpUuXplOnAF56aRBLly6maNFilCx5+56d165dY//+H2jSpDmtWrUmLGyt1euuWLESZ86ctlPlIpKXKZtExFEpnzJHDaFIDjKZ7vwT/PuYd1dXV2bMmMOKFV/w+OOt+e234/Tr14MjR34BYNu2cOrVq0+RIkVo2rQ5p079zokTx60c14S7+90PkRARUTaJiKNSPtmeziEUyUFFihQmNjY2zbRr165SuHARvvxyE97ePvj7P0rZsuUICurG4sUL2Lo1nJo1HyY8fBNXrkTTtWsgcPseM2Fhaxk5cmyG4546dZIHH6xgl9ckIrmfsklEHJXyyfa0h1AkBxUsWIhy5crx7bdfW6Zt2LAOf/9HMZvNLF48n+vXrwOQnJzM6dN/ULVqNY4fP0ZUVCRr1mwiNHQjoaEbmT37HbZt20J8fFy6Y16+fJlPP/2YoKBu9nxpIpKLKZtExFEpn2xPewglX0tITGbl7N52Wa+13nhjKnPmzOTjjz8kJSWZSpWq8MoroylWrBg3blznhReewcnp9nc3rVq1oUOHTsydO5t27QLTHLpQt64/5co9wLZtX+Lm5p5mjLCwtXz33U5MJjCM21fOeuKJJ23zYkXELnI6n5RNInI3OZ1NoHyyNZNhGEZOF2FvV67EYjbn+ZfpkC5dOoOvb/mcLkNysX9/hpycTHh5eeZgRbalfMo5yifJirt9fvJSPqWXTd7ehe12H7ro6Js2X29uo2ySrLrfbSer9hBevXqVnTt38ueff+Lk5ETFihV5/PHH8fTMG6EnIpJVykkRcUTKJhHJSLrnECYlJTFr1iw6duzItm3buHXrFomJiWzfvp327dvz1ltvWe7zISKSHyknRcQRKZtExFrp7iEcMmQIHTp0YMSIEbi5uaV5Ljk5mU2bNjFkyBCWLl1q1yJFRByVclJEHJGySUSsle45hHFxcRQqVCjdFcTHx1OwYEGbF2ZLOkcn5+g4eMkqRz+HMKs5qXzKOconyQpHP4fQntmkcwjtK6vZ5OxswmQy2bCi2wzDIDVV/7/KDWx6DuE/g+Ts2bP/f4nXbzl69Ch9+/alcOHCDt8MiojYk3JSRByRsin/MplMxF06Y/P1FvItD6ghzIusug/hhAkT+OCDDzh16hTjx4/n3LlzjB2b8Q0cRUTyC+WkiDgiZZOIZMSqq4weOXKE0NBQlixZwlNPPcWrr75KUFCQvWsTsbviRd1w+dd9Z2whJSmRazeSMpzv4sULdOvWkY4dn2LUqHGW6SdP/saAAb0ZO3Yibdt2ICTkM7ZsCQdu7/bv1auv5V44hmGk+7xkD+Wk2FpO59M332xn+fJlpKamYhhmAgLaU6lSFd5//z0Azp8/S4kSXhQoUJDSpcswY0YwKSkpdOnSnhYtWjFixCgAnnuuH8nJycTE3ODWrVuUKuULwBtvTGHVqhUcOLCPIkWKphl76dLlODs72/iV50/KJrG1nM4mbTvZnlUNoWEYODk5sXv3bgYPHgygK1NJnuDi5s6B2QNtvt56oz4EMg41gKJFi/LDD3tITU21bAB9/fVXFCtWHIAlSxZy4sRvzJ+/BE9PT6KiInnppUEULVqM+vUbZPi8ZA/lpNhaTuZTdHQU8+e/w0cfraBo0WLEx8fz0kuDeOCB8ixbthKAl14axDPPDKJuXX/Lcnv37uahh2qwY8d2XnhhGB4eHnzwwScAhIdv5ODBA4wbNynNWAMHDqZdu0Cbvkb5H2WT2Jq2nfIeqxrCBx54gIEDB3Lu3Dnq16/Pq6++SvXq1e1dm0i+UKBAQapUqcqhQwctG1Y//rgXf/9HuXUrntWrV/LJJ6ss94zy8SnF5MnTcXf3ID4+/ecl+ygnJS+5fv06KSkpJCQkULQoFCxYkPHjJ+GWwV6BzZs30qxZS8xmg+3bt9KhQ6dsqljuRdkkeZG2nWzLqoZwxowZfPXVV9SrVw83Nzf8/f3p3LmznUsTyT9atmzNN998Td26/hw7dpTKlatgGAaJiUm4uLhQtmy5NPM/9FANAI4f/zXd5yX7KCclL6lSpSpNmzbn6ac7UbVqNR55xJ/WrQPuyJp/unbtGvv3/8Drr0/A2dmZ0NAQqxrCDz9cxOrVn1seP/xwbV59dbRNXocomyTv0raT7WR4UZnExEQiIiK4efMmu3btYseOHQQGBlKgQIHsqE8kX2jSpBl790ZgNpv5+uuvePzx1sDtY9pdXd3uuZzJ5JTu85I9lJOSF7322uuEhm6kc+euREZe5PnnB7Bz5457zr9tWzj16tWnSJEiNG3anFOnfufEieMZjjNw4GCWLVtp+VEzaDvKJsnLtO1kO+k2hAcPHqR169Z88sknHDp0iJ9++olly5YREBDAnj17sqtGkTyvYMGCVK5chcOHf+ann/bh7/8oAO7uHiQmJnDp0qU082/fvpXVqz/nwQcfTPd5sT/lpORFERHf8/XX2/D29qF9+45MnjyD4cNfY9OmsHsuEx6+iSNHDtO1ayB9+/bAyclEWNjabKxa/knZJHmdtp1sJ91DRidMmMCSJUvuONb8+PHjjBo1ig0bNti1OJH85PHHn2DRovlUq/YfXFxu/2m6u7sTFPQ0c+bMYNKkNylUyJOLFy+wePFCRo58HXd3j3SfF/tTTkpe5OHhwdy5b/Gf/9SkdOkyGIbByZMnqFKl2l3nP378GFFRkaxfH245B+enn/YzevQrDBnyMgULpn+DdLE9ZZPkB9p2so10G0Kz2XzXE4+rV6+OYejGlJL7pSQl/v9VrWy/3vvVuHEzZs6cysCBg9NMHzToRZYt+5Dnnx+As7MLzs5ODB78Eo8++phVz4t9KSfFXnIyn+rW9eeZZ55j1KjhpKSkANCgQUP697/7lQXDwzfQrl1gmgsy1K3rT7lyD7Bt25d07tz1nmP9+xxCgIkTp1GhQkVrXo7cg7JJ7EXbTnmPyUgnFZ577jnq169Pt27dKF789mVcY2JiCAkJ4cCBAyxatCjbCs2KK1diMZsVfjnh0qUz+PqWz+kyJBf792fIycmEl5dnDlaUVlZzUvmUc5RPkhV3+/w4Uj7ZM5u8vQvTa9RnNq955ezeREfftPl6c5usZpOLixNxl87YsKLbCvmWJyXFbPP1iu3d77ZTunsIZ82axZQpU2jZsqXl2yTDMGjRogVvvvmmjUoWEcm9lJMi4oiUTSJirXQbwhIlSvDOO++QmprKtWvXMJvNeHl5WW4AKSKS3yknRcQRKZtExFoZ3odwy5YtbNiwgUuXLuHs7Iyvry9PPPEEnTrpZrMiIqCcFBHHpGwSEWuk2xDOnz+fH374gaCgIHx9fTEMg6ioKNasWcOJEycYOXJkdtUpIuKQlJMi4oiUTSJirXQbwo0bN7Jx40bc3NLevLFdu3YEBgZaFSaxsbH06NGDRYsWUbZsWUJCQli+fDkmk4maNWsyefJk3NzcOHbsGOPGjSMuLg5/f38mT56Mi4sLFy5cYOTIkVy5coUKFSoQHBxMoUK6fLWIOAZb5KSIiK0pm0TEWunemN7JyemulyZOTU3F1dU1w5UfOnSInj17cvr0aQD+/PNPli5dyqpVq9iwYQNms5mVK1cCMHLkSCZMmMDWrVsxDIPVq1cDMHnyZHr16sWWLVuoWbMmCxcuvN/XKCJiN1nNSRERe1A2iYi10t1D2LlzZ3r27EmHDh3w9fXFZDIRFRXFxo0b6dixY4YrX716NRMnTmTUqFEAuLm5MXHiRDw9b1/2tGrVqly4cIHz58+TkJBAnTp1AAgKCmLevHl069aNffv2sWDBAsv0Pn366FstsZkiRd1x/9e3p7aQmJREzI37v5+O5D5ZzUmRe1E+SVYom8RelE15T7oN4fPPP0/16tXZvn07ERERGIZB6dKlGTJkCC1btsxw5f++rLGfnx9+fn4AXL16lc8++4wZM2YQFRWFt7e3ZT5vb28iIyO5du0anp6euLi4pJl+vxzlnkD5UVSUEy4u6e6IzlHubm70//hlm6932YB3cXFJtmreHTu288knH5GamophGLRt257KlauwYME8AM6dO4uXlxcFChSkTBk/Zs2aQ0pKCp06taNly1a89tpoAJ55pi/JyUnExMRw61Y8pUr5AjBx4lRWrlzBgQP7KFKkSNo6l33m8Fecc3Jywtu7cE6XcU9ZzUnlU85RPmXs1Knf6d37aaZPf4vHH29lmb5//48sXbqEK1euYDanUqVKNUaMeA0fn1JcuHCBp5/ubLmxvNlsJi4ujvbtO/Dccy/Y/PXkFGWTfTjye5pdHDmbXFyccjybtN2UsfvNpwyvMtq8eXPq1KlDZGQkzs7OlCpVyrKHL7MiIyMZOHAgXbp0oUGDBhw4cACTyWR53jAMTCaT5b//9O/H1tCNn3OO2WzOtzcxteZ1R0dH8e67b/PRRysoWrQY8fHxvPTSIMqWfYCPP759OPVLLw3imWcGUbeuv2W933//HQ899B++/vorBg8eioeHB0uWLAMgPHwjBw8eYNy4SZZxDMPg2Wefp127wDTjG4Z1deYks9mc5kbFjnTj579lJSeVTzlH+ZSxDRvW07LlE6xbF0qzZrebiEOHDjJx4njefPMtatZ8GIA1a1YzatSrfPjhp6SmmilZ0tuSYQCXL0fTo8dTtGzZhgcfrGD7F5QD/p1N4Hj5ZK9ssmfTphvTZz2b7NlM2jszM1q/tpusc7/bTuk2hJcvX2bs2LHs3buXEiVKYDabuXHjBnXq1GHGjBmUKVPmvgs8deoUAwcO5L///S/PPPMMAL6+vkRHR6cZ18fHhxIlSnDz5k1SU1NxdnYmOjoaHx+f+x5TxFFdv36dlJQUEhISKFoUChYsyPjxk3Bzc093uc2bN9KsWUvMZoPt27fSoYMuIZ5T7JGTIo4gJSWFbdu2sGDBB7zwwjOcP38OP7+yLFv2If36PWtpBgG6dHmaxMREkpKS7rquy5cvYxgGBQsWzK7y8z1lk+RF2m6yj3QbwpEjR9KmTRsWLFhgOQE5JSWF0NBQRo8ezfLly+9rsNjYWJ599lmGDx9O586dLdP9/Pxwd3fnwIED1KtXj7CwMJo1a4arqyv+/v6Eh4cTGBjI+vXradas2f2/ShEHVaVKVZo2bc7TT3eiatVqPPKIP61bB1C2bLl7LnPt2jX27/+B11+fgLOzM6GhIVYF24cfLmL16s8tjx9+uDavvjraJq8jP7N1Too4ioiI7/H19eWBB8rTtGkLwsLW8uKLwzh69AhDh464Y/5evf5r+ffly9H079+LpKREbty4TvXqNZg+PRgfn1LZ+RLyNWWT5EXabrKPdPcpR0VF0bNnzzRXo3JxcaFHjx5cv379vgcLDQ3l8uXLfPzxx3Tq1IlOnTrx7rvvAhAcHMyMGTMICAggPj6evn37AjBx4kRWr15Nu3bt2L9/P8OHD7/vcUUc2WuvvU5o6EY6d+5KZORFnn9+ADt37rjn/Nu2hVOvXn2KFClC06bNOXXqd06cOJ7hOAMHDmbZspWWn7waatnN1jkp4ijCwzfwxBNPAtCqVWvCwzeSnPz3+T23T99ITk6mf/9e9O/fi6Cg9vzyyyEASpb0ZtmylaxY8QVPPtkOwzBTv36DnHgZ+ZaySfIqbTfZXrp7CAsUKMDPP/9sufrn337++Wc8PDysHmTHjtu/pP79+9O/f/+7zlO9enVCQ0PvmO7n56dvsSTPioj4nlu34mnVqg3t23ekffuObNiwjk2bwmje/PG7LhMevokrV6Lp2vX2ce1OTibCwtYycuTY7Cxd/p+tclLEkVy7dpW9eyP47bfjfPHFKgzD4ObNGHbu3MFDD/2HX345RMWKlXB1dWXZsv+dt/O/hvE2JycnXnzxZQYM6MXnny+nd+9+OfFy8iVlk+RF2m6yj3QbwjfeeIOXX36ZwoULWy5ZHBkZyY0bN3jvvfeyq0aRPMvDw4O5c9/iP/+pSenSZTAMg5MnT1ClSrW7zn/8+DGioiJZvz4cd/fb/0P/6af9jB79CkOGvEzBgoWys3xBOSl505Yt4dSr9yhz5syzTFu6dDHr16/huedeZNKksVSuXJUaNWoC8PvvJ7lw4fxdr77n4uLCkCHDeeONMQQEtMfLq2S2vY78TNkkeZG2m+wj3Yawdu3afPXVV/zyyy9cunQJs9lM6dKlqV27tuVWECK5WWJSEssGvGuX9Vqjbl1/nnnmOUaNGk5KSgoADRo0pH//gXedPzx8A+3aBVpC7e91lCv3ANu2fUnnzl3vOda/j4UHmDhxmuXS8JI5ykmxl5zMpy+/3MigQUPSTAsKepqVKz+lWLFiTJ48nQ8+WMi1a1eJj79FqVKleOmlEdSu/QgXL164Y32PPdaImjUf5sMPFzF69HibvRa5N2WT2EtOZpO2m+zDZBhGnr/euS7rnnMuXTqDr2/5nC5DcrF/f4Yc7bLuWaV8yjnKJ8mKu31+8lI+ZXTbiV6jPrP5mCtn99ZtJ8h6Nrm4OBF36YwNK7qtkG/5XHHLBbn/badM36ikc+fODBs2jJ07d2Z2FSIieZpyUkQckbJJRP4p08cMTJs2jZo1axIZGWnLekRE8gzlpIg4ImWTiPyT1XsI4+LiSEhIsDyuWfP2ieSlSumeQpK+fHBUsthJbvvsKCdzn9z2GRPHkNs+N8qm3Ce3fcbEcWTms5PuHsK4uDiCg4PZuHEjcXFxABQpUoRWrVoxZswYihQpkrlKJd9wcXEjLi6GQoWKYDKZcrocyUUMwyAuLgYXF7ecLiVdysncS/kkmaFsEntTNklmZTaf0m0Ix40bR9myZQkLC8PX1xeAS5cuERISwqhRo1i0aFHmK5Z8oXhxb65diyY29npOlyK5kIuLG8WLe+d0GelSTuZeyifJLGWT2FNWs8nJyYmkmCu2LQq4YQazWReVcXSZyad0G8LffvuNd955J800Pz8/XnnlFdq3b3/fBUr+4+zsQsmSpXO6DBG7UU7mXsonycuUTblXVrPJ27swB2bf/TYMWVFj1Ie6Cmwele45hK6urpw9e/aO6X/99ZfuYSMignJSRByTsklErJVuIrzyyit0796dWrVq4evri8lkIjIyksOHDzN9+vTsqlFExGEpJ0XEESmbRMRaGd6Y/urVq+zevZuLFy9iGAalS5emSZMmlChRIrtqzDLd+Fkk73DEGz9nJSeVTyJ5h6Plk72ySTemd2z2OmS0ng4ZzbUyyqYMjxkoVKgQBQoUoGDBgjg5OeHp6Ymbm2NfWUtEJDspJ0XEESmbRMQa6Z5DePDgQVq3bs2nn37KoUOH+Omnn1i2bBkBAQHs2bMnu2oUEXFYykkRcUTKJhGxVrp7CCdMmMCSJUuoXr16munHjx9n1KhRbNiwwa7FiYg4OuWkiDgiZZOIWCvdPYRms/mOIAGoXr06GZx6KCKSLygnRcQRKZtExFrpNoRlypRhyZIlXLt2zTItJiaGDz74AD8/P7sXJyLi6JSTIuKIlE0iYq10DxmdNWsWU6ZMoWXLlpZvkwzDoEWLFrz55pvZUqCIiCNTToqII1I2iYi10m0IS5QowTvvvENqairXrl3DbDbj5eWFs7NzdtUnIuLQlJMi4oiUTSJirQxvO7FlyxY2bNjApUuXcHZ2xtfXlyeeeIJOnTplR30iIg5POSkijkjZJCLWSLchnD9/Pj/88ANBQUH4+vpiGAZRUVGsWbOGEydOMHLkyOyqU0TEISknRcQRKZtExFrpNoQbN25k48aNd9zEtF27dgQGBipMRCTfU06KiCNSNomItdK9yqiTk9NdL02cmpqKq6ur3YoSEcktlJMi4oiUTSJirXT3EHbu3JmePXvSoUMHfH19MZlMREVFsXHjRjp27JhdNYqIOCzlpIg4ImWTiFgr3Ybw+eefp3r16mzfvp2IiAgMw6B06dIMGTKEli1bZleNIiIOSzkpIo5I2SQi1srwKqPNmzenefPm2VGLiEiupJwUEUekbBIRa2TYEN7LvHnzSElJ4b///S/e3t62rElEJE9QToqII1I2icg/pXtRmYx06dKFo0ePpjtPbGwsHTp04Ny5cwBEREQQGBhImzZtmDt3rmW+Y8eOERQUxJNPPsm4ceNISUkB4MKFC/Tu3ZuAgABeeOEF4uLislKyiEi2siYnRUSym7JJRP6W6YZw2LBhlC9fnhYtWtxznkOHDtGzZ09Onz4NQEJCAmPHjmXhwoWEh4dz5MgRdu7cCcDIkSOZMGECW7duxTAMVq9eDcDkyZPp1asXW7ZsoWbNmixcuDCzJYuIZCtrclJEJLspm0Tkn7K0hzAjq1evZuLEifj4+ABw+PBhypcvT7ly5XBxcSEwMJAtW7Zw/vx5EhISqFOnDgBBQUFs2bKF5ORk9u3bx5NPPplmuoiIiIiIiGRduucQXr9+Pd2FixUrlu7zb775ZprHUVFRaY5V9/HxITIy8o7p3t7eREZGcu3aNTw9PXFxcUkz/X55eXne9zIiItbIak4qn0TEHnJrNnl7F86RccU6+v3kTek2hB07diQ6Ohrgjpubmkwmjh07dl+Dmc1mTCaT5bFhGJhMpntO//u//x73fl25EovZfOfNWUUk93FyMjlUE5XVnFQ+ieQdjpRP9swmezYF0dE37bbu/EK/H/m3jLIp3YYwJCSEPn368NFHH1G+fPksF+Pr62sJJ4Do6Gh8fHzumH758mV8fHwoUaIEN2/eJDU1FWdnZ8v8IiKOwtY5KSJiC8omEbFWuucQli5dmqFDhzJnzhybDFa7dm3+/PNPzpw5Q2pqKps2baJZs2b4+fnh7u7OgQMHAAgLC6NZs2a4urri7+9PeHg4AOvXr6dZs2Y2qUVExBZsnZMiIragbBIRa2V4H8LOnTvTqFEjmwzm7u7OzJkzGTp0KImJiTRv3pyAgAAAgoODGT9+PLGxsdSoUYO+ffsCMHHiRMaMGcP7779P6dKlefvtt21Si4iIrdgyJ0VEbEXZJCLWsOrG9Fk9THPHjh2Wfzds2JANGzbcMU/16tUJDQ29Y7qfnx/Lly/P0vgiIvamw9lFxBEpm0QkI+keMhoWFsbatWsBuHXrFsOGDaNu3br06tXLcm9BEZH8TDkpIo5I2SQi1rpnQ7hv3z4WLlzIgw8+CMCHH36I2Wxm06ZNBAYGMm7cuOyqUUTEISknRcQRKZtE5H7csyFcsGAB5cqVIyIigvnz5xMWFoanpydr167lypUr/PHHH8yfPz87axURcSjKSRFxRMomEbkf9zyH8JFHHiE5OZmgoCAuXLjAunXrGDZsGIZhkJCQwOrVqwkKCsrOWkVEHIpyUkQckbJJRO7HPRvCrl270r17dy5fvszBgwfp27cvZcqUYe/evcyZM4cWLVpQpkyZ7KxVRMShKCdFxBEpm0TkftyzIfTz82PVqlVs376dFi1aWG4PkZiYSLt27fjvf/+bbUWKiDgi5aSIOCJlk4jcj3RvO5GQkED//v3TTGvevDnNmze3PD558iRVqlSxS3EiIo5OOSkijkjZJCLWSrchXLJkCUWKFKFnz55UqlQpzXN//PEHy5cvJyYmhjlz5ti1SBERR6WcFBFHpGwSEWul2xDOnj2bL7/8kqFDh5KYmEj58uUxm8389ddfeHh4MGTIENq3b59dtYqIOBzlpIg4ImWTiFgr3YYQoG3btrRt25aTJ0/yxx9/YDKZqFChgg4xEBH5f8pJEXFEyiYRsUaGDeHfqlSpogAREUmHclJEHJGySUTSc88b04uIiIiIiEjepoZQREREREQkn7KqITx8+PAd0yIiImxejIhIbqWcFBFHpGwSkYykew7hr7/+imEYjB49mjlz5mAYBgApKSlMmjSJbdu2ZUuRIiKOSjkpIo5I2SQi1kq3Ifz888/ZvXs3UVFRvPTSS/9byMWF1q1b2704ERFHp5wUEUekbBIRa6XbEE6dOhWAuXPnMmLEiGwpSEQkN1FOiogjUjaJiLWsuu3E8OHD+fHHH7lx44blkAOANm3a2K0wEZHcRDkpIo5I2SQiGbGqIZwwYQI7d+6kfPnylmkmk0lhIiLy/5STIuKIlE0ikhGrGsLdu3cTHh6Op6envesREcmVlJMi4oiUTSKSEatuO1GmTBkFiYhIOpSTIuKIlE0ikhGr9hDWrVuXESNG0LJlSzw8PCzTdbiBiMhtykkRcUTKJhHJiFUN4cGDBwH44osvLNN0/LmIyP8oJ0XEESmbRCQjVjWEy5cvt3cdIiK5mnJSRByRsklEMmJVQzht2rS7Th8/frxNixERya2UkyLiiJRNIpIRqy4qU6xYMctPoUKF+PHHH+1dl4hIrqKcFBFHpGwSkYxYtYfwpZdeSvP4ueee44UXXsjSwGFhYSxZsgSAZs2aMXr0aCIiIpgxYwaJiYm0bduWESNGAHDs2DHGjRtHXFwc/v7+TJ48GRcXq0oXEckW9shJEZGsUjaJSEas2kP4b56enkRFRWV60Fu3bvHmm2+yfPlywsLC2L9/Pzt27GDs2LEsXLiQ8PBwjhw5ws6dOwEYOXIkEyZMYOvWrRiGwerVqzM9tohIdshqToqI2IOySUT+7b7PITQMg6NHj1KxYsVMD5qamorZbObWrVsULFiQlJQUPD09KV++POXKlQMgMDCQLVu2ULlyZRISEqhTpw4AQUFBzJs3j169emV6fBERW7N1ToqI2IKySUQyYlVDWKxYsTSPO3bsSMeOHTM9qKenJy+//DJt27alQIEC1K9fn6ioKLy9vS3z+Pj4EBkZecd0b29vIiMjMz22iIg92DonRURsQdkkIhmx+hzCuLg4jh49SkpKCrVq1cLT0zPTgx4/fpw1a9bwzTffULhwYV577TVOnz6NyWSyzGMYBiaTCbPZfNfp98PLK/O1iohYI7M5qXwSEXvKbdnk7V04R8YV6+j3kzdZ1RAePnyYF198kZIlS5KamkpkZCSLFi2ibt26mRr0+++/p2HDhnh5eQG3DwNdunQpzs7Olnmio6Px8fHB19eX6Ohoy/TLly/j4+NzX+NduRKL2WxkqlYRcSxOTiaHbKIym5PKJ5G8wxHzyR7ZZM+mIDr6pt3WnV/o9yP/llE2WXVRmVmzZhEcHMz69evZuHEj7777LjNnzsx0UdWrVyciIoL4+HgMw2DHjh3Url2bP//8kzNnzpCamsqmTZto1qwZfn5+uLu7c+DAAeD21UmbNWuW6bFFROzB1jkpImILyiYRyYhVDWFcXByPPfaY5XHDhg25detWpgdt0qQJ7du3JygoiI4dO5KSksLQoUOZOXMmQ4cOpV27dlSsWJGAgAAAgoODmTFjBgEBAcTHx9O3b99Mjy0iYg+2zkkREVtQNolIRqw6ZNRkMnH+/Hn8/PwAOHfuXJrDOzNj0KBBDBo0KM20hg0bsmHDhjvmrV69OqGhoVkaT0TEnuyRkyIiWaVsEpGMWNUQDhkyhO7du9OwYUMAdu/ezcSJE+1amIhIbqKcFBFHpGwSkYxY1RA+8cQTVKxYkb1792I2mxk8eDCVKlWyd20iIrmGclJEHJGySUQyYlVDCBATE5PmcINz587RvHlzuxUmIpLbKCdFxBEpm0QkPVY1hCNGjGD//v1pbvdgMpkUJiIi/085KSKOSNkkIhmxqiE8cuQIX3/9NW5ubvauR0QkV1JOiogjUjaJSEasuu1ExYoVSUlJsXctIiK5lnJSRByRsklEMmLVHsLu3bvTsWNHHnnkEVxc/rfIjBkz7FaYiEhuopwUEUekbBKRjFjVEL733ns0adKEBx54wN71iIjkSspJEXFEyiYRyYhVDaGTkxOTJk2ycykiIrmXclJEHJGySUQyYtU5hDVq1ODbb7+1cykiIrmXclJEHJGySUQyYtUewoiICFavXo2rqyuurq4YhoHJZOKnn36yd30iIrmCclJEHJGySUQyYlVD+Mknn9wxTVesEhH5H+WkiDgiZZOIZMSqQ0b9/PwsP56enmzevJm+ffvauzYRkVxDOSkijkjZJCIZsWoPIcCpU6f49NNP2bBhAyVLlmTo0KH2rEtEJNdRToqII1I2iUh6MmwIv//+e5YtW8bevXtp1KgRBQsWZMuWLTg7O2dHfSIiDk85KSKOSNkkItZItyHs0KEDrq6udOzYkZkzZ1KyZElatWqlIBER+X/KSRFxRMomEbFWuucQurm5kZKSwrVr17hx40Z21SQikmsoJ0XEESmbRMRa6e4hXLt2LYcPH+bzzz8nKCiIypUrExcXR1xcHIUKFcquGkVEHJZyUkQckbJJRKyV4VVGa9WqxYwZM9i1axft27enaNGitGjRguDg4OyoT0TE4SknRcQRKZtExBpW3XYCoGjRojzzzDNs3bqVuXPncvr0aTuWJSKS+ygnRcQRKZtEJD1W33bin5o0aUKTJk1sXYuISJ6hnBQRR6RsEpF/s3oPoYiIiIiIiOQtVjWE27dvt3cdIiK5mnJSRByRsklEMmJVQzh37lx71yEikqspJ0XEESmbRCQjVp1DWLVqVd5//338/f0pWLCgZXqNGjXsVpiISG6inBQRR6RsEpGMWNUQHjp0iEOHDvHFF19YpplMJr7++mu7FSYikpsoJ0XEESmbRCQjVjWEO3bssHcdIiK5mnJSRByRsklEMmJVQ3j16lU2bNhAXFwchmFgNps5c+YMc+bMyfTAO3bsYP78+dy6dYvGjRszfvx4IiIimDFjBomJibRt25YRI0YAcOzYMcaNG0dcXBz+/v5MnjwZF5dM3TFDRMQu7JGTIiJZpWwSkYxYdVGZ4cOHExERwZo1a7h06RLr16/HySnzd6w4e/YsEydOZOHChWzYsIFff/2VnTt3MnbsWBYuXEh4eDhHjhxh586dAIwcOZIJEyawdetWDMNg9erVmR5bRMQebJ2TIiK2oGwSkYxYlQgXLlxgyZIlNGvWjD59+vD555/zxx9/ZHrQr776inbt2uHr64urqytz586lQIEClC9fnnLlyuHi4kJgYCBbtmzh/PnzJCQkUKdOHQCCgoLYsmVLpscWEbEHW+ekiIgtKJtEJCNWHXdZsmRJAB588EFOnDhBx44dSUlJyfSgZ86cwdXVlcGDB3Px4kVatGhBlSpV8Pb2tszj4+NDZGQkUVFRaaZ7e3sTGRl5X+N5eXlmulYREWtkNieVTyJiT7ktm7y9C+fIuGId/X7yJqsaQi8vLz788EPq1KnDe++9h6enJwkJCZkeNDU1lf3797N8+XIKFizICy+8gIeHByaTyTKPYRiYTCbMZvNdp9+PK1diMZuNuz5XuIgHHu6umXsh6UhITOZmTObfIxG5Oycnk0M2UZnNyfTySURyF0fMJ3tkkz2bgujom3Zbd36h34/8W0bZZFVDOGXKFDZv3oy/vz81a9Zk3rx5vPbaa5kuqmTJkjRs2JASJUoA8MQTT7BlyxacnZ0t80RHR+Pj44Ovry/R0dGW6ZcvX8bHxyfTY/+bh7srvUZ9ZrP1/W3l7N7cRA2hSH5h65wUEbEFZZOIZMSqcwi9vLzo27cvcPsCL+vXr6d169aZHrRly5Z8//33xMTEkJqaynfffUdAQAB//vknZ86cITU1lU2bNtGsWTP8/Pxwd3fnwIEDAISFhdGsWbNMjy0iYg+2zkkREVtQNolIRtLdQ/jII4+ke3jmTz/9lKlBa9euzcCBA+nVqxfJyck0btyYnj17UrFiRYYOHUpiYiLNmzcnICAAgODgYMaPH09sbCw1atSwBJuISE6zV06KiGSFsklErJVuQ7hp0ya7Ddy1a1e6du2aZlrDhg3ZsGHDHfNWr16d0NBQu9UiIpJZ9sxJEZHMUjaJiLXSbQiPHj2a7sJ+fn42LUZEJLdRToqII1I2iYi10m0Ily9ffs/nTCYTbdq0sXlBIiK5iXJSRByRsklErHVfDWFKSgqGYeDqavvbNIiI5EbKSRFxRMomEbGWVVcZvXLlCs899xx16tShVq1a9O3b975vDi8ikpcpJ0XEESmbRCQjVjWEU6ZMoXbt2kRERBAREYG/vz+TJk2yc2kiIrmHPXKycBEPvL0L2/yncBEP27xoEXF42oYTkYxYdWP606dP8+6771oeDxs2jPbt29utKBGR3MYeOenh7kqvUZ9ltbQ7rJzdm5sk2Hy9IuJ4tA0nIhmxag9hSkoKiYmJlse3bt1K9942IiL5jXJSRByRsklEMmLVHsJ27drRv39/goKCMJlMrFmzhieffNLetYmI5BrKSRFxRMomEcmIVQ3hkCFDKF26NLt27cJsNhMUFHTHTeVFRPIz5aSIOCJlk4hkxKqGMC4ujqpVq1K7dm3KlSuHm5ubvesSEclVlJMi4oiUTSKSkXQbwtTUVGbMmEFISAiFCxcGbh973qdPH1555RUdgy4i+Z5yUkQckbJJRKyV7kVlPvjgAy5evMj27dstlyvetGkTv//+O4sXL86uGkVEHJZyUkQckbJJRKyVbkP45ZdfMmfOHEqVKmWZ5ufnx6xZs9i6davdixMRcXTKSRFxRMomEbFWhred8PC48wbGRYoU0aEGIiL/TzkpIo5I2SQi1ki3IXRyuvfThmHYvBgRkdxGOSkijkjZJCLWSveiMgkJCfz66693DY6EhAS7FSUiklsoJ0XEESmbRMRa6TaEiYmJvPTSS3d9TocbiIgoJ0XEMSmbRMRa6TaEO3bsyK46RERyJeWkiDgiZZOIWCvDi8qIiIiIiIhI3qSGUEREREREJJ9SQygiIiIiIpJPWdUQvvPOO3dMmzZtmq1rERHJtZSTIuKIlE0ikpF0Lyozb948YmJiCA8PJzY21jI9OTmZ77//nvHjx9u9QBERR6acFBFHpGwSEWul2xDWrl2bX375BScnJ4oVK2aZ7uzsTHBwsL1rExFxeMpJEXFEyiYRsVa6DWHz5s1p3rw5zZo1o1atWtlVk4hIrqGcFBFHpGwSEWul2xD+zdPTk9dff53r169jGIZl+qJFi+xWmIhIbqKcFBFHpGwSkYxY1RCOGTOGWrVqUb9+fUwmk71rEhHJdZST+U/xom64uLnbfL0pSYlcu5Fk8/VK/qRsEpGMWNUQ3rp1y24nH8+aNYtr164xc+ZMIiIimDFjBomJibRt25YRI0YAcOzYMcaNG0dcXBz+/v5MnjwZFxerShcRyRb2zElxTC5u7hyYPdDm66036kNADaHYhrJJRDJi1W0nypcvT1RUlM0H37NnD+vWrQMgISGBsWPHsnDhQsLDwzly5Ag7d+4EYOTIkUyYMIGtW7diGAarV6+2eS0iIllhr5wUEckKZZOIZMSq3Wxms5kOHTpQo0YN3N3/d3hMVo4/v379OnPnzmXw4MEcP36cw4cPU758ecqVKwdAYGAgW7ZsoXLlyiQkJFCnTh0AgoKCmDdvHr169cr02JJ76JAsyS3skZMiIlmlbBKRjFjVELZu3ZrWrVvbdOAJEyYwYsQILl68CEBUVBTe3t6W5318fIiMjLxjure3N5GRkfc1lpeXp22Kvk/e3oVzZNy8xl6HZHl7277RlPwrszmpfJK70e9HbEXZJLak30/eZFVD+NRTT6V5bBgGZ86cyfSgX3zxBaVLl6Zhw4asXbsWuP0N1j9PdjYMA5PJdM/p9+PKlVjMZuOuz9nzgx0dfdNu684v9PuRf3NyMuXYhkp6MpuTyqfcS78f+TdHzCdlU/6j34/8W0bZZFVDuGrVKmbPns2tW7cs00qUKMHu3bszVVR4eDjR0dF06tSJGzduEB8fz/nz53F2drbMEx0djY+PD76+vkRHR1umX758GR8fn0yNKyJiL7bOSRERW1A2iUhGrGoIlyxZwscff8z777/P8OHD+eabb7h06VKmB/34448t/167di0//vgjkydPpk2bNpw5c4ayZcuyadMmunTpgp+fH+7u7hw4cIB69eoRFhZGs2bNMj22iIg92DonRURsQdkkIhmx6iqjxYoVo3bt2jz00ENcuXKFF154gX379tm0EHd3d2bOnMnQoUNp164dFStWJCAgAIDg4GBmzJhBQEAA8fHx9O3b16Zji4hkVXbkpIjI/VI2iUhGrNpD6OLiwo0bNyhfvjyHDx+mcePGpKam2qSAoKAggoKCAGjYsCEbNmy4Y57q1asTGhpqk/FEROzBnjkpIpJZyiYRyYhVewiffvppnn/+eVq0aEFISAhBQUFUrFjR3rWJiOQaykkRcUTKJhHJiFV7CLt06UK7du0oWLAgISEh/PLLL9SqVcvetYmI5BrKSRFxRMomEcmIVXsIg4KCKFiwIAClSpXiiSee4JlnnrFrYSIiuYlyUkQckbJJRDKS7h7Cfv368csvv5CQkEDdunUt081mMw8//LDdixMRcXTKSRFxRMomEbFWug3hggULuH79OmPHjmXGjBn/W8jFBW9vb7sXJyLi6JSTIuKIlE0iYq10Dxn19PSkbNmyfPrppxQtWhQ/Pz9u3LjBnj17dIUqERGUkyLimJRNImItqy4qM2/ePM6cOcOrr77KwIEDqVy5Mvv27ePNN9+0d30iIrmCclJEHJGySUQyYtVFZb799lumTZvGtm3baN++PZ9++inHjx+3d20iIrmGclJEHJGySUQyYlVDCFCgQAEiIiJ47LHHAEhKSrJbUSIiuZFyUkQckbJJRNJjVUNYvHhxJk2axJEjR2jUqBHBwcH4+PjYuzYRkVxDOSkijkjZJCIZsaohnDVrFj4+PixevJgCBQpgMpmYNWuWvWsTEck1lJMi4oiUTSKSEasuKlOyZEkGDhzIrVu3uH79Os8++6y96xIRyVWUkyLiiJRNIpIRqxrCzz//nBkzZpCcnAyAYRiYTCaOHTtm1+JERHIL5aSIOCJlk4hkxKqGcOnSpXz++efUqFHD3vWIiORKykkRcUTKJhHJiFXnEJYsWVJBIiKSDuWkiDgiZZOIZMSqhrBJkyasXLmSyMhIrl+/bvkREZHblJMi4oiUTSKSEasOGV2yZAlJSUlMmTLFMk3Hn4uI/I9yUkQckbJJRDJiVUN4+PBhe9chIpKrKSdFxBEpm0QkI1Y1hGazmaVLl7Jr1y5SUlJo3LgxgwcPxsXFqsVFRPI85aSIOCJlk4hkxKpzCOfMmcPevXvp168fAwYM4ODBg7qpqYjIPygnRcQRKZtEJCNWfT303XffsWbNGlxdXQFo0aIFHTt2tGthIiK5iXJSRByRsklEMmLVHkLDMCxBAuDm5pbmsYhIfqecFBFHpGwSkYxY1RBWr16d6dOn89dff3H27FlmzJhB1apV7V2biEiuoZwUEUekbBKRjFjVEE6cOJGYmBh69OhBt27duHr1Km+88Ya9axMRyTWUkyLiiJRNIpIRq84h9PT0ZObMmQAkJibi7u5u16JERHIb5aSIOCJlk4hkJN09hElJSYwePZqvvvrKMm3YsGG8/vrrpKSk2L04ERFHp5wUEUekbBIRa6XbEM6bN4/Y2Fjq1q1rmTZlyhRu3LjBe++9l6WB58+fT/v27Wnfvj2zZ88GICIigsDAQNq0acPcuXMt8x47doygoCCefPJJxo0bpyATEYdhz5wUEcksZZOIWCvdhvDbb79lzpw5eHl5WaaVKlWK2bNns3379kwPGhERwffff8+6detYv349R48eZdOmTYwdO5aFCxcSHh7OkSNH2LlzJwAjR45kwoQJbN26FcMwWL16dabHFhGxJXvlpIhIViibRMRa6TaErq6ueHh43DHd09MTNze3TA/q7e3NmDFjLJc+rlSpEqdPn6Z8+fKUK1cOFxcXAgMD2bJlC+fPnychIYE6deoAEBQUxJYtWzI9toiILdkrJ0VEskLZJCLWSrchdHJyIjY29o7psbGxWTpss0qVKpYG7/Tp03z55ZeYTCa8vb0t8/j4+BAZGUlUVFSa6d7e3kRGRmZ6bBERW7JXToqIZIWySUSsle5VRjt06MD48eOZPn06BQsWBCA+Pp7x48fTpk2bLA9+8uRJnn/+eUaNGoWzszOnT5+2PGcYBiaTCbPZjMlkumP6/fDy8sxyrZnh7V04R8YV6+j3I7aQ1ZxUPsnd6PcjWaVsEnvQ7ydvSrch7NevHxMnTqRx48ZUqVIFs9nMqVOnCAwMZMiQIVka+MCBAwwbNoyxY8fSvn17fvzxR6Kjoy3PR0dH4+Pjg6+vb5rply9fxsfH577GunIlFrPZuOtz9vxgR0fftNu68wv9fuTfnJxMObahcjdZzUnlU+6l34/8myPlk7Ip/9LvR/4to2xKtyF0cnJi6tSpDB48mKNHj+Lk5EStWrXuuyH7t4sXLzJkyBDmzp1Lw4YNAahduzZ//vknZ86coWzZsmzatIkuXbrg5+eHu7s7Bw4coF69eoSFhdGsWbMsjS8iYiv2ykkRkaxQNomItay6Mb2fnx9+fn42G3Tp0qUkJiZabpQK0KNHD2bOnMnQoUNJTEykefPmBAQEABAcHMz48eOJjY2lRo0a9O3b12a1iIjYgq1zUkTEFpRNIpIRqxpCWxs/fjzjx4+/63MbNmy4Y1r16tUJDQ21d1kiIiIiIiL5SrpXGRUREREREZG8Sw2hiIiIiIhIPqWGUEREREREJJ9SQygiIiIiIpJPqSEUERERERHJp9QQioiIiIiI5FNqCEVERERERPIpNYQiIiIiIiL5lBpCERERERGRfEoNoYiIiIiISD6lhlBERERERCSfcsnpAkRERERERPKDIkXdcXdzs/l6E5OSiLmRmKll1RCKiIiIiIhkA3c3N/p//LLN17tswLuAGkIRyWaO+C2XiAgon0RErKWGUEQyzRG/5RIRAeWTiIi1dFEZERERERGRfEoNoYiIiIiISD6lhlBERERERCSfUkMoIiIiIiKST6khFBERERERyafUEIqIiIiIiORTaghFRERERETyKTWEIiIiIiIi+ZQaQhERERERkXxKDaGIiIiIiEg+pYZQREREREQkn1JDKCIiIiIikk/lmoZw48aNtGvXjjZt2vDZZ5/ldDkiIiIiIiK5nktOF2CNyMhI5s6dy9q1a3Fzc6NHjx40aNCAypUr53RpIiIiIiIiuVauaAgjIiJ47LHHKFasGABPPvkkW7Zs4aWXXrJqeScnU7rPlyxeKKslZmpcsY5bES+7rFe/H9so6VnCLuu91+8nr/3elE+5m/LJsSmfMk/ZlLspmxybo2WTyTAMwx4F2dLixYuJj49nxIgRAHzxxRccPnyYqVOn5nBlIiIiIiIiuVeuOIfQbDZjMv2vszUMI81jERERERERuX+5oiH09fUlOjra8jg6OhofH58crEhERERERCT3yxUNYaNGjdizZw9Xr17l1q1bbNu2jWbNmuV0WSIiIiIiIrlarrioTKlSpRgxYgR9+/YlOTmZrl27UqtWrZwuS0REREREJFfLFReVEREREREREdvLFYeMioiIiIiIiO2pIRQREREREcmn1BCKiIiIiIjkU2oIRURERERE8qlccZVRR3fu3Dn69u3Ljh070kyvVq0av/32G5999hmrV6/GMAxMJhMDBgygc+fOlvlSUlJo0aIFTz75JG+88YZl+tq1a/nxxx+ZOXMm7733HqtWraJkyZIYhoHZbKZHjx706dMnu15mjjh37hytWrWie/fuTJkyxTL92LFjdO7cmRkzZvDUU0+xbNky1q9fD4CTkxMDBw6kffv2ABiGke7zedGWLVtYsmQJKSkpGIZBp06dqFatGsHBwQD89ddflCxZkoIFC1K2bFkWLFhw189ht27dSEpK4saNG8THx1O6dGkAZs+ezccff8zevXspWrRomrHXrl2Ls7Nz9r5guSflk23ob8r+Tpw4QWBgIPPmzePJJ5+0TN+zZw8LFiwgOjoas9nMQw89xNixY/H19eXcuXMEBARQqVIlAMxmM3FxcXTu3Jlhw4bl1EsRKyib7EPbTZmXr3PekCw7e/as0bJlyzumV61a1fj555+NTp06Gbdu3TIMwzAuX75sNG/e3Dh27Jhlvu3btxuDBw82GjZsaMTHx1umr1mzxhg9erRhGIYxb948Y968eZbnrly5YnTo0MFYvXq1vV6WQzh79qzx6KOPGi1atDBSUlIs04ODg43HHnvMWLNmjTFnzhzj2WefNWJiYgzDMIyLFy8arVq1Mnbv3m0YhpHh83nNpUuXjBYtWhhXr141DMMwYmNjjaeeesrYvn27ZZ4+ffoYe/fuTbPcvT6HhpH2s/i30aNHG2vWrLHTqxBbUT5lnf6mssf06dONYcOGGQMGDLBM27dvn9G4cWPj4MGDlmkrVqwwgoKCDMO4++f70qVLRu3atY3ff/89W+qWzFE22Ye2mzInv+e8Dhm1s+joaAzD4NatWwB4eXkxb948ihcvbpln7dq1tG7dmlq1arF582ar1luiRAleeOEFVq5caZe6HUmhQoV46KGH2Ldvn2Xa7t27adSoEfHx8XzyySe88cYbFC5cGABfX1/efvttvL29iYuLS/f5vOjatWskJyeTkJAA3H7/Zs6cSeXKldNdLjOfQ8ndlE/W0d+U/SUnJ7Nx40aGDx/O0aNH+euvvwBYuHAhL7zwAnXq1LHM27t3b9q1a0dSUtJd1/X357pQoULZUbrYgbIpa7TddP/ye86rIbSzZs2a4efnR9OmTenTpw/vvfcexYoVo1SpUgBcvXqViIgIWrVqRdu2bQkJCbF63VWrVuWPP/6wV+kOpW3btmzduhWAw4cPU61aNVxdXUlMTMTFxYXy5cunmb9WrVpUqVKFP/74I93n86Lq1avTqlUrnnjiCbp27cpbb72F2Wy+4z34p8x+DufNm0enTp0sP5MnT7bVy5BsoHyyjv6m7G/nzp2UKVOGChUq8MQTT1jer59//pn69evfMf+zzz6Lm5sbAFFRUXTq1ImAgAAaNGjAO++8w/z58/H19c3W1yC2o2zKOm033Z/8nvNqCG3AyenOt9H4/2Pe3dzcWLhwIZs3b6Zt27YcPXqUjh078vPPPwOwYcMGHnvsMYoWLUqrVq347bff+PXXX60a12Qy4eHhYcuX4rAef/xxdu3ahdls5ssvv6Rt27bA7ff+742Cu8no+bxq8uTJ7Nixg549e3LhwgWefvpptm3bds/5M/s5HDZsGGFhYZafiRMn2vJliA0on2xDf1P2tWbNGjp06ABAu3btWLt2rWUPoMlkAiApKcmyAdWiRQt++uknAHx8fAgLCyM8PJxOnTphGAaNGzfOmRciVlM22Ze2m+5ffs55NYQ2UKRIEW7evJlm2pUrVyhatCjr169nz549lC9fnt69e7No0SL69etHWFgYcHtX88GDB3n88cfp2LEjTk5OrFq1yqpxf/vtN8uJ9HldoUKFqF69OgcOHGDv3r00atQIAHd3dxISErhw4UKa+Tdv3swnn3xCpUqV0n0+L/r2228JDw+nVKlSdOnShblz5zJ+/HhCQ0PvuUxWPofi2JRPWae/Kfu6cuUK3333HR999BGPP/4448ePJyYmhq+++oqHH37Y0vi5ublZNqDKlStHcnJymvU4OTkxatQoIiMjWbp0aU68FLkPyib70nbT/cnvOa+G0AY8PT0pX768Zdc8QEhICA0bNiQ1NZU5c+Zw9epV4PY3nCdPnuQ///kPR44c4dKlS3z77bfs2LGDHTt2sHjxYjZu3EhsbGy6Y0ZFRbFo0SJ69+5t19fmSNq2bcucOXOoWbMmLi63L5Dr4eFB7969mTRpkuU9O3fuHG+//TaVKlXK8Pm8yMPDgzlz5nDu3Dng9jeux44d46GHHrrr/Fn5HIrjUz5lnf6m7CssLIzHHnuMXbt2sWPHDr755hsGDx7MqlWrGDp0KAsWLODQoUOW+Y8fP87Zs2fvekU+FxcXRo0axcKFC4mOjs7OlyH3Sdlkf9pusl5+z3nddsJG3nrrLSZNmsSCBQtITk6mWrVqTJgwgRIlSnDt2jV69uxpOTyiffv2dO3alalTpxIUFJTm0IUGDRpQoUIFNm7ciLu7e5oxVq1axfbt2zGZTBiGQffu3fP8JYD/qWXLlowbN46XX345zfQRI0awYMECnn76aVxcXHB2dubVV1+lSZMmVj2f1zz22GO89NJLDB482PINetOmTRkyZMhd51+7dm26n8OePXvec6x58+bd8Y3hnDlzMjwJW7KX8ilr9DdlX+vWrWPEiBFppvXu3ZsPP/yQ4sWLM3fuXN555x0uX75suYT76NGj8ff3t2y8/VOzZs145JFHePfdd5k2bVp2vQzJBGWTfWm7yXr5PedNhmEYOTa6iIiIiIiI5BgdMioiIiIiIpJPqSEUERERERHJp9QQioiIiIiI5FNqCEVERERERPIpNYQiIiIiIiL5lBrCXK5atWoEBgbSqVMny8+4ceNstv7nn3+etWvXAtCpUydiYmJstu6rV69Sq1YtJk6caLN12suOHTuoVq0a4eHhOV2KSK6hfMoeyieR+6Nsyh7KptxD9yHMAz755BNKlChh93HCwsJsur7Q0FBatWrFpk2bGDFiBMWKFbPp+m1p5cqVBAYGsmzZMtq1a5fT5YjkGson+1M+idw/ZZP9KZtyDzWEeVi1atXYs2ePJfD+fnzy5Enmzp1LuXLlOHnyJCkpKUyePJl69eoRGRnJmDFjiIqKokyZMly5cuWO9X377bd89dVXODk5cebMGTw8PJg1axaVKlXizJkzjB07lhs3buDt7Y1hGHTs2JGgoKA0tZnNZkJCQpg4cSLx8fGsXr2aQYMGAZCamsrs2bPZsWMHhQsXplatWpw6dYrly5dz8+ZN3nzzTU6cOEFycjINGzZk1KhRuLi48PDDDzNo0CB2795NVFQUAwcOpFevXgAsXryYdevW4eLiQvny5Zk5cybDhg2jbdu2PP300wAsXLiQ69evM3bs2DS1nj17lh9//JFvvvmGdu3a8fPPP1OnTh0A4uLimDZtGj/99BPOzs488cQTjBgxgtdff53r169z9uxZWrRoweDBg5k8eTLHjx/HZDLRtGlTXnnllXTrHjBgwF3rq169Otu2bcNsNnPhwgVKlSrF008/zYoVKzh9+jQDBgzgmWeesf0HSsSGlE/KJxFHpGxSNuVLhuRqVatWNTp06GB07NjR8nP58mXLc1euXEkz75UrV4y9e/caDz30kPHrr78ahmEYS5cuNXr37m0YhmG8+OKLxty5cw3DMIzTp08bderUMdasWZNm+TVr1hj16tUzLl68aBiGYUyZMsUYNWqUYRiG8fTTTxufffaZYRiG8fvvvxu1a9e2LP9P3377rdGoUSMjOTnZCA8PN5o2bWokJycbhmEYn3/+udG7d28jISHBSExMNJ555hmjT58+hmEYxpgxY4xPP/3UMAzDSElJMV577TVjyZIllvqWL19uGIZh/PLLL0bNmjWNhIQEY/v27UabNm2M69evG4ZhGNOnTzcWLlxofPXVV0aXLl0MwzCM1NRUo2XLlsapU6fuqHXWrFnG0KFDDcMwjEmTJhkvv/yy5bnp06cbI0aMMFJSUozExESjd+/ext69e43Ro0cb/fr1s8w3atQoY+rUqYbZbLa8psWLF6db973q+/v9v3DhgpGammq0a9fOGDp0qJGammocO3bMePjhh43U1NS7fFpEspfySfmkfBJHpGxSNimb0tI5hHnAJ598QlhYmOXHy8srw2XKlCnDQw89BMB//vMfbty4AUBERITlG6ny5cvToEGDuy5fo0YNfH190yx/48YNDh8+TLdu3QCoVKkSjz322F2X//zzzwkMDMTFxYVWrVqRkJDAli1bANi5cyedOnXC3d0dNzc3unfvblnu22+/JSQkhE6dOhEUFMThw4c5ceKE5flWrVpZ6ktKSiI+Pp49e/YQEBBA0aJFAXj99dd54YUXaNmyJVeuXOH48eN89913lC1blooVK6apMykpibVr19K5c2cAnnrqKb766isuXrxoeb+6du2Ks7Mzbm5urFixwvKe1atXz7KeXbt20adPH0wmE25ubvTo0YNdu3alW3d69T388MOULl0aJycnypYtS5MmTXBycqJcuXIkJiZy69atu77vItlN+aR8Uj6JI1I2KZuUTf+jQ0bziaSkpDSPPTw8LP82mUwYhnHHvwFcXO7+Ebnb8s7OzgBplv972j+dP3+enTt3cvToUbZt2wZASkoKy5Yto0OHDneM6eT0v+8tzGYz7777LpUqVQIgJiYGk8lked7d3d1S09+1ODs7p5knJiaGmJgYypYtS/fu3QkNDSUqKooePXrcUWt4eDgxMTFMnTqVadOmWda9fPlyy+EW/1z3xYsXLe9NwYIF09T9z/nMZjMpKSkZ1n2v+tzc3NLUea/fk0huoHxSPok4ImWTsim/0B7CPKxEiRL88ssvAGzatMmqZZo2bUpISAgAFy5c4IcffrB6PE9PT+rWrWu5stbZs2fZs2dPmj9mgJCQEOrVq8d3333Hjh072LFjB2vXruXXX3/lp59+onnz5mzYsIGkpCRSUlJYt26dZdkmTZqwbNkyDMMgKSmJF154gRUrVqRbV6NGjfjqq6+IjY0F4L333mPZsmUAdOvWje3bt3P06FFat259x7KrVq1i8ODBfPPNN5ZaJ02axBdffEF8fDwNGzZk3bp1mM1mkpKSGDZsGPv27btjPU2aNGHFihWWulevXk2jRo0yfE8zqk8kt1I+3aZ8EnEsyqbblE35ixrCPGz8+PFMmTKFp556ilOnTuHt7Z3hMhMnTuTUqVO0bduWcePGUb169fsac9asWXz55Zd07NiRKVOmULZs2TTfiCUlJREaGsrAgQPTLPfggw/Svn17li1bRlBQELVq1aJz58706NEDV1dXChQoAMC4ceOIj48nMDCQwMBAqlatese6/q158+YEBQXRs2dPAgMDuXz5MsOHDwfAy8uLmjVr0qFDB1xdXdMsd/z4cY4dO0afPn3STO/cuTNFihRh3bp1vPTSS7i6utKpUyc6d+5M8+bNadOmzR01jB8/nqtXr1rqrlChAoMHD87w/UyvPpHcTPl0m/JJxLEom25TNuUz2Xe6ouQHCxcuNH7//XfDMAwjJibGaNGihXHy5Mn7Wsd3331nrF+/3vJ46tSpxuzZs21a59+uXLlitGzZ0rhw4YJd1p9Vjl6fSG6ifLItR69PJLdQNtmWo9fniHTwrNjUgw8+yIgRI3ByciI1NZXnnnuOypUr39c6qlSpwtKlS/nwww8xm81Ur16dSZMm2bzW1atX8/bbbzN06FBKly5t8/VnlaPXJ5LbKJ9sx9HrE8lNlE224+j1OSqTYfzjLFYRERERERHJN3QOoYiIiIiISD6lhlBERERERCSfUkMoIiIiIiKST6khFBERERERyafUEIqIiIiIiORTaghFRERERETyqf8DJhoVNK+Ar2YAAAAASUVORK5CYII=\n",
      "text/plain": [
       "<Figure size 1080x360 with 3 Axes>"
      ]
     },
     "metadata": {},
     "output_type": "display_data"
    }
   ],
   "source": [
    "# Plotting the top 3 agencies by money spent\n",
    "fig, axes = plt.subplots(1, 3, figsize=(15,5), sharey= True)\n",
    "\n",
    "\n",
    "sns.barplot(data= country_by_funding_agency[0] , x= 'Funding Agency Acronym', y= 'Constant Dollar Amount ($1,000,000s)', hue= 'Funding Agency Acronym' , ax= axes[0]).set_title('Ethiopia')\n",
    "sns.barplot(data= country_by_funding_agency[5] , x= 'Funding Agency Acronym', y= 'Constant Dollar Amount ($1,000,000s)', hue= 'Funding Agency Acronym' , ax= axes[1]).set_title('Haiti')\n",
    "sns.barplot(data= country_by_funding_agency[2] , x= 'Funding Agency Acronym', y= 'Constant Dollar Amount ($1,000,000s)', hue= 'Funding Agency Acronym' , ax= axes[2]).set_title('Yemen')\n",
    "\n",
    "\n",
    "fig1, axes1 = plt.subplots(1, 3, figsize=(15,5), sharey= True)\n",
    "sns.barplot(data= country_by_funding_agency[1] , x= 'Funding Agency Acronym', y= 'Constant Dollar Amount ($1,000,000s)', hue= 'Funding Agency Acronym' ,ax= axes1[0]).set_title('Moldova')\n",
    "sns.barplot(data= country_by_funding_agency[3] , x= 'Funding Agency Acronym', y= 'Constant Dollar Amount ($1,000,000s)', hue= 'Funding Agency Acronym' ,ax= axes1[1]).set_title('Ecuador')\n",
    "sns.barplot(data= country_by_funding_agency[4] , x= 'Funding Agency Acronym', y= 'Constant Dollar Amount ($1,000,000s)', hue= 'Funding Agency Acronym' ,ax= axes1[2]).set_title('El Salvador')\n"
   ]
  },
  {
   "cell_type": "markdown",
   "id": "3578c5f1",
   "metadata": {},
   "source": [
    "Graph 2: Constant Dollar Amount in millions vs Funding Agency. The countries are separated in groups of 3 for scale purposes.\n",
    "#### Analysis of Aid per Agency\n",
    "We see four main aid agencies:\n",
    "* USAID: US Agency for International Development \n",
    "* AGR: Department of Agriculture\n",
    "* STATE: Department of State\n",
    "* MCC: Millenium Challenge Corporation (for more info: see https://www.mcc.gov/)\n",
    "\n",
    "Using this information, we want to see if any agency has a greater impact on health outcomes than others. To do that, we're going to need another dataset!"
   ]
  },
  {
   "cell_type": "markdown",
   "id": "ca30a95b",
   "metadata": {},
   "source": [
    "# Chris--  Can you add the necessary code and explanations for this section? \n",
    "-- \\\\/"
   ]
  },
  {
   "cell_type": "markdown",
   "id": "f3f9ac54",
   "metadata": {},
   "source": [
    "### GW13 WHO Dataset"
   ]
  },
  {
   "cell_type": "markdown",
   "id": "b1563627",
   "metadata": {},
   "source": [
    "Now we are going to bring in our second datatset which comes from the [GW13 WHO Dataset](https://www.who.int/data/inequality-monitor/data#PageContent_C160_Col00), this dataset contains health markers of interest, stratified by country and year. This dataset comes from a paper by the World Health Organization about the organization's five year strategy to achieve measureable heatlh outcomes. \n",
    "\n",
    "The strategy includes a \"triple billion\" plan which sets to achieve\n",
    "\n",
    "* One billion more people are benefiting from universal health coverage\n",
    "* One billion more people are better protected from health emergencies\n",
    "* One billion more people are enjoying better health and well-being The health outcomes are the data which has been recorded.\n",
    "\n",
    "The dataset includes the health impacts that are measured. We did basic filtering on this dataset to only select data from our target countries, and begin filtering unnecessary health indicators. We plan on using this data to contextualize and predict the importance of various funding and their quantifible impacts on health outcomes in our countries of interest. "
   ]
  },
  {
   "cell_type": "code",
   "execution_count": 37,
   "id": "8f6d68d5",
   "metadata": {
    "scrolled": true
   },
   "outputs": [
    {
     "data": {
      "text/html": [
       "<div>\n",
       "<style scoped>\n",
       "    .dataframe tbody tr th:only-of-type {\n",
       "        vertical-align: middle;\n",
       "    }\n",
       "\n",
       "    .dataframe tbody tr th {\n",
       "        vertical-align: top;\n",
       "    }\n",
       "\n",
       "    .dataframe thead th {\n",
       "        text-align: right;\n",
       "    }\n",
       "</style>\n",
       "<table border=\"1\" class=\"dataframe\">\n",
       "  <thead>\n",
       "    <tr style=\"text-align: right;\">\n",
       "      <th></th>\n",
       "      <th>setting</th>\n",
       "      <th>year</th>\n",
       "      <th>indicator_abbr</th>\n",
       "      <th>indicator_name</th>\n",
       "      <th>dimension</th>\n",
       "      <th>subgroup</th>\n",
       "      <th>estimate</th>\n",
       "      <th>population</th>\n",
       "      <th>indicator_scale</th>\n",
       "    </tr>\n",
       "  </thead>\n",
       "  <tbody>\n",
       "    <tr>\n",
       "      <th>0</th>\n",
       "      <td>Ecuador</td>\n",
       "      <td>2002</td>\n",
       "      <td>alcohol</td>\n",
       "      <td>Total alcohol per capita consumption in adults...</td>\n",
       "      <td>Sex</td>\n",
       "      <td>Female</td>\n",
       "      <td>2.0</td>\n",
       "      <td>NaN</td>\n",
       "      <td>100</td>\n",
       "    </tr>\n",
       "    <tr>\n",
       "      <th>1</th>\n",
       "      <td>Ecuador</td>\n",
       "      <td>2002</td>\n",
       "      <td>alcohol</td>\n",
       "      <td>Total alcohol per capita consumption in adults...</td>\n",
       "      <td>Sex</td>\n",
       "      <td>Male</td>\n",
       "      <td>7.0</td>\n",
       "      <td>NaN</td>\n",
       "      <td>100</td>\n",
       "    </tr>\n",
       "    <tr>\n",
       "      <th>2</th>\n",
       "      <td>Ecuador</td>\n",
       "      <td>2002</td>\n",
       "      <td>bp</td>\n",
       "      <td>Prevalence of hypertension among adults aged 3...</td>\n",
       "      <td>Sex</td>\n",
       "      <td>Female</td>\n",
       "      <td>25.0</td>\n",
       "      <td>NaN</td>\n",
       "      <td>100</td>\n",
       "    </tr>\n",
       "    <tr>\n",
       "      <th>3</th>\n",
       "      <td>Ecuador</td>\n",
       "      <td>2002</td>\n",
       "      <td>bp</td>\n",
       "      <td>Prevalence of hypertension among adults aged 3...</td>\n",
       "      <td>Sex</td>\n",
       "      <td>Male</td>\n",
       "      <td>23.0</td>\n",
       "      <td>NaN</td>\n",
       "      <td>100</td>\n",
       "    </tr>\n",
       "    <tr>\n",
       "      <th>4</th>\n",
       "      <td>Ecuador</td>\n",
       "      <td>2002</td>\n",
       "      <td>hh_san_sm</td>\n",
       "      <td>Population using safely managed sanitation ser...</td>\n",
       "      <td>Place of residence</td>\n",
       "      <td>Rural</td>\n",
       "      <td>44.0</td>\n",
       "      <td>5110442.0</td>\n",
       "      <td>100</td>\n",
       "    </tr>\n",
       "    <tr>\n",
       "      <th>...</th>\n",
       "      <td>...</td>\n",
       "      <td>...</td>\n",
       "      <td>...</td>\n",
       "      <td>...</td>\n",
       "      <td>...</td>\n",
       "      <td>...</td>\n",
       "      <td>...</td>\n",
       "      <td>...</td>\n",
       "      <td>...</td>\n",
       "    </tr>\n",
       "    <tr>\n",
       "      <th>5438</th>\n",
       "      <td>Yemen</td>\n",
       "      <td>2020</td>\n",
       "      <td>tb_incidence</td>\n",
       "      <td>TB incidence (new infections per 100 000 popul...</td>\n",
       "      <td>Sex</td>\n",
       "      <td>Female</td>\n",
       "      <td>44.0</td>\n",
       "      <td>14800983.0</td>\n",
       "      <td>100000</td>\n",
       "    </tr>\n",
       "    <tr>\n",
       "      <th>5439</th>\n",
       "      <td>Yemen</td>\n",
       "      <td>2020</td>\n",
       "      <td>tb_incidence</td>\n",
       "      <td>TB incidence (new infections per 100 000 popul...</td>\n",
       "      <td>Sex</td>\n",
       "      <td>Male</td>\n",
       "      <td>53.0</td>\n",
       "      <td>15024985.0</td>\n",
       "      <td>100000</td>\n",
       "    </tr>\n",
       "    <tr>\n",
       "      <th>5440</th>\n",
       "      <td>Yemen</td>\n",
       "      <td>2020</td>\n",
       "      <td>u5mr</td>\n",
       "      <td>Under-five mortality rate (deaths per 1000 liv...</td>\n",
       "      <td>Sex</td>\n",
       "      <td>Female</td>\n",
       "      <td>55.0</td>\n",
       "      <td>NaN</td>\n",
       "      <td>1000</td>\n",
       "    </tr>\n",
       "    <tr>\n",
       "      <th>5441</th>\n",
       "      <td>Yemen</td>\n",
       "      <td>2020</td>\n",
       "      <td>u5mr</td>\n",
       "      <td>Under-five mortality rate (deaths per 1000 liv...</td>\n",
       "      <td>Sex</td>\n",
       "      <td>Male</td>\n",
       "      <td>64.0</td>\n",
       "      <td>NaN</td>\n",
       "      <td>1000</td>\n",
       "    </tr>\n",
       "    <tr>\n",
       "      <th>5442</th>\n",
       "      <td>Yemen</td>\n",
       "      <td>2020</td>\n",
       "      <td>life_ex</td>\n",
       "      <td>Life Expectancy</td>\n",
       "      <td>NaN</td>\n",
       "      <td>NaN</td>\n",
       "      <td>67.9</td>\n",
       "      <td>NaN</td>\n",
       "      <td>100</td>\n",
       "    </tr>\n",
       "  </tbody>\n",
       "</table>\n",
       "<p>5443 rows × 9 columns</p>\n",
       "</div>"
      ],
      "text/plain": [
       "      setting  year indicator_abbr  \\\n",
       "0     Ecuador  2002        alcohol   \n",
       "1     Ecuador  2002        alcohol   \n",
       "2     Ecuador  2002             bp   \n",
       "3     Ecuador  2002             bp   \n",
       "4     Ecuador  2002      hh_san_sm   \n",
       "...       ...   ...            ...   \n",
       "5438    Yemen  2020   tb_incidence   \n",
       "5439    Yemen  2020   tb_incidence   \n",
       "5440    Yemen  2020           u5mr   \n",
       "5441    Yemen  2020           u5mr   \n",
       "5442    Yemen  2020        life_ex   \n",
       "\n",
       "                                         indicator_name           dimension  \\\n",
       "0     Total alcohol per capita consumption in adults...                 Sex   \n",
       "1     Total alcohol per capita consumption in adults...                 Sex   \n",
       "2     Prevalence of hypertension among adults aged 3...                 Sex   \n",
       "3     Prevalence of hypertension among adults aged 3...                 Sex   \n",
       "4     Population using safely managed sanitation ser...  Place of residence   \n",
       "...                                                 ...                 ...   \n",
       "5438  TB incidence (new infections per 100 000 popul...                 Sex   \n",
       "5439  TB incidence (new infections per 100 000 popul...                 Sex   \n",
       "5440  Under-five mortality rate (deaths per 1000 liv...                 Sex   \n",
       "5441  Under-five mortality rate (deaths per 1000 liv...                 Sex   \n",
       "5442                                    Life Expectancy                 NaN   \n",
       "\n",
       "     subgroup  estimate  population  indicator_scale  \n",
       "0      Female       2.0         NaN              100  \n",
       "1        Male       7.0         NaN              100  \n",
       "2      Female      25.0         NaN              100  \n",
       "3        Male      23.0         NaN              100  \n",
       "4       Rural      44.0   5110442.0              100  \n",
       "...       ...       ...         ...              ...  \n",
       "5438   Female      44.0  14800983.0           100000  \n",
       "5439     Male      53.0  15024985.0           100000  \n",
       "5440   Female      55.0         NaN             1000  \n",
       "5441     Male      64.0         NaN             1000  \n",
       "5442      NaN      67.9         NaN              100  \n",
       "\n",
       "[5443 rows x 9 columns]"
      ]
     },
     "execution_count": 37,
     "metadata": {},
     "output_type": "execute_result"
    }
   ],
   "source": [
    "gw19_df = pd.read_excel(os.path.join(\"..\",\"WHO_datasets\", \"GW19_2002_2020_filtered.xlsx\"))\n",
    "gw19_df"
   ]
  },
  {
   "cell_type": "code",
   "execution_count": 14,
   "id": "56df16ce",
   "metadata": {},
   "outputs": [
    {
     "data": {
      "text/plain": [
       "array(['Total alcohol per capita consumption in adults aged 15+ (litres of pure alcohol)',\n",
       "       'Prevalence of hypertension among adults aged 30-79 years (age-standardized) (%)',\n",
       "       'Population using safely managed sanitation services (%)',\n",
       "       'Population using safely managed drinking water services (%)',\n",
       "       'Obesity prevalence among adults (%)',\n",
       "       'Obesity prevalence among children and adolescents (5-19) (%)',\n",
       "       'Population using at least basic sanitation services (%)',\n",
       "       'Suicide mortality rate (per 100 000 population)',\n",
       "       'Under-five mortality rate (deaths per 1000 live births)',\n",
       "       'Life Expectancy',\n",
       "       'Antenatal care coverage - at least four visits (in the five years preceding the survey) (%)',\n",
       "       'Overweight prevalence in children aged < 5 years (%)',\n",
       "       'Stunting prevalence in children aged < 5 years (%)',\n",
       "       'DTP3 immunization coverage among one-year-olds (%)',\n",
       "       'Measles immunization coverage among one-year-olds (%)',\n",
       "       'Polio immunization coverage among one-year-olds (%)',\n",
       "       'Healthy life expectancy (HALE) at birth (years)',\n",
       "       'Population with >10% household expenditures on health (%)',\n",
       "       'Population with >25% household expenditures on health (%)',\n",
       "       'Mortality rate attributed to unsafe water, unsafe sanitation and lack of hygiene (per 100 000 population)',\n",
       "       'TB incidence (new infections per 100 000 population)',\n",
       "       'Neonatal mortality rate (deaths per 1000 live births)'],\n",
       "      dtype=object)"
      ]
     },
     "metadata": {},
     "output_type": "display_data"
    }
   ],
   "source": [
    "# Here are the different indicators in this dataset.\n",
    "display(gw19_df[\"indicator_name\"].unique())"
   ]
  },
  {
   "cell_type": "markdown",
   "id": "29fed512",
   "metadata": {},
   "source": [
    "After filtering the data to get only the countries we wanted, we decided to reduce the indicators down to 5 as many of the other indicators had inconsistent data or none at all for the countries we selected. We decided to select "
   ]
  },
  {
   "cell_type": "code",
   "execution_count": 15,
   "id": "c0820056",
   "metadata": {},
   "outputs": [
    {
     "data": {
      "text/plain": [
       "array(['Total alcohol per capita consumption in adults aged 15+ (litres of pure alcohol)',\n",
       "       'Population using safely managed drinking water services (%)',\n",
       "       'Life Expectancy', 'Obesity prevalence among adults (%)',\n",
       "       'Under-five mortality rate'], dtype=object)"
      ]
     },
     "metadata": {},
     "output_type": "display_data"
    }
   ],
   "source": [
    "gw_five = pd.read_excel(os.path.join(\"..\", \"WHO_datasets\", \"GW_five_combined_subgroups.xlsx\"))\n",
    "\n",
    "# add combined for merging another dataset by setting and year\n",
    "gw_five[\"combined\"] = gw_five[\"setting\"].astype(str) + \"_\" + gw_five[\"year\"].astype(str)\n",
    "\n",
    "display(gw_five[\"indicator_name\"].unique())"
   ]
  },
  {
   "cell_type": "markdown",
   "id": "f343db53",
   "metadata": {},
   "source": [
    "\n",
    "Now that the health indicators are chosen, we will group the agencies funding by year and country. This will help create a merged dataframe with all of the indicators and agency funding."
   ]
  },
  {
   "cell_type": "code",
   "execution_count": 16,
   "id": "3859c901",
   "metadata": {
    "scrolled": true
   },
   "outputs": [
    {
     "data": {
      "text/html": [
       "<div>\n",
       "<style scoped>\n",
       "    .dataframe tbody tr th:only-of-type {\n",
       "        vertical-align: middle;\n",
       "    }\n",
       "\n",
       "    .dataframe tbody tr th {\n",
       "        vertical-align: top;\n",
       "    }\n",
       "\n",
       "    .dataframe thead th {\n",
       "        text-align: right;\n",
       "    }\n",
       "</style>\n",
       "<table border=\"1\" class=\"dataframe\">\n",
       "  <thead>\n",
       "    <tr style=\"text-align: right;\">\n",
       "      <th></th>\n",
       "      <th>Funding Agency Acronym</th>\n",
       "      <th>Fiscal Year</th>\n",
       "      <th>Country Name</th>\n",
       "      <th>Constant Dollar Amount</th>\n",
       "      <th>combined</th>\n",
       "    </tr>\n",
       "  </thead>\n",
       "  <tbody>\n",
       "    <tr>\n",
       "      <th>0</th>\n",
       "      <td>ADF</td>\n",
       "      <td>2011</td>\n",
       "      <td>Ethiopia</td>\n",
       "      <td>58070</td>\n",
       "      <td>Ethiopia_2011</td>\n",
       "    </tr>\n",
       "    <tr>\n",
       "      <th>1</th>\n",
       "      <td>ADF</td>\n",
       "      <td>2012</td>\n",
       "      <td>Ethiopia</td>\n",
       "      <td>59155</td>\n",
       "      <td>Ethiopia_2012</td>\n",
       "    </tr>\n",
       "    <tr>\n",
       "      <th>2</th>\n",
       "      <td>ADF</td>\n",
       "      <td>2013</td>\n",
       "      <td>Ethiopia</td>\n",
       "      <td>91947</td>\n",
       "      <td>Ethiopia_2013</td>\n",
       "    </tr>\n",
       "    <tr>\n",
       "      <th>3</th>\n",
       "      <td>ADF</td>\n",
       "      <td>2014</td>\n",
       "      <td>Ethiopia</td>\n",
       "      <td>375920</td>\n",
       "      <td>Ethiopia_2014</td>\n",
       "    </tr>\n",
       "    <tr>\n",
       "      <th>4</th>\n",
       "      <td>ADF</td>\n",
       "      <td>2015</td>\n",
       "      <td>Ethiopia</td>\n",
       "      <td>210735</td>\n",
       "      <td>Ethiopia_2015</td>\n",
       "    </tr>\n",
       "    <tr>\n",
       "      <th>...</th>\n",
       "      <td>...</td>\n",
       "      <td>...</td>\n",
       "      <td>...</td>\n",
       "      <td>...</td>\n",
       "      <td>...</td>\n",
       "    </tr>\n",
       "    <tr>\n",
       "      <th>773</th>\n",
       "      <td>USAID</td>\n",
       "      <td>2018</td>\n",
       "      <td>Haiti</td>\n",
       "      <td>160983489</td>\n",
       "      <td>Haiti_2018</td>\n",
       "    </tr>\n",
       "    <tr>\n",
       "      <th>774</th>\n",
       "      <td>USAID</td>\n",
       "      <td>2019</td>\n",
       "      <td>Haiti</td>\n",
       "      <td>137906915</td>\n",
       "      <td>Haiti_2019</td>\n",
       "    </tr>\n",
       "    <tr>\n",
       "      <th>775</th>\n",
       "      <td>USAID</td>\n",
       "      <td>2020</td>\n",
       "      <td>Haiti</td>\n",
       "      <td>130047717</td>\n",
       "      <td>Haiti_2020</td>\n",
       "    </tr>\n",
       "    <tr>\n",
       "      <th>776</th>\n",
       "      <td>USAID</td>\n",
       "      <td>2021</td>\n",
       "      <td>Haiti</td>\n",
       "      <td>174539218</td>\n",
       "      <td>Haiti_2021</td>\n",
       "    </tr>\n",
       "    <tr>\n",
       "      <th>777</th>\n",
       "      <td>USAID</td>\n",
       "      <td>2022</td>\n",
       "      <td>Haiti</td>\n",
       "      <td>82660892</td>\n",
       "      <td>Haiti_2022</td>\n",
       "    </tr>\n",
       "  </tbody>\n",
       "</table>\n",
       "<p>778 rows × 5 columns</p>\n",
       "</div>"
      ],
      "text/plain": [
       "    Funding Agency Acronym  Fiscal Year Country Name  Constant Dollar Amount  \\\n",
       "0                      ADF         2011     Ethiopia                   58070   \n",
       "1                      ADF         2012     Ethiopia                   59155   \n",
       "2                      ADF         2013     Ethiopia                   91947   \n",
       "3                      ADF         2014     Ethiopia                  375920   \n",
       "4                      ADF         2015     Ethiopia                  210735   \n",
       "..                     ...          ...          ...                     ...   \n",
       "773                  USAID         2018        Haiti               160983489   \n",
       "774                  USAID         2019        Haiti               137906915   \n",
       "775                  USAID         2020        Haiti               130047717   \n",
       "776                  USAID         2021        Haiti               174539218   \n",
       "777                  USAID         2022        Haiti                82660892   \n",
       "\n",
       "          combined  \n",
       "0    Ethiopia_2011  \n",
       "1    Ethiopia_2012  \n",
       "2    Ethiopia_2013  \n",
       "3    Ethiopia_2014  \n",
       "4    Ethiopia_2015  \n",
       "..             ...  \n",
       "773     Haiti_2018  \n",
       "774     Haiti_2019  \n",
       "775     Haiti_2020  \n",
       "776     Haiti_2021  \n",
       "777     Haiti_2022  \n",
       "\n",
       "[778 rows x 5 columns]"
      ]
     },
     "execution_count": 16,
     "metadata": {},
     "output_type": "execute_result"
    }
   ],
   "source": [
    "# Create dataframe of the funding amounts in each country per year \n",
    "\n",
    "masterdf = pd.DataFrame()\n",
    "\n",
    "for i, country in enumerate(countries):\n",
    "    per_country_df = pd.DataFrame()    \n",
    "    grouped_df = country.groupby([\"Funding Agency Acronym\",\"Fiscal Year\", \"Country Name\"])\n",
    "    \n",
    "    # Create a new column based on the grouped data\n",
    "    per_country_df[\"Constant Dollar Amount\"] = grouped_df[\"Constant Dollar Amount\"].sum()\n",
    "    per_country_df = pd.DataFrame(per_country_df)\n",
    "    \n",
    "    \n",
    "    masterdf = pd.concat([masterdf, per_country_df])\n",
    "    \n",
    "masterdf.reset_index(inplace=True)\n",
    "# Create column for a key to merge on based on country and year.\n",
    "masterdf[\"combined\"] = masterdf[\"Country Name\"].astype(str) + \"_\" + masterdf[\"Fiscal Year\"].astype(str)\n",
    "\n",
    "masterdf\n",
    "\n"
   ]
  },
  {
   "cell_type": "code",
   "execution_count": 17,
   "id": "4b2a3f6f",
   "metadata": {
    "scrolled": true
   },
   "outputs": [],
   "source": [
    "# merge health indicator data with agency funding amouts.\n",
    "\n",
    "merged_df = gw_five.merge(masterdf,how=\"left\", on=\"combined\")\n",
    "merged_df.drop([\"combined\", \"Fiscal Year\", \"Country Name\"], axis=1, inplace=True)\n",
    "\n",
    "merged_df.to_csv(os.path.join(\"..\", \"WHO_datasets\", \"merged_data.csv\"))\n"
   ]
  },
  {
   "cell_type": "code",
   "execution_count": 18,
   "id": "1cac74c6",
   "metadata": {},
   "outputs": [
    {
     "data": {
      "text/plain": [
       "array(['AGR', 'IAF', 'PC', 'STATE', 'TDA', 'USAID', 'DOL', 'TREAS', 'DOC',\n",
       "       'DOE', 'HHS', 'FTC', 'MCC', 'EPA', 'ADF', 'DFC', 'DOT', 'NSF',\n",
       "       'LIC', nan], dtype=object)"
      ]
     },
     "execution_count": 18,
     "metadata": {},
     "output_type": "execute_result"
    }
   ],
   "source": [
    "merged_df[\"Funding Agency Acronym\"].unique()"
   ]
  },
  {
   "cell_type": "code",
   "execution_count": 19,
   "id": "ce6ef6b3",
   "metadata": {},
   "outputs": [
    {
     "data": {
      "text/html": [
       "<div>\n",
       "<style scoped>\n",
       "    .dataframe tbody tr th:only-of-type {\n",
       "        vertical-align: middle;\n",
       "    }\n",
       "\n",
       "    .dataframe tbody tr th {\n",
       "        vertical-align: top;\n",
       "    }\n",
       "\n",
       "    .dataframe thead th {\n",
       "        text-align: right;\n",
       "    }\n",
       "</style>\n",
       "<table border=\"1\" class=\"dataframe\">\n",
       "  <thead>\n",
       "    <tr style=\"text-align: right;\">\n",
       "      <th></th>\n",
       "      <th>setting</th>\n",
       "      <th>year</th>\n",
       "      <th>indicator_abbr</th>\n",
       "      <th>indicator_name</th>\n",
       "      <th>Avg estimate</th>\n",
       "      <th>Funding Agency Acronym</th>\n",
       "      <th>Constant Dollar Amount</th>\n",
       "      <th>country_year</th>\n",
       "      <th>country_year_indicator</th>\n",
       "      <th>country_year_indicator_agency</th>\n",
       "    </tr>\n",
       "  </thead>\n",
       "  <tbody>\n",
       "    <tr>\n",
       "      <th>0</th>\n",
       "      <td>Ecuador</td>\n",
       "      <td>2002</td>\n",
       "      <td>alcohol</td>\n",
       "      <td>Total alcohol per capita consumption in adults...</td>\n",
       "      <td>-4.50</td>\n",
       "      <td>AGR</td>\n",
       "      <td>9241684.0</td>\n",
       "      <td>Ecuador_2002</td>\n",
       "      <td>Ecuador_2002_alcohol</td>\n",
       "      <td>Ecuador_2002_alcohol_AGR</td>\n",
       "    </tr>\n",
       "    <tr>\n",
       "      <th>1</th>\n",
       "      <td>Ecuador</td>\n",
       "      <td>2002</td>\n",
       "      <td>alcohol</td>\n",
       "      <td>Total alcohol per capita consumption in adults...</td>\n",
       "      <td>-4.50</td>\n",
       "      <td>IAF</td>\n",
       "      <td>1948562.0</td>\n",
       "      <td>Ecuador_2002</td>\n",
       "      <td>Ecuador_2002_alcohol</td>\n",
       "      <td>Ecuador_2002_alcohol_IAF</td>\n",
       "    </tr>\n",
       "    <tr>\n",
       "      <th>2</th>\n",
       "      <td>Ecuador</td>\n",
       "      <td>2002</td>\n",
       "      <td>alcohol</td>\n",
       "      <td>Total alcohol per capita consumption in adults...</td>\n",
       "      <td>-4.50</td>\n",
       "      <td>PC</td>\n",
       "      <td>3948070.0</td>\n",
       "      <td>Ecuador_2002</td>\n",
       "      <td>Ecuador_2002_alcohol</td>\n",
       "      <td>Ecuador_2002_alcohol_PC</td>\n",
       "    </tr>\n",
       "    <tr>\n",
       "      <th>3</th>\n",
       "      <td>Ecuador</td>\n",
       "      <td>2002</td>\n",
       "      <td>alcohol</td>\n",
       "      <td>Total alcohol per capita consumption in adults...</td>\n",
       "      <td>-4.50</td>\n",
       "      <td>STATE</td>\n",
       "      <td>35779088.0</td>\n",
       "      <td>Ecuador_2002</td>\n",
       "      <td>Ecuador_2002_alcohol</td>\n",
       "      <td>Ecuador_2002_alcohol_STATE</td>\n",
       "    </tr>\n",
       "    <tr>\n",
       "      <th>4</th>\n",
       "      <td>Ecuador</td>\n",
       "      <td>2002</td>\n",
       "      <td>alcohol</td>\n",
       "      <td>Total alcohol per capita consumption in adults...</td>\n",
       "      <td>-4.50</td>\n",
       "      <td>TDA</td>\n",
       "      <td>1638316.0</td>\n",
       "      <td>Ecuador_2002</td>\n",
       "      <td>Ecuador_2002_alcohol</td>\n",
       "      <td>Ecuador_2002_alcohol_TDA</td>\n",
       "    </tr>\n",
       "    <tr>\n",
       "      <th>...</th>\n",
       "      <td>...</td>\n",
       "      <td>...</td>\n",
       "      <td>...</td>\n",
       "      <td>...</td>\n",
       "      <td>...</td>\n",
       "      <td>...</td>\n",
       "      <td>...</td>\n",
       "      <td>...</td>\n",
       "      <td>...</td>\n",
       "      <td>...</td>\n",
       "    </tr>\n",
       "    <tr>\n",
       "      <th>3116</th>\n",
       "      <td>Yemen</td>\n",
       "      <td>2020</td>\n",
       "      <td>life_ex</td>\n",
       "      <td>Life Expectancy</td>\n",
       "      <td>67.90</td>\n",
       "      <td>STATE</td>\n",
       "      <td>82848136.0</td>\n",
       "      <td>Yemen_2020</td>\n",
       "      <td>Yemen_2020_life_ex</td>\n",
       "      <td>Yemen_2020_life_ex_STATE</td>\n",
       "    </tr>\n",
       "    <tr>\n",
       "      <th>3117</th>\n",
       "      <td>Yemen</td>\n",
       "      <td>2020</td>\n",
       "      <td>life_ex</td>\n",
       "      <td>Life Expectancy</td>\n",
       "      <td>67.90</td>\n",
       "      <td>USAID</td>\n",
       "      <td>248473546.0</td>\n",
       "      <td>Yemen_2020</td>\n",
       "      <td>Yemen_2020_life_ex</td>\n",
       "      <td>Yemen_2020_life_ex_USAID</td>\n",
       "    </tr>\n",
       "    <tr>\n",
       "      <th>3118</th>\n",
       "      <td>Yemen</td>\n",
       "      <td>2020</td>\n",
       "      <td>u5mr</td>\n",
       "      <td>Under-five mortality rate</td>\n",
       "      <td>-5.95</td>\n",
       "      <td>AGR</td>\n",
       "      <td>224994779.0</td>\n",
       "      <td>Yemen_2020</td>\n",
       "      <td>Yemen_2020_u5mr</td>\n",
       "      <td>Yemen_2020_u5mr_AGR</td>\n",
       "    </tr>\n",
       "    <tr>\n",
       "      <th>3119</th>\n",
       "      <td>Yemen</td>\n",
       "      <td>2020</td>\n",
       "      <td>u5mr</td>\n",
       "      <td>Under-five mortality rate</td>\n",
       "      <td>-5.95</td>\n",
       "      <td>STATE</td>\n",
       "      <td>82848136.0</td>\n",
       "      <td>Yemen_2020</td>\n",
       "      <td>Yemen_2020_u5mr</td>\n",
       "      <td>Yemen_2020_u5mr_STATE</td>\n",
       "    </tr>\n",
       "    <tr>\n",
       "      <th>3120</th>\n",
       "      <td>Yemen</td>\n",
       "      <td>2020</td>\n",
       "      <td>u5mr</td>\n",
       "      <td>Under-five mortality rate</td>\n",
       "      <td>-5.95</td>\n",
       "      <td>USAID</td>\n",
       "      <td>248473546.0</td>\n",
       "      <td>Yemen_2020</td>\n",
       "      <td>Yemen_2020_u5mr</td>\n",
       "      <td>Yemen_2020_u5mr_USAID</td>\n",
       "    </tr>\n",
       "  </tbody>\n",
       "</table>\n",
       "<p>3121 rows × 10 columns</p>\n",
       "</div>"
      ],
      "text/plain": [
       "      setting  year indicator_abbr  \\\n",
       "0     Ecuador  2002        alcohol   \n",
       "1     Ecuador  2002        alcohol   \n",
       "2     Ecuador  2002        alcohol   \n",
       "3     Ecuador  2002        alcohol   \n",
       "4     Ecuador  2002        alcohol   \n",
       "...       ...   ...            ...   \n",
       "3116    Yemen  2020        life_ex   \n",
       "3117    Yemen  2020        life_ex   \n",
       "3118    Yemen  2020           u5mr   \n",
       "3119    Yemen  2020           u5mr   \n",
       "3120    Yemen  2020           u5mr   \n",
       "\n",
       "                                         indicator_name  Avg estimate  \\\n",
       "0     Total alcohol per capita consumption in adults...         -4.50   \n",
       "1     Total alcohol per capita consumption in adults...         -4.50   \n",
       "2     Total alcohol per capita consumption in adults...         -4.50   \n",
       "3     Total alcohol per capita consumption in adults...         -4.50   \n",
       "4     Total alcohol per capita consumption in adults...         -4.50   \n",
       "...                                                 ...           ...   \n",
       "3116                                    Life Expectancy         67.90   \n",
       "3117                                    Life Expectancy         67.90   \n",
       "3118                          Under-five mortality rate         -5.95   \n",
       "3119                          Under-five mortality rate         -5.95   \n",
       "3120                          Under-five mortality rate         -5.95   \n",
       "\n",
       "     Funding Agency Acronym  Constant Dollar Amount  country_year  \\\n",
       "0                       AGR               9241684.0  Ecuador_2002   \n",
       "1                       IAF               1948562.0  Ecuador_2002   \n",
       "2                        PC               3948070.0  Ecuador_2002   \n",
       "3                     STATE              35779088.0  Ecuador_2002   \n",
       "4                       TDA               1638316.0  Ecuador_2002   \n",
       "...                     ...                     ...           ...   \n",
       "3116                  STATE              82848136.0    Yemen_2020   \n",
       "3117                  USAID             248473546.0    Yemen_2020   \n",
       "3118                    AGR             224994779.0    Yemen_2020   \n",
       "3119                  STATE              82848136.0    Yemen_2020   \n",
       "3120                  USAID             248473546.0    Yemen_2020   \n",
       "\n",
       "     country_year_indicator country_year_indicator_agency  \n",
       "0      Ecuador_2002_alcohol      Ecuador_2002_alcohol_AGR  \n",
       "1      Ecuador_2002_alcohol      Ecuador_2002_alcohol_IAF  \n",
       "2      Ecuador_2002_alcohol       Ecuador_2002_alcohol_PC  \n",
       "3      Ecuador_2002_alcohol    Ecuador_2002_alcohol_STATE  \n",
       "4      Ecuador_2002_alcohol      Ecuador_2002_alcohol_TDA  \n",
       "...                     ...                           ...  \n",
       "3116     Yemen_2020_life_ex      Yemen_2020_life_ex_STATE  \n",
       "3117     Yemen_2020_life_ex      Yemen_2020_life_ex_USAID  \n",
       "3118        Yemen_2020_u5mr           Yemen_2020_u5mr_AGR  \n",
       "3119        Yemen_2020_u5mr         Yemen_2020_u5mr_STATE  \n",
       "3120        Yemen_2020_u5mr         Yemen_2020_u5mr_USAID  \n",
       "\n",
       "[3121 rows x 10 columns]"
      ]
     },
     "execution_count": 19,
     "metadata": {},
     "output_type": "execute_result"
    }
   ],
   "source": [
    "# Create country/year combinations to add all agencies and other missing indicators not in data\n",
    "\n",
    "merged_df[\"country_year\"] = merged_df[\"setting\"].astype(str) + \"_\" + merged_df[\"year\"].astype(str) \n",
    "merged_df[\"country_year_indicator\"] = merged_df[\"setting\"].astype(str) + \"_\" + merged_df[\"year\"].astype(str) + \"_\" + merged_df[\"indicator_abbr\"].astype(str)\n",
    "merged_df[\"country_year_indicator_agency\"] = merged_df[\"setting\"].astype(str) + \"_\" + merged_df[\"year\"].astype(str) + \"_\" + merged_df[\"indicator_abbr\"].astype(str) + \"_\" + merged_df[\"Funding Agency Acronym\"]\n",
    "merged_df"
   ]
  },
  {
   "cell_type": "markdown",
   "id": "fc3aa555",
   "metadata": {},
   "source": [
    "Since some agencies had 0 funding some years, these records are not available on our dataset, but we want them in our data, so we will add records of every possible combination."
   ]
  },
  {
   "cell_type": "code",
   "execution_count": 20,
   "id": "dd0f8fc8",
   "metadata": {},
   "outputs": [
    {
     "data": {
      "text/html": [
       "<div>\n",
       "<style scoped>\n",
       "    .dataframe tbody tr th:only-of-type {\n",
       "        vertical-align: middle;\n",
       "    }\n",
       "\n",
       "    .dataframe tbody tr th {\n",
       "        vertical-align: top;\n",
       "    }\n",
       "\n",
       "    .dataframe thead th {\n",
       "        text-align: right;\n",
       "    }\n",
       "</style>\n",
       "<table border=\"1\" class=\"dataframe\">\n",
       "  <thead>\n",
       "    <tr style=\"text-align: right;\">\n",
       "      <th></th>\n",
       "      <th>cyia_string</th>\n",
       "    </tr>\n",
       "  </thead>\n",
       "  <tbody>\n",
       "    <tr>\n",
       "      <th>0</th>\n",
       "      <td>Ecuador_2002_alcohol_ADF</td>\n",
       "    </tr>\n",
       "    <tr>\n",
       "      <th>1</th>\n",
       "      <td>Ecuador_2002_alcohol_AGR</td>\n",
       "    </tr>\n",
       "    <tr>\n",
       "      <th>2</th>\n",
       "      <td>Ecuador_2002_alcohol_DFC</td>\n",
       "    </tr>\n",
       "    <tr>\n",
       "      <th>3</th>\n",
       "      <td>Ecuador_2002_alcohol_DOC</td>\n",
       "    </tr>\n",
       "    <tr>\n",
       "      <th>4</th>\n",
       "      <td>Ecuador_2002_alcohol_DOE</td>\n",
       "    </tr>\n",
       "    <tr>\n",
       "      <th>...</th>\n",
       "      <td>...</td>\n",
       "    </tr>\n",
       "    <tr>\n",
       "      <th>12630</th>\n",
       "      <td>Yemen_2020_u5mr_PC</td>\n",
       "    </tr>\n",
       "    <tr>\n",
       "      <th>12631</th>\n",
       "      <td>Yemen_2020_u5mr_STATE</td>\n",
       "    </tr>\n",
       "    <tr>\n",
       "      <th>12632</th>\n",
       "      <td>Yemen_2020_u5mr_TDA</td>\n",
       "    </tr>\n",
       "    <tr>\n",
       "      <th>12633</th>\n",
       "      <td>Yemen_2020_u5mr_TREAS</td>\n",
       "    </tr>\n",
       "    <tr>\n",
       "      <th>12634</th>\n",
       "      <td>Yemen_2020_u5mr_USAID</td>\n",
       "    </tr>\n",
       "  </tbody>\n",
       "</table>\n",
       "<p>12635 rows × 1 columns</p>\n",
       "</div>"
      ],
      "text/plain": [
       "                    cyia_string\n",
       "0      Ecuador_2002_alcohol_ADF\n",
       "1      Ecuador_2002_alcohol_AGR\n",
       "2      Ecuador_2002_alcohol_DFC\n",
       "3      Ecuador_2002_alcohol_DOC\n",
       "4      Ecuador_2002_alcohol_DOE\n",
       "...                         ...\n",
       "12630        Yemen_2020_u5mr_PC\n",
       "12631     Yemen_2020_u5mr_STATE\n",
       "12632       Yemen_2020_u5mr_TDA\n",
       "12633     Yemen_2020_u5mr_TREAS\n",
       "12634     Yemen_2020_u5mr_USAID\n",
       "\n",
       "[12635 rows x 1 columns]"
      ]
     },
     "execution_count": 20,
     "metadata": {},
     "output_type": "execute_result"
    }
   ],
   "source": [
    "# Make set of all combination of possible rows containing a country's name, the year, indicator, and agency. \n",
    "\n",
    "all_possible_agencies = ['AGR', 'IAF', 'PC', 'STATE', 'TDA', 'USAID', 'DOL', 'TREAS', 'DOC',\n",
    "       'DOE', 'HHS', 'FTC', 'MCC', 'EPA', 'ADF', 'DFC', 'DOT', 'NSF','LIC']\n",
    "\n",
    "all_possible_indicators = [\"alcohol\", \"hh\", \"life\", \"obesitya\", \"u5mr\"]\n",
    "\n",
    "all_combos = set()\n",
    "\n",
    "for index, row in gw_five.iterrows():\n",
    "    # from gw_five combined is the country and year\n",
    "    value = row['combined']\n",
    "    indic = row['indicator_abbr']\n",
    "    for agency in all_possible_agencies:\n",
    "        for indic in all_possible_indicators:\n",
    "            all_combos.add(value + \"_\" + indic + \"_\" + agency)\n",
    "            \n",
    "all_combos = sorted(all_combos)\n",
    "all_combos_df = pd.DataFrame(all_combos, columns=[\"cyia_string\"])\n",
    "all_combos_df"
   ]
  },
  {
   "cell_type": "code",
   "execution_count": 21,
   "id": "991ce8f0",
   "metadata": {
    "scrolled": true
   },
   "outputs": [
    {
     "data": {
      "text/html": [
       "<div>\n",
       "<style scoped>\n",
       "    .dataframe tbody tr th:only-of-type {\n",
       "        vertical-align: middle;\n",
       "    }\n",
       "\n",
       "    .dataframe tbody tr th {\n",
       "        vertical-align: top;\n",
       "    }\n",
       "\n",
       "    .dataframe thead th {\n",
       "        text-align: right;\n",
       "    }\n",
       "</style>\n",
       "<table border=\"1\" class=\"dataframe\">\n",
       "  <thead>\n",
       "    <tr style=\"text-align: right;\">\n",
       "      <th></th>\n",
       "      <th>setting</th>\n",
       "      <th>year</th>\n",
       "      <th>indicator_abbr</th>\n",
       "      <th>Avg estimate</th>\n",
       "    </tr>\n",
       "  </thead>\n",
       "  <tbody>\n",
       "    <tr>\n",
       "      <th>0</th>\n",
       "      <td>Ecuador</td>\n",
       "      <td>2002</td>\n",
       "      <td>alcohol</td>\n",
       "      <td>-4.50</td>\n",
       "    </tr>\n",
       "    <tr>\n",
       "      <th>1</th>\n",
       "      <td>Ecuador</td>\n",
       "      <td>2002</td>\n",
       "      <td>hh_wat_sm</td>\n",
       "      <td>56.50</td>\n",
       "    </tr>\n",
       "    <tr>\n",
       "      <th>2</th>\n",
       "      <td>Ecuador</td>\n",
       "      <td>2002</td>\n",
       "      <td>life_ex</td>\n",
       "      <td>73.90</td>\n",
       "    </tr>\n",
       "    <tr>\n",
       "      <th>3</th>\n",
       "      <td>Ecuador</td>\n",
       "      <td>2002</td>\n",
       "      <td>obesitya</td>\n",
       "      <td>-13.00</td>\n",
       "    </tr>\n",
       "    <tr>\n",
       "      <th>4</th>\n",
       "      <td>Ecuador</td>\n",
       "      <td>2002</td>\n",
       "      <td>u5mr</td>\n",
       "      <td>-2.65</td>\n",
       "    </tr>\n",
       "    <tr>\n",
       "      <th>...</th>\n",
       "      <td>...</td>\n",
       "      <td>...</td>\n",
       "      <td>...</td>\n",
       "      <td>...</td>\n",
       "    </tr>\n",
       "    <tr>\n",
       "      <th>544</th>\n",
       "      <td>Yemen</td>\n",
       "      <td>2019</td>\n",
       "      <td>alcohol</td>\n",
       "      <td>0.00</td>\n",
       "    </tr>\n",
       "    <tr>\n",
       "      <th>545</th>\n",
       "      <td>Yemen</td>\n",
       "      <td>2019</td>\n",
       "      <td>life_ex</td>\n",
       "      <td>67.80</td>\n",
       "    </tr>\n",
       "    <tr>\n",
       "      <th>546</th>\n",
       "      <td>Yemen</td>\n",
       "      <td>2019</td>\n",
       "      <td>u5mr</td>\n",
       "      <td>-6.10</td>\n",
       "    </tr>\n",
       "    <tr>\n",
       "      <th>547</th>\n",
       "      <td>Yemen</td>\n",
       "      <td>2020</td>\n",
       "      <td>life_ex</td>\n",
       "      <td>67.90</td>\n",
       "    </tr>\n",
       "    <tr>\n",
       "      <th>548</th>\n",
       "      <td>Yemen</td>\n",
       "      <td>2020</td>\n",
       "      <td>u5mr</td>\n",
       "      <td>-5.95</td>\n",
       "    </tr>\n",
       "  </tbody>\n",
       "</table>\n",
       "<p>549 rows × 4 columns</p>\n",
       "</div>"
      ],
      "text/plain": [
       "     setting  year indicator_abbr  Avg estimate\n",
       "0    Ecuador  2002        alcohol         -4.50\n",
       "1    Ecuador  2002      hh_wat_sm         56.50\n",
       "2    Ecuador  2002        life_ex         73.90\n",
       "3    Ecuador  2002       obesitya        -13.00\n",
       "4    Ecuador  2002           u5mr         -2.65\n",
       "..       ...   ...            ...           ...\n",
       "544    Yemen  2019        alcohol          0.00\n",
       "545    Yemen  2019        life_ex         67.80\n",
       "546    Yemen  2019           u5mr         -6.10\n",
       "547    Yemen  2020        life_ex         67.90\n",
       "548    Yemen  2020           u5mr         -5.95\n",
       "\n",
       "[549 rows x 4 columns]"
      ]
     },
     "execution_count": 21,
     "metadata": {},
     "output_type": "execute_result"
    }
   ],
   "source": [
    "# Temp dataframe used to add avg estimate column to merged_df later.\n",
    "setting_indicator_estimate = pd.DataFrame(gw_five, columns=[\"setting\", \"year\", \"indicator_abbr\", \"Avg estimate\"])\n",
    "setting_indicator_estimate"
   ]
  },
  {
   "cell_type": "code",
   "execution_count": 22,
   "id": "75a7f2fc",
   "metadata": {},
   "outputs": [
    {
     "data": {
      "text/plain": [
       "{'alcohol': 'Total alcohol per capita consumption in adults aged 15+ (litres of pure alcohol)',\n",
       " 'life': 'Life Expectancy',\n",
       " 'obesitya': 'Obesity prevalence among adults (%)',\n",
       " 'hh': 'Population using safely managed drinking water services (%)',\n",
       " 'u5mr': 'Under-five mortality rate'}"
      ]
     },
     "execution_count": 22,
     "metadata": {},
     "output_type": "execute_result"
    }
   ],
   "source": [
    "# Used for indicator names when only given abbr\n",
    "dict_for_abbrs = {\"alcohol\": 'Total alcohol per capita consumption in adults aged 15+ (litres of pure alcohol)', 'life': 'Life Expectancy', \n",
    "                  'obesitya': 'Obesity prevalence among adults (%)', 'hh':'Population using safely managed drinking water services (%)', \n",
    "                  'u5mr':'Under-five mortality rate'}\n",
    "dict_for_abbrs\n"
   ]
  },
  {
   "cell_type": "markdown",
   "id": "b516cfdf",
   "metadata": {},
   "source": [
    "The cell below adds the average estimate of the indicator for a year to all the agencies which will help with our model. It also allows us to shift the data down a year, such that cells with 2002 data constant dollars now have 2003 constant dollars as our model wants to use the money from previous years funding to predict health indicators. "
   ]
  },
  {
   "cell_type": "code",
   "execution_count": 23,
   "id": "2eb8f577",
   "metadata": {},
   "outputs": [
    {
     "ename": "KeyboardInterrupt",
     "evalue": "",
     "output_type": "error",
     "traceback": [
      "\u001b[1;31m---------------------------------------------------------------------------\u001b[0m",
      "\u001b[1;31mKeyboardInterrupt\u001b[0m                         Traceback (most recent call last)",
      "\u001b[1;32m~\\AppData\\Local\\Temp\\ipykernel_24744\\438361364.py\u001b[0m in \u001b[0;36m<module>\u001b[1;34m\u001b[0m\n\u001b[0;32m     26\u001b[0m \u001b[1;33m\u001b[0m\u001b[0m\n\u001b[0;32m     27\u001b[0m         \u001b[1;31m# get value indicator for same country, year, indicator as current record\u001b[0m\u001b[1;33m\u001b[0m\u001b[1;33m\u001b[0m\u001b[0m\n\u001b[1;32m---> 28\u001b[1;33m         \u001b[0mvalue_estimate_series\u001b[0m \u001b[1;33m=\u001b[0m \u001b[0mmerged_df\u001b[0m\u001b[1;33m.\u001b[0m\u001b[0mloc\u001b[0m\u001b[1;33m[\u001b[0m\u001b[1;33m(\u001b[0m\u001b[0mmerged_df\u001b[0m\u001b[1;33m[\u001b[0m\u001b[1;34m\"setting\"\u001b[0m\u001b[1;33m]\u001b[0m \u001b[1;33m==\u001b[0m \u001b[0mvalue_name\u001b[0m\u001b[1;33m)\u001b[0m \u001b[1;33m&\u001b[0m \u001b[1;33m(\u001b[0m\u001b[0mmerged_df\u001b[0m\u001b[1;33m[\u001b[0m\u001b[1;34m\"year\"\u001b[0m\u001b[1;33m]\u001b[0m \u001b[1;33m==\u001b[0m \u001b[0mvalue_year\u001b[0m\u001b[1;33m)\u001b[0m \u001b[1;33m&\u001b[0m \u001b[1;33m(\u001b[0m\u001b[0mmerged_df\u001b[0m\u001b[1;33m[\u001b[0m\u001b[1;34m\"indicator_abbr\"\u001b[0m\u001b[1;33m]\u001b[0m \u001b[1;33m==\u001b[0m \u001b[0mvalue_indicator\u001b[0m\u001b[1;33m)\u001b[0m \u001b[1;33m,\u001b[0m \u001b[1;34m\"Avg estimate\"\u001b[0m\u001b[1;33m]\u001b[0m\u001b[1;33m\u001b[0m\u001b[1;33m\u001b[0m\u001b[0m\n\u001b[0m\u001b[0;32m     29\u001b[0m \u001b[1;33m\u001b[0m\u001b[0m\n\u001b[0;32m     30\u001b[0m         \u001b[1;31m# if series is empty record = 0\u001b[0m\u001b[1;33m\u001b[0m\u001b[1;33m\u001b[0m\u001b[0m\n",
      "\u001b[1;32m~\\anaconda3\\envs\\landlab_dev\\lib\\site-packages\\pandas\\core\\ops\\common.py\u001b[0m in \u001b[0;36mnew_method\u001b[1;34m(self, other)\u001b[0m\n\u001b[0;32m     70\u001b[0m         \u001b[0mother\u001b[0m \u001b[1;33m=\u001b[0m \u001b[0mitem_from_zerodim\u001b[0m\u001b[1;33m(\u001b[0m\u001b[0mother\u001b[0m\u001b[1;33m)\u001b[0m\u001b[1;33m\u001b[0m\u001b[1;33m\u001b[0m\u001b[0m\n\u001b[0;32m     71\u001b[0m \u001b[1;33m\u001b[0m\u001b[0m\n\u001b[1;32m---> 72\u001b[1;33m         \u001b[1;32mreturn\u001b[0m \u001b[0mmethod\u001b[0m\u001b[1;33m(\u001b[0m\u001b[0mself\u001b[0m\u001b[1;33m,\u001b[0m \u001b[0mother\u001b[0m\u001b[1;33m)\u001b[0m\u001b[1;33m\u001b[0m\u001b[1;33m\u001b[0m\u001b[0m\n\u001b[0m\u001b[0;32m     73\u001b[0m \u001b[1;33m\u001b[0m\u001b[0m\n\u001b[0;32m     74\u001b[0m     \u001b[1;32mreturn\u001b[0m \u001b[0mnew_method\u001b[0m\u001b[1;33m\u001b[0m\u001b[1;33m\u001b[0m\u001b[0m\n",
      "\u001b[1;32m~\\anaconda3\\envs\\landlab_dev\\lib\\site-packages\\pandas\\core\\arraylike.py\u001b[0m in \u001b[0;36m__eq__\u001b[1;34m(self, other)\u001b[0m\n\u001b[0;32m     40\u001b[0m     \u001b[1;33m@\u001b[0m\u001b[0munpack_zerodim_and_defer\u001b[0m\u001b[1;33m(\u001b[0m\u001b[1;34m\"__eq__\"\u001b[0m\u001b[1;33m)\u001b[0m\u001b[1;33m\u001b[0m\u001b[1;33m\u001b[0m\u001b[0m\n\u001b[0;32m     41\u001b[0m     \u001b[1;32mdef\u001b[0m \u001b[0m__eq__\u001b[0m\u001b[1;33m(\u001b[0m\u001b[0mself\u001b[0m\u001b[1;33m,\u001b[0m \u001b[0mother\u001b[0m\u001b[1;33m)\u001b[0m\u001b[1;33m:\u001b[0m\u001b[1;33m\u001b[0m\u001b[1;33m\u001b[0m\u001b[0m\n\u001b[1;32m---> 42\u001b[1;33m         \u001b[1;32mreturn\u001b[0m \u001b[0mself\u001b[0m\u001b[1;33m.\u001b[0m\u001b[0m_cmp_method\u001b[0m\u001b[1;33m(\u001b[0m\u001b[0mother\u001b[0m\u001b[1;33m,\u001b[0m \u001b[0moperator\u001b[0m\u001b[1;33m.\u001b[0m\u001b[0meq\u001b[0m\u001b[1;33m)\u001b[0m\u001b[1;33m\u001b[0m\u001b[1;33m\u001b[0m\u001b[0m\n\u001b[0m\u001b[0;32m     43\u001b[0m \u001b[1;33m\u001b[0m\u001b[0m\n\u001b[0;32m     44\u001b[0m     \u001b[1;33m@\u001b[0m\u001b[0munpack_zerodim_and_defer\u001b[0m\u001b[1;33m(\u001b[0m\u001b[1;34m\"__ne__\"\u001b[0m\u001b[1;33m)\u001b[0m\u001b[1;33m\u001b[0m\u001b[1;33m\u001b[0m\u001b[0m\n",
      "\u001b[1;32m~\\anaconda3\\envs\\landlab_dev\\lib\\site-packages\\pandas\\core\\series.py\u001b[0m in \u001b[0;36m_cmp_method\u001b[1;34m(self, other, op)\u001b[0m\n\u001b[0;32m   6241\u001b[0m \u001b[1;33m\u001b[0m\u001b[0m\n\u001b[0;32m   6242\u001b[0m         \u001b[1;32mwith\u001b[0m \u001b[0mnp\u001b[0m\u001b[1;33m.\u001b[0m\u001b[0merrstate\u001b[0m\u001b[1;33m(\u001b[0m\u001b[0mall\u001b[0m\u001b[1;33m=\u001b[0m\u001b[1;34m\"ignore\"\u001b[0m\u001b[1;33m)\u001b[0m\u001b[1;33m:\u001b[0m\u001b[1;33m\u001b[0m\u001b[1;33m\u001b[0m\u001b[0m\n\u001b[1;32m-> 6243\u001b[1;33m             \u001b[0mres_values\u001b[0m \u001b[1;33m=\u001b[0m \u001b[0mops\u001b[0m\u001b[1;33m.\u001b[0m\u001b[0mcomparison_op\u001b[0m\u001b[1;33m(\u001b[0m\u001b[0mlvalues\u001b[0m\u001b[1;33m,\u001b[0m \u001b[0mrvalues\u001b[0m\u001b[1;33m,\u001b[0m \u001b[0mop\u001b[0m\u001b[1;33m)\u001b[0m\u001b[1;33m\u001b[0m\u001b[1;33m\u001b[0m\u001b[0m\n\u001b[0m\u001b[0;32m   6244\u001b[0m \u001b[1;33m\u001b[0m\u001b[0m\n\u001b[0;32m   6245\u001b[0m         \u001b[1;32mreturn\u001b[0m \u001b[0mself\u001b[0m\u001b[1;33m.\u001b[0m\u001b[0m_construct_result\u001b[0m\u001b[1;33m(\u001b[0m\u001b[0mres_values\u001b[0m\u001b[1;33m,\u001b[0m \u001b[0mname\u001b[0m\u001b[1;33m=\u001b[0m\u001b[0mres_name\u001b[0m\u001b[1;33m)\u001b[0m\u001b[1;33m\u001b[0m\u001b[1;33m\u001b[0m\u001b[0m\n",
      "\u001b[1;32m~\\anaconda3\\envs\\landlab_dev\\lib\\site-packages\\pandas\\core\\ops\\array_ops.py\u001b[0m in \u001b[0;36mcomparison_op\u001b[1;34m(left, right, op)\u001b[0m\n\u001b[0;32m    288\u001b[0m \u001b[1;33m\u001b[0m\u001b[0m\n\u001b[0;32m    289\u001b[0m     \u001b[1;32melse\u001b[0m\u001b[1;33m:\u001b[0m\u001b[1;33m\u001b[0m\u001b[1;33m\u001b[0m\u001b[0m\n\u001b[1;32m--> 290\u001b[1;33m         \u001b[0mres_values\u001b[0m \u001b[1;33m=\u001b[0m \u001b[0m_na_arithmetic_op\u001b[0m\u001b[1;33m(\u001b[0m\u001b[0mlvalues\u001b[0m\u001b[1;33m,\u001b[0m \u001b[0mrvalues\u001b[0m\u001b[1;33m,\u001b[0m \u001b[0mop\u001b[0m\u001b[1;33m,\u001b[0m \u001b[0mis_cmp\u001b[0m\u001b[1;33m=\u001b[0m\u001b[1;32mTrue\u001b[0m\u001b[1;33m)\u001b[0m\u001b[1;33m\u001b[0m\u001b[1;33m\u001b[0m\u001b[0m\n\u001b[0m\u001b[0;32m    291\u001b[0m \u001b[1;33m\u001b[0m\u001b[0m\n\u001b[0;32m    292\u001b[0m     \u001b[1;32mreturn\u001b[0m \u001b[0mres_values\u001b[0m\u001b[1;33m\u001b[0m\u001b[1;33m\u001b[0m\u001b[0m\n",
      "\u001b[1;32m~\\anaconda3\\envs\\landlab_dev\\lib\\site-packages\\pandas\\core\\ops\\array_ops.py\u001b[0m in \u001b[0;36m_na_arithmetic_op\u001b[1;34m(left, right, op, is_cmp)\u001b[0m\n\u001b[0;32m    163\u001b[0m \u001b[1;33m\u001b[0m\u001b[0m\n\u001b[0;32m    164\u001b[0m     \u001b[1;32mtry\u001b[0m\u001b[1;33m:\u001b[0m\u001b[1;33m\u001b[0m\u001b[1;33m\u001b[0m\u001b[0m\n\u001b[1;32m--> 165\u001b[1;33m         \u001b[0mresult\u001b[0m \u001b[1;33m=\u001b[0m \u001b[0mfunc\u001b[0m\u001b[1;33m(\u001b[0m\u001b[0mleft\u001b[0m\u001b[1;33m,\u001b[0m \u001b[0mright\u001b[0m\u001b[1;33m)\u001b[0m\u001b[1;33m\u001b[0m\u001b[1;33m\u001b[0m\u001b[0m\n\u001b[0m\u001b[0;32m    166\u001b[0m     \u001b[1;32mexcept\u001b[0m \u001b[0mTypeError\u001b[0m\u001b[1;33m:\u001b[0m\u001b[1;33m\u001b[0m\u001b[1;33m\u001b[0m\u001b[0m\n\u001b[0;32m    167\u001b[0m         \u001b[1;32mif\u001b[0m \u001b[1;32mnot\u001b[0m \u001b[0mis_cmp\u001b[0m \u001b[1;32mand\u001b[0m \u001b[1;33m(\u001b[0m\u001b[0mis_object_dtype\u001b[0m\u001b[1;33m(\u001b[0m\u001b[0mleft\u001b[0m\u001b[1;33m.\u001b[0m\u001b[0mdtype\u001b[0m\u001b[1;33m)\u001b[0m \u001b[1;32mor\u001b[0m \u001b[0mis_object_dtype\u001b[0m\u001b[1;33m(\u001b[0m\u001b[0mright\u001b[0m\u001b[1;33m)\u001b[0m\u001b[1;33m)\u001b[0m\u001b[1;33m:\u001b[0m\u001b[1;33m\u001b[0m\u001b[1;33m\u001b[0m\u001b[0m\n",
      "\u001b[1;32m~\\anaconda3\\envs\\landlab_dev\\lib\\site-packages\\pandas\\core\\computation\\expressions.py\u001b[0m in \u001b[0;36mevaluate\u001b[1;34m(op, a, b, use_numexpr)\u001b[0m\n\u001b[0;32m    239\u001b[0m         \u001b[1;32mif\u001b[0m \u001b[0muse_numexpr\u001b[0m\u001b[1;33m:\u001b[0m\u001b[1;33m\u001b[0m\u001b[1;33m\u001b[0m\u001b[0m\n\u001b[0;32m    240\u001b[0m             \u001b[1;31m# error: \"None\" not callable\u001b[0m\u001b[1;33m\u001b[0m\u001b[1;33m\u001b[0m\u001b[0m\n\u001b[1;32m--> 241\u001b[1;33m             \u001b[1;32mreturn\u001b[0m \u001b[0m_evaluate\u001b[0m\u001b[1;33m(\u001b[0m\u001b[0mop\u001b[0m\u001b[1;33m,\u001b[0m \u001b[0mop_str\u001b[0m\u001b[1;33m,\u001b[0m \u001b[0ma\u001b[0m\u001b[1;33m,\u001b[0m \u001b[0mb\u001b[0m\u001b[1;33m)\u001b[0m  \u001b[1;31m# type: ignore[misc]\u001b[0m\u001b[1;33m\u001b[0m\u001b[1;33m\u001b[0m\u001b[0m\n\u001b[0m\u001b[0;32m    242\u001b[0m     \u001b[1;32mreturn\u001b[0m \u001b[0m_evaluate_standard\u001b[0m\u001b[1;33m(\u001b[0m\u001b[0mop\u001b[0m\u001b[1;33m,\u001b[0m \u001b[0mop_str\u001b[0m\u001b[1;33m,\u001b[0m \u001b[0ma\u001b[0m\u001b[1;33m,\u001b[0m \u001b[0mb\u001b[0m\u001b[1;33m)\u001b[0m\u001b[1;33m\u001b[0m\u001b[1;33m\u001b[0m\u001b[0m\n\u001b[0;32m    243\u001b[0m \u001b[1;33m\u001b[0m\u001b[0m\n",
      "\u001b[1;32m~\\anaconda3\\envs\\landlab_dev\\lib\\site-packages\\pandas\\core\\computation\\expressions.py\u001b[0m in \u001b[0;36m_evaluate_numexpr\u001b[1;34m(op, op_str, a, b)\u001b[0m\n\u001b[0;32m    127\u001b[0m \u001b[1;33m\u001b[0m\u001b[0m\n\u001b[0;32m    128\u001b[0m     \u001b[1;32mif\u001b[0m \u001b[0mresult\u001b[0m \u001b[1;32mis\u001b[0m \u001b[1;32mNone\u001b[0m\u001b[1;33m:\u001b[0m\u001b[1;33m\u001b[0m\u001b[1;33m\u001b[0m\u001b[0m\n\u001b[1;32m--> 129\u001b[1;33m         \u001b[0mresult\u001b[0m \u001b[1;33m=\u001b[0m \u001b[0m_evaluate_standard\u001b[0m\u001b[1;33m(\u001b[0m\u001b[0mop\u001b[0m\u001b[1;33m,\u001b[0m \u001b[0mop_str\u001b[0m\u001b[1;33m,\u001b[0m \u001b[0ma\u001b[0m\u001b[1;33m,\u001b[0m \u001b[0mb\u001b[0m\u001b[1;33m)\u001b[0m\u001b[1;33m\u001b[0m\u001b[1;33m\u001b[0m\u001b[0m\n\u001b[0m\u001b[0;32m    130\u001b[0m \u001b[1;33m\u001b[0m\u001b[0m\n\u001b[0;32m    131\u001b[0m     \u001b[1;32mreturn\u001b[0m \u001b[0mresult\u001b[0m\u001b[1;33m\u001b[0m\u001b[1;33m\u001b[0m\u001b[0m\n",
      "\u001b[1;32m~\\anaconda3\\envs\\landlab_dev\\lib\\site-packages\\pandas\\core\\computation\\expressions.py\u001b[0m in \u001b[0;36m_evaluate_standard\u001b[1;34m(op, op_str, a, b)\u001b[0m\n\u001b[0;32m     68\u001b[0m     \u001b[1;32mif\u001b[0m \u001b[0m_TEST_MODE\u001b[0m\u001b[1;33m:\u001b[0m\u001b[1;33m\u001b[0m\u001b[1;33m\u001b[0m\u001b[0m\n\u001b[0;32m     69\u001b[0m         \u001b[0m_store_test_result\u001b[0m\u001b[1;33m(\u001b[0m\u001b[1;32mFalse\u001b[0m\u001b[1;33m)\u001b[0m\u001b[1;33m\u001b[0m\u001b[1;33m\u001b[0m\u001b[0m\n\u001b[1;32m---> 70\u001b[1;33m     \u001b[1;32mreturn\u001b[0m \u001b[0mop\u001b[0m\u001b[1;33m(\u001b[0m\u001b[0ma\u001b[0m\u001b[1;33m,\u001b[0m \u001b[0mb\u001b[0m\u001b[1;33m)\u001b[0m\u001b[1;33m\u001b[0m\u001b[1;33m\u001b[0m\u001b[0m\n\u001b[0m\u001b[0;32m     71\u001b[0m \u001b[1;33m\u001b[0m\u001b[0m\n\u001b[0;32m     72\u001b[0m \u001b[1;33m\u001b[0m\u001b[0m\n",
      "\u001b[1;31mKeyboardInterrupt\u001b[0m: "
     ]
    }
   ],
   "source": [
    "# Takes while to run\n",
    "import warnings\n",
    "\n",
    "# Suppress warnings\n",
    "warnings.filterwarnings('ignore', category=DeprecationWarning) \n",
    "warnings.filterwarnings('ignore', category=FutureWarning) \n",
    "\n",
    "run_function = false\n",
    "\n",
    "if(run_function):\n",
    "    merged_df = merged_df.sort_values('country_year_indicator_agency', ascending=True)\n",
    "\n",
    "    # Fill in dataframe using all possible setting, agency, year, indicators from my_set_df (contains all country)\n",
    "    for index, row in all_combos_df.iterrows():\n",
    "        value = row[\"cyia_string\"]\n",
    "        row_for_estimate = []\n",
    "\n",
    "        if (merged_df[\"country_year_indicator_agency\"] != value).all():\n",
    "            # split long combo strings into their separate parts\n",
    "            country_year_indicator_agency_list = value.split('_')\n",
    "\n",
    "            value_name = country_year_indicator_agency_list[0]\n",
    "            value_year = int(country_year_indicator_agency_list[1])\n",
    "            value_indicator = country_year_indicator_agency_list[2]\n",
    "            value_agency = country_year_indicator_agency_list[3]\n",
    "\n",
    "            # get indicator name from abbr dict\n",
    "            full_name_ind = dict_for_abbrs[value_indicator]\n",
    "\n",
    "            # get value indicator for same country, year, indicator as current record\n",
    "            value_estimate_series = merged_df.loc[(merged_df[\"setting\"] == value_name) & (merged_df[\"year\"] == value_year) & (merged_df[\"indicator_abbr\"] == value_indicator) , \"Avg estimate\"]\n",
    "\n",
    "            # if value estimate series is empty there is not data on this combination and it should be 0 for the year.\n",
    "            if value_estimate_series.empty:\n",
    "                value_estimate = 0\n",
    "            else:\n",
    "                value_estimate = value_estimate_series.values[0]\n",
    "\n",
    "\n",
    "            merged_df = merged_df.append({'country_year_indicator_agency':value, \"setting\":value_name, \n",
    "                                          \"year\":value_year, \"indicator_abbr\":value_indicator, \"indicator_name\":full_name_ind, \n",
    "                                          \"Avg estimate\":value_estimate,\"Funding Agency Acronym\":value_agency, \n",
    "                                          \"Constant Dollar Amount\": 0}, ignore_index =True)\n",
    "else:\n",
    "    print(\"Function skipped, change run_function variable as needed\")\n",
    "        "
   ]
  },
  {
   "cell_type": "code",
   "execution_count": 24,
   "id": "95e0f37f",
   "metadata": {},
   "outputs": [],
   "source": [
    "merged_df.to_csv(os.path.join(\"..\", \"WHO_datasets\", \"merged_data.csv\"))"
   ]
  },
  {
   "cell_type": "code",
   "execution_count": 34,
   "id": "63154e0f",
   "metadata": {},
   "outputs": [],
   "source": [
    "# Do more data cleaning with excel on merged_df to get final_dataset\n",
    "final_dataset = pd.read_csv(os.path.join(\"..\",\"WHO_datasets\", \"final_dataset.csv\"))"
   ]
  },
  {
   "cell_type": "code",
   "execution_count": 4,
   "id": "b8362263",
   "metadata": {
    "scrolled": true
   },
   "outputs": [
    {
     "data": {
      "text/html": [
       "<div>\n",
       "<style scoped>\n",
       "    .dataframe tbody tr th:only-of-type {\n",
       "        vertical-align: middle;\n",
       "    }\n",
       "\n",
       "    .dataframe tbody tr th {\n",
       "        vertical-align: top;\n",
       "    }\n",
       "\n",
       "    .dataframe thead th {\n",
       "        text-align: right;\n",
       "    }\n",
       "</style>\n",
       "<table border=\"1\" class=\"dataframe\">\n",
       "  <thead>\n",
       "    <tr style=\"text-align: right;\">\n",
       "      <th></th>\n",
       "      <th>setting</th>\n",
       "      <th>year</th>\n",
       "      <th>indicator_abbr</th>\n",
       "      <th>indicator_name</th>\n",
       "      <th>Avg estimate</th>\n",
       "      <th>Funding Agency Acronym</th>\n",
       "      <th>Constant Dollar Amount</th>\n",
       "      <th>country_year</th>\n",
       "      <th>country_year_indicator</th>\n",
       "      <th>country_year_indicator_agency</th>\n",
       "    </tr>\n",
       "  </thead>\n",
       "  <tbody>\n",
       "    <tr>\n",
       "      <th>0</th>\n",
       "      <td>Ecuador</td>\n",
       "      <td>2002</td>\n",
       "      <td>alcohol</td>\n",
       "      <td>Total alcohol per capita consumption in adults...</td>\n",
       "      <td>-4.50</td>\n",
       "      <td>AGR</td>\n",
       "      <td>9241684.0</td>\n",
       "      <td>Ecuador_2002</td>\n",
       "      <td>Ecuador_2002_alcohol</td>\n",
       "      <td>Ecuador_2002_alcohol_AGR</td>\n",
       "    </tr>\n",
       "    <tr>\n",
       "      <th>1</th>\n",
       "      <td>Ecuador</td>\n",
       "      <td>2002</td>\n",
       "      <td>alcohol</td>\n",
       "      <td>Total alcohol per capita consumption in adults...</td>\n",
       "      <td>-4.50</td>\n",
       "      <td>IAF</td>\n",
       "      <td>1948562.0</td>\n",
       "      <td>Ecuador_2002</td>\n",
       "      <td>Ecuador_2002_alcohol</td>\n",
       "      <td>Ecuador_2002_alcohol_IAF</td>\n",
       "    </tr>\n",
       "    <tr>\n",
       "      <th>2</th>\n",
       "      <td>Ecuador</td>\n",
       "      <td>2002</td>\n",
       "      <td>alcohol</td>\n",
       "      <td>Total alcohol per capita consumption in adults...</td>\n",
       "      <td>-4.50</td>\n",
       "      <td>PC</td>\n",
       "      <td>3948070.0</td>\n",
       "      <td>Ecuador_2002</td>\n",
       "      <td>Ecuador_2002_alcohol</td>\n",
       "      <td>Ecuador_2002_alcohol_PC</td>\n",
       "    </tr>\n",
       "    <tr>\n",
       "      <th>3</th>\n",
       "      <td>Ecuador</td>\n",
       "      <td>2002</td>\n",
       "      <td>alcohol</td>\n",
       "      <td>Total alcohol per capita consumption in adults...</td>\n",
       "      <td>-4.50</td>\n",
       "      <td>STATE</td>\n",
       "      <td>35779088.0</td>\n",
       "      <td>Ecuador_2002</td>\n",
       "      <td>Ecuador_2002_alcohol</td>\n",
       "      <td>Ecuador_2002_alcohol_STATE</td>\n",
       "    </tr>\n",
       "    <tr>\n",
       "      <th>4</th>\n",
       "      <td>Ecuador</td>\n",
       "      <td>2002</td>\n",
       "      <td>alcohol</td>\n",
       "      <td>Total alcohol per capita consumption in adults...</td>\n",
       "      <td>-4.50</td>\n",
       "      <td>TDA</td>\n",
       "      <td>1638316.0</td>\n",
       "      <td>Ecuador_2002</td>\n",
       "      <td>Ecuador_2002_alcohol</td>\n",
       "      <td>Ecuador_2002_alcohol_TDA</td>\n",
       "    </tr>\n",
       "    <tr>\n",
       "      <th>...</th>\n",
       "      <td>...</td>\n",
       "      <td>...</td>\n",
       "      <td>...</td>\n",
       "      <td>...</td>\n",
       "      <td>...</td>\n",
       "      <td>...</td>\n",
       "      <td>...</td>\n",
       "      <td>...</td>\n",
       "      <td>...</td>\n",
       "      <td>...</td>\n",
       "    </tr>\n",
       "    <tr>\n",
       "      <th>13755</th>\n",
       "      <td>Yemen</td>\n",
       "      <td>2020</td>\n",
       "      <td>u5mr</td>\n",
       "      <td>Under-five mortality rate</td>\n",
       "      <td>-5.95</td>\n",
       "      <td>MCC</td>\n",
       "      <td>0.0</td>\n",
       "      <td>NaN</td>\n",
       "      <td>NaN</td>\n",
       "      <td>Yemen_2020_u5mr_MCC</td>\n",
       "    </tr>\n",
       "    <tr>\n",
       "      <th>13756</th>\n",
       "      <td>Yemen</td>\n",
       "      <td>2020</td>\n",
       "      <td>u5mr</td>\n",
       "      <td>Under-five mortality rate</td>\n",
       "      <td>-5.95</td>\n",
       "      <td>NSF</td>\n",
       "      <td>0.0</td>\n",
       "      <td>NaN</td>\n",
       "      <td>NaN</td>\n",
       "      <td>Yemen_2020_u5mr_NSF</td>\n",
       "    </tr>\n",
       "    <tr>\n",
       "      <th>13757</th>\n",
       "      <td>Yemen</td>\n",
       "      <td>2020</td>\n",
       "      <td>u5mr</td>\n",
       "      <td>Under-five mortality rate</td>\n",
       "      <td>-5.95</td>\n",
       "      <td>PC</td>\n",
       "      <td>0.0</td>\n",
       "      <td>NaN</td>\n",
       "      <td>NaN</td>\n",
       "      <td>Yemen_2020_u5mr_PC</td>\n",
       "    </tr>\n",
       "    <tr>\n",
       "      <th>13758</th>\n",
       "      <td>Yemen</td>\n",
       "      <td>2020</td>\n",
       "      <td>u5mr</td>\n",
       "      <td>Under-five mortality rate</td>\n",
       "      <td>-5.95</td>\n",
       "      <td>TDA</td>\n",
       "      <td>0.0</td>\n",
       "      <td>NaN</td>\n",
       "      <td>NaN</td>\n",
       "      <td>Yemen_2020_u5mr_TDA</td>\n",
       "    </tr>\n",
       "    <tr>\n",
       "      <th>13759</th>\n",
       "      <td>Yemen</td>\n",
       "      <td>2020</td>\n",
       "      <td>u5mr</td>\n",
       "      <td>Under-five mortality rate</td>\n",
       "      <td>-5.95</td>\n",
       "      <td>TREAS</td>\n",
       "      <td>0.0</td>\n",
       "      <td>NaN</td>\n",
       "      <td>NaN</td>\n",
       "      <td>Yemen_2020_u5mr_TREAS</td>\n",
       "    </tr>\n",
       "  </tbody>\n",
       "</table>\n",
       "<p>13760 rows × 10 columns</p>\n",
       "</div>"
      ],
      "text/plain": [
       "       setting  year indicator_abbr  \\\n",
       "0      Ecuador  2002        alcohol   \n",
       "1      Ecuador  2002        alcohol   \n",
       "2      Ecuador  2002        alcohol   \n",
       "3      Ecuador  2002        alcohol   \n",
       "4      Ecuador  2002        alcohol   \n",
       "...        ...   ...            ...   \n",
       "13755    Yemen  2020           u5mr   \n",
       "13756    Yemen  2020           u5mr   \n",
       "13757    Yemen  2020           u5mr   \n",
       "13758    Yemen  2020           u5mr   \n",
       "13759    Yemen  2020           u5mr   \n",
       "\n",
       "                                          indicator_name  Avg estimate  \\\n",
       "0      Total alcohol per capita consumption in adults...         -4.50   \n",
       "1      Total alcohol per capita consumption in adults...         -4.50   \n",
       "2      Total alcohol per capita consumption in adults...         -4.50   \n",
       "3      Total alcohol per capita consumption in adults...         -4.50   \n",
       "4      Total alcohol per capita consumption in adults...         -4.50   \n",
       "...                                                  ...           ...   \n",
       "13755                          Under-five mortality rate         -5.95   \n",
       "13756                          Under-five mortality rate         -5.95   \n",
       "13757                          Under-five mortality rate         -5.95   \n",
       "13758                          Under-five mortality rate         -5.95   \n",
       "13759                          Under-five mortality rate         -5.95   \n",
       "\n",
       "      Funding Agency Acronym  Constant Dollar Amount  country_year  \\\n",
       "0                        AGR               9241684.0  Ecuador_2002   \n",
       "1                        IAF               1948562.0  Ecuador_2002   \n",
       "2                         PC               3948070.0  Ecuador_2002   \n",
       "3                      STATE              35779088.0  Ecuador_2002   \n",
       "4                        TDA               1638316.0  Ecuador_2002   \n",
       "...                      ...                     ...           ...   \n",
       "13755                    MCC                     0.0           NaN   \n",
       "13756                    NSF                     0.0           NaN   \n",
       "13757                     PC                     0.0           NaN   \n",
       "13758                    TDA                     0.0           NaN   \n",
       "13759                  TREAS                     0.0           NaN   \n",
       "\n",
       "      country_year_indicator country_year_indicator_agency  \n",
       "0       Ecuador_2002_alcohol      Ecuador_2002_alcohol_AGR  \n",
       "1       Ecuador_2002_alcohol      Ecuador_2002_alcohol_IAF  \n",
       "2       Ecuador_2002_alcohol       Ecuador_2002_alcohol_PC  \n",
       "3       Ecuador_2002_alcohol    Ecuador_2002_alcohol_STATE  \n",
       "4       Ecuador_2002_alcohol      Ecuador_2002_alcohol_TDA  \n",
       "...                      ...                           ...  \n",
       "13755                    NaN           Yemen_2020_u5mr_MCC  \n",
       "13756                    NaN           Yemen_2020_u5mr_NSF  \n",
       "13757                    NaN            Yemen_2020_u5mr_PC  \n",
       "13758                    NaN           Yemen_2020_u5mr_TDA  \n",
       "13759                    NaN         Yemen_2020_u5mr_TREAS  \n",
       "\n",
       "[13760 rows x 10 columns]"
      ]
     },
     "execution_count": 34,
     "metadata": {},
     "output_type": "execute_result"
    }
   ],
   "source": [
    "final_dataset['indicator_name'].unique()"
   ]
  },
  {
   "cell_type": "code",
   "execution_count": 5,
   "id": "24b9d801",
   "metadata": {},
   "outputs": [
    {
     "data": {
      "text/plain": [
       "<AxesSubplot:>"
      ]
     },
     "execution_count": 5,
     "metadata": {},
     "output_type": "execute_result"
    },
    {
     "data": {
      "image/png": "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\n",
      "text/plain": [
       "<Figure size 640x480 with 2 Axes>"
      ]
     },
     "metadata": {},
     "output_type": "display_data"
    }
   ],
   "source": [
    "sns.heatmap(pd.get_dummies(final_dataset[['Funding Agency Acronym', 'Constant Dollar Amount']]).corr())"
   ]
  },
  {
   "cell_type": "markdown",
   "id": "e6de69b5",
   "metadata": {},
   "source": [
    "## EDA FOR THE GW13/final dataset: \n",
    "- Heat map correlation\n",
    "- which indicators = best improvement etc"
   ]
  },
  {
   "cell_type": "markdown",
   "id": "1cddfafd",
   "metadata": {},
   "source": [
    "After setting up our dataset for our model, we imputed some data that was missing for years, typically replacing the average estimate for the last year's estimate, and keeping the average estimate at 0 if data for an indicator for a particular country was missing. This was done in excel, and the final dataset is read into a dataframe below."
    "#final_dataset.drop(['setting'], axis=1, inplace= True)"
   ]
  },
  {
   "cell_type": "markdown",
   "id": "efe01b2f",
   "metadata": {},
   "source": [
    "<div style=\"text-align: center;\">\n",
    "    <h2>Modeling and Analysis</h2>\n",
    "</div>\n"
   ]
  },
  {
   "cell_type": "markdown",
   "id": "56f33d9f",
   "metadata": {},
   "source": [
    "Now that we have collected, cleaned, transformed, and explored the data it is time to attempt to answer the questions which we set out to answer.\n",
    "\n",
    "Those questions are:\n",
    "* Does a $1 dollar increase in aid to one country increase health indicators more or less than different country?\n",
    "* Since US agencies have budgets set by Congress, how can they better utilize a limited budget with the maximum impact?\n",
    "* Is change in an indicator dependent on marginal dollar increases per agency?\n",
    "\n",
    "\n",
    "To answer these questions, we are going to turn to machine learning to learn our data and predict new values based on our data. We are going to use a simple linear regression to fit our model. We are working under the assumption that increased aid leads to general heath improvement. It is for this reason that we chose a simple linear regression as our predictor of choice. \n",
    "\n",
    "We opt to separate the indicators into their own models based on previous conclusions and under the assumption that the chosen indicators have no predictive value on each other. "
   ]
  },
  {
   "cell_type": "code",
   "execution_count": 7,
   "id": "3d639059",
   "metadata": {},
   "outputs": [],
   "source": [
    "# IMPORTS for model\n",
    "import sklearn\n",
    "import sklearn.datasets\n",
    "assert sklearn.__version__ >= \"0.20\"\n",
    "\n",
    "from sklearn.model_selection import train_test_split\n",
    "from sklearn.linear_model import LinearRegression\n",
    "from sklearn.metrics import mean_squared_error\n",
    "from sklearn.metrics import mean_absolute_error\n",
    "from sklearn.pipeline import Pipeline\n",
    "from sklearn.preprocessing import StandardScaler\n"
   ]
  },
  {
   "cell_type": "markdown",
   "id": "1bfd475f",
   "metadata": {},
   "source": [
    "First, we're going to get the X and y data for the model. This will consist of the country('setting), the year before, which corresponds to the constant dollar amount, the indicator name in question, the agency who is funding the aid, and the amount they are contributing each year. Our predictor value will be the average estimate gathered from the GW13 dataset."
   ]
  },
  {
   "cell_type": "code",
   "execution_count": 19,
   "id": "1a25aa1d",
   "metadata": {},
   "outputs": [
    {
     "data": {
      "text/html": [
       "<div>\n",
       "<style scoped>\n",
       "    .dataframe tbody tr th:only-of-type {\n",
       "        vertical-align: middle;\n",
       "    }\n",
       "\n",
       "    .dataframe tbody tr th {\n",
       "        vertical-align: top;\n",
       "    }\n",
       "\n",
       "    .dataframe thead th {\n",
       "        text-align: right;\n",
       "    }\n",
       "</style>\n",
       "<table border=\"1\" class=\"dataframe\">\n",
       "  <thead>\n",
       "    <tr style=\"text-align: right;\">\n",
       "      <th></th>\n",
       "      <th>setting</th>\n",
       "      <th>Previous year</th>\n",
       "      <th>indicator_abbr</th>\n",
       "      <th>indicator_name</th>\n",
       "      <th>Avg estimate</th>\n",
       "      <th>Funding Agency Acronym</th>\n",
       "      <th>Constant Dollar Amount</th>\n",
       "    </tr>\n",
       "  </thead>\n",
       "  <tbody>\n",
       "    <tr>\n",
       "      <th>0</th>\n",
       "      <td>Ecuador</td>\n",
       "      <td>2003</td>\n",
       "      <td>alcohol</td>\n",
       "      <td>Total alcohol per capita consumption in adults...</td>\n",
       "      <td>-4.00</td>\n",
       "      <td>ADF</td>\n",
       "      <td>0</td>\n",
       "    </tr>\n",
       "    <tr>\n",
       "      <th>1</th>\n",
       "      <td>Ecuador</td>\n",
       "      <td>2003</td>\n",
       "      <td>alcohol</td>\n",
       "      <td>Total alcohol per capita consumption in adults...</td>\n",
       "      <td>-4.00</td>\n",
       "      <td>AGR</td>\n",
       "      <td>717869</td>\n",
       "    </tr>\n",
       "    <tr>\n",
       "      <th>2</th>\n",
       "      <td>Ecuador</td>\n",
       "      <td>2003</td>\n",
       "      <td>alcohol</td>\n",
       "      <td>Total alcohol per capita consumption in adults...</td>\n",
       "      <td>-4.00</td>\n",
       "      <td>DFC</td>\n",
       "      <td>0</td>\n",
       "    </tr>\n",
       "    <tr>\n",
       "      <th>3</th>\n",
       "      <td>Ecuador</td>\n",
       "      <td>2003</td>\n",
       "      <td>alcohol</td>\n",
       "      <td>Total alcohol per capita consumption in adults...</td>\n",
       "      <td>-4.00</td>\n",
       "      <td>DOC</td>\n",
       "      <td>0</td>\n",
       "    </tr>\n",
       "    <tr>\n",
       "      <th>4</th>\n",
       "      <td>Ecuador</td>\n",
       "      <td>2003</td>\n",
       "      <td>alcohol</td>\n",
       "      <td>Total alcohol per capita consumption in adults...</td>\n",
       "      <td>-4.00</td>\n",
       "      <td>DOE</td>\n",
       "      <td>0</td>\n",
       "    </tr>\n",
       "    <tr>\n",
       "      <th>...</th>\n",
       "      <td>...</td>\n",
       "      <td>...</td>\n",
       "      <td>...</td>\n",
       "      <td>...</td>\n",
       "      <td>...</td>\n",
       "      <td>...</td>\n",
       "      <td>...</td>\n",
       "    </tr>\n",
       "    <tr>\n",
       "      <th>10332</th>\n",
       "      <td>Yemen</td>\n",
       "      <td>2020</td>\n",
       "      <td>u5mr</td>\n",
       "      <td>Under-five mortality rate</td>\n",
       "      <td>-5.95</td>\n",
       "      <td>PC</td>\n",
       "      <td>0</td>\n",
       "    </tr>\n",
       "    <tr>\n",
       "      <th>10333</th>\n",
       "      <td>Yemen</td>\n",
       "      <td>2020</td>\n",
       "      <td>u5mr</td>\n",
       "      <td>Under-five mortality rate</td>\n",
       "      <td>-5.95</td>\n",
       "      <td>STATE</td>\n",
       "      <td>82848136</td>\n",
       "    </tr>\n",
       "    <tr>\n",
       "      <th>10334</th>\n",
       "      <td>Yemen</td>\n",
       "      <td>2020</td>\n",
       "      <td>u5mr</td>\n",
       "      <td>Under-five mortality rate</td>\n",
       "      <td>-5.95</td>\n",
       "      <td>TDA</td>\n",
       "      <td>0</td>\n",
       "    </tr>\n",
       "    <tr>\n",
       "      <th>10335</th>\n",
       "      <td>Yemen</td>\n",
       "      <td>2020</td>\n",
       "      <td>u5mr</td>\n",
       "      <td>Under-five mortality rate</td>\n",
       "      <td>-5.95</td>\n",
       "      <td>TREAS</td>\n",
       "      <td>0</td>\n",
       "    </tr>\n",
       "    <tr>\n",
       "      <th>10336</th>\n",
       "      <td>Yemen</td>\n",
       "      <td>2020</td>\n",
       "      <td>u5mr</td>\n",
       "      <td>Under-five mortality rate</td>\n",
       "      <td>-5.95</td>\n",
       "      <td>USAID</td>\n",
       "      <td>248473546</td>\n",
       "    </tr>\n",
       "  </tbody>\n",
       "</table>\n",
       "<p>10337 rows × 7 columns</p>\n",
       "</div>"
      ],
      "text/plain": [
       "       setting  Previous year indicator_abbr  \\\n",
       "0      Ecuador           2003        alcohol   \n",
       "1      Ecuador           2003        alcohol   \n",
       "2      Ecuador           2003        alcohol   \n",
       "3      Ecuador           2003        alcohol   \n",
       "4      Ecuador           2003        alcohol   \n",
       "...        ...            ...            ...   \n",
       "10332    Yemen           2020           u5mr   \n",
       "10333    Yemen           2020           u5mr   \n",
       "10334    Yemen           2020           u5mr   \n",
       "10335    Yemen           2020           u5mr   \n",
       "10336    Yemen           2020           u5mr   \n",
       "\n",
       "                                          indicator_name  Avg estimate  \\\n",
       "0      Total alcohol per capita consumption in adults...         -4.00   \n",
       "1      Total alcohol per capita consumption in adults...         -4.00   \n",
       "2      Total alcohol per capita consumption in adults...         -4.00   \n",
       "3      Total alcohol per capita consumption in adults...         -4.00   \n",
       "4      Total alcohol per capita consumption in adults...         -4.00   \n",
       "...                                                  ...           ...   \n",
       "10332                          Under-five mortality rate         -5.95   \n",
       "10333                          Under-five mortality rate         -5.95   \n",
       "10334                          Under-five mortality rate         -5.95   \n",
       "10335                          Under-five mortality rate         -5.95   \n",
       "10336                          Under-five mortality rate         -5.95   \n",
       "\n",
       "      Funding Agency Acronym  Constant Dollar Amount  \n",
       "0                        ADF                       0  \n",
       "1                        AGR                  717869  \n",
       "2                        DFC                       0  \n",
       "3                        DOC                       0  \n",
       "4                        DOE                       0  \n",
       "...                      ...                     ...  \n",
       "10332                     PC                       0  \n",
       "10333                  STATE                82848136  \n",
       "10334                    TDA                       0  \n",
       "10335                  TREAS                       0  \n",
       "10336                  USAID               248473546  \n",
       "\n",
       "[10337 rows x 7 columns]"
      ]
     },
     "execution_count": 19,
     "metadata": {},
     "output_type": "execute_result"
    }
   ],
   "source": [
    "# Do more data cleaning with excel on merged_df to get final_dataset\n",
    "final_dataset = pd.read_csv(os.path.join(\"..\",\"WHO_datasets\", \"final_dataset.csv\"))\n",
    "final_dataset"
   ]
  },
  {
    "final_dataset['indicator_name'].unique()"
   ]
  },
  {
   "cell_type": "markdown",
   "id": "4dfe3e15",
   "metadata": {},
   "source": [
    "#### Under-Five Mortality"
   ]
  },
  {
   "cell_type": "code",
   "execution_count": 20,
   "id": "793e46f9",
   "metadata": {},
   "outputs": [],
   "source": [
    "model_df_under5 = final_dataset[final_dataset['indicator_name'] == 'Under-five mortality rate']"
   ]
  },
  {
   "cell_type": "code",
   "execution_count": 21,
   "id": "dc06735d",
   "metadata": {},
   "outputs": [],
   "source": [
    "\n",
    "X_under5 = model_df_under5[['setting' ,'Previous year', 'indicator_name', 'Funding Agency Acronym', 'Constant Dollar Amount']]\n",
    "\n",
    "X_under5 = pd.get_dummies(X)\n",
    "\n",
    "y_under5 = model_df_under5[['Avg estimate']]"
   ]
  },
  {
   "cell_type": "markdown",
   "id": "9cad77e2",
   "metadata": {},
   "source": [
    "Next, we're going to create the train, validation, and test sets. After that, we're going to fit and predict our model on the final test set. Previous adjustments to the code were done on the validation sets. "
   ]
  },
  {
   "cell_type": "code",
   "execution_count": 22,
   "id": "added157",
   "metadata": {},
   "outputs": [
    {
     "name": "stdout",
     "output_type": "stream",
     "text": [
      "Model MAE:  0.7939630674179491\n"
     ]
    }
   ],
   "source": [
    "X_train_full_5, X_test_5, y_train_full_5, y_test_5 = train_test_split(X_under5, y_under5, test_size=0.2, random_state=0) \n",
    "#X_train, X_val, y_train, y_val = train_test_split(X_train_full, y_train_full, test_size=0.25, random_state=0)\n",
    "\n",
    "model_under5 = LinearRegression()\n",
    "model_under5.fit(X_train_full, y_train_full)\n",
    "\n",
    "predicts_under5 = model_under5.predict(X_test)\n",
    "\n",
    "print('Model MAE: ', mean_absolute_error(predicts, y_test_5))"
   ]
  },
  {
   "cell_type": "markdown",
   "id": "b29f2c25",
   "metadata": {},
   "source": [
    "Since the estimate is measured in terms of %, we can see from our MAE that our for under 5 mortality model is on average 0.8% off from the actual estimate, which is really good given our simplification of the model."
   ]
  },
  {
   "cell_type": "markdown",
   "id": "9133bee6",
   "metadata": {},
   "source": [
    "#### Analyzing our Coefficients"
   ]
  },
  {
   "cell_type": "code",
   "execution_count": 23,
   "id": "0655f457",
   "metadata": {},
   "outputs": [
    {
     "name": "stdout",
     "output_type": "stream",
     "text": [
      "model intercept: [-334.99343318]\n"
     ]
    },
    {
     "data": {
      "text/plain": [
       "Previous year                               1.641884e-01\n",
       "Constant Dollar Amount                     -8.976341e-10\n",
       "setting_Ecuador                             2.913816e+00\n",
       "setting_El Salvador                         2.815697e+00\n",
       "setting_Ethiopia                           -3.396224e+00\n",
       "setting_Haiti                              -3.691152e+00\n",
       "setting_Moldova                             2.996126e+00\n",
       "setting_Yemen                              -1.638263e+00\n",
       "indicator_name_Under-five mortality rate   -2.379763e-13\n",
       "Funding Agency Acronym_ADF                 -5.479094e-02\n",
       "Funding Agency Acronym_AGR                  2.363689e-01\n",
       "Funding Agency Acronym_DFC                 -1.313218e-01\n",
       "Funding Agency Acronym_DOC                  4.663931e-02\n",
       "Funding Agency Acronym_DOE                 -7.308902e-02\n",
       "Funding Agency Acronym_DOL                 -9.569460e-02\n",
       "Funding Agency Acronym_DOT                 -7.000630e-02\n",
       "Funding Agency Acronym_EPA                 -9.678340e-02\n",
       "Funding Agency Acronym_FTC                  1.199953e-02\n",
       "Funding Agency Acronym_HHS                 -2.821319e-02\n",
       "Funding Agency Acronym_IAF                  6.016376e-02\n",
       "Funding Agency Acronym_LIC                 -7.418565e-02\n",
       "Funding Agency Acronym_MCC                  5.370271e-02\n",
       "Funding Agency Acronym_NSF                 -5.350863e-02\n",
       "Funding Agency Acronym_PC                   1.113242e-01\n",
       "Funding Agency Acronym_STATE                1.540216e-01\n",
       "Funding Agency Acronym_TDA                 -5.977096e-02\n",
       "Funding Agency Acronym_TREAS               -3.869784e-02\n",
       "Funding Agency Acronym_USAID                1.018422e-01\n",
       "Name: 0, dtype: float64"
      ]
     },
     "execution_count": 23,
     "metadata": {},
     "output_type": "execute_result"
    }
   ],
   "source": [
    "print('model intercept:', model.intercept_)\n",
    "coef = model.coef_\n",
    "coef_series = pd.DataFrame( coef, columns= X.columns).iloc[0]\n",
    "\n",
    "coef_series"
   ]
  },
  {
   "cell_type": "markdown",
   "id": "c2bc785c",
   "metadata": {},
   "source": [
    "Each coefficient (Beta) represents the difference in the predicted value of y (the average estimate of under 5 mortality) for each unit difference in the corresponding feature, if the other features stay constant. In essence, this means that if X increases or decreases by one unit, the average estimate of under 5 mortality will change by beta units. \n"
   ]
  },
  {
   "cell_type": "markdown",
   "id": "977b61f1",
   "metadata": {},
   "source": [
    "#### Total alcohol per capita consumption in adults aged 15+ (litres of pure alcohol)"
   ]
  },
  {
   "cell_type": "code",
   "execution_count": 26,
   "id": "28abb63e",
   "metadata": {},
   "outputs": [],
   "source": [
    "model_df_alc = final_dataset[final_dataset['indicator_name'] == 'Total alcohol per capita consumption in adults aged 15+ (litres of pure alcohol)']"
   ]
  },
  {
   "cell_type": "code",
   "execution_count": 27,
   "id": "50ca3279",
   "metadata": {},
   "outputs": [],
   "source": [
    "\n",
    "X_alc = model_df_alc[['setting' ,'Previous year', 'indicator_name', 'Funding Agency Acronym', 'Constant Dollar Amount']]\n",
    "\n",
    "X_alc = pd.get_dummies(X)\n",
    "\n",
    "y_alc = model_df_alc[['Avg estimate']]"
   ]
  },
  {
   "cell_type": "markdown",
   "id": "60f517c2",
   "metadata": {},
   "source": [
    "Next, we're going to create the train, validation, and test sets. After that, we're going to fit and predict our model on the final test set. Previous adjustments to the code were done on the validation sets. "
   ]
  },
  {
   "cell_type": "code",
   "execution_count": 28,
   "id": "001af053",
   "metadata": {},
   "outputs": [
    {
     "name": "stdout",
     "output_type": "stream",
     "text": [
      "Model MAE:  0.7939630674179491\n"
     ]
    }
   ],
   "source": [
    "X_train_full_alc, X_test_alc, y_train_full_alc, y_test_alc = train_test_split(X_under5, y_under5, test_size=0.2, random_state=0) \n",
    "\n",
    "model_alc = LinearRegression()\n",
    "model_alc.fit(X_train_full, y_train_full)\n",
    "\n",
    "predicts_alc = model_alc.predict(X_test)\n",
    "\n",
    "print('Model MAE: ', mean_absolute_error(predicts_alc, y_test_alc))"
   ]
  },
  {
   "cell_type": "code",
   "execution_count": 28,
   "id": "a139e53a",
   "metadata": {},
   "source": [
    "Since the estimate is measured in terms of %, we can see from our MAE that our for under 5 mortality model is on average 0.8% off from the actual estimate, which is really good given our simplification of the model."
   ]
  },
  {
   "cell_type": "markdown",
   "id": "783dbede",
   "metadata": {},
   "source": [
    "#### Analyzing our Coefficients"
   ]
  },
  {
   "cell_type": "code",
   "execution_count": 29,
   "id": "ad043845",
   "metadata": {},
   "outputs": [
    {
     "ename": "NameError",
     "evalue": "name 'model_df_regression' is not defined",
     "output_type": "error",
     "traceback": [
      "\u001b[0;31m---------------------------------------------------------------------------\u001b[0m",
      "\u001b[0;31mNameError\u001b[0m                                 Traceback (most recent call last)",
      "Input \u001b[0;32mIn [29]\u001b[0m, in \u001b[0;36m<cell line: 6>\u001b[0;34m()\u001b[0m\n\u001b[1;32m      2\u001b[0m \u001b[38;5;28;01mfrom\u001b[39;00m \u001b[38;5;21;01msklearn\u001b[39;00m\u001b[38;5;21;01m.\u001b[39;00m\u001b[38;5;21;01mmetrics\u001b[39;00m \u001b[38;5;28;01mimport\u001b[39;00m mean_squared_error\n\u001b[1;32m      3\u001b[0m \u001b[38;5;28;01mfrom\u001b[39;00m \u001b[38;5;21;01msklearn\u001b[39;00m\u001b[38;5;21;01m.\u001b[39;00m\u001b[38;5;21;01mmetrics\u001b[39;00m \u001b[38;5;28;01mimport\u001b[39;00m mean_absolute_error\n\u001b[0;32m----> 6\u001b[0m X \u001b[38;5;241m=\u001b[39m \u001b[43mmodel_df_regression\u001b[49m[[\u001b[38;5;124m'\u001b[39m\u001b[38;5;124msetting\u001b[39m\u001b[38;5;124m'\u001b[39m, \u001b[38;5;124m'\u001b[39m\u001b[38;5;124myear\u001b[39m\u001b[38;5;124m'\u001b[39m, \u001b[38;5;124m'\u001b[39m\u001b[38;5;124mindicator_name\u001b[39m\u001b[38;5;124m'\u001b[39m, \u001b[38;5;124m'\u001b[39m\u001b[38;5;124mFunding Agency Acronym\u001b[39m\u001b[38;5;124m'\u001b[39m, \u001b[38;5;124m'\u001b[39m\u001b[38;5;124mConstant Dollar Amount\u001b[39m\u001b[38;5;124m'\u001b[39m]]\n\u001b[1;32m      8\u001b[0m X \u001b[38;5;241m=\u001b[39m pd\u001b[38;5;241m.\u001b[39mget_dummies(X)\n\u001b[1;32m      9\u001b[0m X\u001b[38;5;241m.\u001b[39mffill(axis\u001b[38;5;241m=\u001b[39m\u001b[38;5;241m0\u001b[39m, inplace\u001b[38;5;241m=\u001b[39m \u001b[38;5;28;01mTrue\u001b[39;00m)\n",
      "\u001b[0;31mNameError\u001b[0m: name 'model_df_regression' is not defined"
     ]
    },
    {
     "data": {
      "text/plain": [
       "Previous year                               1.641884e-01\n",
       "Constant Dollar Amount                     -8.976341e-10\n",
       "setting_Ecuador                             2.913816e+00\n",
       "setting_El Salvador                         2.815697e+00\n",
       "setting_Ethiopia                           -3.396224e+00\n",
       "setting_Haiti                              -3.691152e+00\n",
       "setting_Moldova                             2.996126e+00\n",
       "setting_Yemen                              -1.638263e+00\n",
       "indicator_name_Under-five mortality rate   -2.379763e-13\n",
       "Funding Agency Acronym_ADF                 -5.479094e-02\n",
       "Funding Agency Acronym_AGR                  2.363689e-01\n",
       "Funding Agency Acronym_DFC                 -1.313218e-01\n",
       "Funding Agency Acronym_DOC                  4.663931e-02\n",
       "Funding Agency Acronym_DOE                 -7.308902e-02\n",
       "Funding Agency Acronym_DOL                 -9.569460e-02\n",
       "Funding Agency Acronym_DOT                 -7.000630e-02\n",
       "Funding Agency Acronym_EPA                 -9.678340e-02\n",
       "Funding Agency Acronym_FTC                  1.199953e-02\n",
       "Funding Agency Acronym_HHS                 -2.821319e-02\n",
       "Funding Agency Acronym_IAF                  6.016376e-02\n",
       "Funding Agency Acronym_LIC                 -7.418565e-02\n",
       "Funding Agency Acronym_MCC                  5.370271e-02\n",
       "Funding Agency Acronym_NSF                 -5.350863e-02\n",
       "Funding Agency Acronym_PC                   1.113242e-01\n",
       "Funding Agency Acronym_STATE                1.540216e-01\n",
       "Funding Agency Acronym_TDA                 -5.977096e-02\n",
       "Funding Agency Acronym_TREAS               -3.869784e-02\n",
       "Funding Agency Acronym_USAID                1.018422e-01\n",
       "Name: 0, dtype: float64"
      ]
     },
     "execution_count": 18,
     "metadata": {},
     "output_type": "execute_result"
    }
   ],
   "source": [
    "print('model intercept:', model.intercept_)\n",
    "coef = model.coef_\n",
    "coef_series = pd.DataFrame( coef, columns= X.columns).iloc[0]\n",
    "\n",
    "coef_series"
   ]
  },
  {
   "cell_type": "markdown",
   "id": "cd0cffa8",
   "metadata": {},
   "source": [
    "Each coefficient (Beta) represents the difference in the predicted value of y (the average estimate of under 5 mortality) for each unit difference in the corresponding feature, if the other features stay constant. In essence, this means that if X increases or decreases by one unit, the average estimate of under 5 mortality will change by beta units. \n"
   ]
  },
  {
   "cell_type": "markdown",
   "id": "853e272f",
   "metadata": {},
   "source": [
    "<div style=\"text-align: center;\">\n",
    "    <h2>Conclusion</h2>\n",
    "</div>"
   ]
  },
  {
   "cell_type": "code",
   "execution_count": null,
   "id": "301d08d5",
   "metadata": {},
   "outputs": [],
   "source": []
  },
  {
   "cell_type": "code",
   "execution_count": null,
   "id": "17dca7ed",
   "metadata": {},
   "outputs": [],
   "source": []
  },
  {
   "cell_type": "code",
   "execution_count": null,
   "id": "e87b260b",
   "metadata": {},
   "outputs": [],
   "source": []
  }
 ],
 "metadata": {
  "kernelspec": {
   "display_name": "Python 3 (ipykernel)",
   "language": "python",
   "name": "python3"
  },
  "language_info": {
   "codemirror_mode": {
    "name": "ipython",
    "version": 3
   },
   "file_extension": ".py",
   "mimetype": "text/x-python",
   "name": "python",
   "nbconvert_exporter": "python",
   "pygments_lexer": "ipython3",
   "version": "3.9.7"
  }
 },
 "nbformat": 4,
 "nbformat_minor": 5
}
